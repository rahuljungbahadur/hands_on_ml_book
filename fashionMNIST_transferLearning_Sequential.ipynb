{
  "nbformat": 4,
  "nbformat_minor": 0,
  "metadata": {
    "colab": {
      "name": "Untitled3.ipynb",
      "provenance": [],
      "toc_visible": true,
      "authorship_tag": "ABX9TyOI0wPof6IL4YvNJ4fQxK8E",
      "include_colab_link": true
    },
    "kernelspec": {
      "name": "python3",
      "display_name": "Python 3"
    },
    "language_info": {
      "name": "python"
    }
  },
  "cells": [
    {
      "cell_type": "markdown",
      "metadata": {
        "id": "view-in-github",
        "colab_type": "text"
      },
      "source": [
        "<a href=\"https://colab.research.google.com/github/rahuljungbahadur/hands_on_ml_book/blob/main/fashionMNIST_transferLearning_Sequential.ipynb\" target=\"_parent\"><img src=\"https://colab.research.google.com/assets/colab-badge.svg\" alt=\"Open In Colab\"/></a>"
      ]
    },
    {
      "cell_type": "markdown",
      "source": [
        "# Transfer learning for FashionMNIST \n",
        "\n",
        "Creating a Fashion MNIST model using `keras.models.Sequential`"
      ],
      "metadata": {
        "id": "xyUt5-n71p_2"
      }
    },
    {
      "cell_type": "code",
      "source": [
        "from tensorflow.keras.datasets import fashion_mnist"
      ],
      "metadata": {
        "id": "A9Q2-Obt14sM"
      },
      "execution_count": 92,
      "outputs": []
    },
    {
      "cell_type": "code",
      "source": [
        "(X_train, y_train), (X_test, y_test) = fashion_mnist.load_data()"
      ],
      "metadata": {
        "id": "SGHHCeit2Bj_"
      },
      "execution_count": 93,
      "outputs": []
    },
    {
      "cell_type": "markdown",
      "source": [
        "## Splitting the dataset\n",
        "\n",
        "Split the data so that the `main` part has all but 2 labels. The `tl` part would be used for transfer learning and would have the remaining 2 classes"
      ],
      "metadata": {
        "id": "bNP2aa_M2KFm"
      }
    },
    {
      "cell_type": "code",
      "source": [
        "import numpy as np\n",
        "import pandas as pd\n",
        "import matplotlib.pyplot as plt\n",
        "import seaborn as sns"
      ],
      "metadata": {
        "id": "snk6mWlP2HrC"
      },
      "execution_count": 94,
      "outputs": []
    },
    {
      "cell_type": "code",
      "source": [
        "np.unique(y_train)"
      ],
      "metadata": {
        "colab": {
          "base_uri": "https://localhost:8080/"
        },
        "id": "4mWSMkz82kxg",
        "outputId": "f23798b3-5bb1-4b55-d9d4-efb54bf94544"
      },
      "execution_count": 95,
      "outputs": [
        {
          "output_type": "execute_result",
          "data": {
            "text/plain": [
              "array([0, 1, 2, 3, 4, 5, 6, 7, 8, 9], dtype=uint8)"
            ]
          },
          "metadata": {},
          "execution_count": 95
        }
      ]
    },
    {
      "cell_type": "markdown",
      "source": [
        "Let's set classes 8 and 9 for `transfer learning`"
      ],
      "metadata": {
        "id": "dtkl-SPM2uSG"
      }
    },
    {
      "cell_type": "code",
      "source": [
        "## Building the main train data subset\n",
        "\n",
        "main_choices = np.logical_not(np.isin(y_train, [6,7]))\n",
        "X_train_main = X_train[main_choices]\n",
        "y_train_main = y_train[main_choices]"
      ],
      "metadata": {
        "id": "LoJP0ZrK3FBD"
      },
      "execution_count": 96,
      "outputs": []
    },
    {
      "cell_type": "code",
      "source": [
        "X_train_main.shape"
      ],
      "metadata": {
        "colab": {
          "base_uri": "https://localhost:8080/"
        },
        "id": "8MNHFW8C3htS",
        "outputId": "4d3154a9-e667-4c08-9718-19e5f43863e1"
      },
      "execution_count": 97,
      "outputs": [
        {
          "output_type": "execute_result",
          "data": {
            "text/plain": [
              "(48000, 28, 28)"
            ]
          },
          "metadata": {},
          "execution_count": 97
        }
      ]
    },
    {
      "cell_type": "code",
      "source": [
        "y_train_main.shape"
      ],
      "metadata": {
        "colab": {
          "base_uri": "https://localhost:8080/"
        },
        "id": "2zXVy9LI3jgH",
        "outputId": "c1de0f62-60cd-47f2-e499-00f85a8a9b49"
      },
      "execution_count": 98,
      "outputs": [
        {
          "output_type": "execute_result",
          "data": {
            "text/plain": [
              "(48000,)"
            ]
          },
          "metadata": {},
          "execution_count": 98
        }
      ]
    },
    {
      "cell_type": "code",
      "source": [
        "## main validation subset\n",
        "main_valid_choices = np.logical_not(np.isin(y_test, [6,7]))\n",
        "X_test_main = X_test[main_valid_choices]\n",
        "y_test_main = y_test[main_valid_choices]"
      ],
      "metadata": {
        "id": "IgOh7K8I3mMZ"
      },
      "execution_count": 99,
      "outputs": []
    },
    {
      "cell_type": "code",
      "source": [
        "## transfer-learning training data subset \n",
        "tl_train_choices = np.isin(y_train, [6,7])\n",
        "X_train_tl = X_train[tl_train_choices]\n",
        "y_train_tl = y_train[tl_train_choices]"
      ],
      "metadata": {
        "id": "XMJ-Ms8w4DOh"
      },
      "execution_count": 100,
      "outputs": []
    },
    {
      "cell_type": "code",
      "source": [
        "## transfer-learning validation data subset\n",
        "tl_valid_choices = np.isin(y_test, [6,7])\n",
        "X_test_tl = X_test[tl_valid_choices]\n",
        "y_test_tl = y_test[tl_valid_choices]"
      ],
      "metadata": {
        "id": "GsPpb7EA4W12"
      },
      "execution_count": 101,
      "outputs": []
    },
    {
      "cell_type": "code",
      "source": [
        "## Testing sample\n",
        "plt.imshow(X_train_tl[8])"
      ],
      "metadata": {
        "colab": {
          "base_uri": "https://localhost:8080/",
          "height": 282
        },
        "id": "HeuzBOHz4myi",
        "outputId": "58f54ae7-fcd4-4f2c-d33c-ae8ab7b0fea6"
      },
      "execution_count": 102,
      "outputs": [
        {
          "output_type": "execute_result",
          "data": {
            "text/plain": [
              "<matplotlib.image.AxesImage at 0x7fc1db49d3d0>"
            ]
          },
          "metadata": {},
          "execution_count": 102
        },
        {
          "output_type": "display_data",
          "data": {
            "image/png": "[encoded data removed]",
            "text/plain": [
              "<Figure size 432x288 with 1 Axes>"
            ]
          },
          "metadata": {
            "needs_background": "light"
          }
        }
      ]
    },
    {
      "cell_type": "code",
      "source": [
        "np.unique(y_train_tl)"
      ],
      "metadata": {
        "colab": {
          "base_uri": "https://localhost:8080/"
        },
        "id": "Ry-bbQ0w4tFa",
        "outputId": "e4982922-483a-40a7-f664-eae135cc3964"
      },
      "execution_count": 103,
      "outputs": [
        {
          "output_type": "execute_result",
          "data": {
            "text/plain": [
              "array([6, 7], dtype=uint8)"
            ]
          },
          "metadata": {},
          "execution_count": 103
        }
      ]
    },
    {
      "cell_type": "code",
      "source": [
        "y_train_tl = np.where(y_train_tl==6, 0, 1)\n"
      ],
      "metadata": {
        "id": "ZbYo_sDK4zhA"
      },
      "execution_count": 104,
      "outputs": []
    },
    {
      "cell_type": "code",
      "source": [
        "y_train_tl = y_train_tl.astype(int)"
      ],
      "metadata": {
        "id": "epea5-BdJyiP"
      },
      "execution_count": 105,
      "outputs": []
    },
    {
      "cell_type": "code",
      "source": [
        "y_test_tl = np.where(y_test_tl==6, 0, 1)"
      ],
      "metadata": {
        "id": "ZNqOnmLs7T2N"
      },
      "execution_count": 106,
      "outputs": []
    },
    {
      "cell_type": "code",
      "source": [
        "y_test_tl = y_test_tl.astype(int)"
      ],
      "metadata": {
        "id": "hHLD9tSVJ59S"
      },
      "execution_count": 107,
      "outputs": []
    },
    {
      "cell_type": "code",
      "source": [
        "np.unique(y_train_main)  ## Convert 8 and 9 to 6 and 7"
      ],
      "metadata": {
        "colab": {
          "base_uri": "https://localhost:8080/"
        },
        "id": "j8PIGAYp7ZcE",
        "outputId": "5c8596fd-c024-49a1-883e-e4c6ed53456a"
      },
      "execution_count": 108,
      "outputs": [
        {
          "output_type": "execute_result",
          "data": {
            "text/plain": [
              "array([0, 1, 2, 3, 4, 5, 8, 9], dtype=uint8)"
            ]
          },
          "metadata": {},
          "execution_count": 108
        }
      ]
    },
    {
      "cell_type": "code",
      "source": [
        "y_train_main=np.where(y_train_main>6, y_train_main-2, y_train_main)\n",
        "y_test_main = np.where(y_test_main>6, y_test_main-2, y_test_main)"
      ],
      "metadata": {
        "id": "AvjENQSE7qOb"
      },
      "execution_count": 109,
      "outputs": []
    },
    {
      "cell_type": "markdown",
      "source": [
        "## Create Sequential model"
      ],
      "metadata": {
        "id": "UQCoESnB5gKQ"
      }
    },
    {
      "cell_type": "code",
      "source": [
        "from tensorflow.keras.models import Sequential\n",
        "from tensorflow.keras.layers import Dense, Flatten, BatchNormalization, Input\n",
        "from tensorflow.keras.callbacks import EarlyStopping, ModelCheckpoint\n",
        "from tensorflow.keras.activations import elu, softmax"
      ],
      "metadata": {
        "id": "SGk8Bfhe5aIV"
      },
      "execution_count": 110,
      "outputs": []
    },
    {
      "cell_type": "code",
      "source": [
        "from tensorflow.python.keras import activations\n",
        "## model\n",
        "\n",
        "main_model = Sequential()\n",
        "\n",
        "# main_model.add(Input(shape=[28, 28]))\n",
        "## Flatten it\n",
        "main_model.add(Flatten(input_shape=[28,28]))\n",
        "\n",
        "## batchNormalize\n",
        "main_model.add(BatchNormalization())\n",
        "\n",
        "## Hidden1\n",
        "\n",
        "main_model.add(Dense(500, activation=elu, kernel_initializer='he_normal', use_bias=False))\n",
        "\n",
        "## BN2\n",
        "\n",
        "main_model.add(BatchNormalization())\n",
        "\n",
        "##hidden2\n",
        "main_model.add(Dense(300, activation=elu, kernel_initializer='he_normal', use_bias=False))\n",
        "\n",
        "##BN3\n",
        "main_model.add(BatchNormalization())\n",
        "\n",
        "## Hidden3\n",
        "main_model.add(Dense(100, activation=elu, kernel_initializer='he_normal', use_bias=False))\n",
        "\n",
        "##BN4\n",
        "main_model.add(BatchNormalization())\n",
        "\n",
        "## Hidden4\n",
        "main_model.add(Dense(50, activation=elu, kernel_initializer='he_normal', use_bias=False))\n",
        "\n",
        "## Hidden5\n",
        "main_model.add(Dense(8, activation=softmax))"
      ],
      "metadata": {
        "id": "1Kst6BFn52op"
      },
      "execution_count": 111,
      "outputs": []
    },
    {
      "cell_type": "code",
      "source": [
        "main_model.compile(optimizer='adam', loss='categorical_crossentropy', metrics=['accuracy'])"
      ],
      "metadata": {
        "id": "xF4BaHfC8Os4"
      },
      "execution_count": 112,
      "outputs": []
    },
    {
      "cell_type": "code",
      "source": [
        "main_model.summary()"
      ],
      "metadata": {
        "colab": {
          "base_uri": "https://localhost:8080/"
        },
        "id": "XxlY7vp-8Yri",
        "outputId": "32f65712-3aa3-4e22-c10d-25ea506edad6"
      },
      "execution_count": 113,
      "outputs": [
        {
          "output_type": "stream",
          "name": "stdout",
          "text": [
            "Model: \"sequential_7\"\n",
            "_________________________________________________________________\n",
            " Layer (type)                Output Shape              Param #   \n",
            "=================================================================\n",
            " flatten_3 (Flatten)         (None, 784)               0         \n",
            "                                                                 \n",
            " batch_normalization_13 (Bat  (None, 784)              3136      \n",
            " chNormalization)                                                \n",
            "                                                                 \n",
            " dense_18 (Dense)            (None, 500)               392000    \n",
            "                                                                 \n",
            " batch_normalization_14 (Bat  (None, 500)              2000      \n",
            " chNormalization)                                                \n",
            "                                                                 \n",
            " dense_19 (Dense)            (None, 300)               150000    \n",
            "                                                                 \n",
            " batch_normalization_15 (Bat  (None, 300)              1200      \n",
            " chNormalization)                                                \n",
            "                                                                 \n",
            " dense_20 (Dense)            (None, 100)               30000     \n",
            "                                                                 \n",
            " batch_normalization_16 (Bat  (None, 100)              400       \n",
            " chNormalization)                                                \n",
            "                                                                 \n",
            " dense_21 (Dense)            (None, 50)                5000      \n",
            "                                                                 \n",
            " dense_22 (Dense)            (None, 8)                 408       \n",
            "                                                                 \n",
            "=================================================================\n",
            "Total params: 584,144\n",
            "Trainable params: 580,776\n",
            "Non-trainable params: 3,368\n",
            "_________________________________________________________________\n"
          ]
        }
      ]
    },
    {
      "cell_type": "code",
      "source": [
        "## Modify y to be categorical\n",
        "\n",
        "from tensorflow.keras.utils import to_categorical"
      ],
      "metadata": {
        "id": "EgP6tzWn8aKR"
      },
      "execution_count": 114,
      "outputs": []
    },
    {
      "cell_type": "code",
      "source": [
        "y_train_main = to_categorical(y_train_main, num_classes=8)\n",
        "y_test_main = to_categorical(y_test_main, num_classes=8)"
      ],
      "metadata": {
        "id": "uyrvGrab8qzt"
      },
      "execution_count": 115,
      "outputs": []
    },
    {
      "cell_type": "code",
      "source": [
        "early_stop = EarlyStopping(patience=2)\n",
        "model_cp = ModelCheckpoint(filepath='/saved_models/FashionMNISTSeq.h5', save_best_only=True)"
      ],
      "metadata": {
        "id": "9gLIO6mJ80ZT"
      },
      "execution_count": 116,
      "outputs": []
    },
    {
      "cell_type": "code",
      "source": [
        "main_model.fit(x=X_train_main, y=y_train_main, batch_size=32, epochs=15, callbacks=[early_stop, model_cp], validation_data=(X_test_main, y_test_main))"
      ],
      "metadata": {
        "colab": {
          "base_uri": "https://localhost:8080/"
        },
        "id": "SCcf0-H79EJl",
        "outputId": "42035e85-67b1-42ad-c067-db560301b357"
      },
      "execution_count": 117,
      "outputs": [
        {
          "output_type": "stream",
          "name": "stdout",
          "text": [
            "Epoch 1/15\n",
            "1500/1500 [==============================] - 19s 12ms/step - loss: 0.3072 - accuracy: 0.8942 - val_loss: 0.2434 - val_accuracy: 0.9140\n",
            "Epoch 2/15\n",
            "1500/1500 [==============================] - 18s 12ms/step - loss: 0.2271 - accuracy: 0.9214 - val_loss: 0.2285 - val_accuracy: 0.9186\n",
            "Epoch 3/15\n",
            "1500/1500 [==============================] - 17s 12ms/step - loss: 0.2007 - accuracy: 0.9289 - val_loss: 0.2400 - val_accuracy: 0.9165\n",
            "Epoch 4/15\n",
            "1500/1500 [==============================] - 17s 12ms/step - loss: 0.1820 - accuracy: 0.9344 - val_loss: 0.2298 - val_accuracy: 0.9245\n"
          ]
        },
        {
          "output_type": "execute_result",
          "data": {
            "text/plain": [
              "<keras.callbacks.History at 0x7fc1db3c0710>"
            ]
          },
          "metadata": {},
          "execution_count": 117
        }
      ]
    },
    {
      "cell_type": "markdown",
      "source": [
        "## Model evaluation\n"
      ],
      "metadata": {
        "id": "qwIYBGFs9oOS"
      }
    },
    {
      "cell_type": "code",
      "source": [
        "pd.DataFrame(main_model.history.history).plot(kind='line')"
      ],
      "metadata": {
        "colab": {
          "base_uri": "https://localhost:8080/",
          "height": 282
        },
        "id": "TyukEh6v9Xnw",
        "outputId": "f6a0b141-2e6a-46db-c894-3ac5f9df09b0"
      },
      "execution_count": 118,
      "outputs": [
        {
          "output_type": "execute_result",
          "data": {
            "text/plain": [
              "<matplotlib.axes._subplots.AxesSubplot at 0x7fc1dc944350>"
            ]
          },
          "metadata": {},
          "execution_count": 118
        },
        {
          "output_type": "display_data",
          "data": {
            "image/png": "[encoded data removed]",
            "text/plain": [
              "<Figure size 432x288 with 1 Axes>"
            ]
          },
          "metadata": {
            "needs_background": "light"
          }
        }
      ]
    },
    {
      "cell_type": "code",
      "source": [
        "main_model.layers"
      ],
      "metadata": {
        "colab": {
          "base_uri": "https://localhost:8080/"
        },
        "id": "v-0pdx8U9wzz",
        "outputId": "95533c9a-9908-4700-f8e9-b2304c88410e"
      },
      "execution_count": 119,
      "outputs": [
        {
          "output_type": "execute_result",
          "data": {
            "text/plain": [
              "[<keras.layers.core.flatten.Flatten at 0x7fc1db4b8b90>,\n",
              " <keras.layers.normalization.batch_normalization.BatchNormalization at 0x7fc1db446890>,\n",
              " <keras.layers.core.dense.Dense at 0x7fc1db468350>,\n",
              " <keras.layers.normalization.batch_normalization.BatchNormalization at 0x7fc1db4edc10>,\n",
              " <keras.layers.core.dense.Dense at 0x7fc1db492bd0>,\n",
              " <keras.layers.normalization.batch_normalization.BatchNormalization at 0x7fc1db54bed0>,\n",
              " <keras.layers.core.dense.Dense at 0x7fc1db4aa950>,\n",
              " <keras.layers.normalization.batch_normalization.BatchNormalization at 0x7fc1db46de50>,\n",
              " <keras.layers.core.dense.Dense at 0x7fc1db4fe750>,\n",
              " <keras.layers.core.dense.Dense at 0x7fc1db54bd90>]"
            ]
          },
          "metadata": {},
          "execution_count": 119
        }
      ]
    },
    {
      "cell_type": "markdown",
      "source": [
        "## Create tl_model\n",
        "\n",
        "This `transfer-learning` model would be using the n-1 layers of the `main-model`\n"
      ],
      "metadata": {
        "id": "bYSBgcroCDz8"
      }
    },
    {
      "cell_type": "code",
      "source": [
        "tl_model = Sequential(main_model.layers[:-1])"
      ],
      "metadata": {
        "id": "FutfMdMcFLT_"
      },
      "execution_count": 120,
      "outputs": []
    },
    {
      "cell_type": "code",
      "source": [
        "tl_model.layers"
      ],
      "metadata": {
        "colab": {
          "base_uri": "https://localhost:8080/"
        },
        "id": "xC77TwgBFRK7",
        "outputId": "c2d0c192-b27e-492a-8abc-516f56b8ef15"
      },
      "execution_count": 121,
      "outputs": [
        {
          "output_type": "execute_result",
          "data": {
            "text/plain": [
              "[<keras.layers.core.flatten.Flatten at 0x7fc1db4b8b90>,\n",
              " <keras.layers.normalization.batch_normalization.BatchNormalization at 0x7fc1db446890>,\n",
              " <keras.layers.core.dense.Dense at 0x7fc1db468350>,\n",
              " <keras.layers.normalization.batch_normalization.BatchNormalization at 0x7fc1db4edc10>,\n",
              " <keras.layers.core.dense.Dense at 0x7fc1db492bd0>,\n",
              " <keras.layers.normalization.batch_normalization.BatchNormalization at 0x7fc1db54bed0>,\n",
              " <keras.layers.core.dense.Dense at 0x7fc1db4aa950>,\n",
              " <keras.layers.normalization.batch_normalization.BatchNormalization at 0x7fc1db46de50>,\n",
              " <keras.layers.core.dense.Dense at 0x7fc1db4fe750>]"
            ]
          },
          "metadata": {},
          "execution_count": 121
        }
      ]
    },
    {
      "cell_type": "markdown",
      "source": [
        "The main model needs to be cloned as making and modifying a copy of it also changes the source model"
      ],
      "metadata": {
        "id": "HsibAC9ZFaMe"
      }
    },
    {
      "cell_type": "code",
      "source": [
        "from tensorflow.keras.models import clone_model"
      ],
      "metadata": {
        "id": "iRWYlMaeFocj"
      },
      "execution_count": 122,
      "outputs": []
    },
    {
      "cell_type": "code",
      "source": [
        "# from tensorflow.python.keras.models import clone_model\n",
        "main_model_clone = clone_model(main_model)\n",
        "main_model_clone.set_weights(main_model.get_weights())"
      ],
      "metadata": {
        "id": "ChZBr65zFSdM"
      },
      "execution_count": 123,
      "outputs": []
    },
    {
      "cell_type": "code",
      "source": [
        "# main_model.get_weights()[-3].shape"
      ],
      "metadata": {
        "id": "3axIQEBiF9eb"
      },
      "execution_count": 124,
      "outputs": []
    },
    {
      "cell_type": "code",
      "source": [
        "for layer in tl_model.layers:\n",
        "  layer.trainable=False\n"
      ],
      "metadata": {
        "id": "RV8cIG4TGmzd"
      },
      "execution_count": 125,
      "outputs": []
    },
    {
      "cell_type": "code",
      "source": [
        "## Add the last layer for tl-model\n",
        "tl_model.add(Dense(units=1, activation='sigmoid'))"
      ],
      "metadata": {
        "id": "uZ-uigJBGFuc"
      },
      "execution_count": 126,
      "outputs": []
    },
    {
      "cell_type": "code",
      "source": [
        "tl_model.compile(optimizer='adam', loss='binary_crossentropy', metrics=['accuracy'])"
      ],
      "metadata": {
        "id": "ZxqEU7gbGoYd"
      },
      "execution_count": 127,
      "outputs": []
    },
    {
      "cell_type": "markdown",
      "source": [
        "## Train the transfer-learning model for a few epochs\n",
        "\n",
        "This is done to train the weights/biases of the last layer. The previous layers are all set to `trainable=False`. This is done so that the model is not very sensitive to the large gradients that will occur when it is used to train on a task for which it was not designed for. Later on, we can set the initial layers to be trainable as well and run it for a few more epochs"
      ],
      "metadata": {
        "id": "uJdeF-ZJHYj1"
      }
    },
    {
      "cell_type": "code",
      "source": [
        "main_model_clone.summary()"
      ],
      "metadata": {
        "id": "P3EpSSp6IZV4",
        "outputId": "09b09bc3-289f-429b-f6f3-c6a30c5183b8",
        "colab": {
          "base_uri": "https://localhost:8080/"
        }
      },
      "execution_count": 128,
      "outputs": [
        {
          "output_type": "stream",
          "name": "stdout",
          "text": [
            "Model: \"sequential_7\"\n",
            "_________________________________________________________________\n",
            " Layer (type)                Output Shape              Param #   \n",
            "=================================================================\n",
            " flatten_3 (Flatten)         (None, 784)               0         \n",
            "                                                                 \n",
            " batch_normalization_13 (Bat  (None, 784)              3136      \n",
            " chNormalization)                                                \n",
            "                                                                 \n",
            " dense_18 (Dense)            (None, 500)               392000    \n",
            "                                                                 \n",
            " batch_normalization_14 (Bat  (None, 500)              2000      \n",
            " chNormalization)                                                \n",
            "                                                                 \n",
            " dense_19 (Dense)            (None, 300)               150000    \n",
            "                                                                 \n",
            " batch_normalization_15 (Bat  (None, 300)              1200      \n",
            " chNormalization)                                                \n",
            "                                                                 \n",
            " dense_20 (Dense)            (None, 100)               30000     \n",
            "                                                                 \n",
            " batch_normalization_16 (Bat  (None, 100)              400       \n",
            " chNormalization)                                                \n",
            "                                                                 \n",
            " dense_21 (Dense)            (None, 50)                5000      \n",
            "                                                                 \n",
            " dense_22 (Dense)            (None, 8)                 408       \n",
            "                                                                 \n",
            "=================================================================\n",
            "Total params: 584,144\n",
            "Trainable params: 580,776\n",
            "Non-trainable params: 3,368\n",
            "_________________________________________________________________\n"
          ]
        }
      ]
    },
    {
      "cell_type": "code",
      "source": [
        "tl_model.summary()"
      ],
      "metadata": {
        "id": "58zpgGZcISMg",
        "outputId": "0bb16917-8ebe-4878-e522-f4671ed2e66c",
        "colab": {
          "base_uri": "https://localhost:8080/"
        }
      },
      "execution_count": 129,
      "outputs": [
        {
          "output_type": "stream",
          "name": "stdout",
          "text": [
            "Model: \"sequential_8\"\n",
            "_________________________________________________________________\n",
            " Layer (type)                Output Shape              Param #   \n",
            "=================================================================\n",
            " flatten_3 (Flatten)         (None, 784)               0         \n",
            "                                                                 \n",
            " batch_normalization_13 (Bat  (None, 784)              3136      \n",
            " chNormalization)                                                \n",
            "                                                                 \n",
            " dense_18 (Dense)            (None, 500)               392000    \n",
            "                                                                 \n",
            " batch_normalization_14 (Bat  (None, 500)              2000      \n",
            " chNormalization)                                                \n",
            "                                                                 \n",
            " dense_19 (Dense)            (None, 300)               150000    \n",
            "                                                                 \n",
            " batch_normalization_15 (Bat  (None, 300)              1200      \n",
            " chNormalization)                                                \n",
            "                                                                 \n",
            " dense_20 (Dense)            (None, 100)               30000     \n",
            "                                                                 \n",
            " batch_normalization_16 (Bat  (None, 100)              400       \n",
            " chNormalization)                                                \n",
            "                                                                 \n",
            " dense_21 (Dense)            (None, 50)                5000      \n",
            "                                                                 \n",
            " dense_23 (Dense)            (None, 1)                 51        \n",
            "                                                                 \n",
            "=================================================================\n",
            "Total params: 583,787\n",
            "Trainable params: 51\n",
            "Non-trainable params: 583,736\n",
            "_________________________________________________________________\n"
          ]
        }
      ]
    },
    {
      "cell_type": "code",
      "source": [
        "tl_model.fit(x=X_train_tl, y=y_train_tl, epochs=2, batch_size=32, validation_data=(X_test_tl, y_test_tl))"
      ],
      "metadata": {
        "id": "eR9fXY5VHXgT",
        "outputId": "80728542-f473-4503-8c15-5b5439510236",
        "colab": {
          "base_uri": "https://localhost:8080/"
        }
      },
      "execution_count": 130,
      "outputs": [
        {
          "output_type": "stream",
          "name": "stdout",
          "text": [
            "Epoch 1/2\n",
            "375/375 [==============================] - 3s 5ms/step - loss: 0.1051 - accuracy: 0.9667 - val_loss: 0.0211 - val_accuracy: 0.9990\n",
            "Epoch 2/2\n",
            "375/375 [==============================] - 2s 5ms/step - loss: 0.0156 - accuracy: 0.9977 - val_loss: 0.0092 - val_accuracy: 0.9995\n"
          ]
        },
        {
          "output_type": "execute_result",
          "data": {
            "text/plain": [
              "<keras.callbacks.History at 0x7fc1db33bb10>"
            ]
          },
          "metadata": {},
          "execution_count": 130
        }
      ]
    },
    {
      "cell_type": "code",
      "source": [
        "pd.DataFrame(tl_model.history.history).plot(kind='line')"
      ],
      "metadata": {
        "id": "4zk8RgbuIFmA",
        "outputId": "07570eea-4f2d-4ac8-e48c-6c3671f6cb3e",
        "colab": {
          "base_uri": "https://localhost:8080/",
          "height": 282
        }
      },
      "execution_count": 131,
      "outputs": [
        {
          "output_type": "execute_result",
          "data": {
            "text/plain": [
              "<matplotlib.axes._subplots.AxesSubplot at 0x7fc1dd750f90>"
            ]
          },
          "metadata": {},
          "execution_count": 131
        },
        {
          "output_type": "display_data",
          "data": {
            "image/png": "[encoded data removed]",
            "text/plain": [
              "<Figure size 432x288 with 1 Axes>"
            ]
          },
          "metadata": {
            "needs_background": "light"
          }
        }
      ]
    },
    {
      "cell_type": "markdown",
      "source": [
        "## Conclusion\n",
        "\n",
        "With just 2 epochs, we were able to get 99.95% accuracy for our `Shirt` and `Sneakers` set. This is amazing."
      ],
      "metadata": {
        "id": "vJoWu9hSLXj1"
      }
    }
  ]
}