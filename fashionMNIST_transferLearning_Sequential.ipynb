{
  "nbformat": 4,
  "nbformat_minor": 0,
  "metadata": {
    "colab": {
      "name": "Untitled3.ipynb",
      "provenance": [],
      "toc_visible": true,
      "authorship_tag": "ABX9TyMtP/i43FtqA8Y4IjOKXw50",
      "include_colab_link": true
    },
    "kernelspec": {
      "name": "python3",
      "display_name": "Python 3"
    },
    "language_info": {
      "name": "python"
    }
  },
  "cells": [
    {
      "cell_type": "markdown",
      "metadata": {
        "id": "view-in-github",
        "colab_type": "text"
      },
      "source": [
        "<a href=\"https://colab.research.google.com/github/rahuljungbahadur/hands_on_ml_book/blob/main/fashionMNIST_transferLearning_Sequential.ipynb\" target=\"_parent\"><img src=\"https://colab.research.google.com/assets/colab-badge.svg\" alt=\"Open In Colab\"/></a>"
      ]
    },
    {
      "cell_type": "markdown",
      "source": [
        "# Transfer learning for FashionMNIST \n",
        "\n",
        "Creating a Fashion MNIST model using `keras.models.Sequential`"
      ],
      "metadata": {
        "id": "xyUt5-n71p_2"
      }
    },
    {
      "cell_type": "code",
      "source": [
        "from tensorflow.keras.datasets import fashion_mnist"
      ],
      "metadata": {
        "id": "A9Q2-Obt14sM"
      },
      "execution_count": 1,
      "outputs": []
    },
    {
      "cell_type": "code",
      "source": [
        "(X_train, y_train), (X_test, y_test) = fashion_mnist.load_data()"
      ],
      "metadata": {
        "id": "SGHHCeit2Bj_",
        "outputId": "88661562-0d08-493e-c817-436ec5de8290",
        "colab": {
          "base_uri": "https://localhost:8080/"
        }
      },
      "execution_count": 2,
      "outputs": [
        {
          "output_type": "stream",
          "name": "stdout",
          "text": [
            "Downloading data from https://storage.googleapis.com/tensorflow/tf-keras-datasets/train-labels-idx1-ubyte.gz\n",
            "32768/29515 [=================================] - 0s 0us/step\n",
            "40960/29515 [=========================================] - 0s 0us/step\n",
            "Downloading data from https://storage.googleapis.com/tensorflow/tf-keras-datasets/train-images-idx3-ubyte.gz\n",
            "26427392/26421880 [==============================] - 0s 0us/step\n",
            "26435584/26421880 [==============================] - 0s 0us/step\n",
            "Downloading data from https://storage.googleapis.com/tensorflow/tf-keras-datasets/t10k-labels-idx1-ubyte.gz\n",
            "16384/5148 [===============================================================================================] - 0s 0us/step\n",
            "Downloading data from https://storage.googleapis.com/tensorflow/tf-keras-datasets/t10k-images-idx3-ubyte.gz\n",
            "4423680/4422102 [==============================] - 0s 0us/step\n",
            "4431872/4422102 [==============================] - 0s 0us/step\n"
          ]
        }
      ]
    },
    {
      "cell_type": "markdown",
      "source": [
        "## Splitting the dataset\n",
        "\n",
        "Split the data so that the `main` part has all but 2 labels. The `tl` part would be used for transfer learning and would have the remaining 2 classes"
      ],
      "metadata": {
        "id": "bNP2aa_M2KFm"
      }
    },
    {
      "cell_type": "code",
      "source": [
        "import numpy as np\n",
        "import pandas as pd\n",
        "import matplotlib.pyplot as plt\n",
        "import seaborn as sns"
      ],
      "metadata": {
        "id": "snk6mWlP2HrC"
      },
      "execution_count": 3,
      "outputs": []
    },
    {
      "cell_type": "code",
      "source": [
        "np.unique(y_train)"
      ],
      "metadata": {
        "id": "4mWSMkz82kxg",
        "outputId": "447c5654-88aa-4075-f6ef-91479843957f",
        "colab": {
          "base_uri": "https://localhost:8080/"
        }
      },
      "execution_count": 4,
      "outputs": [
        {
          "output_type": "execute_result",
          "data": {
            "text/plain": [
              "array([0, 1, 2, 3, 4, 5, 6, 7, 8, 9], dtype=uint8)"
            ]
          },
          "metadata": {},
          "execution_count": 4
        }
      ]
    },
    {
      "cell_type": "markdown",
      "source": [
        "Let's set classes 8 and 9 for `transfer learning`"
      ],
      "metadata": {
        "id": "dtkl-SPM2uSG"
      }
    },
    {
      "cell_type": "code",
      "source": [
        "## Building the main train data subset\n",
        "\n",
        "main_choices = np.logical_not(np.isin(y_train, [6,7]))\n",
        "X_train_main = X_train[main_choices]\n",
        "y_train_main = y_train[main_choices]"
      ],
      "metadata": {
        "id": "LoJP0ZrK3FBD"
      },
      "execution_count": 5,
      "outputs": []
    },
    {
      "cell_type": "code",
      "source": [
        "X_train_main.shape"
      ],
      "metadata": {
        "id": "8MNHFW8C3htS",
        "outputId": "15140935-c1b2-44d0-e7c5-969504c4c770",
        "colab": {
          "base_uri": "https://localhost:8080/"
        }
      },
      "execution_count": 6,
      "outputs": [
        {
          "output_type": "execute_result",
          "data": {
            "text/plain": [
              "(48000, 28, 28)"
            ]
          },
          "metadata": {},
          "execution_count": 6
        }
      ]
    },
    {
      "cell_type": "code",
      "source": [
        "y_train_main.shape"
      ],
      "metadata": {
        "id": "2zXVy9LI3jgH",
        "outputId": "4f2d7b9c-d85a-41f4-f540-b17e53100b75",
        "colab": {
          "base_uri": "https://localhost:8080/"
        }
      },
      "execution_count": 7,
      "outputs": [
        {
          "output_type": "execute_result",
          "data": {
            "text/plain": [
              "(48000,)"
            ]
          },
          "metadata": {},
          "execution_count": 7
        }
      ]
    },
    {
      "cell_type": "code",
      "source": [
        "## main validation subset\n",
        "main_valid_choices = np.logical_not(np.isin(y_test, [6,7]))\n",
        "X_test_main = X_test[main_valid_choices]\n",
        "y_test_main = y_test[main_valid_choices]"
      ],
      "metadata": {
        "id": "IgOh7K8I3mMZ"
      },
      "execution_count": 8,
      "outputs": []
    },
    {
      "cell_type": "code",
      "source": [
        "## transfer-learning training data subset \n",
        "tl_train_choices = np.isin(y_train, [6,7])\n",
        "X_train_tl = X_train[tl_train_choices]\n",
        "y_train_tl = y_train[tl_train_choices]"
      ],
      "metadata": {
        "id": "XMJ-Ms8w4DOh"
      },
      "execution_count": 9,
      "outputs": []
    },
    {
      "cell_type": "code",
      "source": [
        "## transfer-learning validation data subset\n",
        "tl_valid_choices = np.isin(y_test, [6,7])\n",
        "X_test_tl = X_test[tl_valid_choices]\n",
        "y_test_tl = y_test[tl_valid_choices]"
      ],
      "metadata": {
        "id": "GsPpb7EA4W12"
      },
      "execution_count": 10,
      "outputs": []
    },
    {
      "cell_type": "code",
      "source": [
        "## Testing sample\n",
        "plt.imshow(X_train_tl[8])"
      ],
      "metadata": {
        "id": "HeuzBOHz4myi",
        "outputId": "847181be-20a1-46af-ede2-187eaf0cc439",
        "colab": {
          "base_uri": "https://localhost:8080/",
          "height": 282
        }
      },
      "execution_count": 13,
      "outputs": [
        {
          "output_type": "execute_result",
          "data": {
            "text/plain": [
              "<matplotlib.image.AxesImage at 0x7fc1e4c72710>"
            ]
          },
          "metadata": {},
          "execution_count": 13
        },
        {
          "output_type": "display_data",
          "data": {
            "image/png": "[encoded data removed]",
            "text/plain": [
              "<Figure size 432x288 with 1 Axes>"
            ]
          },
          "metadata": {
            "needs_background": "light"
          }
        }
      ]
    },
    {
      "cell_type": "code",
      "source": [
        "np.unique(y_train_tl)"
      ],
      "metadata": {
        "id": "Ry-bbQ0w4tFa",
        "outputId": "d531a8fd-8840-4d79-a91c-fe30e6a63837",
        "colab": {
          "base_uri": "https://localhost:8080/"
        }
      },
      "execution_count": 16,
      "outputs": [
        {
          "output_type": "execute_result",
          "data": {
            "text/plain": [
              "array([0, 1])"
            ]
          },
          "metadata": {},
          "execution_count": 16
        }
      ]
    },
    {
      "cell_type": "code",
      "source": [
        "y_train_tl = np.where(y_train_tl==6, 0, 1)\n"
      ],
      "metadata": {
        "id": "ZbYo_sDK4zhA"
      },
      "execution_count": 15,
      "outputs": []
    },
    {
      "cell_type": "code",
      "source": [
        "y_test_tl = np.where(y_test_tl==6, 0, 1)"
      ],
      "metadata": {
        "id": "ZNqOnmLs7T2N"
      },
      "execution_count": 19,
      "outputs": []
    },
    {
      "cell_type": "code",
      "source": [
        "np.unique(y_train_main)  ## Convert 8 and 9 to 6 and 7"
      ],
      "metadata": {
        "id": "j8PIGAYp7ZcE",
        "outputId": "d9d96954-02df-4e7f-f578-a1477db6216b",
        "colab": {
          "base_uri": "https://localhost:8080/"
        }
      },
      "execution_count": 24,
      "outputs": [
        {
          "output_type": "execute_result",
          "data": {
            "text/plain": [
              "array([0, 1, 2, 3, 4, 5, 6, 7], dtype=uint8)"
            ]
          },
          "metadata": {},
          "execution_count": 24
        }
      ]
    },
    {
      "cell_type": "code",
      "source": [
        "y_train_main=np.where(y_train_main>6, y_train_main-2, y_train_main)\n",
        "y_test_main = np.where(y_test_main>6, y_test_main-2, y_test_main)"
      ],
      "metadata": {
        "id": "AvjENQSE7qOb"
      },
      "execution_count": 23,
      "outputs": []
    },
    {
      "cell_type": "markdown",
      "source": [
        "## Create Sequential model"
      ],
      "metadata": {
        "id": "UQCoESnB5gKQ"
      }
    },
    {
      "cell_type": "code",
      "source": [
        "from tensorflow.keras.models import Sequential\n",
        "from tensorflow.keras.layers import Dense, Flatten, BatchNormalization, Input\n",
        "from tensorflow.keras.callbacks import EarlyStopping, ModelCheckpoint\n",
        "from tensorflow.keras.activations import elu, softmax"
      ],
      "metadata": {
        "id": "SGk8Bfhe5aIV"
      },
      "execution_count": 18,
      "outputs": []
    },
    {
      "cell_type": "code",
      "source": [
        "from tensorflow.python.keras import activations\n",
        "## model\n",
        "\n",
        "main_model = Sequential()\n",
        "\n",
        "main_model.add(Input(shape=[28, 28]))\n",
        "## Flatten it\n",
        "main_model.add(Flatten())\n",
        "\n",
        "## batchNormalize\n",
        "main_model.add(BatchNormalization())\n",
        "\n",
        "## Hidden1\n",
        "\n",
        "main_model.add(Dense(500, activation=elu, kernel_initializer='he_normal', use_bias=False))\n",
        "\n",
        "## BN2\n",
        "\n",
        "main_model.add(BatchNormalization())\n",
        "\n",
        "##hidden2\n",
        "main_model.add(Dense(300, activation=elu, kernel_initializer='he_normal', use_bias=False))\n",
        "\n",
        "##BN3\n",
        "main_model.add(BatchNormalization())\n",
        "\n",
        "## Hidden3\n",
        "main_model.add(Dense(100, activation=elu, kernel_initializer='he_normal', use_bias=False))\n",
        "\n",
        "##BN4\n",
        "main_model.add(BatchNormalization())\n",
        "\n",
        "## Hidden4\n",
        "main_model.add(Dense(50, activation=elu, kernel_initializer='he_normal', use_bias=False))\n",
        "\n",
        "## Hidden5\n",
        "main_model.add(Dense(8, activation=softmax))"
      ],
      "metadata": {
        "id": "1Kst6BFn52op"
      },
      "execution_count": 37,
      "outputs": []
    },
    {
      "cell_type": "code",
      "source": [
        "main_model.compile(optimizer='adam', loss='categorical_crossentropy', metrics=['accuracy'])"
      ],
      "metadata": {
        "id": "xF4BaHfC8Os4"
      },
      "execution_count": 38,
      "outputs": []
    },
    {
      "cell_type": "code",
      "source": [
        "main_model.summary()"
      ],
      "metadata": {
        "id": "XxlY7vp-8Yri",
        "outputId": "06328e94-380f-4dc5-855e-0cf09cae120d",
        "colab": {
          "base_uri": "https://localhost:8080/"
        }
      },
      "execution_count": 39,
      "outputs": [
        {
          "output_type": "stream",
          "name": "stdout",
          "text": [
            "Model: \"sequential_2\"\n",
            "_________________________________________________________________\n",
            " Layer (type)                Output Shape              Param #   \n",
            "=================================================================\n",
            " flatten_2 (Flatten)         (None, 784)               0         \n",
            "                                                                 \n",
            " batch_normalization_9 (Batc  (None, 784)              3136      \n",
            " hNormalization)                                                 \n",
            "                                                                 \n",
            " dense_10 (Dense)            (None, 500)               392000    \n",
            "                                                                 \n",
            " batch_normalization_10 (Bat  (None, 500)              2000      \n",
            " chNormalization)                                                \n",
            "                                                                 \n",
            " dense_11 (Dense)            (None, 300)               150000    \n",
            "                                                                 \n",
            " batch_normalization_11 (Bat  (None, 300)              1200      \n",
            " chNormalization)                                                \n",
            "                                                                 \n",
            " dense_12 (Dense)            (None, 100)               30000     \n",
            "                                                                 \n",
            " batch_normalization_12 (Bat  (None, 100)              400       \n",
            " chNormalization)                                                \n",
            "                                                                 \n",
            " dense_13 (Dense)            (None, 50)                5000      \n",
            "                                                                 \n",
            " dense_14 (Dense)            (None, 8)                 408       \n",
            "                                                                 \n",
            "=================================================================\n",
            "Total params: 584,144\n",
            "Trainable params: 580,776\n",
            "Non-trainable params: 3,368\n",
            "_________________________________________________________________\n"
          ]
        }
      ]
    },
    {
      "cell_type": "code",
      "source": [
        "## Modify y to be categorical\n",
        "\n",
        "from tensorflow.keras.utils import to_categorical"
      ],
      "metadata": {
        "id": "EgP6tzWn8aKR"
      },
      "execution_count": 28,
      "outputs": []
    },
    {
      "cell_type": "code",
      "source": [
        "y_train_main = to_categorical(y_train_main, num_classes=8)\n",
        "y_test_main = to_categorical(y_test_main, num_classes=8)"
      ],
      "metadata": {
        "id": "uyrvGrab8qzt"
      },
      "execution_count": 29,
      "outputs": []
    },
    {
      "cell_type": "code",
      "source": [
        "early_stop = EarlyStopping(patience=2)\n",
        "model_cp = ModelCheckpoint(filepath='/saved_models/FashionMNISTSeq.h5', save_best_only=True)"
      ],
      "metadata": {
        "id": "9gLIO6mJ80ZT"
      },
      "execution_count": 30,
      "outputs": []
    },
    {
      "cell_type": "code",
      "source": [
        "main_model.fit(x=X_train_main, y=y_train_main, batch_size=32, epochs=15, callbacks=[early_stop, model_cp], validation_data=(X_test_main, y_test_main))"
      ],
      "metadata": {
        "id": "SCcf0-H79EJl",
        "outputId": "a4d3c7d6-9b88-47e5-8c4f-2a7b8f8e5738",
        "colab": {
          "base_uri": "https://localhost:8080/"
        }
      },
      "execution_count": 40,
      "outputs": [
        {
          "output_type": "stream",
          "name": "stdout",
          "text": [
            "Epoch 1/15\n",
            "1500/1500 [==============================] - 29s 18ms/step - loss: 0.3088 - accuracy: 0.8918 - val_loss: 0.2601 - val_accuracy: 0.9118\n",
            "Epoch 2/15\n",
            "1500/1500 [==============================] - 26s 17ms/step - loss: 0.2291 - accuracy: 0.9189 - val_loss: 0.2277 - val_accuracy: 0.9194\n",
            "Epoch 3/15\n",
            "1500/1500 [==============================] - 28s 19ms/step - loss: 0.2046 - accuracy: 0.9273 - val_loss: 0.2184 - val_accuracy: 0.9274\n",
            "Epoch 4/15\n",
            "1500/1500 [==============================] - 29s 19ms/step - loss: 0.1818 - accuracy: 0.9349 - val_loss: 0.2350 - val_accuracy: 0.9241\n",
            "Epoch 5/15\n",
            "1500/1500 [==============================] - 27s 18ms/step - loss: 0.1672 - accuracy: 0.9401 - val_loss: 0.2307 - val_accuracy: 0.9221\n"
          ]
        },
        {
          "output_type": "execute_result",
          "data": {
            "text/plain": [
              "<keras.callbacks.History at 0x7fc1dccc2b50>"
            ]
          },
          "metadata": {},
          "execution_count": 40
        }
      ]
    },
    {
      "cell_type": "markdown",
      "source": [
        "## Model evaluation\n"
      ],
      "metadata": {
        "id": "qwIYBGFs9oOS"
      }
    },
    {
      "cell_type": "code",
      "source": [
        "pd.DataFrame(main_model.history.history).plot(kind='line')"
      ],
      "metadata": {
        "id": "TyukEh6v9Xnw",
        "outputId": "4e39f35f-dbab-47c3-9703-f3e7aaaaf8a3",
        "colab": {
          "base_uri": "https://localhost:8080/",
          "height": 282
        }
      },
      "execution_count": 43,
      "outputs": [
        {
          "output_type": "execute_result",
          "data": {
            "text/plain": [
              "<matplotlib.axes._subplots.AxesSubplot at 0x7fc1dc8cca10>"
            ]
          },
          "metadata": {},
          "execution_count": 43
        },
        {
          "output_type": "display_data",
          "data": {
            "image/png": "[encoded data removed]",
            "text/plain": [
              "<Figure size 432x288 with 1 Axes>"
            ]
          },
          "metadata": {
            "needs_background": "light"
          }
        }
      ]
    },
    {
      "cell_type": "code",
      "source": [
        "main_model.layers"
      ],
      "metadata": {
        "id": "v-0pdx8U9wzz",
        "outputId": "b6194d25-c5fd-4dfb-b2ac-db4ede060367",
        "colab": {
          "base_uri": "https://localhost:8080/"
        }
      },
      "execution_count": 42,
      "outputs": [
        {
          "output_type": "execute_result",
          "data": {
            "text/plain": [
              "[<keras.layers.core.flatten.Flatten at 0x7fc1dccfda10>,\n",
              " <keras.layers.normalization.batch_normalization.BatchNormalization at 0x7fc1dccfddd0>,\n",
              " <keras.layers.core.dense.Dense at 0x7fc1dce61150>,\n",
              " <keras.layers.normalization.batch_normalization.BatchNormalization at 0x7fc1dccfcf90>,\n",
              " <keras.layers.core.dense.Dense at 0x7fc1dccd3f10>,\n",
              " <keras.layers.normalization.batch_normalization.BatchNormalization at 0x7fc1e0976850>,\n",
              " <keras.layers.core.dense.Dense at 0x7fc1dccfc5d0>,\n",
              " <keras.layers.normalization.batch_normalization.BatchNormalization at 0x7fc1dccfc7d0>,\n",
              " <keras.layers.core.dense.Dense at 0x7fc1dce67690>,\n",
              " <keras.layers.core.dense.Dense at 0x7fc1dccf8690>]"
            ]
          },
          "metadata": {},
          "execution_count": 42
        }
      ]
    },
    {
      "cell_type": "markdown",
      "source": [
        "## Create tl_model\n",
        "\n",
        "This `transfer-learning` model would be using the n-1 layers of the `main-model`\n"
      ],
      "metadata": {
        "id": "bYSBgcroCDz8"
      }
    },
    {
      "cell_type": "code",
      "source": [
        "tl_model = Sequential(main_model.layers[:-1])"
      ],
      "metadata": {
        "id": "FutfMdMcFLT_"
      },
      "execution_count": 47,
      "outputs": []
    },
    {
      "cell_type": "code",
      "source": [
        "tl_model.layers"
      ],
      "metadata": {
        "id": "xC77TwgBFRK7",
        "outputId": "cf643228-f8bb-43e5-813c-2346e227f73c",
        "colab": {
          "base_uri": "https://localhost:8080/"
        }
      },
      "execution_count": 48,
      "outputs": [
        {
          "output_type": "execute_result",
          "data": {
            "text/plain": [
              "[<keras.layers.core.flatten.Flatten at 0x7fc1dccfda10>,\n",
              " <keras.layers.normalization.batch_normalization.BatchNormalization at 0x7fc1dccfddd0>,\n",
              " <keras.layers.core.dense.Dense at 0x7fc1dce61150>,\n",
              " <keras.layers.normalization.batch_normalization.BatchNormalization at 0x7fc1dccfcf90>,\n",
              " <keras.layers.core.dense.Dense at 0x7fc1dccd3f10>,\n",
              " <keras.layers.normalization.batch_normalization.BatchNormalization at 0x7fc1e0976850>,\n",
              " <keras.layers.core.dense.Dense at 0x7fc1dccfc5d0>,\n",
              " <keras.layers.normalization.batch_normalization.BatchNormalization at 0x7fc1dccfc7d0>,\n",
              " <keras.layers.core.dense.Dense at 0x7fc1dce67690>]"
            ]
          },
          "metadata": {},
          "execution_count": 48
        }
      ]
    },
    {
      "cell_type": "markdown",
      "source": [
        "The main model needs to be cloned as making and modifying a copy of it also changes the source model"
      ],
      "metadata": {
        "id": "HsibAC9ZFaMe"
      }
    },
    {
      "cell_type": "code",
      "source": [
        "from tensorflow.keras.models import clone_model"
      ],
      "metadata": {
        "id": "iRWYlMaeFocj"
      },
      "execution_count": 49,
      "outputs": []
    },
    {
      "cell_type": "code",
      "source": [
        "# from tensorflow.python.keras.models import clone_model\n",
        "main_model_clone = clone_model(main_model)\n",
        "main_model_clone.set_weights(main_model.get_weights())"
      ],
      "metadata": {
        "id": "ChZBr65zFSdM"
      },
      "execution_count": 51,
      "outputs": []
    },
    {
      "cell_type": "code",
      "source": [
        "# main_model.get_weights()[-3].shape"
      ],
      "metadata": {
        "id": "3axIQEBiF9eb",
        "outputId": "a7cc6ec3-c9bc-4f50-b3a2-4ee1780532b1",
        "colab": {
          "base_uri": "https://localhost:8080/"
        }
      },
      "execution_count": 56,
      "outputs": [
        {
          "output_type": "execute_result",
          "data": {
            "text/plain": [
              "(100, 50)"
            ]
          },
          "metadata": {},
          "execution_count": 56
        }
      ]
    },
    {
      "cell_type": "code",
      "source": [
        "## Add the last layer for tl-model\n",
        "tl_model.add(Dense(units=1, activation='sigmoid'))"
      ],
      "metadata": {
        "id": "uZ-uigJBGFuc"
      },
      "execution_count": 57,
      "outputs": []
    },
    {
      "cell_type": "code",
      "source": [
        "for layer in tl_model.layers:\n",
        "  layer.trainable=False\n"
      ],
      "metadata": {
        "id": "RV8cIG4TGmzd"
      },
      "execution_count": 59,
      "outputs": []
    },
    {
      "cell_type": "code",
      "source": [
        "tl_model."
      ],
      "metadata": {
        "id": "ZxqEU7gbGoYd"
      },
      "execution_count": null,
      "outputs": []
    }
  ]
}