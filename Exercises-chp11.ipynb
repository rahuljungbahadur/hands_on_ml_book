{
  "nbformat": 4,
  "nbformat_minor": 0,
  "metadata": {
    "colab": {
      "name": "Untitled4.ipynb",
      "provenance": [],
      "authorship_tag": "ABX9TyNaESDIcYcYjo6N7a2IGEYw",
      "include_colab_link": true
    },
    "kernelspec": {
      "name": "python3",
      "display_name": "Python 3"
    },
    "language_info": {
      "name": "python"
    },
    "accelerator": "GPU"
  },
  "cells": [
    {
      "cell_type": "markdown",
      "metadata": {
        "id": "view-in-github",
        "colab_type": "text"
      },
      "source": [
        "<a href=\"https://colab.research.google.com/github/rahuljungbahadur/hands_on_ml_book/blob/main/Exercises-chp11.ipynb\" target=\"_parent\"><img src=\"https://colab.research.google.com/assets/colab-badge.svg\" alt=\"Open In Colab\"/></a>"
      ]
    },
    {
      "cell_type": "markdown",
      "source": [
        "# Exercises from the chapter Training Deep Neural Networks (chp11)\n",
        "\n",
        "Unserstanding about the diff activation functions, their pros/cons. Dropout/BatchNormalization. Regularization etc. MCMC estimates."
      ],
      "metadata": {
        "id": "bZZKaBPGPySh"
      }
    },
    {
      "cell_type": "markdown",
      "source": [
        "8. Practice training a deep neural network on the CIFAR10 image dataset:\n"
      ],
      "metadata": {
        "id": "N-9uBex_SItg"
      }
    },
    {
      "cell_type": "markdown",
      "source": [
        "\n",
        "1. Build a DNN with 20 hidden layers of 100 neurons each (that’s too many, but it’s the point of this exercise). Use He initialization and the ELU activation function."
      ],
      "metadata": {
        "id": "mX9kiCtmSV1I"
      }
    },
    {
      "cell_type": "code",
      "execution_count": 1,
      "metadata": {
        "id": "85d1D5SgyZ2J"
      },
      "outputs": [],
      "source": [
        "from tensorflow.keras.datasets import cifar10"
      ]
    },
    {
      "cell_type": "code",
      "source": [
        "(X_train, y_train), (X_test, y_test) = cifar10.load_data()"
      ],
      "metadata": {
        "id": "Q7eXeW-sdeC8"
      },
      "execution_count": 2,
      "outputs": []
    },
    {
      "cell_type": "code",
      "source": [
        "import pandas as pd\n",
        "import numpy as np\n",
        "import matplotlib.pyplot as plt\n",
        "import seaborn as sns\n"
      ],
      "metadata": {
        "id": "rI_SPrcud-Cs"
      },
      "execution_count": 3,
      "outputs": []
    },
    {
      "cell_type": "code",
      "source": [
        "X_train[0].shape"
      ],
      "metadata": {
        "colab": {
          "base_uri": "https://localhost:8080/"
        },
        "id": "Yx3ffu5-ecvm",
        "outputId": "c36d3250-4835-4fd4-aed4-9ff1e187bc99"
      },
      "execution_count": 4,
      "outputs": [
        {
          "output_type": "execute_result",
          "data": {
            "text/plain": [
              "(32, 32, 3)"
            ]
          },
          "metadata": {},
          "execution_count": 4
        }
      ]
    },
    {
      "cell_type": "code",
      "source": [
        "plt.imshow(X_train[0])"
      ],
      "metadata": {
        "colab": {
          "base_uri": "https://localhost:8080/",
          "height": 283
        },
        "id": "-9oWNPh0egxo",
        "outputId": "e5a10879-f894-48e8-f740-8e97fb102741"
      },
      "execution_count": 5,
      "outputs": [
        {
          "output_type": "execute_result",
          "data": {
            "text/plain": [
              "<matplotlib.image.AxesImage at 0x7fddcb735b90>"
            ]
          },
          "metadata": {},
          "execution_count": 5
        },
        {
          "output_type": "display_data",
          "data": {
            "image/png": "[encoded data removed]",
            "text/plain": [
              "<Figure size 432x288 with 1 Axes>"
            ]
          },
          "metadata": {
            "needs_background": "light"
          }
        }
      ]
    },
    {
      "cell_type": "code",
      "source": [
        "y_train[0]"
      ],
      "metadata": {
        "colab": {
          "base_uri": "https://localhost:8080/"
        },
        "id": "MSXYOBw9ekH6",
        "outputId": "f83c3aab-5e61-4410-b185-1f22e8497432"
      },
      "execution_count": 6,
      "outputs": [
        {
          "output_type": "execute_result",
          "data": {
            "text/plain": [
              "array([6], dtype=uint8)"
            ]
          },
          "metadata": {},
          "execution_count": 6
        }
      ]
    },
    {
      "cell_type": "code",
      "source": [
        "help(cifar10.load_data)"
      ],
      "metadata": {
        "colab": {
          "base_uri": "https://localhost:8080/"
        },
        "id": "rA3-VNEoemrN",
        "outputId": "d5f9812b-5f3c-4791-e357-820c503e7589"
      },
      "execution_count": 7,
      "outputs": [
        {
          "output_type": "stream",
          "name": "stdout",
          "text": [
            "Help on function load_data in module keras.datasets.cifar10:\n",
            "\n",
            "load_data()\n",
            "    Loads the CIFAR10 dataset.\n",
            "    \n",
            "    This is a dataset of 50,000 32x32 color training images and 10,000 test\n",
            "    images, labeled over 10 categories. See more info at the\n",
            "    [CIFAR homepage](https://www.cs.toronto.edu/~kriz/cifar.html).\n",
            "    \n",
            "    The classes are:\n",
            "    \n",
            "    | Label | Description |\n",
            "    |:-----:|-------------|\n",
            "    |   0   | airplane    |\n",
            "    |   1   | automobile  |\n",
            "    |   2   | bird        |\n",
            "    |   3   | cat         |\n",
            "    |   4   | deer        |\n",
            "    |   5   | dog         |\n",
            "    |   6   | frog        |\n",
            "    |   7   | horse       |\n",
            "    |   8   | ship        |\n",
            "    |   9   | truck       |\n",
            "    \n",
            "    Returns:\n",
            "      Tuple of NumPy arrays: `(x_train, y_train), (x_test, y_test)`.\n",
            "    \n",
            "    **x_train**: uint8 NumPy array of grayscale image data with shapes\n",
            "      `(50000, 32, 32, 3)`, containing the training data. Pixel values range\n",
            "      from 0 to 255.\n",
            "    \n",
            "    **y_train**: uint8 NumPy array of labels (integers in range 0-9)\n",
            "      with shape `(50000, 1)` for the training data.\n",
            "    \n",
            "    **x_test**: uint8 NumPy array of grayscale image data with shapes\n",
            "      `(10000, 32, 32, 3)`, containing the test data. Pixel values range\n",
            "      from 0 to 255.\n",
            "    \n",
            "    **y_test**: uint8 NumPy array of labels (integers in range 0-9)\n",
            "      with shape `(10000, 1)` for the test data.\n",
            "    \n",
            "    Example:\n",
            "    \n",
            "    ```python\n",
            "    (x_train, y_train), (x_test, y_test) = keras.datasets.cifar10.load_data()\n",
            "    assert x_train.shape == (50000, 32, 32, 3)\n",
            "    assert x_test.shape == (10000, 32, 32, 3)\n",
            "    assert y_train.shape == (50000, 1)\n",
            "    assert y_test.shape == (10000, 1)\n",
            "    ```\n",
            "\n"
          ]
        }
      ]
    },
    {
      "cell_type": "code",
      "source": [
        "from tensorflow.keras.models import Sequential\n",
        "from tensorflow.keras.layers import Dense, Flatten, Dropout\n",
        "from tensorflow.keras.callbacks import EarlyStopping\n",
        "from tensorflow.keras.activations import elu, softmax\n",
        "from tensorflow.keras.initializers import he_normal"
      ],
      "metadata": {
        "id": "Q6a0e0U3e8KW"
      },
      "execution_count": 8,
      "outputs": []
    },
    {
      "cell_type": "markdown",
      "source": [
        "## Building model1"
      ],
      "metadata": {
        "id": "q_4l46uGnJ3B"
      }
    },
    {
      "cell_type": "code",
      "source": [
        "## model with 20 hidden layers having 100 neurons each\n",
        "model1 = Sequential()\n",
        "\n",
        "model1.add(Flatten(input_shape=[32,32,3]))\n",
        "\n",
        "for i in range(20):\n",
        "  model1.add(Dense(units=100, activation=elu, kernel_initializer=he_normal))\n",
        "\n",
        "\n",
        "model1.add(Dense(10, activation=softmax))\n"
      ],
      "metadata": {
        "id": "ugZ3RQGFeCn6"
      },
      "execution_count": 9,
      "outputs": []
    },
    {
      "cell_type": "code",
      "source": [
        "model1.summary()"
      ],
      "metadata": {
        "colab": {
          "base_uri": "https://localhost:8080/"
        },
        "id": "Z3xs2YM9hi4Q",
        "outputId": "a246ff40-64e5-45f2-83b7-e3421ffaacff"
      },
      "execution_count": 10,
      "outputs": [
        {
          "output_type": "stream",
          "name": "stdout",
          "text": [
            "Model: \"sequential\"\n",
            "_________________________________________________________________\n",
            " Layer (type)                Output Shape              Param #   \n",
            "=================================================================\n",
            " flatten (Flatten)           (None, 3072)              0         \n",
            "                                                                 \n",
            " dense (Dense)               (None, 100)               307300    \n",
            "                                                                 \n",
            " dense_1 (Dense)             (None, 100)               10100     \n",
            "                                                                 \n",
            " dense_2 (Dense)             (None, 100)               10100     \n",
            "                                                                 \n",
            " dense_3 (Dense)             (None, 100)               10100     \n",
            "                                                                 \n",
            " dense_4 (Dense)             (None, 100)               10100     \n",
            "                                                                 \n",
            " dense_5 (Dense)             (None, 100)               10100     \n",
            "                                                                 \n",
            " dense_6 (Dense)             (None, 100)               10100     \n",
            "                                                                 \n",
            " dense_7 (Dense)             (None, 100)               10100     \n",
            "                                                                 \n",
            " dense_8 (Dense)             (None, 100)               10100     \n",
            "                                                                 \n",
            " dense_9 (Dense)             (None, 100)               10100     \n",
            "                                                                 \n",
            " dense_10 (Dense)            (None, 100)               10100     \n",
            "                                                                 \n",
            " dense_11 (Dense)            (None, 100)               10100     \n",
            "                                                                 \n",
            " dense_12 (Dense)            (None, 100)               10100     \n",
            "                                                                 \n",
            " dense_13 (Dense)            (None, 100)               10100     \n",
            "                                                                 \n",
            " dense_14 (Dense)            (None, 100)               10100     \n",
            "                                                                 \n",
            " dense_15 (Dense)            (None, 100)               10100     \n",
            "                                                                 \n",
            " dense_16 (Dense)            (None, 100)               10100     \n",
            "                                                                 \n",
            " dense_17 (Dense)            (None, 100)               10100     \n",
            "                                                                 \n",
            " dense_18 (Dense)            (None, 100)               10100     \n",
            "                                                                 \n",
            " dense_19 (Dense)            (None, 100)               10100     \n",
            "                                                                 \n",
            " dense_20 (Dense)            (None, 10)                1010      \n",
            "                                                                 \n",
            "=================================================================\n",
            "Total params: 500,210\n",
            "Trainable params: 500,210\n",
            "Non-trainable params: 0\n",
            "_________________________________________________________________\n"
          ]
        }
      ]
    },
    {
      "cell_type": "code",
      "source": [
        "earlyStop = EarlyStopping(patience=0)"
      ],
      "metadata": {
        "id": "r-TweYsEiHtj"
      },
      "execution_count": 11,
      "outputs": []
    },
    {
      "cell_type": "code",
      "source": [
        "from tensorflow.python.keras import callbacks\n",
        "## Training using NADAM optimizer and EarlyStopping\n",
        "\n",
        "model1.compile(optimizer='nadam', loss='categorical_crossentropy', metrics=['accuracy'])"
      ],
      "metadata": {
        "id": "n1YBrqeohlll"
      },
      "execution_count": 12,
      "outputs": []
    },
    {
      "cell_type": "code",
      "source": [
        "## Converting y to categorical\n",
        "from tensorflow.keras.utils import to_categorical"
      ],
      "metadata": {
        "id": "PvnzdPoFi-ld"
      },
      "execution_count": 13,
      "outputs": []
    },
    {
      "cell_type": "code",
      "source": [
        "y_train = to_categorical(y_train)\n",
        "y_test = to_categorical(y_test)"
      ],
      "metadata": {
        "id": "qWrhV9M5jFvg"
      },
      "execution_count": 14,
      "outputs": []
    },
    {
      "cell_type": "code",
      "source": [
        "X_train = X_train/255\n",
        "X_test = X_test/255"
      ],
      "metadata": {
        "id": "KVLw_YjLjUMI"
      },
      "execution_count": 15,
      "outputs": []
    },
    {
      "cell_type": "code",
      "source": [
        "## Fitting the model\n",
        "model1.fit(x=X_train, y=y_train, callbacks=[earlyStop], validation_data=(X_test, y_test), epochs=10)"
      ],
      "metadata": {
        "colab": {
          "base_uri": "https://localhost:8080/"
        },
        "id": "Wu4_TYYIiWf9",
        "outputId": "74e23b16-8c34-4ff8-9b09-a566cc955f20"
      },
      "execution_count": 16,
      "outputs": [
        {
          "output_type": "stream",
          "name": "stdout",
          "text": [
            "Epoch 1/10\n",
            "1563/1563 [==============================] - 37s 18ms/step - loss: 2.0428 - accuracy: 0.2512 - val_loss: 1.8847 - val_accuracy: 0.3135\n",
            "Epoch 2/10\n",
            "1563/1563 [==============================] - 25s 16ms/step - loss: 1.8365 - accuracy: 0.3302 - val_loss: 1.9093 - val_accuracy: 0.3066\n"
          ]
        },
        {
          "output_type": "execute_result",
          "data": {
            "text/plain": [
              "<keras.callbacks.History at 0x7fddc040a1d0>"
            ]
          },
          "metadata": {},
          "execution_count": 16
        }
      ]
    },
    {
      "cell_type": "code",
      "source": [
        "pd.DataFrame(model1.history.history)[['loss', 'val_loss']].plot(kind='line')"
      ],
      "metadata": {
        "id": "dPc02NHzm6iJ",
        "outputId": "d7786af4-521a-4f56-89ba-aad73023d1f1",
        "colab": {
          "base_uri": "https://localhost:8080/",
          "height": 283
        }
      },
      "execution_count": 19,
      "outputs": [
        {
          "output_type": "execute_result",
          "data": {
            "text/plain": [
              "<matplotlib.axes._subplots.AxesSubplot at 0x7fdd4c45f190>"
            ]
          },
          "metadata": {},
          "execution_count": 19
        },
        {
          "output_type": "display_data",
          "data": {
            "image/png": "[encoded data removed]",
            "text/plain": [
              "<Figure size 432x288 with 1 Axes>"
            ]
          },
          "metadata": {
            "needs_background": "light"
          }
        }
      ]
    },
    {
      "cell_type": "code",
      "source": [
        ""
      ],
      "metadata": {
        "id": "Mf6E2fYunSFT"
      },
      "execution_count": null,
      "outputs": []
    },
    {
      "cell_type": "markdown",
      "source": [
        "## Building model2 using BatchNormalizaion"
      ],
      "metadata": {
        "id": "GsG04D8FnTBP"
      }
    },
    {
      "cell_type": "code",
      "source": [
        "from tensorflow.keras.layers import BatchNormalization"
      ],
      "metadata": {
        "id": "cltJyPx8mumt"
      },
      "execution_count": 17,
      "outputs": []
    },
    {
      "cell_type": "code",
      "source": [
        "model2 = Sequential()\n",
        "\n",
        "model2.add(Flatten(input_shape=[32,32,3]))\n",
        "\n",
        "for i in range(20):\n",
        "\n",
        "  model2.add(BatchNormalization())\n",
        "  model2.add(Dense(units=100, activation=elu, kernel_initializer=he_normal, use_bias=False))\n",
        "\n",
        "model2.add(Dense(units=10, activation=softmax))"
      ],
      "metadata": {
        "id": "tvTEU9e3is_v"
      },
      "execution_count": 21,
      "outputs": []
    },
    {
      "cell_type": "code",
      "source": [
        "model2.summary()"
      ],
      "metadata": {
        "id": "5KOo7CYVnk04",
        "outputId": "fd605ec8-cadf-4f06-b948-e6c3fa7db541",
        "colab": {
          "base_uri": "https://localhost:8080/"
        }
      },
      "execution_count": 22,
      "outputs": [
        {
          "output_type": "stream",
          "name": "stdout",
          "text": [
            "Model: \"sequential_2\"\n",
            "_________________________________________________________________\n",
            " Layer (type)                Output Shape              Param #   \n",
            "=================================================================\n",
            " flatten_2 (Flatten)         (None, 3072)              0         \n",
            "                                                                 \n",
            " batch_normalization_20 (Bat  (None, 3072)             12288     \n",
            " chNormalization)                                                \n",
            "                                                                 \n",
            " dense_42 (Dense)            (None, 100)               307200    \n",
            "                                                                 \n",
            " batch_normalization_21 (Bat  (None, 100)              400       \n",
            " chNormalization)                                                \n",
            "                                                                 \n",
            " dense_43 (Dense)            (None, 100)               10000     \n",
            "                                                                 \n",
            " batch_normalization_22 (Bat  (None, 100)              400       \n",
            " chNormalization)                                                \n",
            "                                                                 \n",
            " dense_44 (Dense)            (None, 100)               10000     \n",
            "                                                                 \n",
            " batch_normalization_23 (Bat  (None, 100)              400       \n",
            " chNormalization)                                                \n",
            "                                                                 \n",
            " dense_45 (Dense)            (None, 100)               10000     \n",
            "                                                                 \n",
            " batch_normalization_24 (Bat  (None, 100)              400       \n",
            " chNormalization)                                                \n",
            "                                                                 \n",
            " dense_46 (Dense)            (None, 100)               10000     \n",
            "                                                                 \n",
            " batch_normalization_25 (Bat  (None, 100)              400       \n",
            " chNormalization)                                                \n",
            "                                                                 \n",
            " dense_47 (Dense)            (None, 100)               10000     \n",
            "                                                                 \n",
            " batch_normalization_26 (Bat  (None, 100)              400       \n",
            " chNormalization)                                                \n",
            "                                                                 \n",
            " dense_48 (Dense)            (None, 100)               10000     \n",
            "                                                                 \n",
            " batch_normalization_27 (Bat  (None, 100)              400       \n",
            " chNormalization)                                                \n",
            "                                                                 \n",
            " dense_49 (Dense)            (None, 100)               10000     \n",
            "                                                                 \n",
            " batch_normalization_28 (Bat  (None, 100)              400       \n",
            " chNormalization)                                                \n",
            "                                                                 \n",
            " dense_50 (Dense)            (None, 100)               10000     \n",
            "                                                                 \n",
            " batch_normalization_29 (Bat  (None, 100)              400       \n",
            " chNormalization)                                                \n",
            "                                                                 \n",
            " dense_51 (Dense)            (None, 100)               10000     \n",
            "                                                                 \n",
            " batch_normalization_30 (Bat  (None, 100)              400       \n",
            " chNormalization)                                                \n",
            "                                                                 \n",
            " dense_52 (Dense)            (None, 100)               10000     \n",
            "                                                                 \n",
            " batch_normalization_31 (Bat  (None, 100)              400       \n",
            " chNormalization)                                                \n",
            "                                                                 \n",
            " dense_53 (Dense)            (None, 100)               10000     \n",
            "                                                                 \n",
            " batch_normalization_32 (Bat  (None, 100)              400       \n",
            " chNormalization)                                                \n",
            "                                                                 \n",
            " dense_54 (Dense)            (None, 100)               10000     \n",
            "                                                                 \n",
            " batch_normalization_33 (Bat  (None, 100)              400       \n",
            " chNormalization)                                                \n",
            "                                                                 \n",
            " dense_55 (Dense)            (None, 100)               10000     \n",
            "                                                                 \n",
            " batch_normalization_34 (Bat  (None, 100)              400       \n",
            " chNormalization)                                                \n",
            "                                                                 \n",
            " dense_56 (Dense)            (None, 100)               10000     \n",
            "                                                                 \n",
            " batch_normalization_35 (Bat  (None, 100)              400       \n",
            " chNormalization)                                                \n",
            "                                                                 \n",
            " dense_57 (Dense)            (None, 100)               10000     \n",
            "                                                                 \n",
            " batch_normalization_36 (Bat  (None, 100)              400       \n",
            " chNormalization)                                                \n",
            "                                                                 \n",
            " dense_58 (Dense)            (None, 100)               10000     \n",
            "                                                                 \n",
            " batch_normalization_37 (Bat  (None, 100)              400       \n",
            " chNormalization)                                                \n",
            "                                                                 \n",
            " dense_59 (Dense)            (None, 100)               10000     \n",
            "                                                                 \n",
            " batch_normalization_38 (Bat  (None, 100)              400       \n",
            " chNormalization)                                                \n",
            "                                                                 \n",
            " dense_60 (Dense)            (None, 100)               10000     \n",
            "                                                                 \n",
            " batch_normalization_39 (Bat  (None, 100)              400       \n",
            " chNormalization)                                                \n",
            "                                                                 \n",
            " dense_61 (Dense)            (None, 100)               10000     \n",
            "                                                                 \n",
            " dense_62 (Dense)            (None, 10)                1010      \n",
            "                                                                 \n",
            "=================================================================\n",
            "Total params: 518,098\n",
            "Trainable params: 508,154\n",
            "Non-trainable params: 9,944\n",
            "_________________________________________________________________\n"
          ]
        }
      ]
    },
    {
      "cell_type": "code",
      "source": [
        "model2.compile(optimizer='nadam', loss='categorical_crossentropy', metrics=['accuracy'])"
      ],
      "metadata": {
        "id": "rndXgiMsnuDC"
      },
      "execution_count": 23,
      "outputs": []
    },
    {
      "cell_type": "code",
      "source": [
        "model2.fit(x=X_train, y=y_train, validation_data=(X_test, y_test), epochs=10, callbacks=[earlyStop])"
      ],
      "metadata": {
        "id": "f3sR2icxn9Jo",
        "outputId": "cb5b4adc-1075-4720-be71-08e9864300d9",
        "colab": {
          "base_uri": "https://localhost:8080/"
        }
      },
      "execution_count": 24,
      "outputs": [
        {
          "output_type": "stream",
          "name": "stdout",
          "text": [
            "Epoch 1/10\n",
            "1563/1563 [==============================] - 111s 61ms/step - loss: 1.9178 - accuracy: 0.3150 - val_loss: 1.6794 - val_accuracy: 0.3995\n",
            "Epoch 2/10\n",
            "1563/1563 [==============================] - 91s 58ms/step - loss: 1.7109 - accuracy: 0.3919 - val_loss: 1.6303 - val_accuracy: 0.4271\n"
          ]
        },
        {
          "output_type": "execute_result",
          "data": {
            "text/plain": [
              "<keras.callbacks.History at 0x7fdd4c33ce90>"
            ]
          },
          "metadata": {},
          "execution_count": 24
        }
      ]
    },
    {
      "cell_type": "code",
      "source": [
        "pd.DataFrame(model2.history.history)[['loss', 'val_loss']].plot(kind='line')"
      ],
      "metadata": {
        "id": "WbPzMOOqoMNJ",
        "outputId": "34006cae-5db8-4a97-a036-3bf17f55dfa1",
        "colab": {
          "base_uri": "https://localhost:8080/",
          "height": 282
        }
      },
      "execution_count": 25,
      "outputs": [
        {
          "output_type": "execute_result",
          "data": {
            "text/plain": [
              "<matplotlib.axes._subplots.AxesSubplot at 0x7fdd470d9b10>"
            ]
          },
          "metadata": {},
          "execution_count": 25
        },
        {
          "output_type": "display_data",
          "data": {
            "image/png": "[encoded data removed]",
            "text/plain": [
              "<Figure size 432x288 with 1 Axes>"
            ]
          },
          "metadata": {
            "needs_background": "light"
          }
        }
      ]
    },
    {
      "cell_type": "code",
      "source": [
        ""
      ],
      "metadata": {
        "id": "2hBVB7U4pKK2"
      },
      "execution_count": null,
      "outputs": []
    }
  ]
}