{
  "nbformat": 4,
  "nbformat_minor": 0,
  "metadata": {
    "colab": {
      "name": "Untitled6.ipynb",
      "provenance": [],
      "toc_visible": true,
      "authorship_tag": "ABX9TyPwhX70OjeEaYktfBdcR26/",
      "include_colab_link": true
    },
    "kernelspec": {
      "name": "python3",
      "display_name": "Python 3"
    },
    "language_info": {
      "name": "python"
    }
  },
  "cells": [
    {
      "cell_type": "markdown",
      "metadata": {
        "id": "view-in-github",
        "colab_type": "text"
      },
      "source": [
        "<a href=\"https://colab.research.google.com/github/rahuljungbahadur/hands_on_ml_book/blob/main/chp12_exercises.ipynb\" target=\"_parent\"><img src=\"https://colab.research.google.com/assets/colab-badge.svg\" alt=\"Open In Colab\"/></a>"
      ]
    },
    {
      "cell_type": "markdown",
      "source": [
        "# Exercises From chapter 12"
      ],
      "metadata": {
        "id": "bJFYinNw1avm"
      }
    },
    {
      "cell_type": "markdown",
      "source": [
        "## Do you get the same result with tf.range(10) and tf.constant(np.arange(10))?"
      ],
      "metadata": {
        "id": "2TTr5UHO2JLb"
      }
    },
    {
      "cell_type": "code",
      "execution_count": 3,
      "metadata": {
        "id": "2kQGgTkmG0s5"
      },
      "outputs": [],
      "source": [
        "import tensorflow as tf\n",
        "import numpy as np"
      ]
    },
    {
      "cell_type": "code",
      "source": [
        "tf.range(10)"
      ],
      "metadata": {
        "id": "mqozsPxu2OYz",
        "outputId": "2038f9f0-e6a9-46a2-8bb7-6feeaafaa65f",
        "colab": {
          "base_uri": "https://localhost:8080/"
        }
      },
      "execution_count": 2,
      "outputs": [
        {
          "output_type": "execute_result",
          "data": {
            "text/plain": [
              "<tf.Tensor: shape=(10,), dtype=int32, numpy=array([0, 1, 2, 3, 4, 5, 6, 7, 8, 9], dtype=int32)>"
            ]
          },
          "metadata": {},
          "execution_count": 2
        }
      ]
    },
    {
      "cell_type": "code",
      "source": [
        "tf.constant(np.arange(10))"
      ],
      "metadata": {
        "id": "SYGrBRtv2SBx",
        "outputId": "f4b2cced-3d45-442b-9b6a-4af8362376a8",
        "colab": {
          "base_uri": "https://localhost:8080/"
        }
      },
      "execution_count": 4,
      "outputs": [
        {
          "output_type": "execute_result",
          "data": {
            "text/plain": [
              "<tf.Tensor: shape=(10,), dtype=int64, numpy=array([0, 1, 2, 3, 4, 5, 6, 7, 8, 9])>"
            ]
          },
          "metadata": {},
          "execution_count": 4
        }
      ]
    },
    {
      "cell_type": "markdown",
      "source": [
        "The later one has a default data type of `int64` (higher precision). Whereas the tensorflow one has a dtype of `int32` (lower precision)"
      ],
      "metadata": {
        "id": "_89n-Y892cDL"
      }
    },
    {
      "cell_type": "markdown",
      "source": [
        "## Sample python function converted to tensorlfow"
      ],
      "metadata": {
        "id": "FBW0IgMg2sLA"
      }
    },
    {
      "cell_type": "code",
      "source": [
        "@tf.function\n",
        "def sum_squares(n):\n",
        "  s=0\n",
        "  for i in range(n):\n",
        "    s+=i**2\n",
        "  \n",
        "  return s\n"
      ],
      "metadata": {
        "id": "9t7AAxw02Y6Z"
      },
      "execution_count": 5,
      "outputs": []
    },
    {
      "cell_type": "code",
      "source": [
        "sum_squares  ## It is a python funcition"
      ],
      "metadata": {
        "id": "NA2szYDa3Ak6",
        "outputId": "dae214f4-085a-4f68-f650-ef2aa032a6d2",
        "colab": {
          "base_uri": "https://localhost:8080/"
        }
      },
      "execution_count": 7,
      "outputs": [
        {
          "output_type": "execute_result",
          "data": {
            "text/plain": [
              "<tensorflow.python.eager.def_function.Function at 0x7f448bc62f50>"
            ]
          },
          "metadata": {},
          "execution_count": 7
        }
      ]
    },
    {
      "cell_type": "code",
      "source": [
        "tf.autograph.to_code(sum_squares.python_function)"
      ],
      "metadata": {
        "id": "FF3Cq5Ca3Fom",
        "outputId": "89802013-481f-4206-fd26-b13b7ed1386c",
        "colab": {
          "base_uri": "https://localhost:8080/",
          "height": 105
        }
      },
      "execution_count": 9,
      "outputs": [
        {
          "output_type": "execute_result",
          "data": {
            "application/vnd.google.colaboratory.intrinsic+json": {
              "type": "string"
            },
            "text/plain": [
              "\"def tf__sum_squares(n):\\n    with ag__.FunctionScope('sum_squares', 'fscope', ag__.ConversionOptions(recursive=True, user_requested=True, optional_features=(), internal_convert_user_code=True)) as fscope:\\n        do_return = False\\n        retval_ = ag__.UndefinedReturnValue()\\n        s = 0\\n\\n        def get_state():\\n            return (s,)\\n\\n        def set_state(vars_):\\n            nonlocal s\\n            (s,) = vars_\\n\\n        def loop_body(itr):\\n            nonlocal s\\n            i = itr\\n            s = ag__.ld(s)\\n            s += (i ** 2)\\n        i = ag__.Undefined('i')\\n        ag__.for_stmt(ag__.converted_call(ag__.ld(range), (ag__.ld(n),), None, fscope), None, loop_body, get_state, set_state, ('s',), {'iterate_names': 'i'})\\n        try:\\n            do_return = True\\n            retval_ = ag__.ld(s)\\n        except:\\n            do_return = False\\n            raise\\n        return fscope.ret(retval_, do_return)\\n\""
            ]
          },
          "metadata": {},
          "execution_count": 9
        }
      ]
    },
    {
      "cell_type": "code",
      "source": [
        "def tf__sum_squares(n):\n",
        "    with ag__.FunctionScope('sum_squares', 'fscope', ag__.ConversionOptions(recursive=True, user_requested=True, optional_features=(), internal_convert_user_code=True)) as fscope:\n",
        "        do_return = False\n",
        "        retval_ = ag__.UndefinedReturnValue()\n",
        "        s = 0\n",
        "\n",
        "        def get_state():\n",
        "            return (s,)\n",
        "\n",
        "        def set_state(vars_):\n",
        "            nonlocal s\n",
        "            (s,) = vars_\n",
        "\n",
        "        def loop_body(itr):\n",
        "            nonlocal s\n",
        "            i = itr\n",
        "            s = ag__.ld(s)\n",
        "            s += (i ** 2)\n",
        "        i = ag__.Undefined('i')\n",
        "        ag__.for_stmt(ag__.converted_call(ag__.ld(range), (ag__.ld(n),), None, fscope), None, loop_body, get_state, set_state, ('s',), {'iterate_names': 'i'})\n",
        "        try:\n",
        "            do_return = True\n",
        "            retval_ = ag__.ld(s)\n",
        "        except:\n",
        "            do_return = False\n",
        "            raise\n",
        "        return fscope.ret(retval_, do_return)\n"
      ],
      "metadata": {
        "id": "SiE8Uwwo3tk8"
      },
      "execution_count": null,
      "outputs": []
    },
    {
      "cell_type": "markdown",
      "source": [
        "This way you can see the tensorflow generated code"
      ],
      "metadata": {
        "id": "Z6MC-Row31IJ"
      }
    },
    {
      "cell_type": "markdown",
      "source": [
        "## Implement a custom layer that performs Layer Normalization (we will use this type of layer in Chapter 15):"
      ],
      "metadata": {
        "id": "JSOcHgXy395y"
      }
    },
    {
      "cell_type": "code",
      "source": [
        ""
      ],
      "metadata": {
        "id": "UwevW8Q_35UX"
      },
      "execution_count": null,
      "outputs": []
    }
  ]
}