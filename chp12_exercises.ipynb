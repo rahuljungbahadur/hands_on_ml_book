{
  "nbformat": 4,
  "nbformat_minor": 0,
  "metadata": {
    "colab": {
      "name": "Untitled6.ipynb",
      "provenance": [],
      "toc_visible": true,
      "authorship_tag": "ABX9TyNCXHH5r6KyjrQFp3wVj3OH",
      "include_colab_link": true
    },
    "kernelspec": {
      "name": "python3",
      "display_name": "Python 3"
    },
    "language_info": {
      "name": "python"
    }
  },
  "cells": [
    {
      "cell_type": "markdown",
      "metadata": {
        "id": "view-in-github",
        "colab_type": "text"
      },
      "source": [
        "<a href=\"https://colab.research.google.com/github/rahuljungbahadur/hands_on_ml_book/blob/main/chp12_exercises.ipynb\" target=\"_parent\"><img src=\"https://colab.research.google.com/assets/colab-badge.svg\" alt=\"Open In Colab\"/></a>"
      ]
    },
    {
      "cell_type": "markdown",
      "source": [
        "# Exercises From chapter 12"
      ],
      "metadata": {
        "id": "bJFYinNw1avm"
      }
    },
    {
      "cell_type": "markdown",
      "source": [
        "## Do you get the same result with tf.range(10) and tf.constant(np.arange(10))?"
      ],
      "metadata": {
        "id": "2TTr5UHO2JLb"
      }
    },
    {
      "cell_type": "code",
      "execution_count": null,
      "metadata": {
        "id": "2kQGgTkmG0s5"
      },
      "outputs": [],
      "source": [
        "import tensorflow as tf\n",
        "import numpy as np"
      ]
    },
    {
      "cell_type": "code",
      "source": [
        "tf.range(10)"
      ],
      "metadata": {
        "id": "mqozsPxu2OYz",
        "outputId": "2038f9f0-e6a9-46a2-8bb7-6feeaafaa65f",
        "colab": {
          "base_uri": "https://localhost:8080/"
        }
      },
      "execution_count": null,
      "outputs": [
        {
          "output_type": "execute_result",
          "data": {
            "text/plain": [
              "<tf.Tensor: shape=(10,), dtype=int32, numpy=array([0, 1, 2, 3, 4, 5, 6, 7, 8, 9], dtype=int32)>"
            ]
          },
          "metadata": {},
          "execution_count": 2
        }
      ]
    },
    {
      "cell_type": "code",
      "source": [
        "tf.constant(np.arange(10))"
      ],
      "metadata": {
        "id": "SYGrBRtv2SBx",
        "outputId": "f4b2cced-3d45-442b-9b6a-4af8362376a8",
        "colab": {
          "base_uri": "https://localhost:8080/"
        }
      },
      "execution_count": null,
      "outputs": [
        {
          "output_type": "execute_result",
          "data": {
            "text/plain": [
              "<tf.Tensor: shape=(10,), dtype=int64, numpy=array([0, 1, 2, 3, 4, 5, 6, 7, 8, 9])>"
            ]
          },
          "metadata": {},
          "execution_count": 4
        }
      ]
    },
    {
      "cell_type": "markdown",
      "source": [
        "The later one has a default data type of `int64` (higher precision). Whereas the tensorflow one has a dtype of `int32` (lower precision)"
      ],
      "metadata": {
        "id": "_89n-Y892cDL"
      }
    },
    {
      "cell_type": "markdown",
      "source": [
        "## Sample python function converted to tensorlfow"
      ],
      "metadata": {
        "id": "FBW0IgMg2sLA"
      }
    },
    {
      "cell_type": "code",
      "source": [
        "@tf.function\n",
        "def sum_squares(n):\n",
        "  s=0\n",
        "  for i in range(n):\n",
        "    s+=i**2\n",
        "  \n",
        "  return s\n"
      ],
      "metadata": {
        "id": "9t7AAxw02Y6Z"
      },
      "execution_count": null,
      "outputs": []
    },
    {
      "cell_type": "code",
      "source": [
        "sum_squares  ## It is a python funcition"
      ],
      "metadata": {
        "id": "NA2szYDa3Ak6",
        "outputId": "dae214f4-085a-4f68-f650-ef2aa032a6d2",
        "colab": {
          "base_uri": "https://localhost:8080/"
        }
      },
      "execution_count": null,
      "outputs": [
        {
          "output_type": "execute_result",
          "data": {
            "text/plain": [
              "<tensorflow.python.eager.def_function.Function at 0x7f448bc62f50>"
            ]
          },
          "metadata": {},
          "execution_count": 7
        }
      ]
    },
    {
      "cell_type": "code",
      "source": [
        "tf.autograph.to_code(sum_squares.python_function)"
      ],
      "metadata": {
        "id": "FF3Cq5Ca3Fom",
        "outputId": "89802013-481f-4206-fd26-b13b7ed1386c",
        "colab": {
          "base_uri": "https://localhost:8080/",
          "height": 105
        }
      },
      "execution_count": null,
      "outputs": [
        {
          "output_type": "execute_result",
          "data": {
            "application/vnd.google.colaboratory.intrinsic+json": {
              "type": "string"
            },
            "text/plain": [
              "\"def tf__sum_squares(n):\\n    with ag__.FunctionScope('sum_squares', 'fscope', ag__.ConversionOptions(recursive=True, user_requested=True, optional_features=(), internal_convert_user_code=True)) as fscope:\\n        do_return = False\\n        retval_ = ag__.UndefinedReturnValue()\\n        s = 0\\n\\n        def get_state():\\n            return (s,)\\n\\n        def set_state(vars_):\\n            nonlocal s\\n            (s,) = vars_\\n\\n        def loop_body(itr):\\n            nonlocal s\\n            i = itr\\n            s = ag__.ld(s)\\n            s += (i ** 2)\\n        i = ag__.Undefined('i')\\n        ag__.for_stmt(ag__.converted_call(ag__.ld(range), (ag__.ld(n),), None, fscope), None, loop_body, get_state, set_state, ('s',), {'iterate_names': 'i'})\\n        try:\\n            do_return = True\\n            retval_ = ag__.ld(s)\\n        except:\\n            do_return = False\\n            raise\\n        return fscope.ret(retval_, do_return)\\n\""
            ]
          },
          "metadata": {},
          "execution_count": 9
        }
      ]
    },
    {
      "cell_type": "code",
      "source": [
        "def tf__sum_squares(n):\n",
        "    with ag__.FunctionScope('sum_squares', 'fscope', ag__.ConversionOptions(recursive=True, user_requested=True, optional_features=(), internal_convert_user_code=True)) as fscope:\n",
        "        do_return = False\n",
        "        retval_ = ag__.UndefinedReturnValue()\n",
        "        s = 0\n",
        "\n",
        "        def get_state():\n",
        "            return (s,)\n",
        "\n",
        "        def set_state(vars_):\n",
        "            nonlocal s\n",
        "            (s,) = vars_\n",
        "\n",
        "        def loop_body(itr):\n",
        "            nonlocal s\n",
        "            i = itr\n",
        "            s = ag__.ld(s)\n",
        "            s += (i ** 2)\n",
        "        i = ag__.Undefined('i')\n",
        "        ag__.for_stmt(ag__.converted_call(ag__.ld(range), (ag__.ld(n),), None, fscope), None, loop_body, get_state, set_state, ('s',), {'iterate_names': 'i'})\n",
        "        try:\n",
        "            do_return = True\n",
        "            retval_ = ag__.ld(s)\n",
        "        except:\n",
        "            do_return = False\n",
        "            raise\n",
        "        return fscope.ret(retval_, do_return)\n"
      ],
      "metadata": {
        "id": "SiE8Uwwo3tk8"
      },
      "execution_count": null,
      "outputs": []
    },
    {
      "cell_type": "markdown",
      "source": [
        "This way you can see the tensorflow generated code"
      ],
      "metadata": {
        "id": "Z6MC-Row31IJ"
      }
    },
    {
      "cell_type": "markdown",
      "source": [
        "## Autodiff example"
      ],
      "metadata": {
        "id": "BBE5XMNM5mXJ"
      }
    },
    {
      "cell_type": "code",
      "source": [
        "def f(w1, w2):\n",
        "  return 3* w1**2 + 2*w1*w2"
      ],
      "metadata": {
        "id": "Ws1Ccmo-5lwo"
      },
      "execution_count": 19,
      "outputs": []
    },
    {
      "cell_type": "code",
      "source": [
        "f(2,3)"
      ],
      "metadata": {
        "colab": {
          "base_uri": "https://localhost:8080/"
        },
        "id": "POGoLnJh5zHc",
        "outputId": "cb3d1ff1-8f5d-4e6b-c7cc-cf2d8871286c"
      },
      "execution_count": 20,
      "outputs": [
        {
          "output_type": "execute_result",
          "data": {
            "text/plain": [
              "24"
            ]
          },
          "metadata": {},
          "execution_count": 20
        }
      ]
    },
    {
      "cell_type": "code",
      "source": [
        "f(tf.Variable(5), tf.Variable(3)) ## Same result"
      ],
      "metadata": {
        "colab": {
          "base_uri": "https://localhost:8080/"
        },
        "id": "ZP4YU_O051Zg",
        "outputId": "2ef1ca23-8cc0-4ae6-f526-cc26279911ef"
      },
      "execution_count": 18,
      "outputs": [
        {
          "output_type": "execute_result",
          "data": {
            "text/plain": [
              "<tf.Tensor: shape=(), dtype=int32, numpy=105>"
            ]
          },
          "metadata": {},
          "execution_count": 18
        }
      ]
    },
    {
      "cell_type": "code",
      "source": [
        "w1, w2 = tf.Variable(5.), tf.Variable(3.)\n",
        "\n",
        "with tf.GradientTape() as tape:\n",
        "  z=f(w1, w2)\n",
        "\n",
        "gradients=tape.gradient(z, [w1, w2])"
      ],
      "metadata": {
        "id": "QUFKjY4_6EJj"
      },
      "execution_count": 21,
      "outputs": []
    },
    {
      "cell_type": "code",
      "source": [
        "gradients"
      ],
      "metadata": {
        "colab": {
          "base_uri": "https://localhost:8080/"
        },
        "id": "5lArRSaC69Lj",
        "outputId": "a06d9e5c-ca75-4893-c9d8-27024316cc3a"
      },
      "execution_count": 22,
      "outputs": [
        {
          "output_type": "execute_result",
          "data": {
            "text/plain": [
              "[<tf.Tensor: shape=(), dtype=float32, numpy=36.0>,\n",
              " <tf.Tensor: shape=(), dtype=float32, numpy=10.0>]"
            ]
          },
          "metadata": {},
          "execution_count": 22
        }
      ]
    },
    {
      "cell_type": "code",
      "source": [
        "def loger(x):\n",
        "  return tf.math.sin(x)"
      ],
      "metadata": {
        "id": "QT4ve8NN8GfU"
      },
      "execution_count": 30,
      "outputs": []
    },
    {
      "cell_type": "code",
      "source": [
        "w3 = tf.Variable(1.)\n",
        "\n",
        "with tf.GradientTape() as tape:\n",
        "  q = loger(w3)\n",
        "\n",
        "grads = tape.gradient(q, [w3])"
      ],
      "metadata": {
        "id": "9TwV4DBp7yZk"
      },
      "execution_count": 31,
      "outputs": []
    },
    {
      "cell_type": "code",
      "source": [
        "grads"
      ],
      "metadata": {
        "colab": {
          "base_uri": "https://localhost:8080/"
        },
        "id": "B1IsYZ5Y8ZIz",
        "outputId": "0a9d3b48-b49c-4ef0-f4c9-2a22971b3715"
      },
      "execution_count": 32,
      "outputs": [
        {
          "output_type": "execute_result",
          "data": {
            "text/plain": [
              "[<tf.Tensor: shape=(), dtype=float32, numpy=0.5403023>]"
            ]
          },
          "metadata": {},
          "execution_count": 32
        }
      ]
    },
    {
      "cell_type": "markdown",
      "source": [
        "## Implement a custom layer that performs Layer Normalization (we will use this type of layer in Chapter 15):"
      ],
      "metadata": {
        "id": "JSOcHgXy395y"
      }
    },
    {
      "cell_type": "code",
      "source": [
        ""
      ],
      "metadata": {
        "id": "z3jxu_AFDjoA"
      },
      "execution_count": null,
      "outputs": []
    },
    {
      "cell_type": "code",
      "source": [
        "## Custom layer\n",
        "class LayerNorm(tf.keras.layers.Layer):\n",
        "\n",
        "  ## Initialization\n",
        "  def __init__(self, **kwargs) -> None:\n",
        "      super().__init__(**kwargs)\n",
        "      # self.units=units\n",
        "\n",
        "  def build(self, input_shape):\n",
        "\n",
        "    alpha_init=tf.ones_initializer()\n",
        "\n",
        "    self.alpha = tf.Variable(initial_value=alpha_init(shape=(input_shape[-1:])), \n",
        "                             trainable=True,\n",
        "                             name='alpha',                             \n",
        "                             dtype=tf.float32)\n",
        "    \n",
        "    beta_init = tf.zeros_initializer()\n",
        "\n",
        "    self.beta = tf.Variable(initial_value=beta_init(shape=(input_shape[-1:])),\n",
        "                            trainable=True,\n",
        "                            dtype=tf.float32,\n",
        "                            name='beta')\n",
        "\n",
        "    super().build(input_shape)\n",
        "\n",
        "  ## Call method\n",
        "  def call(self, X):\n",
        "      mean, var = tf.nn.moments(X, axes=-1, keepdims=True)\n",
        "      sd = tf.sqrt(var)\n",
        "\n",
        "      numerator = (X-mean)\n",
        "      denominator = sd + tf.constant(0.001)\n",
        "\n",
        "      return tf.math.multiply(self.alpha, (numerator/denominator)) + self.beta\n",
        "\n",
        "  # def compute_output_shape(self, input_shape):\n",
        "  #     return input_shape\n",
        "\n",
        "  # def get_config(self):\n",
        "  #     base_config = super().get_config()\n",
        "  #     return {**base_config}\n",
        "\n",
        "    \n",
        "  \n",
        "    \n",
        "\n",
        "    \n",
        "\n"
      ],
      "metadata": {
        "id": "UwevW8Q_35UX"
      },
      "execution_count": 81,
      "outputs": []
    },
    {
      "cell_type": "code",
      "source": [
        "from tensorflow.keras.layers import LayerNormalization"
      ],
      "metadata": {
        "id": "8GjmlAQDNOds"
      },
      "execution_count": 64,
      "outputs": []
    },
    {
      "cell_type": "code",
      "source": [
        "custom_layer = LayerNorm()\n",
        "actual_layer = LayerNormalization()"
      ],
      "metadata": {
        "id": "y1jYhJM4OWDr"
      },
      "execution_count": 85,
      "outputs": []
    },
    {
      "cell_type": "code",
      "source": [
        "sample_matrix = tf.Variable(initial_value=[[1,2], [3,4]], dtype=tf.float32)"
      ],
      "metadata": {
        "id": "KOKQu9y6QkaC"
      },
      "execution_count": 67,
      "outputs": []
    },
    {
      "cell_type": "code",
      "source": [
        "sample_matrix"
      ],
      "metadata": {
        "id": "yVlpe47fQwjm",
        "outputId": "e1ac34a3-33a8-4161-a4c2-ece6370f125e",
        "colab": {
          "base_uri": "https://localhost:8080/"
        }
      },
      "execution_count": 68,
      "outputs": [
        {
          "output_type": "execute_result",
          "data": {
            "text/plain": [
              "<tf.Variable 'Variable:0' shape=(2, 2) dtype=float32, numpy=\n",
              "array([[1., 2.],\n",
              "       [3., 4.]], dtype=float32)>"
            ]
          },
          "metadata": {},
          "execution_count": 68
        }
      ]
    },
    {
      "cell_type": "code",
      "source": [
        "sample_val = tf.constant(2, dtype=tf.float32)"
      ],
      "metadata": {
        "id": "oMq-zvXcQ507"
      },
      "execution_count": 70,
      "outputs": []
    },
    {
      "cell_type": "code",
      "source": [
        "actual_layer(sample_matrix)"
      ],
      "metadata": {
        "id": "PL1Nm3LsQZbU",
        "outputId": "f83b7315-6e70-4aae-d858-790b47ed5f09",
        "colab": {
          "base_uri": "https://localhost:8080/"
        }
      },
      "execution_count": 71,
      "outputs": [
        {
          "output_type": "execute_result",
          "data": {
            "text/plain": [
              "<tf.Tensor: shape=(2, 2), dtype=float32, numpy=\n",
              "array([[-0.99800605,  0.99800605],\n",
              "       [-0.99800605,  0.99800605]], dtype=float32)>"
            ]
          },
          "metadata": {},
          "execution_count": 71
        }
      ]
    },
    {
      "cell_type": "code",
      "source": [
        "custom_layer(sample_matrix)"
      ],
      "metadata": {
        "id": "-i1tZBOCRCsu",
        "outputId": "7594dba9-9659-4f5e-a310-bd108f95f850",
        "colab": {
          "base_uri": "https://localhost:8080/"
        }
      },
      "execution_count": 86,
      "outputs": [
        {
          "output_type": "execute_result",
          "data": {
            "text/plain": [
              "<tf.Tensor: shape=(2, 2), dtype=float32, numpy=\n",
              "array([[-0.998004,  0.998004],\n",
              "       [-0.998004,  0.998004]], dtype=float32)>"
            ]
          },
          "metadata": {},
          "execution_count": 86
        }
      ]
    },
    {
      "cell_type": "code",
      "source": [
        "tf.reduce_mean(tf.losses.mean_absolute_error(custom_layer(sample_matrix), actual_layer(sample_matrix)))"
      ],
      "metadata": {
        "id": "ivIk9pzfM37J",
        "outputId": "079e0d33-cf84-41f0-f933-da1d544b360c",
        "colab": {
          "base_uri": "https://localhost:8080/"
        }
      },
      "execution_count": 87,
      "outputs": [
        {
          "output_type": "execute_result",
          "data": {
            "text/plain": [
              "<tf.Tensor: shape=(), dtype=float32, numpy=2.026558e-06>"
            ]
          },
          "metadata": {},
          "execution_count": 87
        }
      ]
    },
    {
      "cell_type": "markdown",
      "source": [
        ""
      ],
      "metadata": {
        "id": "JjpV7pZgSySa"
      }
    }
  ]
}