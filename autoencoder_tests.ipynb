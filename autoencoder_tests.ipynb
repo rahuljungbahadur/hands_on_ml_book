{
  "nbformat": 4,
  "nbformat_minor": 0,
  "metadata": {
    "colab": {
      "name": "Untitled7.ipynb",
      "provenance": [],
      "authorship_tag": "ABX9TyPnTOcs71L8IPpWUnnmGdIj",
      "include_colab_link": true
    },
    "kernelspec": {
      "name": "python3",
      "display_name": "Python 3"
    },
    "language_info": {
      "name": "python"
    },
    "accelerator": "TPU"
  },
  "cells": [
    {
      "cell_type": "markdown",
      "metadata": {
        "id": "view-in-github",
        "colab_type": "text"
      },
      "source": [
        "<a href=\"https://colab.research.google.com/github/rahuljungbahadur/hands_on_ml_book/blob/main/autoencoder_tests.ipynb\" target=\"_parent\"><img src=\"https://colab.research.google.com/assets/colab-badge.svg\" alt=\"Open In Colab\"/></a>"
      ]
    },
    {
      "cell_type": "code",
      "execution_count": 2,
      "metadata": {
        "id": "1zvicVYHr47G"
      },
      "outputs": [],
      "source": [
        "from tensorflow.keras.datasets import fashion_mnist"
      ]
    },
    {
      "cell_type": "code",
      "source": [
        "from tensorflow.keras.models import Sequential\n",
        "from tensorflow.keras.layers import Dense, Flatten, Reshape"
      ],
      "metadata": {
        "id": "RFESjYopr_oL"
      },
      "execution_count": 3,
      "outputs": []
    },
    {
      "cell_type": "code",
      "source": [
        "(X_train, y_train), (X_test, y_test) = fashion_mnist.load_data()"
      ],
      "metadata": {
        "colab": {
          "base_uri": "https://localhost:8080/"
        },
        "id": "kxVuOR0LsKEc",
        "outputId": "ad5227e9-5853-43d1-8636-b36775f1edb1"
      },
      "execution_count": 4,
      "outputs": [
        {
          "output_type": "stream",
          "name": "stdout",
          "text": [
            "Downloading data from https://storage.googleapis.com/tensorflow/tf-keras-datasets/train-labels-idx1-ubyte.gz\n",
            "32768/29515 [=================================] - 0s 0us/step\n",
            "40960/29515 [=========================================] - 0s 0us/step\n",
            "Downloading data from https://storage.googleapis.com/tensorflow/tf-keras-datasets/train-images-idx3-ubyte.gz\n",
            "26427392/26421880 [==============================] - 0s 0us/step\n",
            "26435584/26421880 [==============================] - 0s 0us/step\n",
            "Downloading data from https://storage.googleapis.com/tensorflow/tf-keras-datasets/t10k-labels-idx1-ubyte.gz\n",
            "16384/5148 [===============================================================================================] - 0s 0us/step\n",
            "Downloading data from https://storage.googleapis.com/tensorflow/tf-keras-datasets/t10k-images-idx3-ubyte.gz\n",
            "4423680/4422102 [==============================] - 0s 0us/step\n",
            "4431872/4422102 [==============================] - 0s 0us/step\n"
          ]
        }
      ]
    },
    {
      "cell_type": "code",
      "source": [
        "import numpy as np\n",
        "import pandas as pd\n",
        "import matplotlib.pyplot as plt"
      ],
      "metadata": {
        "id": "ZUziVEq3sRgH"
      },
      "execution_count": 5,
      "outputs": []
    },
    {
      "cell_type": "code",
      "source": [
        "plt.imshow(X_train[0])"
      ],
      "metadata": {
        "colab": {
          "base_uri": "https://localhost:8080/",
          "height": 283
        },
        "id": "lTneVbgFsPH5",
        "outputId": "1576baae-7a10-4985-c77b-86266c3861b3"
      },
      "execution_count": 6,
      "outputs": [
        {
          "output_type": "execute_result",
          "data": {
            "text/plain": [
              "<matplotlib.image.AxesImage at 0x7f0c3dc8d890>"
            ]
          },
          "metadata": {},
          "execution_count": 6
        },
        {
          "output_type": "display_data",
          "data": {
            "image/png": "[encoded data removed]",
            "text/plain": [
              "<Figure size 432x288 with 1 Axes>"
            ]
          },
          "metadata": {
            "needs_background": "light"
          }
        }
      ]
    },
    {
      "cell_type": "code",
      "source": [
        "X_train[0].shape"
      ],
      "metadata": {
        "colab": {
          "base_uri": "https://localhost:8080/"
        },
        "id": "ZUPla9Q0shWW",
        "outputId": "92e37cdb-245b-4577-b952-a7ed0bba6e05"
      },
      "execution_count": 6,
      "outputs": [
        {
          "output_type": "execute_result",
          "data": {
            "text/plain": [
              "(28, 28)"
            ]
          },
          "metadata": {},
          "execution_count": 6
        }
      ]
    },
    {
      "cell_type": "code",
      "source": [
        "X_train = X_train/255 ## Scaling it to 0 & 1"
      ],
      "metadata": {
        "id": "QwFoi3vDvrSY"
      },
      "execution_count": 7,
      "outputs": []
    },
    {
      "cell_type": "code",
      "source": [
        "model = Sequential()\n",
        "\n",
        "model.add(Flatten(input_shape=[28,28]))\n",
        "\n",
        "model.add(Dense(units=500, activation='relu'))\n",
        "model.add(Dense(units=100, activation='relu'))\n",
        "model.add(Dense(units=50, activation='relu'))\n",
        "model.add(Dense(units=2, activation='relu'))\n",
        "\n",
        "## Decoder\n",
        "model.add(Dense(units=50, activation='relu'))\n",
        "model.add(Dense(units=100, activation='relu'))\n",
        "model.add(Dense(units=500, activation='relu'))\n",
        "model.add(Dense(units=(28*28), activation='sigmoid'))\n",
        "\n",
        "## Reshaping\n",
        "model.add(Reshape(target_shape=[28,28]))\n",
        "\n",
        "model.compile(optimizer='nadam', loss='binary_crossentropy', metrics=['accuracy'])"
      ],
      "metadata": {
        "id": "SkNC_yD-saPr"
      },
      "execution_count": 25,
      "outputs": []
    },
    {
      "cell_type": "code",
      "source": [
        "model.summary()"
      ],
      "metadata": {
        "colab": {
          "base_uri": "https://localhost:8080/"
        },
        "id": "qx7UCvaitSzH",
        "outputId": "57f30490-5747-40e1-b92e-8813b0e42c19"
      },
      "execution_count": 26,
      "outputs": [
        {
          "output_type": "stream",
          "name": "stdout",
          "text": [
            "Model: \"sequential_7\"\n",
            "_________________________________________________________________\n",
            " Layer (type)                Output Shape              Param #   \n",
            "=================================================================\n",
            " flatten_7 (Flatten)         (None, 784)               0         \n",
            "                                                                 \n",
            " dense_55 (Dense)            (None, 500)               392500    \n",
            "                                                                 \n",
            " dense_56 (Dense)            (None, 100)               50100     \n",
            "                                                                 \n",
            " dense_57 (Dense)            (None, 50)                5050      \n",
            "                                                                 \n",
            " dense_58 (Dense)            (None, 2)                 102       \n",
            "                                                                 \n",
            " dense_59 (Dense)            (None, 50)                150       \n",
            "                                                                 \n",
            " dense_60 (Dense)            (None, 100)               5100      \n",
            "                                                                 \n",
            " dense_61 (Dense)            (None, 500)               50500     \n",
            "                                                                 \n",
            " dense_62 (Dense)            (None, 784)               392784    \n",
            "                                                                 \n",
            " reshape_7 (Reshape)         (None, 28, 28)            0         \n",
            "                                                                 \n",
            "=================================================================\n",
            "Total params: 896,286\n",
            "Trainable params: 896,286\n",
            "Non-trainable params: 0\n",
            "_________________________________________________________________\n"
          ]
        }
      ]
    },
    {
      "cell_type": "code",
      "source": [
        "model.fit(x=X_train, y=X_train, epochs=5)"
      ],
      "metadata": {
        "colab": {
          "base_uri": "https://localhost:8080/"
        },
        "id": "rxlbFK4guNLd",
        "outputId": "241fa043-286f-45e8-f890-8977bf66878d"
      },
      "execution_count": 27,
      "outputs": [
        {
          "output_type": "stream",
          "name": "stdout",
          "text": [
            "Epoch 1/5\n",
            "1875/1875 [==============================] - 45s 22ms/step - loss: 0.3527 - accuracy: 0.0808\n",
            "Epoch 2/5\n",
            "1875/1875 [==============================] - 41s 22ms/step - loss: 0.3293 - accuracy: 0.0967\n",
            "Epoch 3/5\n",
            "1875/1875 [==============================] - 41s 22ms/step - loss: 0.3254 - accuracy: 0.1078\n",
            "Epoch 4/5\n",
            "1875/1875 [==============================] - 42s 22ms/step - loss: 0.3231 - accuracy: 0.1163\n",
            "Epoch 5/5\n",
            "1875/1875 [==============================] - 41s 22ms/step - loss: 0.3215 - accuracy: 0.1184\n"
          ]
        },
        {
          "output_type": "execute_result",
          "data": {
            "text/plain": [
              "<keras.callbacks.History at 0x7fadf4df1210>"
            ]
          },
          "metadata": {},
          "execution_count": 27
        }
      ]
    },
    {
      "cell_type": "code",
      "source": [
        "encoder_model = Sequential(model.layers[:5])"
      ],
      "metadata": {
        "id": "lAkjTM9_uu1x"
      },
      "execution_count": 33,
      "outputs": []
    },
    {
      "cell_type": "code",
      "source": [
        "X_train[0].shape"
      ],
      "metadata": {
        "colab": {
          "base_uri": "https://localhost:8080/"
        },
        "id": "EqF2_BnFyWgk",
        "outputId": "9ae97690-34d2-412c-efa9-7674811dd99a"
      },
      "execution_count": 35,
      "outputs": [
        {
          "output_type": "execute_result",
          "data": {
            "text/plain": [
              "(28, 28)"
            ]
          },
          "metadata": {},
          "execution_count": 35
        }
      ]
    },
    {
      "cell_type": "code",
      "source": [
        "output = encoder_model.predict(X_train[:1000])"
      ],
      "metadata": {
        "id": "8y1pzFX5xtaW"
      },
      "execution_count": 38,
      "outputs": []
    },
    {
      "cell_type": "code",
      "source": [
        "import seaborn as sns"
      ],
      "metadata": {
        "id": "WQK5ktaJy3Il"
      },
      "execution_count": 39,
      "outputs": []
    },
    {
      "cell_type": "code",
      "source": [
        "output.shape"
      ],
      "metadata": {
        "colab": {
          "base_uri": "https://localhost:8080/"
        },
        "id": "wm8GL1IfzF2Y",
        "outputId": "cc7f0ead-edf8-40db-8ecb-5901d6b0f877"
      },
      "execution_count": 41,
      "outputs": [
        {
          "output_type": "execute_result",
          "data": {
            "text/plain": [
              "(1000, 2)"
            ]
          },
          "metadata": {},
          "execution_count": 41
        }
      ]
    },
    {
      "cell_type": "code",
      "source": [
        "pdf_clustered = pd.DataFrame(output, columns = ['x1', 'x2'])"
      ],
      "metadata": {
        "id": "-JtJ6Am5zP6v"
      },
      "execution_count": 49,
      "outputs": []
    },
    {
      "cell_type": "code",
      "source": [
        "pdf_clustered['y_val'] = y_train[:1000].astype(str)"
      ],
      "metadata": {
        "id": "Wcdmy9AkzZDR"
      },
      "execution_count": 50,
      "outputs": []
    },
    {
      "cell_type": "code",
      "source": [
        "pdf_clustered"
      ],
      "metadata": {
        "colab": {
          "base_uri": "https://localhost:8080/",
          "height": 423
        },
        "id": "IIBOmCAazgiW",
        "outputId": "aa3a82c2-6789-4c00-f370-a97f39b99eb2"
      },
      "execution_count": 51,
      "outputs": [
        {
          "output_type": "execute_result",
          "data": {
            "text/html": [
              "\n",
              "  <div id=\"df-097767f9-7c5c-4d8e-bdbd-79445a167ca8\">\n",
              "    <div class=\"colab-df-container\">\n",
              "      <div>\n",
              "<style scoped>\n",
              "    .dataframe tbody tr th:only-of-type {\n",
              "        vertical-align: middle;\n",
              "    }\n",
              "\n",
              "    .dataframe tbody tr th {\n",
              "        vertical-align: top;\n",
              "    }\n",
              "\n",
              "    .dataframe thead th {\n",
              "        text-align: right;\n",
              "    }\n",
              "</style>\n",
              "<table border=\"1\" class=\"dataframe\">\n",
              "  <thead>\n",
              "    <tr style=\"text-align: right;\">\n",
              "      <th></th>\n",
              "      <th>x1</th>\n",
              "      <th>x2</th>\n",
              "      <th>y_val</th>\n",
              "    </tr>\n",
              "  </thead>\n",
              "  <tbody>\n",
              "    <tr>\n",
              "      <th>0</th>\n",
              "      <td>4.173638</td>\n",
              "      <td>0.201088</td>\n",
              "      <td>9</td>\n",
              "    </tr>\n",
              "    <tr>\n",
              "      <th>1</th>\n",
              "      <td>6.556414</td>\n",
              "      <td>11.929468</td>\n",
              "      <td>0</td>\n",
              "    </tr>\n",
              "    <tr>\n",
              "      <th>2</th>\n",
              "      <td>5.663191</td>\n",
              "      <td>6.332819</td>\n",
              "      <td>0</td>\n",
              "    </tr>\n",
              "    <tr>\n",
              "      <th>3</th>\n",
              "      <td>4.991687</td>\n",
              "      <td>7.168577</td>\n",
              "      <td>3</td>\n",
              "    </tr>\n",
              "    <tr>\n",
              "      <th>4</th>\n",
              "      <td>11.595124</td>\n",
              "      <td>13.580891</td>\n",
              "      <td>0</td>\n",
              "    </tr>\n",
              "    <tr>\n",
              "      <th>...</th>\n",
              "      <td>...</td>\n",
              "      <td>...</td>\n",
              "      <td>...</td>\n",
              "    </tr>\n",
              "    <tr>\n",
              "      <th>995</th>\n",
              "      <td>5.236145</td>\n",
              "      <td>2.504862</td>\n",
              "      <td>7</td>\n",
              "    </tr>\n",
              "    <tr>\n",
              "      <th>996</th>\n",
              "      <td>8.745876</td>\n",
              "      <td>12.806583</td>\n",
              "      <td>3</td>\n",
              "    </tr>\n",
              "    <tr>\n",
              "      <th>997</th>\n",
              "      <td>3.552237</td>\n",
              "      <td>4.392987</td>\n",
              "      <td>3</td>\n",
              "    </tr>\n",
              "    <tr>\n",
              "      <th>998</th>\n",
              "      <td>4.629232</td>\n",
              "      <td>0.334367</td>\n",
              "      <td>9</td>\n",
              "    </tr>\n",
              "    <tr>\n",
              "      <th>999</th>\n",
              "      <td>0.338027</td>\n",
              "      <td>1.205662</td>\n",
              "      <td>8</td>\n",
              "    </tr>\n",
              "  </tbody>\n",
              "</table>\n",
              "<p>1000 rows × 3 columns</p>\n",
              "</div>\n",
              "      <button class=\"colab-df-convert\" onclick=\"convertToInteractive('df-097767f9-7c5c-4d8e-bdbd-79445a167ca8')\"\n",
              "              title=\"Convert this dataframe to an interactive table.\"\n",
              "              style=\"display:none;\">\n",
              "        \n",
              "  <svg xmlns=\"http://www.w3.org/2000/svg\" height=\"24px\"viewBox=\"0 0 24 24\"\n",
              "       width=\"24px\">\n",
              "    <path d=\"M0 0h24v24H0V0z\" fill=\"none\"/>\n",
              "    <path d=\"M18.56 5.44l.94 2.06.94-2.06 2.06-.94-2.06-.94-.94-2.06-.94 2.06-2.06.94zm-11 1L8.5 8.5l.94-2.06 2.06-.94-2.06-.94L8.5 2.5l-.94 2.06-2.06.94zm10 10l.94 2.06.94-2.06 2.06-.94-2.06-.94-.94-2.06-.94 2.06-2.06.94z\"/><path d=\"M17.41 7.96l-1.37-1.37c-.4-.4-.92-.59-1.43-.59-.52 0-1.04.2-1.43.59L10.3 9.45l-7.72 7.72c-.78.78-.78 2.05 0 2.83L4 21.41c.39.39.9.59 1.41.59.51 0 1.02-.2 1.41-.59l7.78-7.78 2.81-2.81c.8-.78.8-2.07 0-2.86zM5.41 20L4 18.59l7.72-7.72 1.47 1.35L5.41 20z\"/>\n",
              "  </svg>\n",
              "      </button>\n",
              "      \n",
              "  <style>\n",
              "    .colab-df-container {\n",
              "      display:flex;\n",
              "      flex-wrap:wrap;\n",
              "      gap: 12px;\n",
              "    }\n",
              "\n",
              "    .colab-df-convert {\n",
              "      background-color: #E8F0FE;\n",
              "      border: none;\n",
              "      border-radius: 50%;\n",
              "      cursor: pointer;\n",
              "      display: none;\n",
              "      fill: #1967D2;\n",
              "      height: 32px;\n",
              "      padding: 0 0 0 0;\n",
              "      width: 32px;\n",
              "    }\n",
              "\n",
              "    .colab-df-convert:hover {\n",
              "      background-color: #E2EBFA;\n",
              "      box-shadow: 0px 1px 2px rgba(60, 64, 67, 0.3), 0px 1px 3px 1px rgba(60, 64, 67, 0.15);\n",
              "      fill: #174EA6;\n",
              "    }\n",
              "\n",
              "    [theme=dark] .colab-df-convert {\n",
              "      background-color: #3B4455;\n",
              "      fill: #D2E3FC;\n",
              "    }\n",
              "\n",
              "    [theme=dark] .colab-df-convert:hover {\n",
              "      background-color: #434B5C;\n",
              "      box-shadow: 0px 1px 3px 1px rgba(0, 0, 0, 0.15);\n",
              "      filter: drop-shadow(0px 1px 2px rgba(0, 0, 0, 0.3));\n",
              "      fill: #FFFFFF;\n",
              "    }\n",
              "  </style>\n",
              "\n",
              "      <script>\n",
              "        const buttonEl =\n",
              "          document.querySelector('#df-097767f9-7c5c-4d8e-bdbd-79445a167ca8 button.colab-df-convert');\n",
              "        buttonEl.style.display =\n",
              "          google.colab.kernel.accessAllowed ? 'block' : 'none';\n",
              "\n",
              "        async function convertToInteractive(key) {\n",
              "          const element = document.querySelector('#df-097767f9-7c5c-4d8e-bdbd-79445a167ca8');\n",
              "          const dataTable =\n",
              "            await google.colab.kernel.invokeFunction('convertToInteractive',\n",
              "                                                     [key], {});\n",
              "          if (!dataTable) return;\n",
              "\n",
              "          const docLinkHtml = 'Like what you see? Visit the ' +\n",
              "            '<a target=\"_blank\" href=https://colab.research.google.com/notebooks/data_table.ipynb>data table notebook</a>'\n",
              "            + ' to learn more about interactive tables.';\n",
              "          element.innerHTML = '';\n",
              "          dataTable['output_type'] = 'display_data';\n",
              "          await google.colab.output.renderOutput(dataTable, element);\n",
              "          const docLink = document.createElement('div');\n",
              "          docLink.innerHTML = docLinkHtml;\n",
              "          element.appendChild(docLink);\n",
              "        }\n",
              "      </script>\n",
              "    </div>\n",
              "  </div>\n",
              "  "
            ],
            "text/plain": [
              "            x1         x2 y_val\n",
              "0     4.173638   0.201088     9\n",
              "1     6.556414  11.929468     0\n",
              "2     5.663191   6.332819     0\n",
              "3     4.991687   7.168577     3\n",
              "4    11.595124  13.580891     0\n",
              "..         ...        ...   ...\n",
              "995   5.236145   2.504862     7\n",
              "996   8.745876  12.806583     3\n",
              "997   3.552237   4.392987     3\n",
              "998   4.629232   0.334367     9\n",
              "999   0.338027   1.205662     8\n",
              "\n",
              "[1000 rows x 3 columns]"
            ]
          },
          "metadata": {},
          "execution_count": 51
        }
      ]
    },
    {
      "cell_type": "code",
      "source": [
        "sns.scatterplot(x='x1', y='x2', data=pdf_clustered, hue='y_val')"
      ],
      "metadata": {
        "colab": {
          "base_uri": "https://localhost:8080/",
          "height": 297
        },
        "id": "UF4cYMioyEq3",
        "outputId": "ab081c22-0523-42d2-f4ba-c9bbdcc617c7"
      },
      "execution_count": 46,
      "outputs": [
        {
          "output_type": "execute_result",
          "data": {
            "text/plain": [
              "<matplotlib.axes._subplots.AxesSubplot at 0x7fadf4d3c750>"
            ]
          },
          "metadata": {},
          "execution_count": 46
        },
        {
          "output_type": "display_data",
          "data": {
            "image/png": "[encoded data removed]",
            "text/plain": [
              "<Figure size 432x288 with 1 Axes>"
            ]
          },
          "metadata": {
            "needs_background": "light"
          }
        }
      ]
    },
    {
      "cell_type": "code",
      "source": [
        ""
      ],
      "metadata": {
        "id": "Z5PD-Grmymil"
      },
      "execution_count": null,
      "outputs": []
    },
    {
      "cell_type": "code",
      "source": [
        "# load an example dataset\n",
        "\n",
        "data = pdf_clustered\n",
        "# plot the dataset, referencing dataframe column names\n",
        "import altair as alt\n",
        "alt.Chart(data).mark_point().encode(\n",
        "  x='x1',\n",
        "  y='x2',\n",
        "  color='y_val'\n",
        ").interactive()"
      ],
      "metadata": {
        "colab": {
          "base_uri": "https://localhost:8080/",
          "height": 367
        },
        "id": "2wxbyY09z-So",
        "outputId": "9f7edea3-5523-4354-9dac-69a0240738aa"
      },
      "execution_count": 52,
      "outputs": [
        {
          "output_type": "execute_result",
          "data": {
            "text/plain": [
              "alt.Chart(...)"
            ],
            "text/html": [
              "\n",
              "<div id=\"altair-viz-50189c23a87f4964aebb6aaae6f87934\"></div>\n",
              "<script type=\"text/javascript\">\n",
              "  (function(spec, embedOpt){\n",
              "    let outputDiv = document.currentScript.previousElementSibling;\n",
              "    if (outputDiv.id !== \"altair-viz-50189c23a87f4964aebb6aaae6f87934\") {\n",
              "      outputDiv = document.getElementById(\"altair-viz-50189c23a87f4964aebb6aaae6f87934\");\n",
              "    }\n",
              "    const paths = {\n",
              "      \"vega\": \"https://cdn.jsdelivr.net/npm//vega@5?noext\",\n",
              "      \"vega-lib\": \"https://cdn.jsdelivr.net/npm//vega-lib?noext\",\n",
              "      \"vega-lite\": \"https://cdn.jsdelivr.net/npm//vega-lite@4.8.1?noext\",\n",
              "      \"vega-embed\": \"https://cdn.jsdelivr.net/npm//vega-embed@6?noext\",\n",
              "    };\n",
              "\n",
              "    function loadScript(lib) {\n",
              "      return new Promise(function(resolve, reject) {\n",
              "        var s = document.createElement('script');\n",
              "        s.src = paths[lib];\n",
              "        s.async = true;\n",
              "        s.onload = () => resolve(paths[lib]);\n",
              "        s.onerror = () => reject(`Error loading script: ${paths[lib]}`);\n",
              "        document.getElementsByTagName(\"head\")[0].appendChild(s);\n",
              "      });\n",
              "    }\n",
              "\n",
              "    function showError(err) {\n",
              "      outputDiv.innerHTML = `<div class=\"error\" style=\"color:red;\">${err}</div>`;\n",
              "      throw err;\n",
              "    }\n",
              "\n",
              "    function displayChart(vegaEmbed) {\n",
              "      vegaEmbed(outputDiv, spec, embedOpt)\n",
              "        .catch(err => showError(`Javascript Error: ${err.message}<br>This usually means there's a typo in your chart specification. See the javascript console for the full traceback.`));\n",
              "    }\n",
              "\n",
              "    if(typeof define === \"function\" && define.amd) {\n",
              "      requirejs.config({paths});\n",
              "      require([\"vega-embed\"], displayChart, err => showError(`Error loading script: ${err.message}`));\n",
              "    } else if (typeof vegaEmbed === \"function\") {\n",
              "      displayChart(vegaEmbed);\n",
              "    } else {\n",
              "      loadScript(\"vega\")\n",
              "        .then(() => loadScript(\"vega-lite\"))\n",
              "        .then(() => loadScript(\"vega-embed\"))\n",
              "        .catch(showError)\n",
              "        .then(() => displayChart(vegaEmbed));\n",
              "    }\n",
              "  })({\"config\": {\"view\": {\"continuousWidth\": 400, \"continuousHeight\": 300}}, \"data\": {\"name\": \"data-4f4b770305bff08f2ae78e3d5f5bb817\"}, \"mark\": \"point\", \"encoding\": {\"color\": {\"type\": \"nominal\", \"field\": \"y_val\"}, \"x\": {\"type\": \"quantitative\", \"field\": \"x1\"}, \"y\": {\"type\": \"quantitative\", \"field\": \"x2\"}}, \"selection\": {\"selector002\": {\"type\": \"interval\", \"bind\": \"scales\", \"encodings\": [\"x\", \"y\"]}}, \"$schema\": \"https://vega.github.io/schema/vega-lite/v4.8.1.json\", \"datasets\": {\"data-4f4b770305bff08f2ae78e3d5f5bb817\": [{\"x1\": 4.173637866973877, \"x2\": 0.20108820497989655, \"y_val\": \"9\"}, {\"x1\": 6.5564141273498535, \"x2\": 11.929468154907227, \"y_val\": \"0\"}, {\"x1\": 5.663190841674805, \"x2\": 6.33281946182251, \"y_val\": \"0\"}, {\"x1\": 4.991686820983887, \"x2\": 7.168577194213867, \"y_val\": \"3\"}, {\"x1\": 11.595124244689941, \"x2\": 13.580890655517578, \"y_val\": \"0\"}, {\"x1\": 1.9265310764312744, \"x2\": 9.050681114196777, \"y_val\": \"2\"}, {\"x1\": 15.758079528808594, \"x2\": 4.61057710647583, \"y_val\": \"7\"}, {\"x1\": 1.384284496307373, \"x2\": 10.265509605407715, \"y_val\": \"2\"}, {\"x1\": 1.714998722076416, \"x2\": 1.1862057447433472, \"y_val\": \"5\"}, {\"x1\": 2.075000286102295, \"x2\": 0.898170530796051, \"y_val\": \"5\"}, {\"x1\": 5.965578079223633, \"x2\": 10.222301483154297, \"y_val\": \"0\"}, {\"x1\": 1.0959153175354004, \"x2\": 0.19762440025806427, \"y_val\": \"9\"}, {\"x1\": 7.007044315338135, \"x2\": 1.9286344051361084, \"y_val\": \"5\"}, {\"x1\": 7.41330623626709, \"x2\": 2.526268243789673, \"y_val\": \"5\"}, {\"x1\": 24.64971351623535, \"x2\": 9.171826362609863, \"y_val\": \"7\"}, {\"x1\": 7.5953779220581055, \"x2\": 0.49260759353637695, \"y_val\": \"9\"}, {\"x1\": 11.82104206085205, \"x2\": 11.690338134765625, \"y_val\": \"1\"}, {\"x1\": 6.763097763061523, \"x2\": 11.373035430908203, \"y_val\": \"0\"}, {\"x1\": 1.7264492511749268, \"x2\": 9.025647163391113, \"y_val\": \"6\"}, {\"x1\": 2.0271191596984863, \"x2\": 4.844338893890381, \"y_val\": \"4\"}, {\"x1\": 9.604127883911133, \"x2\": 12.458244323730469, \"y_val\": \"3\"}, {\"x1\": 13.529536247253418, \"x2\": 13.02473258972168, \"y_val\": \"1\"}, {\"x1\": 3.2489495277404785, \"x2\": 8.411837577819824, \"y_val\": \"4\"}, {\"x1\": 0.33607226610183716, \"x2\": 1.6132524013519287, \"y_val\": \"8\"}, {\"x1\": 3.418170928955078, \"x2\": 11.564709663391113, \"y_val\": \"4\"}, {\"x1\": 8.557770729064941, \"x2\": 11.955833435058594, \"y_val\": \"3\"}, {\"x1\": 4.744457721710205, \"x2\": 8.787240028381348, \"y_val\": \"0\"}, {\"x1\": 1.8940951824188232, \"x2\": 10.962801933288574, \"y_val\": \"2\"}, {\"x1\": 2.5557632446289062, \"x2\": 8.016021728515625, \"y_val\": \"4\"}, {\"x1\": 2.124563455581665, \"x2\": 10.06815242767334, \"y_val\": \"4\"}, {\"x1\": 35.47616958618164, \"x2\": 15.007558822631836, \"y_val\": \"5\"}, {\"x1\": 7.726736068725586, \"x2\": 8.237964630126953, \"y_val\": \"3\"}, {\"x1\": 1.975635290145874, \"x2\": 8.561993598937988, \"y_val\": \"6\"}, {\"x1\": 1.7715604305267334, \"x2\": 2.937375068664551, \"y_val\": \"6\"}, {\"x1\": 2.419534921646118, \"x2\": 3.5843303203582764, \"y_val\": \"0\"}, {\"x1\": 0.999114453792572, \"x2\": 2.2812297344207764, \"y_val\": \"8\"}, {\"x1\": 1.5337069034576416, \"x2\": 0.7076451182365417, \"y_val\": \"5\"}, {\"x1\": 1.4548139572143555, \"x2\": 5.77800989151001, \"y_val\": \"2\"}, {\"x1\": 27.148374557495117, \"x2\": 21.757545471191406, \"y_val\": \"1\"}, {\"x1\": 3.7514617443084717, \"x2\": 13.16223430633545, \"y_val\": \"6\"}, {\"x1\": 2.1430776119232178, \"x2\": 9.591471672058105, \"y_val\": \"6\"}, {\"x1\": 11.637574195861816, \"x2\": 2.601379871368408, \"y_val\": \"7\"}, {\"x1\": 10.157079696655273, \"x2\": 0.9713625907897949, \"y_val\": \"9\"}, {\"x1\": 7.288304328918457, \"x2\": 2.334941864013672, \"y_val\": \"5\"}, {\"x1\": 1.832392930984497, \"x2\": 0.015974298119544983, \"y_val\": \"9\"}, {\"x1\": 1.8906104564666748, \"x2\": 8.081414222717285, \"y_val\": \"2\"}, {\"x1\": 13.181056022644043, \"x2\": 3.4036011695861816, \"y_val\": \"7\"}, {\"x1\": 8.88171100616455, \"x2\": 12.465991020202637, \"y_val\": \"3\"}, {\"x1\": 5.407512664794922, \"x2\": 9.670339584350586, \"y_val\": \"0\"}, {\"x1\": 8.64664363861084, \"x2\": 12.612030982971191, \"y_val\": \"3\"}, {\"x1\": 11.972930908203125, \"x2\": 13.431228637695312, \"y_val\": \"3\"}, {\"x1\": 9.342808723449707, \"x2\": 11.388006210327148, \"y_val\": \"3\"}, {\"x1\": 13.886556625366211, \"x2\": 3.510260581970215, \"y_val\": \"7\"}, {\"x1\": 2.508913516998291, \"x2\": 12.398600578308105, \"y_val\": \"2\"}, {\"x1\": 2.24078631401062, \"x2\": 5.4284515380859375, \"y_val\": \"2\"}, {\"x1\": 6.393127918243408, \"x2\": 11.328747749328613, \"y_val\": \"6\"}, {\"x1\": 6.142031192779541, \"x2\": 9.934471130371094, \"y_val\": \"6\"}, {\"x1\": 4.8007049560546875, \"x2\": 6.729421138763428, \"y_val\": \"8\"}, {\"x1\": 13.05179214477539, \"x2\": 14.369243621826172, \"y_val\": \"3\"}, {\"x1\": 21.760120391845703, \"x2\": 13.286506652832031, \"y_val\": \"3\"}, {\"x1\": 2.270812749862671, \"x2\": 0.6978349685668945, \"y_val\": \"5\"}, {\"x1\": 4.46074104309082, \"x2\": 8.053537368774414, \"y_val\": \"0\"}, {\"x1\": 6.028512954711914, \"x2\": 2.6032352447509766, \"y_val\": \"5\"}, {\"x1\": 22.073015213012695, \"x2\": 9.570450782775879, \"y_val\": \"5\"}, {\"x1\": 7.42855978012085, \"x2\": 10.691019058227539, \"y_val\": \"0\"}, {\"x1\": 1.5079798698425293, \"x2\": 9.031166076660156, \"y_val\": \"2\"}, {\"x1\": 6.8122663497924805, \"x2\": 12.145147323608398, \"y_val\": \"0\"}, {\"x1\": 6.252103805541992, \"x2\": 8.583457946777344, \"y_val\": \"0\"}, {\"x1\": 1.8701245784759521, \"x2\": 7.78573751449585, \"y_val\": \"4\"}, {\"x1\": 17.769948959350586, \"x2\": 12.782723426818848, \"y_val\": \"1\"}, {\"x1\": 3.7781362533569336, \"x2\": 10.333541870117188, \"y_val\": \"3\"}, {\"x1\": 18.01841163635254, \"x2\": 16.11478042602539, \"y_val\": \"1\"}, {\"x1\": 4.51857852935791, \"x2\": 7.148523807525635, \"y_val\": \"6\"}, {\"x1\": 12.602686882019043, \"x2\": 14.210391998291016, \"y_val\": \"3\"}, {\"x1\": 22.285200119018555, \"x2\": 17.909591674804688, \"y_val\": \"1\"}, {\"x1\": 4.784949779510498, \"x2\": 12.422995567321777, \"y_val\": \"4\"}, {\"x1\": 6.495368957519531, \"x2\": 9.496797561645508, \"y_val\": \"4\"}, {\"x1\": 0.9145533442497253, \"x2\": 6.436621189117432, \"y_val\": \"6\"}, {\"x1\": 19.312149047851562, \"x2\": 14.872293472290039, \"y_val\": \"1\"}, {\"x1\": 2.793488025665283, \"x2\": 0.3414505124092102, \"y_val\": \"9\"}, {\"x1\": 18.954471588134766, \"x2\": 17.00034523010254, \"y_val\": \"1\"}, {\"x1\": 6.542079925537109, \"x2\": 7.003120422363281, \"y_val\": \"3\"}, {\"x1\": 2.2938623428344727, \"x2\": 1.1379966735839844, \"y_val\": \"5\"}, {\"x1\": 18.052518844604492, \"x2\": 4.755981922149658, \"y_val\": \"7\"}, {\"x1\": 2.122313976287842, \"x2\": 0.09666119515895844, \"y_val\": \"9\"}, {\"x1\": 8.913971900939941, \"x2\": 2.1662070751190186, \"y_val\": \"7\"}, {\"x1\": 17.31396484375, \"x2\": 15.668241500854492, \"y_val\": \"1\"}, {\"x1\": 17.388517379760742, \"x2\": 5.991515636444092, \"y_val\": \"7\"}, {\"x1\": 0.9510577321052551, \"x2\": 0.0, \"y_val\": \"9\"}, {\"x1\": 8.635674476623535, \"x2\": 1.2862985134124756, \"y_val\": \"9\"}, {\"x1\": 4.2406816482543945, \"x2\": 0.7981032133102417, \"y_val\": \"9\"}, {\"x1\": 8.254303932189941, \"x2\": 8.731075286865234, \"y_val\": \"3\"}, {\"x1\": 1.6845834255218506, \"x2\": 4.596577167510986, \"y_val\": \"2\"}, {\"x1\": 10.279582023620605, \"x2\": 1.2744065523147583, \"y_val\": \"9\"}, {\"x1\": 7.61407470703125, \"x2\": 10.666707992553711, \"y_val\": \"3\"}, {\"x1\": 2.0629382133483887, \"x2\": 7.051694393157959, \"y_val\": \"6\"}, {\"x1\": 2.755265712738037, \"x2\": 4.210527420043945, \"y_val\": \"4\"}, {\"x1\": 30.200849533081055, \"x2\": 22.64679527282715, \"y_val\": \"1\"}, {\"x1\": 8.026204109191895, \"x2\": 10.394903182983398, \"y_val\": \"1\"}, {\"x1\": 0.4731370508670807, \"x2\": 1.700120210647583, \"y_val\": \"8\"}, {\"x1\": 0.6532058119773865, \"x2\": 2.581186294555664, \"y_val\": \"8\"}, {\"x1\": 6.690891265869141, \"x2\": 9.796297073364258, \"y_val\": \"0\"}, {\"x1\": 27.53715705871582, \"x2\": 19.18674659729004, \"y_val\": \"1\"}, {\"x1\": 29.860300064086914, \"x2\": 21.331485748291016, \"y_val\": \"1\"}, {\"x1\": 1.8931686878204346, \"x2\": 6.549631595611572, \"y_val\": \"6\"}, {\"x1\": 0.27350789308547974, \"x2\": 1.0695680379867554, \"y_val\": \"8\"}, {\"x1\": 18.399946212768555, \"x2\": 16.398475646972656, \"y_val\": \"1\"}, {\"x1\": 8.234050750732422, \"x2\": 0.9212137460708618, \"y_val\": \"9\"}, {\"x1\": 16.20368766784668, \"x2\": 3.937330722808838, \"y_val\": \"7\"}, {\"x1\": 0.11504215002059937, \"x2\": 1.273645281791687, \"y_val\": \"8\"}, {\"x1\": 0.16996879875659943, \"x2\": 0.9310455322265625, \"y_val\": \"8\"}, {\"x1\": 5.9457011222839355, \"x2\": 1.2630115747451782, \"y_val\": \"9\"}, {\"x1\": 2.846294403076172, \"x2\": 9.498820304870605, \"y_val\": \"6\"}, {\"x1\": 5.785242080688477, \"x2\": 7.3492302894592285, \"y_val\": \"6\"}, {\"x1\": 8.380026817321777, \"x2\": 9.22380542755127, \"y_val\": \"3\"}, {\"x1\": 13.489333152770996, \"x2\": 10.59722900390625, \"y_val\": \"1\"}, {\"x1\": 1.6959078311920166, \"x2\": 0.8839566707611084, \"y_val\": \"5\"}, {\"x1\": 1.237682819366455, \"x2\": 6.704362392425537, \"y_val\": \"4\"}, {\"x1\": 1.9818315505981445, \"x2\": 5.29630708694458, \"y_val\": \"6\"}, {\"x1\": 25.489234924316406, \"x2\": 8.096619606018066, \"y_val\": \"7\"}, {\"x1\": 6.306399345397949, \"x2\": 2.754737615585327, \"y_val\": \"5\"}, {\"x1\": 7.375410556793213, \"x2\": 2.4514853954315186, \"y_val\": \"5\"}, {\"x1\": 4.689371109008789, \"x2\": 0.18071617186069489, \"y_val\": \"9\"}, {\"x1\": 1.8116223812103271, \"x2\": 5.470465183258057, \"y_val\": \"2\"}, {\"x1\": 1.8203449249267578, \"x2\": 10.373417854309082, \"y_val\": \"2\"}, {\"x1\": 2.2153942584991455, \"x2\": 8.125467300415039, \"y_val\": \"2\"}, {\"x1\": 15.199749946594238, \"x2\": 4.041088581085205, \"y_val\": \"7\"}, {\"x1\": 4.371779441833496, \"x2\": 6.887429714202881, \"y_val\": \"6\"}, {\"x1\": 4.533961296081543, \"x2\": 13.652585983276367, \"y_val\": \"4\"}, {\"x1\": 16.858858108520508, \"x2\": 14.401034355163574, \"y_val\": \"1\"}, {\"x1\": 0.5446593761444092, \"x2\": 1.166296124458313, \"y_val\": \"8\"}, {\"x1\": 28.714731216430664, \"x2\": 10.203359603881836, \"y_val\": \"7\"}, {\"x1\": 18.22147560119629, \"x2\": 5.493448734283447, \"y_val\": \"7\"}, {\"x1\": 4.3674397468566895, \"x2\": 2.0103542804718018, \"y_val\": \"5\"}, {\"x1\": 2.2762632369995117, \"x2\": 6.346731662750244, \"y_val\": \"4\"}, {\"x1\": 2.130171060562134, \"x2\": 10.684171676635742, \"y_val\": \"2\"}, {\"x1\": 1.0693966150283813, \"x2\": 0.25218820571899414, \"y_val\": \"9\"}, {\"x1\": 15.14503002166748, \"x2\": 12.299880027770996, \"y_val\": \"1\"}, {\"x1\": 21.78163719177246, \"x2\": 7.510337829589844, \"y_val\": \"7\"}, {\"x1\": 2.7003021240234375, \"x2\": 11.24842357635498, \"y_val\": \"4\"}, {\"x1\": 2.540907382965088, \"x2\": 8.349183082580566, \"y_val\": \"6\"}, {\"x1\": 11.719945907592773, \"x2\": 2.3084352016448975, \"y_val\": \"9\"}, {\"x1\": 7.111017227172852, \"x2\": 1.201538324356079, \"y_val\": \"7\"}, {\"x1\": 17.4305362701416, \"x2\": 16.120826721191406, \"y_val\": \"1\"}, {\"x1\": 0.15114279091358185, \"x2\": 1.3516637086868286, \"y_val\": \"8\"}, {\"x1\": 16.933225631713867, \"x2\": 6.329624652862549, \"y_val\": \"7\"}, {\"x1\": 17.66847801208496, \"x2\": 14.23721694946289, \"y_val\": \"1\"}, {\"x1\": 2.6170265674591064, \"x2\": 10.382352828979492, \"y_val\": \"2\"}, {\"x1\": 0.6229532957077026, \"x2\": 1.0960016250610352, \"y_val\": \"8\"}, {\"x1\": 5.932764530181885, \"x2\": 10.297040939331055, \"y_val\": \"0\"}, {\"x1\": 1.5112004280090332, \"x2\": 0.35023513436317444, \"y_val\": \"9\"}, {\"x1\": 11.12247371673584, \"x2\": 13.631695747375488, \"y_val\": \"1\"}, {\"x1\": 0.5502405166625977, \"x2\": 1.069150447845459, \"y_val\": \"8\"}, {\"x1\": 10.224186897277832, \"x2\": 2.1874265670776367, \"y_val\": \"7\"}, {\"x1\": 6.763155937194824, \"x2\": 12.361452102661133, \"y_val\": \"0\"}, {\"x1\": 8.514904975891113, \"x2\": 3.4707634449005127, \"y_val\": \"5\"}, {\"x1\": 0.4570233225822449, \"x2\": 2.5892434120178223, \"y_val\": \"8\"}, {\"x1\": 1.0326800346374512, \"x2\": 7.997857570648193, \"y_val\": \"6\"}, {\"x1\": 17.404932022094727, \"x2\": 5.466506004333496, \"y_val\": \"7\"}, {\"x1\": 2.955685615539551, \"x2\": 11.683902740478516, \"y_val\": \"2\"}, {\"x1\": 9.416646003723145, \"x2\": 11.608558654785156, \"y_val\": \"0\"}, {\"x1\": 0.46097952127456665, \"x2\": 1.1866816282272339, \"y_val\": \"8\"}, {\"x1\": 15.380745887756348, \"x2\": 3.9391400814056396, \"y_val\": \"7\"}, {\"x1\": 20.66290855407715, \"x2\": 16.951608657836914, \"y_val\": \"1\"}, {\"x1\": 4.3209638595581055, \"x2\": 6.820040225982666, \"y_val\": \"6\"}, {\"x1\": 1.3072377443313599, \"x2\": 5.093215465545654, \"y_val\": \"2\"}, {\"x1\": 1.518610954284668, \"x2\": 5.072788715362549, \"y_val\": \"1\"}, {\"x1\": 12.722579002380371, \"x2\": 2.2987446784973145, \"y_val\": \"9\"}, {\"x1\": 5.637677192687988, \"x2\": 11.003055572509766, \"y_val\": \"6\"}, {\"x1\": 2.2253029346466064, \"x2\": 9.729595184326172, \"y_val\": \"0\"}, {\"x1\": 22.4356746673584, \"x2\": 18.89789581298828, \"y_val\": \"1\"}, {\"x1\": 7.576418876647949, \"x2\": 13.534149169921875, \"y_val\": \"0\"}, {\"x1\": 1.654646396636963, \"x2\": 0.9597480893135071, \"y_val\": \"5\"}, {\"x1\": 1.9830498695373535, \"x2\": 1.1271167993545532, \"y_val\": \"5\"}, {\"x1\": 18.283475875854492, \"x2\": 16.323537826538086, \"y_val\": \"1\"}, {\"x1\": 13.722088813781738, \"x2\": 3.091379404067993, \"y_val\": \"7\"}, {\"x1\": 6.525285720825195, \"x2\": 11.856127738952637, \"y_val\": \"0\"}, {\"x1\": 4.718462944030762, \"x2\": 1.0950289964675903, \"y_val\": \"5\"}, {\"x1\": 0.32008156180381775, \"x2\": 1.224131464958191, \"y_val\": \"8\"}, {\"x1\": 2.7664294242858887, \"x2\": 10.948410034179688, \"y_val\": \"4\"}, {\"x1\": 4.574271202087402, \"x2\": 8.218344688415527, \"y_val\": \"0\"}, {\"x1\": 4.226503372192383, \"x2\": 13.119438171386719, \"y_val\": \"4\"}, {\"x1\": 0.812140941619873, \"x2\": 1.0515811443328857, \"y_val\": \"0\"}, {\"x1\": 1.9399800300598145, \"x2\": 5.281940937042236, \"y_val\": \"6\"}, {\"x1\": 1.7436163425445557, \"x2\": 7.439389705657959, \"y_val\": \"6\"}, {\"x1\": 2.0293972492218018, \"x2\": 8.097025871276855, \"y_val\": \"4\"}, {\"x1\": 10.987296104431152, \"x2\": 12.846986770629883, \"y_val\": \"0\"}, {\"x1\": 3.559952735900879, \"x2\": 5.786853790283203, \"y_val\": \"0\"}, {\"x1\": 2.008784770965576, \"x2\": 9.359708786010742, \"y_val\": \"4\"}, {\"x1\": 15.042798042297363, \"x2\": 3.8515818119049072, \"y_val\": \"7\"}, {\"x1\": 7.844728469848633, \"x2\": 11.461484909057617, \"y_val\": \"3\"}, {\"x1\": 7.466073036193848, \"x2\": 12.316156387329102, \"y_val\": \"0\"}, {\"x1\": 2.956158399581909, \"x2\": 1.0593775510787964, \"y_val\": \"5\"}, {\"x1\": 0.18647156655788422, \"x2\": 0.7423227429389954, \"y_val\": \"8\"}, {\"x1\": 2.624903440475464, \"x2\": 9.33968734741211, \"y_val\": \"4\"}, {\"x1\": 17.8159236907959, \"x2\": 13.68270492553711, \"y_val\": \"1\"}, {\"x1\": 25.459365844726562, \"x2\": 20.015949249267578, \"y_val\": \"1\"}, {\"x1\": 0.9113102555274963, \"x2\": 9.664395332336426, \"y_val\": \"2\"}, {\"x1\": 4.1765851974487305, \"x2\": 0.8763549327850342, \"y_val\": \"9\"}, {\"x1\": 1.5776126384735107, \"x2\": 8.139265060424805, \"y_val\": \"2\"}, {\"x1\": 7.262331008911133, \"x2\": 7.7573747634887695, \"y_val\": \"8\"}, {\"x1\": 12.16092586517334, \"x2\": 3.971198558807373, \"y_val\": \"5\"}, {\"x1\": 2.6794135570526123, \"x2\": 3.8981964588165283, \"y_val\": \"0\"}, {\"x1\": 1.9978272914886475, \"x2\": 8.672343254089355, \"y_val\": \"6\"}, {\"x1\": 1.9148361682891846, \"x2\": 8.163361549377441, \"y_val\": \"3\"}, {\"x1\": 2.235144853591919, \"x2\": 8.973408699035645, \"y_val\": \"4\"}, {\"x1\": 5.132753372192383, \"x2\": 9.178167343139648, \"y_val\": \"6\"}, {\"x1\": 3.6044468879699707, \"x2\": 5.607120990753174, \"y_val\": \"0\"}, {\"x1\": 4.196038246154785, \"x2\": 0.4067588448524475, \"y_val\": \"9\"}, {\"x1\": 21.06502342224121, \"x2\": 14.961654663085938, \"y_val\": \"1\"}, {\"x1\": 18.952280044555664, \"x2\": 6.823709011077881, \"y_val\": \"7\"}, {\"x1\": 8.737789154052734, \"x2\": 10.329774856567383, \"y_val\": \"3\"}, {\"x1\": 0.8737788796424866, \"x2\": 2.4389030933380127, \"y_val\": \"8\"}, {\"x1\": 2.320841073989868, \"x2\": 0.7609725594520569, \"y_val\": \"5\"}, {\"x1\": 0.9375215172767639, \"x2\": 2.6645944118499756, \"y_val\": \"8\"}, {\"x1\": 5.327538967132568, \"x2\": 6.794633388519287, \"y_val\": \"3\"}, {\"x1\": 0.007004261016845703, \"x2\": 1.8268001079559326, \"y_val\": \"8\"}, {\"x1\": 5.556333541870117, \"x2\": 1.6484748125076294, \"y_val\": \"5\"}, {\"x1\": 0.8545960783958435, \"x2\": 7.798414707183838, \"y_val\": \"2\"}, {\"x1\": 5.687017440795898, \"x2\": 9.394233703613281, \"y_val\": \"0\"}, {\"x1\": 0.258871853351593, \"x2\": 2.409424066543579, \"y_val\": \"8\"}, {\"x1\": 9.086796760559082, \"x2\": 1.6022456884384155, \"y_val\": \"7\"}, {\"x1\": 10.057332038879395, \"x2\": 12.519786834716797, \"y_val\": \"0\"}, {\"x1\": 9.933650970458984, \"x2\": 10.612709045410156, \"y_val\": \"3\"}, {\"x1\": 4.969408988952637, \"x2\": 1.0642510652542114, \"y_val\": \"5\"}, {\"x1\": 7.395872116088867, \"x2\": 13.14430046081543, \"y_val\": \"0\"}, {\"x1\": 0.11909537017345428, \"x2\": 1.4242902994155884, \"y_val\": \"6\"}, {\"x1\": 4.937936782836914, \"x2\": 0.552416205406189, \"y_val\": \"5\"}, {\"x1\": 2.7923531532287598, \"x2\": 10.332733154296875, \"y_val\": \"2\"}, {\"x1\": 16.880495071411133, \"x2\": 5.35916805267334, \"y_val\": \"7\"}, {\"x1\": 6.005505084991455, \"x2\": 2.438344717025757, \"y_val\": \"5\"}, {\"x1\": 1.457139492034912, \"x2\": 7.910480499267578, \"y_val\": \"2\"}, {\"x1\": 5.758619785308838, \"x2\": 9.773643493652344, \"y_val\": \"6\"}, {\"x1\": 0.5480552911758423, \"x2\": 1.8871421813964844, \"y_val\": \"8\"}, {\"x1\": 1.3953783512115479, \"x2\": 9.433219909667969, \"y_val\": \"2\"}, {\"x1\": 1.6429967880249023, \"x2\": 6.4418487548828125, \"y_val\": \"6\"}, {\"x1\": 0.7735847234725952, \"x2\": 1.0942461490631104, \"y_val\": \"8\"}, {\"x1\": 7.385621070861816, \"x2\": 14.1802978515625, \"y_val\": \"0\"}, {\"x1\": 2.0451571941375732, \"x2\": 9.203533172607422, \"y_val\": \"4\"}, {\"x1\": 3.1104230880737305, \"x2\": 8.964529037475586, \"y_val\": \"4\"}, {\"x1\": 3.4170706272125244, \"x2\": 10.39687728881836, \"y_val\": \"4\"}, {\"x1\": 2.32391357421875, \"x2\": 11.119627952575684, \"y_val\": \"4\"}, {\"x1\": 2.8728883266448975, \"x2\": 11.148571968078613, \"y_val\": \"4\"}, {\"x1\": 9.906020164489746, \"x2\": 13.348031997680664, \"y_val\": \"1\"}, {\"x1\": 5.114116191864014, \"x2\": 1.2964216470718384, \"y_val\": \"5\"}, {\"x1\": 8.00799560546875, \"x2\": 12.979911804199219, \"y_val\": \"6\"}, {\"x1\": 3.195405960083008, \"x2\": 0.5013907551765442, \"y_val\": \"5\"}, {\"x1\": 14.464451789855957, \"x2\": 8.818607330322266, \"y_val\": \"3\"}, {\"x1\": 12.698979377746582, \"x2\": 14.235280990600586, \"y_val\": \"3\"}, {\"x1\": 8.20930290222168, \"x2\": 1.3270647525787354, \"y_val\": \"7\"}, {\"x1\": 15.302474021911621, \"x2\": 9.325576782226562, \"y_val\": \"3\"}, {\"x1\": 3.4612464904785156, \"x2\": 4.728076934814453, \"y_val\": \"3\"}, {\"x1\": 1.3112657070159912, \"x2\": 5.403123378753662, \"y_val\": \"6\"}, {\"x1\": 1.64854097366333, \"x2\": 8.615804672241211, \"y_val\": \"2\"}, {\"x1\": 0.7832840085029602, \"x2\": 2.713674306869507, \"y_val\": \"8\"}, {\"x1\": 3.4088990688323975, \"x2\": 10.20309829711914, \"y_val\": \"4\"}, {\"x1\": 3.417941093444824, \"x2\": 5.497316837310791, \"y_val\": \"6\"}, {\"x1\": 7.482666492462158, \"x2\": 2.8039815425872803, \"y_val\": \"5\"}, {\"x1\": 7.390915870666504, \"x2\": 1.0522679090499878, \"y_val\": \"9\"}, {\"x1\": 23.44904136657715, \"x2\": 14.006389617919922, \"y_val\": \"3\"}, {\"x1\": 2.7200775146484375, \"x2\": 7.909409046173096, \"y_val\": \"2\"}, {\"x1\": 3.3271031379699707, \"x2\": 8.665349006652832, \"y_val\": \"3\"}, {\"x1\": 2.188508987426758, \"x2\": 7.323026180267334, \"y_val\": \"2\"}, {\"x1\": 1.9525158405303955, \"x2\": 10.960620880126953, \"y_val\": \"4\"}, {\"x1\": 2.518221139907837, \"x2\": 11.365015029907227, \"y_val\": \"4\"}, {\"x1\": 0.03709021210670471, \"x2\": 1.7027053833007812, \"y_val\": \"8\"}, {\"x1\": 1.553551197052002, \"x2\": 10.02454948425293, \"y_val\": \"2\"}, {\"x1\": 3.8097000122070312, \"x2\": 0.774605929851532, \"y_val\": \"5\"}, {\"x1\": 9.853718757629395, \"x2\": 13.512669563293457, \"y_val\": \"3\"}, {\"x1\": 1.3096399307250977, \"x2\": 9.685009002685547, \"y_val\": \"0\"}, {\"x1\": 11.061524391174316, \"x2\": 3.4056637287139893, \"y_val\": \"7\"}, {\"x1\": 3.3571317195892334, \"x2\": 11.75961685180664, \"y_val\": \"2\"}, {\"x1\": 6.933526515960693, \"x2\": 12.13296890258789, \"y_val\": \"0\"}, {\"x1\": 2.20661997795105, \"x2\": 11.007156372070312, \"y_val\": \"2\"}, {\"x1\": 1.3072421550750732, \"x2\": 1.0435799360275269, \"y_val\": \"5\"}, {\"x1\": 16.202796936035156, \"x2\": 3.4100306034088135, \"y_val\": \"7\"}, {\"x1\": 2.6035428047180176, \"x2\": 10.704562187194824, \"y_val\": \"2\"}, {\"x1\": 5.005455017089844, \"x2\": 5.7685418128967285, \"y_val\": \"3\"}, {\"x1\": 16.559886932373047, \"x2\": 12.14689826965332, \"y_val\": \"1\"}, {\"x1\": 23.517473220825195, \"x2\": 7.71439266204834, \"y_val\": \"7\"}, {\"x1\": 1.2975132465362549, \"x2\": 2.330078363418579, \"y_val\": \"6\"}, {\"x1\": 2.219318389892578, \"x2\": 11.372478485107422, \"y_val\": \"2\"}, {\"x1\": 5.567622661590576, \"x2\": 1.6262744665145874, \"y_val\": \"9\"}, {\"x1\": 23.051748275756836, \"x2\": 18.742734909057617, \"y_val\": \"1\"}, {\"x1\": 3.560407876968384, \"x2\": 0.4885371923446655, \"y_val\": \"9\"}, {\"x1\": 22.59505271911621, \"x2\": 19.562475204467773, \"y_val\": \"1\"}, {\"x1\": 7.751145839691162, \"x2\": 8.619062423706055, \"y_val\": \"1\"}, {\"x1\": 7.972084999084473, \"x2\": 11.996404647827148, \"y_val\": \"8\"}, {\"x1\": 8.879225730895996, \"x2\": 2.59722638130188, \"y_val\": \"7\"}, {\"x1\": 0.3950951397418976, \"x2\": 7.8565144538879395, \"y_val\": \"8\"}, {\"x1\": 1.477259874343872, \"x2\": 9.339115142822266, \"y_val\": \"4\"}, {\"x1\": 1.871478796005249, \"x2\": 6.156714916229248, \"y_val\": \"2\"}, {\"x1\": 3.162071943283081, \"x2\": 5.441238880157471, \"y_val\": \"6\"}, {\"x1\": 1.9227421283721924, \"x2\": 4.6641364097595215, \"y_val\": \"6\"}, {\"x1\": 8.978804588317871, \"x2\": 2.9821279048919678, \"y_val\": \"7\"}, {\"x1\": 7.945852756500244, \"x2\": 0.25470417737960815, \"y_val\": \"9\"}, {\"x1\": 1.7270169258117676, \"x2\": 4.3667731285095215, \"y_val\": \"4\"}, {\"x1\": 2.174273729324341, \"x2\": 10.143518447875977, \"y_val\": \"6\"}, {\"x1\": 25.614713668823242, \"x2\": 20.22747230529785, \"y_val\": \"1\"}, {\"x1\": 2.4990344047546387, \"x2\": 0.47596198320388794, \"y_val\": \"9\"}, {\"x1\": 3.8018696308135986, \"x2\": 1.7364755868911743, \"y_val\": \"5\"}, {\"x1\": 2.0027899742126465, \"x2\": 10.60024356842041, \"y_val\": \"6\"}, {\"x1\": 4.03365421295166, \"x2\": 7.32680082321167, \"y_val\": \"0\"}, {\"x1\": 2.092325210571289, \"x2\": 1.1956785917282104, \"y_val\": \"5\"}, {\"x1\": 7.408385276794434, \"x2\": 12.69273567199707, \"y_val\": \"0\"}, {\"x1\": 14.903162956237793, \"x2\": 10.307926177978516, \"y_val\": \"1\"}, {\"x1\": 2.0082497596740723, \"x2\": 10.197239875793457, \"y_val\": \"6\"}, {\"x1\": 17.678110122680664, \"x2\": 14.484247207641602, \"y_val\": \"1\"}, {\"x1\": 26.75828742980957, \"x2\": 19.865999221801758, \"y_val\": \"1\"}, {\"x1\": 1.732121229171753, \"x2\": 8.256072998046875, \"y_val\": \"6\"}, {\"x1\": 22.77043914794922, \"x2\": 6.6831841468811035, \"y_val\": \"7\"}, {\"x1\": 1.5361027717590332, \"x2\": 10.780729293823242, \"y_val\": \"4\"}, {\"x1\": 0.5973199605941772, \"x2\": 7.50977087020874, \"y_val\": \"4\"}, {\"x1\": 5.910266876220703, \"x2\": 6.894133567810059, \"y_val\": \"8\"}, {\"x1\": 1.9950706958770752, \"x2\": 9.33989429473877, \"y_val\": \"6\"}, {\"x1\": 7.1326799392700195, \"x2\": 10.088380813598633, \"y_val\": \"4\"}, {\"x1\": 1.780958652496338, \"x2\": 7.768715858459473, \"y_val\": \"6\"}, {\"x1\": 14.834687232971191, \"x2\": 3.414423704147339, \"y_val\": \"9\"}, {\"x1\": 4.447265625, \"x2\": 9.61771011352539, \"y_val\": \"3\"}, {\"x1\": 16.428403854370117, \"x2\": 4.628137588500977, \"y_val\": \"7\"}, {\"x1\": 12.703246116638184, \"x2\": 5.5781989097595215, \"y_val\": \"5\"}, {\"x1\": 6.118332862854004, \"x2\": 10.175705909729004, \"y_val\": \"0\"}, {\"x1\": 0.49994519352912903, \"x2\": 1.1243606805801392, \"y_val\": \"8\"}, {\"x1\": 8.961750030517578, \"x2\": 11.536455154418945, \"y_val\": \"3\"}, {\"x1\": 4.095889568328857, \"x2\": 10.48593521118164, \"y_val\": \"4\"}, {\"x1\": 3.3716108798980713, \"x2\": 5.087771415710449, \"y_val\": \"0\"}, {\"x1\": 8.82082748413086, \"x2\": 9.495777130126953, \"y_val\": \"3\"}, {\"x1\": 4.51506233215332, \"x2\": 5.055612087249756, \"y_val\": \"3\"}, {\"x1\": 2.907609462738037, \"x2\": 11.8450345993042, \"y_val\": \"2\"}, {\"x1\": 7.66657829284668, \"x2\": 13.258130073547363, \"y_val\": \"0\"}, {\"x1\": 32.26718521118164, \"x2\": 23.22005271911621, \"y_val\": \"1\"}, {\"x1\": 5.826319694519043, \"x2\": 10.526300430297852, \"y_val\": \"0\"}, {\"x1\": 9.980167388916016, \"x2\": 11.086409568786621, \"y_val\": \"3\"}, {\"x1\": 0.9712960124015808, \"x2\": 2.5941412448883057, \"y_val\": \"8\"}, {\"x1\": 8.796483993530273, \"x2\": 11.413433074951172, \"y_val\": \"3\"}, {\"x1\": 1.7872533798217773, \"x2\": 0.0, \"y_val\": \"9\"}, {\"x1\": 7.336809158325195, \"x2\": 10.57170295715332, \"y_val\": \"1\"}, {\"x1\": 9.23709774017334, \"x2\": 1.2190821170806885, \"y_val\": \"9\"}, {\"x1\": 5.953609466552734, \"x2\": 10.350711822509766, \"y_val\": \"0\"}, {\"x1\": 2.192176580429077, \"x2\": 3.101935625076294, \"y_val\": \"4\"}, {\"x1\": 17.35683822631836, \"x2\": 4.508454322814941, \"y_val\": \"7\"}, {\"x1\": 13.304917335510254, \"x2\": 4.16455602645874, \"y_val\": \"7\"}, {\"x1\": 0.43399500846862793, \"x2\": 0.7193102240562439, \"y_val\": \"8\"}, {\"x1\": 6.481399059295654, \"x2\": 2.179194927215576, \"y_val\": \"5\"}, {\"x1\": 3.0107381343841553, \"x2\": 8.759511947631836, \"y_val\": \"6\"}, {\"x1\": 1.8346898555755615, \"x2\": 0.8946703672409058, \"y_val\": \"5\"}, {\"x1\": 3.3859593868255615, \"x2\": 6.004459857940674, \"y_val\": \"6\"}, {\"x1\": 6.3567423820495605, \"x2\": 10.062789916992188, \"y_val\": \"8\"}, {\"x1\": 1.6849377155303955, \"x2\": 4.535635471343994, \"y_val\": \"2\"}, {\"x1\": 6.429372787475586, \"x2\": 3.2899038791656494, \"y_val\": \"5\"}, {\"x1\": 4.392694473266602, \"x2\": 12.842336654663086, \"y_val\": \"2\"}, {\"x1\": 9.268453598022461, \"x2\": 9.97195053100586, \"y_val\": \"3\"}, {\"x1\": 18.85264778137207, \"x2\": 13.360014915466309, \"y_val\": \"1\"}, {\"x1\": 3.6212196350097656, \"x2\": 7.342221736907959, \"y_val\": \"6\"}, {\"x1\": 3.883526086807251, \"x2\": 6.984583377838135, \"y_val\": \"0\"}, {\"x1\": 10.258727073669434, \"x2\": 1.90273118019104, \"y_val\": \"7\"}, {\"x1\": 1.111161470413208, \"x2\": 2.9767520427703857, \"y_val\": \"8\"}, {\"x1\": 17.955772399902344, \"x2\": 5.1574859619140625, \"y_val\": \"7\"}, {\"x1\": 0.7861726880073547, \"x2\": 2.3798415660858154, \"y_val\": \"8\"}, {\"x1\": 5.225969314575195, \"x2\": 7.532131195068359, \"y_val\": \"1\"}, {\"x1\": 10.683266639709473, \"x2\": 2.2372844219207764, \"y_val\": \"9\"}, {\"x1\": 2.210547924041748, \"x2\": 7.6802592277526855, \"y_val\": \"6\"}, {\"x1\": 7.544915676116943, \"x2\": 10.762435913085938, \"y_val\": \"4\"}, {\"x1\": 8.73216724395752, \"x2\": 2.3873980045318604, \"y_val\": \"5\"}, {\"x1\": 12.8775053024292, \"x2\": 3.467320680618286, \"y_val\": \"7\"}, {\"x1\": 28.265722274780273, \"x2\": 20.118064880371094, \"y_val\": \"1\"}, {\"x1\": 12.007817268371582, \"x2\": 3.7175698280334473, \"y_val\": \"7\"}, {\"x1\": 3.2326292991638184, \"x2\": 5.561176776885986, \"y_val\": \"6\"}, {\"x1\": 2.376941204071045, \"x2\": 8.95872974395752, \"y_val\": \"6\"}, {\"x1\": 24.13389015197754, \"x2\": 8.084478378295898, \"y_val\": \"7\"}, {\"x1\": 11.963899612426758, \"x2\": 12.641738891601562, \"y_val\": \"3\"}, {\"x1\": 3.159257411956787, \"x2\": 0.7835814356803894, \"y_val\": \"5\"}, {\"x1\": 0.923637866973877, \"x2\": 4.620245933532715, \"y_val\": \"8\"}, {\"x1\": 11.744169235229492, \"x2\": 3.3524227142333984, \"y_val\": \"7\"}, {\"x1\": 11.70571231842041, \"x2\": 13.594359397888184, \"y_val\": \"3\"}, {\"x1\": 8.277913093566895, \"x2\": 11.96891975402832, \"y_val\": \"3\"}, {\"x1\": 2.7117161750793457, \"x2\": 0.4037635922431946, \"y_val\": \"9\"}, {\"x1\": 5.493614196777344, \"x2\": 7.423388957977295, \"y_val\": \"0\"}, {\"x1\": 10.78256893157959, \"x2\": 12.256218910217285, \"y_val\": \"3\"}, {\"x1\": 19.600740432739258, \"x2\": 12.772266387939453, \"y_val\": \"1\"}, {\"x1\": 3.2963106632232666, \"x2\": 10.143733978271484, \"y_val\": \"6\"}, {\"x1\": 2.2750163078308105, \"x2\": 9.64476490020752, \"y_val\": \"4\"}, {\"x1\": 22.24544906616211, \"x2\": 7.530176639556885, \"y_val\": \"7\"}, {\"x1\": 8.117719650268555, \"x2\": 11.196260452270508, \"y_val\": \"0\"}, {\"x1\": 4.395470142364502, \"x2\": 2.1300172805786133, \"y_val\": \"5\"}, {\"x1\": 17.37718963623047, \"x2\": 13.225831031799316, \"y_val\": \"1\"}, {\"x1\": 5.2500224113464355, \"x2\": 1.1549791097640991, \"y_val\": \"5\"}, {\"x1\": 8.51153564453125, \"x2\": 12.434661865234375, \"y_val\": \"4\"}, {\"x1\": 2.3446693420410156, \"x2\": 6.735673427581787, \"y_val\": \"4\"}, {\"x1\": 10.730511665344238, \"x2\": 4.34288215637207, \"y_val\": \"5\"}, {\"x1\": 3.361435890197754, \"x2\": 0.6647598147392273, \"y_val\": \"9\"}, {\"x1\": 19.312755584716797, \"x2\": 17.576635360717773, \"y_val\": \"1\"}, {\"x1\": 9.47675609588623, \"x2\": 12.050529479980469, \"y_val\": \"0\"}, {\"x1\": 6.436264514923096, \"x2\": 2.5726659297943115, \"y_val\": \"5\"}, {\"x1\": 0.5468119978904724, \"x2\": 2.034346342086792, \"y_val\": \"8\"}, {\"x1\": 8.58051586151123, \"x2\": 11.648054122924805, \"y_val\": \"3\"}, {\"x1\": 2.2009782791137695, \"x2\": 4.460339546203613, \"y_val\": \"4\"}, {\"x1\": 2.4908673763275146, \"x2\": 11.035717964172363, \"y_val\": \"4\"}, {\"x1\": 1.5336558818817139, \"x2\": 4.58447265625, \"y_val\": \"2\"}, {\"x1\": 2.0149717330932617, \"x2\": 11.202831268310547, \"y_val\": \"4\"}, {\"x1\": 1.860116958618164, \"x2\": 4.9997124671936035, \"y_val\": \"2\"}, {\"x1\": 5.029304504394531, \"x2\": 1.3691043853759766, \"y_val\": \"5\"}, {\"x1\": 3.2339224815368652, \"x2\": 5.310121059417725, \"y_val\": \"6\"}, {\"x1\": 14.268397331237793, \"x2\": 3.7665185928344727, \"y_val\": \"7\"}, {\"x1\": 1.583418607711792, \"x2\": 4.968318939208984, \"y_val\": \"2\"}, {\"x1\": 1.8576979637145996, \"x2\": 6.7822089195251465, \"y_val\": \"2\"}, {\"x1\": 10.018328666687012, \"x2\": 3.211275100708008, \"y_val\": \"5\"}, {\"x1\": 8.225503921508789, \"x2\": 10.837974548339844, \"y_val\": \"3\"}, {\"x1\": 1.119534969329834, \"x2\": 5.179502010345459, \"y_val\": \"8\"}, {\"x1\": 0.5588558912277222, \"x2\": 1.3250732421875, \"y_val\": \"8\"}, {\"x1\": 6.638283729553223, \"x2\": 11.631738662719727, \"y_val\": \"6\"}, {\"x1\": 3.103039264678955, \"x2\": 1.28438138961792, \"y_val\": \"8\"}, {\"x1\": 2.4427595138549805, \"x2\": 7.512875080108643, \"y_val\": \"4\"}, {\"x1\": 3.9791159629821777, \"x2\": 12.100372314453125, \"y_val\": \"4\"}, {\"x1\": 31.18175506591797, \"x2\": 21.977827072143555, \"y_val\": \"1\"}, {\"x1\": 6.6325578689575195, \"x2\": 12.023805618286133, \"y_val\": \"0\"}, {\"x1\": 3.9400839805603027, \"x2\": 13.43667984008789, \"y_val\": \"2\"}, {\"x1\": 17.562484741210938, \"x2\": 5.684847354888916, \"y_val\": \"7\"}, {\"x1\": 20.319276809692383, \"x2\": 16.52358627319336, \"y_val\": \"1\"}, {\"x1\": 17.354921340942383, \"x2\": 15.78724479675293, \"y_val\": \"1\"}, {\"x1\": 0.52349853515625, \"x2\": 1.2908257246017456, \"y_val\": \"8\"}, {\"x1\": 0.7204852104187012, \"x2\": 1.1800453662872314, \"y_val\": \"8\"}, {\"x1\": 0.7641542553901672, \"x2\": 6.657623767852783, \"y_val\": \"2\"}, {\"x1\": 24.814897537231445, \"x2\": 7.489298343658447, \"y_val\": \"7\"}, {\"x1\": 1.6627929210662842, \"x2\": 0.3611595034599304, \"y_val\": \"9\"}, {\"x1\": 18.536684036254883, \"x2\": 5.003005504608154, \"y_val\": \"7\"}, {\"x1\": 3.7321863174438477, \"x2\": 11.049585342407227, \"y_val\": \"4\"}, {\"x1\": 25.21794319152832, \"x2\": 16.77982521057129, \"y_val\": \"1\"}, {\"x1\": 1.7125394344329834, \"x2\": 3.279273509979248, \"y_val\": \"2\"}, {\"x1\": 3.1266422271728516, \"x2\": 5.015086650848389, \"y_val\": \"0\"}, {\"x1\": 0.21912628412246704, \"x2\": 1.6839128732681274, \"y_val\": \"8\"}, {\"x1\": 6.068375587463379, \"x2\": 0.26934176683425903, \"y_val\": \"9\"}, {\"x1\": 14.860112190246582, \"x2\": 11.187966346740723, \"y_val\": \"1\"}, {\"x1\": 3.074141025543213, \"x2\": 7.298229694366455, \"y_val\": \"4\"}, {\"x1\": 3.5836923122406006, \"x2\": 0.5589215755462646, \"y_val\": \"9\"}, {\"x1\": 4.478208541870117, \"x2\": 1.709736704826355, \"y_val\": \"5\"}, {\"x1\": 0.8404561281204224, \"x2\": 1.7011116743087769, \"y_val\": \"6\"}, {\"x1\": 17.747182846069336, \"x2\": 5.074864864349365, \"y_val\": \"7\"}, {\"x1\": 3.0691468715667725, \"x2\": 4.611761569976807, \"y_val\": \"0\"}, {\"x1\": 12.611788749694824, \"x2\": 13.676939964294434, \"y_val\": \"3\"}, {\"x1\": 2.3144123554229736, \"x2\": 7.299252033233643, \"y_val\": \"2\"}, {\"x1\": 5.091506004333496, \"x2\": 9.136926651000977, \"y_val\": \"0\"}, {\"x1\": 3.688948631286621, \"x2\": 11.49581527709961, \"y_val\": \"4\"}, {\"x1\": 22.93709373474121, \"x2\": 17.19401741027832, \"y_val\": \"1\"}, {\"x1\": 4.622379302978516, \"x2\": 8.105995178222656, \"y_val\": \"0\"}, {\"x1\": 5.454676151275635, \"x2\": 7.150698184967041, \"y_val\": \"0\"}, {\"x1\": 0.15684881806373596, \"x2\": 1.9512393474578857, \"y_val\": \"8\"}, {\"x1\": 14.118415832519531, \"x2\": 4.705842018127441, \"y_val\": \"7\"}, {\"x1\": 4.747305393218994, \"x2\": 8.279813766479492, \"y_val\": \"0\"}, {\"x1\": 2.117274761199951, \"x2\": 5.469444751739502, \"y_val\": \"2\"}, {\"x1\": 8.285628318786621, \"x2\": 1.0378319025039673, \"y_val\": \"9\"}, {\"x1\": 3.8822574615478516, \"x2\": 0.3817058801651001, \"y_val\": \"9\"}, {\"x1\": 15.116559028625488, \"x2\": 12.877901077270508, \"y_val\": \"1\"}, {\"x1\": 19.35340690612793, \"x2\": 12.277654647827148, \"y_val\": \"3\"}, {\"x1\": 0.7957920432090759, \"x2\": 2.945173501968384, \"y_val\": \"8\"}, {\"x1\": 9.193720817565918, \"x2\": 10.329971313476562, \"y_val\": \"3\"}, {\"x1\": 16.447078704833984, \"x2\": 12.286575317382812, \"y_val\": \"1\"}, {\"x1\": 3.5055549144744873, \"x2\": 12.09406852722168, \"y_val\": \"4\"}, {\"x1\": 0.13038751482963562, \"x2\": 0.9251550436019897, \"y_val\": \"8\"}, {\"x1\": 1.5794610977172852, \"x2\": 0.9790871143341064, \"y_val\": \"5\"}, {\"x1\": 7.150700569152832, \"x2\": 7.604633331298828, \"y_val\": \"1\"}, {\"x1\": 0.07355929911136627, \"x2\": 1.6039596796035767, \"y_val\": \"8\"}, {\"x1\": 1.757359504699707, \"x2\": 6.3313164710998535, \"y_val\": \"2\"}, {\"x1\": 3.441938638687134, \"x2\": 4.262824535369873, \"y_val\": \"4\"}, {\"x1\": 2.516308069229126, \"x2\": 8.786224365234375, \"y_val\": \"4\"}, {\"x1\": 1.3468220233917236, \"x2\": 0.0005423277616500854, \"y_val\": \"9\"}, {\"x1\": 9.75870418548584, \"x2\": 2.8920528888702393, \"y_val\": \"5\"}, {\"x1\": 5.325736999511719, \"x2\": 1.9532371759414673, \"y_val\": \"5\"}, {\"x1\": 2.225841760635376, \"x2\": 10.193363189697266, \"y_val\": \"4\"}, {\"x1\": 2.256580114364624, \"x2\": 1.1508594751358032, \"y_val\": \"5\"}, {\"x1\": 3.820770502090454, \"x2\": 5.728277683258057, \"y_val\": \"6\"}, {\"x1\": 9.362751960754395, \"x2\": 10.96872329711914, \"y_val\": \"3\"}, {\"x1\": 6.850927352905273, \"x2\": 1.536645770072937, \"y_val\": \"7\"}, {\"x1\": 2.6913204193115234, \"x2\": 9.960548400878906, \"y_val\": \"4\"}, {\"x1\": 7.322986125946045, \"x2\": 0.812296986579895, \"y_val\": \"9\"}, {\"x1\": 6.323172569274902, \"x2\": 2.126349925994873, \"y_val\": \"5\"}, {\"x1\": 0.06903252005577087, \"x2\": 1.0285568237304688, \"y_val\": \"8\"}, {\"x1\": 2.2926197052001953, \"x2\": 0.46813082695007324, \"y_val\": \"9\"}, {\"x1\": 5.191098690032959, \"x2\": 5.253672122955322, \"y_val\": \"3\"}, {\"x1\": 1.2836830615997314, \"x2\": 1.0845739841461182, \"y_val\": \"9\"}, {\"x1\": 2.1237258911132812, \"x2\": 8.114140510559082, \"y_val\": \"6\"}, {\"x1\": 1.7666049003601074, \"x2\": 10.07625675201416, \"y_val\": \"4\"}, {\"x1\": 22.137331008911133, \"x2\": 8.23383617401123, \"y_val\": \"7\"}, {\"x1\": 1.8556723594665527, \"x2\": 7.6508636474609375, \"y_val\": \"2\"}, {\"x1\": 2.880253791809082, \"x2\": 7.244252681732178, \"y_val\": \"2\"}, {\"x1\": 1.7928717136383057, \"x2\": 5.336269378662109, \"y_val\": \"6\"}, {\"x1\": 2.375326633453369, \"x2\": 11.02559757232666, \"y_val\": \"4\"}, {\"x1\": 0.7198912501335144, \"x2\": 1.1395992040634155, \"y_val\": \"8\"}, {\"x1\": 8.440510749816895, \"x2\": 12.77009391784668, \"y_val\": \"3\"}, {\"x1\": 4.200350284576416, \"x2\": 6.755957126617432, \"y_val\": \"0\"}, {\"x1\": 2.229159116744995, \"x2\": 11.427080154418945, \"y_val\": \"2\"}, {\"x1\": 0.34405243396759033, \"x2\": 0.5980348587036133, \"y_val\": \"8\"}, {\"x1\": 3.725282669067383, \"x2\": 0.2422349601984024, \"y_val\": \"9\"}, {\"x1\": 7.929322242736816, \"x2\": 13.206428527832031, \"y_val\": \"0\"}, {\"x1\": 0.4607734978199005, \"x2\": 1.696780800819397, \"y_val\": \"8\"}, {\"x1\": 9.286221504211426, \"x2\": 13.286246299743652, \"y_val\": \"6\"}, {\"x1\": 11.31737995147705, \"x2\": 12.322366714477539, \"y_val\": \"3\"}, {\"x1\": 4.2694220542907715, \"x2\": 0.6432955265045166, \"y_val\": \"9\"}, {\"x1\": 20.811067581176758, \"x2\": 16.693239212036133, \"y_val\": \"1\"}, {\"x1\": 6.137234687805176, \"x2\": 13.882225036621094, \"y_val\": \"6\"}, {\"x1\": 5.174878120422363, \"x2\": 13.333395004272461, \"y_val\": \"3\"}, {\"x1\": 1.6917128562927246, \"x2\": 6.413625240325928, \"y_val\": \"2\"}, {\"x1\": 2.001551628112793, \"x2\": 10.793540000915527, \"y_val\": \"6\"}, {\"x1\": 11.011107444763184, \"x2\": 10.039111137390137, \"y_val\": \"1\"}, {\"x1\": 5.255932807922363, \"x2\": 8.598246574401855, \"y_val\": \"0\"}, {\"x1\": 2.3241183757781982, \"x2\": 7.658955097198486, \"y_val\": \"2\"}, {\"x1\": 5.037571907043457, \"x2\": 8.462725639343262, \"y_val\": \"6\"}, {\"x1\": 2.1202614307403564, \"x2\": 10.63325309753418, \"y_val\": \"2\"}, {\"x1\": 4.830308437347412, \"x2\": 12.815723419189453, \"y_val\": \"3\"}, {\"x1\": 7.843846321105957, \"x2\": 10.115479469299316, \"y_val\": \"3\"}, {\"x1\": 5.786655902862549, \"x2\": 0.5266882181167603, \"y_val\": \"9\"}, {\"x1\": 25.25739860534668, \"x2\": 20.100366592407227, \"y_val\": \"1\"}, {\"x1\": 23.49080467224121, \"x2\": 8.365421295166016, \"y_val\": \"7\"}, {\"x1\": 5.984903812408447, \"x2\": 0.7308886647224426, \"y_val\": \"9\"}, {\"x1\": 25.28953742980957, \"x2\": 20.580272674560547, \"y_val\": \"1\"}, {\"x1\": 10.36331844329834, \"x2\": 8.576869010925293, \"y_val\": \"1\"}, {\"x1\": 3.0139384269714355, \"x2\": 4.66809606552124, \"y_val\": \"0\"}, {\"x1\": 26.47304916381836, \"x2\": 19.096336364746094, \"y_val\": \"1\"}, {\"x1\": 27.63774871826172, \"x2\": 9.552522659301758, \"y_val\": \"7\"}, {\"x1\": 7.77342414855957, \"x2\": 14.010295867919922, \"y_val\": \"0\"}, {\"x1\": 6.518638610839844, \"x2\": 6.887998104095459, \"y_val\": \"8\"}, {\"x1\": 4.676614284515381, \"x2\": 1.450060486793518, \"y_val\": \"5\"}, {\"x1\": 3.7794718742370605, \"x2\": 5.876420974731445, \"y_val\": \"0\"}, {\"x1\": 6.657608985900879, \"x2\": 12.610946655273438, \"y_val\": \"6\"}, {\"x1\": 5.491861343383789, \"x2\": 9.665932655334473, \"y_val\": \"0\"}, {\"x1\": 15.089774131774902, \"x2\": 13.845355033874512, \"y_val\": \"1\"}, {\"x1\": 7.714493751525879, \"x2\": 11.347371101379395, \"y_val\": \"6\"}, {\"x1\": 2.96183443069458, \"x2\": 6.954280376434326, \"y_val\": \"6\"}, {\"x1\": 0.7434377074241638, \"x2\": 2.768458127975464, \"y_val\": \"8\"}, {\"x1\": 10.295431137084961, \"x2\": 2.6260201930999756, \"y_val\": \"7\"}, {\"x1\": 6.495504379272461, \"x2\": 12.894487380981445, \"y_val\": \"0\"}, {\"x1\": 4.6345601081848145, \"x2\": 0.6217241883277893, \"y_val\": \"9\"}, {\"x1\": 9.100407600402832, \"x2\": 1.099368691444397, \"y_val\": \"9\"}, {\"x1\": 13.440629005432129, \"x2\": 2.468937873840332, \"y_val\": \"9\"}, {\"x1\": 16.024385452270508, \"x2\": 3.7033352851867676, \"y_val\": \"7\"}, {\"x1\": 2.660909652709961, \"x2\": 11.671451568603516, \"y_val\": \"4\"}, {\"x1\": 3.827481269836426, \"x2\": 9.654947280883789, \"y_val\": \"3\"}, {\"x1\": 6.160943031311035, \"x2\": 0.8289893865585327, \"y_val\": \"9\"}, {\"x1\": 2.508427858352661, \"x2\": 0.9342283010482788, \"y_val\": \"5\"}, {\"x1\": 9.761242866516113, \"x2\": 1.347057819366455, \"y_val\": \"9\"}, {\"x1\": 23.74614906311035, \"x2\": 19.69505500793457, \"y_val\": \"1\"}, {\"x1\": 3.6346092224121094, \"x2\": 10.652730941772461, \"y_val\": \"4\"}, {\"x1\": 14.335502624511719, \"x2\": 13.039874076843262, \"y_val\": \"1\"}, {\"x1\": 1.1651242971420288, \"x2\": 6.5334153175354, \"y_val\": \"6\"}, {\"x1\": 3.083902359008789, \"x2\": 10.308843612670898, \"y_val\": \"2\"}, {\"x1\": 3.109255313873291, \"x2\": 10.521430969238281, \"y_val\": \"2\"}, {\"x1\": 2.8890371322631836, \"x2\": 11.366789817810059, \"y_val\": \"2\"}, {\"x1\": 17.472440719604492, \"x2\": 5.548491954803467, \"y_val\": \"7\"}, {\"x1\": 8.420638084411621, \"x2\": 1.7857292890548706, \"y_val\": \"7\"}, {\"x1\": 6.599967956542969, \"x2\": 12.36369800567627, \"y_val\": \"6\"}, {\"x1\": 4.1063127517700195, \"x2\": 6.115601062774658, \"y_val\": \"3\"}, {\"x1\": 9.954423904418945, \"x2\": 1.978536605834961, \"y_val\": \"7\"}, {\"x1\": 10.87233829498291, \"x2\": 4.63113260269165, \"y_val\": \"5\"}, {\"x1\": 0.15869180858135223, \"x2\": 1.042189598083496, \"y_val\": \"8\"}, {\"x1\": 1.6083869934082031, \"x2\": 5.153871059417725, \"y_val\": \"6\"}, {\"x1\": 0.875194251537323, \"x2\": 7.331239223480225, \"y_val\": \"4\"}, {\"x1\": 0.8387016654014587, \"x2\": 2.657094717025757, \"y_val\": \"8\"}, {\"x1\": 2.4516777992248535, \"x2\": 9.029038429260254, \"y_val\": \"4\"}, {\"x1\": 24.323768615722656, \"x2\": 8.265507698059082, \"y_val\": \"7\"}, {\"x1\": 0.9424823522567749, \"x2\": 2.670300245285034, \"y_val\": \"8\"}, {\"x1\": 1.4139587879180908, \"x2\": 5.387834072113037, \"y_val\": \"6\"}, {\"x1\": 14.113602638244629, \"x2\": 6.070448398590088, \"y_val\": \"5\"}, {\"x1\": 3.815303325653076, \"x2\": 0.04782100021839142, \"y_val\": \"9\"}, {\"x1\": 7.654117107391357, \"x2\": 0.9710099101066589, \"y_val\": \"9\"}, {\"x1\": 6.183526039123535, \"x2\": 11.64111614227295, \"y_val\": \"0\"}, {\"x1\": 5.725508689880371, \"x2\": 9.727455139160156, \"y_val\": \"0\"}, {\"x1\": 0.9563711881637573, \"x2\": 9.380502700805664, \"y_val\": \"2\"}, {\"x1\": 2.721865653991699, \"x2\": 8.002670288085938, \"y_val\": \"4\"}, {\"x1\": 11.170534133911133, \"x2\": 12.92298412322998, \"y_val\": \"3\"}, {\"x1\": 25.92607307434082, \"x2\": 8.987022399902344, \"y_val\": \"7\"}, {\"x1\": 4.079318523406982, \"x2\": 0.15860898792743683, \"y_val\": \"9\"}, {\"x1\": 3.672293186187744, \"x2\": 9.424325942993164, \"y_val\": \"3\"}, {\"x1\": 2.829460620880127, \"x2\": 10.741816520690918, \"y_val\": \"1\"}, {\"x1\": 5.820060729980469, \"x2\": 1.0067566633224487, \"y_val\": \"9\"}, {\"x1\": 1.810401201248169, \"x2\": 6.596360683441162, \"y_val\": \"2\"}, {\"x1\": 3.926650047302246, \"x2\": 0.6445440649986267, \"y_val\": \"7\"}, {\"x1\": 2.603269100189209, \"x2\": 1.227752447128296, \"y_val\": \"5\"}, {\"x1\": 8.556766510009766, \"x2\": 3.5720584392547607, \"y_val\": \"5\"}, {\"x1\": 2.5355825424194336, \"x2\": 11.079411506652832, \"y_val\": \"4\"}, {\"x1\": 0.8005982637405396, \"x2\": 8.366992950439453, \"y_val\": \"8\"}, {\"x1\": 2.4372165203094482, \"x2\": 10.795494079589844, \"y_val\": \"2\"}, {\"x1\": 16.87155532836914, \"x2\": 4.034519672393799, \"y_val\": \"7\"}, {\"x1\": 0.9197935461997986, \"x2\": 1.0835332870483398, \"y_val\": \"8\"}, {\"x1\": 21.18013572692871, \"x2\": 18.924755096435547, \"y_val\": \"1\"}, {\"x1\": 1.7515029907226562, \"x2\": 10.70039176940918, \"y_val\": \"2\"}, {\"x1\": 3.507930278778076, \"x2\": 11.506999015808105, \"y_val\": \"6\"}, {\"x1\": 2.104679822921753, \"x2\": 8.951790809631348, \"y_val\": \"6\"}, {\"x1\": 0.6809266805648804, \"x2\": 1.8262797594070435, \"y_val\": \"8\"}, {\"x1\": 21.877243041992188, \"x2\": 18.655242919921875, \"y_val\": \"1\"}, {\"x1\": 2.469693183898926, \"x2\": 0.2587761878967285, \"y_val\": \"9\"}, {\"x1\": 2.1870622634887695, \"x2\": 8.372297286987305, \"y_val\": \"6\"}, {\"x1\": 7.387201309204102, \"x2\": 9.904092788696289, \"y_val\": \"0\"}, {\"x1\": 4.303693771362305, \"x2\": 7.436213493347168, \"y_val\": \"0\"}, {\"x1\": 4.0646820068359375, \"x2\": 1.7840749025344849, \"y_val\": \"5\"}, {\"x1\": 3.5136451721191406, \"x2\": 0.593695878982544, \"y_val\": \"9\"}, {\"x1\": 5.694439888000488, \"x2\": 10.570741653442383, \"y_val\": \"3\"}, {\"x1\": 11.435372352600098, \"x2\": 12.810029983520508, \"y_val\": \"3\"}, {\"x1\": 14.352934837341309, \"x2\": 4.025559902191162, \"y_val\": \"7\"}, {\"x1\": 2.883784294128418, \"x2\": 4.286097526550293, \"y_val\": \"6\"}, {\"x1\": 17.751440048217773, \"x2\": 15.146310806274414, \"y_val\": \"1\"}, {\"x1\": 3.9618077278137207, \"x2\": 6.06955099105835, \"y_val\": \"0\"}, {\"x1\": 10.348367691040039, \"x2\": 12.301172256469727, \"y_val\": \"0\"}, {\"x1\": 1.949183702468872, \"x2\": 5.155880928039551, \"y_val\": \"6\"}, {\"x1\": 3.2229509353637695, \"x2\": 10.627035140991211, \"y_val\": \"4\"}, {\"x1\": 14.855969429016113, \"x2\": 3.4906346797943115, \"y_val\": \"7\"}, {\"x1\": 1.5162346363067627, \"x2\": 1.0748273134231567, \"y_val\": \"5\"}, {\"x1\": 6.021828651428223, \"x2\": 0.5930107235908508, \"y_val\": \"9\"}, {\"x1\": 10.122920036315918, \"x2\": 1.6341880559921265, \"y_val\": \"7\"}, {\"x1\": 2.4219298362731934, \"x2\": 0.464165598154068, \"y_val\": \"9\"}, {\"x1\": 3.9783053398132324, \"x2\": 12.73677921295166, \"y_val\": \"3\"}, {\"x1\": 0.14041279256343842, \"x2\": 1.0948463678359985, \"y_val\": \"8\"}, {\"x1\": 0.31104782223701477, \"x2\": 0.9696624279022217, \"y_val\": \"8\"}, {\"x1\": 1.9251325130462646, \"x2\": 11.527104377746582, \"y_val\": \"4\"}, {\"x1\": 0.48163720965385437, \"x2\": 2.2401108741760254, \"y_val\": \"8\"}, {\"x1\": 8.365476608276367, \"x2\": 3.7141809463500977, \"y_val\": \"5\"}, {\"x1\": 2.576056480407715, \"x2\": 11.701345443725586, \"y_val\": \"4\"}, {\"x1\": 1.85886549949646, \"x2\": 10.683842658996582, \"y_val\": \"2\"}, {\"x1\": 0.6748676896095276, \"x2\": 8.033595085144043, \"y_val\": \"2\"}, {\"x1\": 17.26018714904785, \"x2\": 4.824670314788818, \"y_val\": \"7\"}, {\"x1\": 24.16353988647461, \"x2\": 7.818960666656494, \"y_val\": \"7\"}, {\"x1\": 15.439196586608887, \"x2\": 5.745232582092285, \"y_val\": \"5\"}, {\"x1\": 0.9134333729743958, \"x2\": 1.5828394889831543, \"y_val\": \"8\"}, {\"x1\": 3.598259925842285, \"x2\": 12.669297218322754, \"y_val\": \"4\"}, {\"x1\": 2.550869941711426, \"x2\": 10.593927383422852, \"y_val\": \"6\"}, {\"x1\": 3.351914644241333, \"x2\": 0.22604511678218842, \"y_val\": \"9\"}, {\"x1\": 2.575800895690918, \"x2\": 10.47793960571289, \"y_val\": \"4\"}, {\"x1\": 5.570240497589111, \"x2\": 8.096806526184082, \"y_val\": \"3\"}, {\"x1\": 12.580451011657715, \"x2\": 3.2704219818115234, \"y_val\": \"7\"}, {\"x1\": 5.732868671417236, \"x2\": 6.63767671585083, \"y_val\": \"8\"}, {\"x1\": 8.588523864746094, \"x2\": 2.639695167541504, \"y_val\": \"7\"}, {\"x1\": 0.7199978828430176, \"x2\": 3.0760176181793213, \"y_val\": \"8\"}, {\"x1\": 9.90878677368164, \"x2\": 11.586392402648926, \"y_val\": \"3\"}, {\"x1\": 16.842227935791016, \"x2\": 5.201646327972412, \"y_val\": \"7\"}, {\"x1\": 0.12806999683380127, \"x2\": 1.7900513410568237, \"y_val\": \"8\"}, {\"x1\": 1.861924648284912, \"x2\": 9.99665355682373, \"y_val\": \"4\"}, {\"x1\": 5.861026287078857, \"x2\": 0.4827803075313568, \"y_val\": \"7\"}, {\"x1\": 22.59522819519043, \"x2\": 7.38199520111084, \"y_val\": \"7\"}, {\"x1\": 2.5350775718688965, \"x2\": 10.601664543151855, \"y_val\": \"2\"}, {\"x1\": 2.1411683559417725, \"x2\": 8.720370292663574, \"y_val\": \"2\"}, {\"x1\": 4.609201431274414, \"x2\": 10.439384460449219, \"y_val\": \"0\"}, {\"x1\": 5.356904029846191, \"x2\": 8.842181205749512, \"y_val\": \"0\"}, {\"x1\": 7.199098110198975, \"x2\": 13.275948524475098, \"y_val\": \"0\"}, {\"x1\": 8.7774076461792, \"x2\": 9.45973014831543, \"y_val\": \"3\"}, {\"x1\": 1.0314937829971313, \"x2\": 0.29304563999176025, \"y_val\": \"9\"}, {\"x1\": 22.791231155395508, \"x2\": 18.235013961791992, \"y_val\": \"1\"}, {\"x1\": 6.309967041015625, \"x2\": 11.59267807006836, \"y_val\": \"0\"}, {\"x1\": 2.0710015296936035, \"x2\": 0.28939226269721985, \"y_val\": \"9\"}, {\"x1\": 0.4052237570285797, \"x2\": 2.3506152629852295, \"y_val\": \"8\"}, {\"x1\": 2.060767889022827, \"x2\": 10.584646224975586, \"y_val\": \"4\"}, {\"x1\": 8.658723831176758, \"x2\": 12.776564598083496, \"y_val\": \"3\"}, {\"x1\": 3.163905620574951, \"x2\": 0.6479230523109436, \"y_val\": \"9\"}, {\"x1\": 5.12821626663208, \"x2\": 0.9947423934936523, \"y_val\": \"9\"}, {\"x1\": 5.887510299682617, \"x2\": 0.7064565420150757, \"y_val\": \"9\"}, {\"x1\": 1.18310546875, \"x2\": 2.1888911724090576, \"y_val\": \"8\"}, {\"x1\": 0.7344534993171692, \"x2\": 2.4643118381500244, \"y_val\": \"8\"}, {\"x1\": 17.03535270690918, \"x2\": 5.895115375518799, \"y_val\": \"5\"}, {\"x1\": 3.277095079421997, \"x2\": 6.324543476104736, \"y_val\": \"4\"}, {\"x1\": 9.001216888427734, \"x2\": 3.476292133331299, \"y_val\": \"5\"}, {\"x1\": 3.2464447021484375, \"x2\": 12.056742668151855, \"y_val\": \"4\"}, {\"x1\": 0.8430342674255371, \"x2\": 0.32277992367744446, \"y_val\": \"9\"}, {\"x1\": 0.12216414511203766, \"x2\": 1.0689142942428589, \"y_val\": \"8\"}, {\"x1\": 0.4709676206111908, \"x2\": 4.923338413238525, \"y_val\": \"8\"}, {\"x1\": 5.494582176208496, \"x2\": 8.961702346801758, \"y_val\": \"0\"}, {\"x1\": 2.206674098968506, \"x2\": 0.37827497720718384, \"y_val\": \"9\"}, {\"x1\": 3.0048329830169678, \"x2\": 11.481675148010254, \"y_val\": \"2\"}, {\"x1\": 7.894644737243652, \"x2\": 13.94155502319336, \"y_val\": \"0\"}, {\"x1\": 12.994460105895996, \"x2\": 4.457461357116699, \"y_val\": \"7\"}, {\"x1\": 13.892426490783691, \"x2\": 8.524930953979492, \"y_val\": \"3\"}, {\"x1\": 16.474401473999023, \"x2\": 4.498750686645508, \"y_val\": \"7\"}, {\"x1\": 1.3915460109710693, \"x2\": 0.3069140911102295, \"y_val\": \"9\"}, {\"x1\": 6.706264495849609, \"x2\": 9.482699394226074, \"y_val\": \"3\"}, {\"x1\": 0.5255835056304932, \"x2\": 2.7196807861328125, \"y_val\": \"8\"}, {\"x1\": 4.146093845367432, \"x2\": 11.353902816772461, \"y_val\": \"4\"}, {\"x1\": 5.902785301208496, \"x2\": 10.787107467651367, \"y_val\": \"3\"}, {\"x1\": 20.505783081054688, \"x2\": 7.09315824508667, \"y_val\": \"7\"}, {\"x1\": 0.567123532295227, \"x2\": 2.8395912647247314, \"y_val\": \"8\"}, {\"x1\": 15.935070991516113, \"x2\": 13.942726135253906, \"y_val\": \"1\"}, {\"x1\": 2.6399013996124268, \"x2\": 8.118412017822266, \"y_val\": \"4\"}, {\"x1\": 6.019016265869141, \"x2\": 9.918584823608398, \"y_val\": \"0\"}, {\"x1\": 5.590511322021484, \"x2\": 1.9198637008666992, \"y_val\": \"7\"}, {\"x1\": 4.9167375564575195, \"x2\": 0.3122238218784332, \"y_val\": \"9\"}, {\"x1\": 0.6840387582778931, \"x2\": 1.3982661962509155, \"y_val\": \"8\"}, {\"x1\": 1.5123000144958496, \"x2\": 1.0129923820495605, \"y_val\": \"5\"}, {\"x1\": 4.390468597412109, \"x2\": 1.4081189632415771, \"y_val\": \"5\"}, {\"x1\": 1.7987089157104492, \"x2\": 8.93493366241455, \"y_val\": \"2\"}, {\"x1\": 26.156694412231445, \"x2\": 17.31831932067871, \"y_val\": \"1\"}, {\"x1\": 7.927278518676758, \"x2\": 11.700578689575195, \"y_val\": \"3\"}, {\"x1\": 6.196737766265869, \"x2\": 8.631669998168945, \"y_val\": \"4\"}, {\"x1\": 10.317329406738281, \"x2\": 12.379913330078125, \"y_val\": \"6\"}, {\"x1\": 3.3853001594543457, \"x2\": 1.2028160095214844, \"y_val\": \"7\"}, {\"x1\": 19.511198043823242, \"x2\": 6.119503498077393, \"y_val\": \"7\"}, {\"x1\": 4.832422733306885, \"x2\": 2.100606918334961, \"y_val\": \"5\"}, {\"x1\": 6.990527153015137, \"x2\": 0.5315279960632324, \"y_val\": \"9\"}, {\"x1\": 6.701970100402832, \"x2\": 0.7640846371650696, \"y_val\": \"9\"}, {\"x1\": 10.779879570007324, \"x2\": 4.041901588439941, \"y_val\": \"7\"}, {\"x1\": 0.8449549078941345, \"x2\": 2.839862585067749, \"y_val\": \"8\"}, {\"x1\": 1.8607702255249023, \"x2\": 9.66927719116211, \"y_val\": \"2\"}, {\"x1\": 12.777413368225098, \"x2\": 3.7515759468078613, \"y_val\": \"7\"}, {\"x1\": 2.008746862411499, \"x2\": 5.434496879577637, \"y_val\": \"4\"}, {\"x1\": 12.903901100158691, \"x2\": 3.3435776233673096, \"y_val\": \"7\"}, {\"x1\": 2.4420528411865234, \"x2\": 5.967187881469727, \"y_val\": \"0\"}, {\"x1\": 6.9336700439453125, \"x2\": 9.781850814819336, \"y_val\": \"3\"}, {\"x1\": 13.82895278930664, \"x2\": 5.678668022155762, \"y_val\": \"5\"}, {\"x1\": 15.13283634185791, \"x2\": 14.889104843139648, \"y_val\": \"1\"}, {\"x1\": 16.556001663208008, \"x2\": 12.175432205200195, \"y_val\": \"1\"}, {\"x1\": 10.096600532531738, \"x2\": 3.5426037311553955, \"y_val\": \"5\"}, {\"x1\": 5.594511032104492, \"x2\": 2.56881046295166, \"y_val\": \"5\"}, {\"x1\": 3.587165594100952, \"x2\": 10.438711166381836, \"y_val\": \"2\"}, {\"x1\": 0.4872605502605438, \"x2\": 2.2167465686798096, \"y_val\": \"8\"}, {\"x1\": 12.395020484924316, \"x2\": 13.67051887512207, \"y_val\": \"3\"}, {\"x1\": 4.362526893615723, \"x2\": 0.8528555631637573, \"y_val\": \"5\"}, {\"x1\": 1.887108564376831, \"x2\": 0.3989470601081848, \"y_val\": \"9\"}, {\"x1\": 7.996034622192383, \"x2\": 12.992166519165039, \"y_val\": \"0\"}, {\"x1\": 7.118642807006836, \"x2\": 2.480360507965088, \"y_val\": \"7\"}, {\"x1\": 5.4245123863220215, \"x2\": 7.3568806648254395, \"y_val\": \"3\"}, {\"x1\": 4.293256759643555, \"x2\": 7.396962642669678, \"y_val\": \"0\"}, {\"x1\": 4.983973503112793, \"x2\": 8.546222686767578, \"y_val\": \"0\"}, {\"x1\": 5.996608257293701, \"x2\": 1.3256888389587402, \"y_val\": \"7\"}, {\"x1\": 20.37315559387207, \"x2\": 17.115177154541016, \"y_val\": \"1\"}, {\"x1\": 9.552699089050293, \"x2\": 1.8604687452316284, \"y_val\": \"9\"}, {\"x1\": 3.3760793209075928, \"x2\": 9.668560028076172, \"y_val\": \"4\"}, {\"x1\": 0.6019566655158997, \"x2\": 1.9072039127349854, \"y_val\": \"8\"}, {\"x1\": 3.663093328475952, \"x2\": 0.2463708370923996, \"y_val\": \"9\"}, {\"x1\": 16.919328689575195, \"x2\": 14.407764434814453, \"y_val\": \"1\"}, {\"x1\": 0.2516966760158539, \"x2\": 0.8022799491882324, \"y_val\": \"8\"}, {\"x1\": 9.127459526062012, \"x2\": 12.24606704711914, \"y_val\": \"3\"}, {\"x1\": 4.006703853607178, \"x2\": 11.400277137756348, \"y_val\": \"4\"}, {\"x1\": 15.398241996765137, \"x2\": 3.4565868377685547, \"y_val\": \"7\"}, {\"x1\": 20.524356842041016, \"x2\": 5.741694450378418, \"y_val\": \"7\"}, {\"x1\": 26.42683219909668, \"x2\": 8.415935516357422, \"y_val\": \"7\"}, {\"x1\": 29.0611629486084, \"x2\": 20.75727653503418, \"y_val\": \"1\"}, {\"x1\": 3.498905658721924, \"x2\": 9.871814727783203, \"y_val\": \"4\"}, {\"x1\": 7.055547714233398, \"x2\": 13.406754493713379, \"y_val\": \"0\"}, {\"x1\": 4.729158401489258, \"x2\": 12.889740943908691, \"y_val\": \"4\"}, {\"x1\": 17.320262908935547, \"x2\": 7.3852009773254395, \"y_val\": \"5\"}, {\"x1\": 0.13609763979911804, \"x2\": 2.9221813678741455, \"y_val\": \"8\"}, {\"x1\": 0.9044496417045593, \"x2\": 2.839036226272583, \"y_val\": \"8\"}, {\"x1\": 2.521819591522217, \"x2\": 7.8536810874938965, \"y_val\": \"6\"}, {\"x1\": 5.281737327575684, \"x2\": 2.77986216545105, \"y_val\": \"5\"}, {\"x1\": 16.733671188354492, \"x2\": 5.457901477813721, \"y_val\": \"7\"}, {\"x1\": 16.930986404418945, \"x2\": 11.241127014160156, \"y_val\": \"1\"}, {\"x1\": 7.300728797912598, \"x2\": 13.178945541381836, \"y_val\": \"0\"}, {\"x1\": 2.5029237270355225, \"x2\": 9.443856239318848, \"y_val\": \"2\"}, {\"x1\": 3.4765052795410156, \"x2\": 11.398648262023926, \"y_val\": \"4\"}, {\"x1\": 8.69759464263916, \"x2\": 0.9924168586730957, \"y_val\": \"9\"}, {\"x1\": 7.390802383422852, \"x2\": 12.434814453125, \"y_val\": \"0\"}, {\"x1\": 3.5583057403564453, \"x2\": 0.4173129200935364, \"y_val\": \"9\"}, {\"x1\": 1.0652254819869995, \"x2\": 2.6092936992645264, \"y_val\": \"8\"}, {\"x1\": 6.494953155517578, \"x2\": 11.496360778808594, \"y_val\": \"6\"}, {\"x1\": 1.7778081893920898, \"x2\": 10.7016019821167, \"y_val\": \"2\"}, {\"x1\": 0.860012948513031, \"x2\": 1.9440280199050903, \"y_val\": \"8\"}, {\"x1\": 20.188570022583008, \"x2\": 13.108139038085938, \"y_val\": \"1\"}, {\"x1\": 2.9283313751220703, \"x2\": 9.112876892089844, \"y_val\": \"4\"}, {\"x1\": 21.726621627807617, \"x2\": 18.327266693115234, \"y_val\": \"1\"}, {\"x1\": 18.239158630371094, \"x2\": 15.138922691345215, \"y_val\": \"1\"}, {\"x1\": 1.8943593502044678, \"x2\": 9.564104080200195, \"y_val\": \"2\"}, {\"x1\": 6.890058994293213, \"x2\": 10.21865463256836, \"y_val\": \"3\"}, {\"x1\": 4.949033260345459, \"x2\": 5.392822742462158, \"y_val\": \"3\"}, {\"x1\": 0.9155604243278503, \"x2\": 2.835688352584839, \"y_val\": \"8\"}, {\"x1\": 2.4513509273529053, \"x2\": 0.17380531132221222, \"y_val\": \"9\"}, {\"x1\": 10.046692848205566, \"x2\": 2.8743739128112793, \"y_val\": \"5\"}, {\"x1\": 30.004037857055664, \"x2\": 22.0036563873291, \"y_val\": \"1\"}, {\"x1\": 2.9402923583984375, \"x2\": 4.365138053894043, \"y_val\": \"6\"}, {\"x1\": 2.140894889831543, \"x2\": 6.150115489959717, \"y_val\": \"4\"}, {\"x1\": 7.680415630340576, \"x2\": 3.022808790206909, \"y_val\": \"5\"}, {\"x1\": 8.063857078552246, \"x2\": 0.7391221523284912, \"y_val\": \"9\"}, {\"x1\": 10.724705696105957, \"x2\": 14.188769340515137, \"y_val\": \"6\"}, {\"x1\": 2.6806182861328125, \"x2\": 9.396522521972656, \"y_val\": \"2\"}, {\"x1\": 0.8142676949501038, \"x2\": 2.6111433506011963, \"y_val\": \"8\"}, {\"x1\": 7.737913131713867, \"x2\": 1.0510659217834473, \"y_val\": \"8\"}, {\"x1\": 23.005464553833008, \"x2\": 8.306432723999023, \"y_val\": \"7\"}, {\"x1\": 7.59849739074707, \"x2\": 13.480463027954102, \"y_val\": \"0\"}, {\"x1\": 19.665151596069336, \"x2\": 17.32452964782715, \"y_val\": \"1\"}, {\"x1\": 0.051387637853622437, \"x2\": 6.388084411621094, \"y_val\": \"6\"}, {\"x1\": 1.6737725734710693, \"x2\": 1.1985827684402466, \"y_val\": \"5\"}, {\"x1\": 13.413290977478027, \"x2\": 6.052009105682373, \"y_val\": \"5\"}, {\"x1\": 2.1083993911743164, \"x2\": 6.7950592041015625, \"y_val\": \"6\"}, {\"x1\": 3.769566059112549, \"x2\": 1.0004761219024658, \"y_val\": \"5\"}, {\"x1\": 2.8841590881347656, \"x2\": 9.697218894958496, \"y_val\": \"4\"}, {\"x1\": 2.351802110671997, \"x2\": 8.144801139831543, \"y_val\": \"6\"}, {\"x1\": 7.442164897918701, \"x2\": 12.606365203857422, \"y_val\": \"0\"}, {\"x1\": 1.6628317832946777, \"x2\": 5.2176947593688965, \"y_val\": \"6\"}, {\"x1\": 9.393475532531738, \"x2\": 8.74727725982666, \"y_val\": \"1\"}, {\"x1\": 11.587306022644043, \"x2\": 10.6337308883667, \"y_val\": \"1\"}, {\"x1\": 21.781526565551758, \"x2\": 8.99345588684082, \"y_val\": \"5\"}, {\"x1\": 7.1537041664123535, \"x2\": 1.3112190961837769, \"y_val\": \"7\"}, {\"x1\": 1.857619047164917, \"x2\": 6.9917073249816895, \"y_val\": \"6\"}, {\"x1\": 4.193667888641357, \"x2\": 1.4128378629684448, \"y_val\": \"5\"}, {\"x1\": 3.8586783409118652, \"x2\": 10.606619834899902, \"y_val\": \"4\"}, {\"x1\": 4.982723712921143, \"x2\": 8.185280799865723, \"y_val\": \"0\"}, {\"x1\": 1.7915074825286865, \"x2\": 2.81465482711792, \"y_val\": \"6\"}, {\"x1\": 8.343186378479004, \"x2\": 10.732277870178223, \"y_val\": \"0\"}, {\"x1\": 16.215084075927734, \"x2\": 4.5209527015686035, \"y_val\": \"7\"}, {\"x1\": 2.8440239429473877, \"x2\": 10.4689302444458, \"y_val\": \"2\"}, {\"x1\": 0.44114428758621216, \"x2\": 1.204463243484497, \"y_val\": \"8\"}, {\"x1\": 3.9436168670654297, \"x2\": 0.5025541186332703, \"y_val\": \"9\"}, {\"x1\": 14.797240257263184, \"x2\": 12.654829025268555, \"y_val\": \"1\"}, {\"x1\": 3.737494945526123, \"x2\": 8.972719192504883, \"y_val\": \"6\"}, {\"x1\": 22.558931350708008, \"x2\": 7.605893611907959, \"y_val\": \"7\"}, {\"x1\": 21.039976119995117, \"x2\": 16.646469116210938, \"y_val\": \"1\"}, {\"x1\": 2.312973737716675, \"x2\": 0.20651499927043915, \"y_val\": \"9\"}, {\"x1\": 5.801466464996338, \"x2\": 6.186068058013916, \"y_val\": \"8\"}, {\"x1\": 10.170262336730957, \"x2\": 11.512177467346191, \"y_val\": \"3\"}, {\"x1\": 6.179628372192383, \"x2\": 0.801106870174408, \"y_val\": \"5\"}, {\"x1\": 5.764951705932617, \"x2\": 1.5250178575515747, \"y_val\": \"7\"}, {\"x1\": 18.73030662536621, \"x2\": 17.06667137145996, \"y_val\": \"1\"}, {\"x1\": 18.971586227416992, \"x2\": 15.85352897644043, \"y_val\": \"1\"}, {\"x1\": 7.253030776977539, \"x2\": 1.0028349161148071, \"y_val\": \"9\"}, {\"x1\": 8.574437141418457, \"x2\": 10.58813762664795, \"y_val\": \"0\"}, {\"x1\": 2.564432144165039, \"x2\": 5.984625816345215, \"y_val\": \"6\"}, {\"x1\": 3.2183427810668945, \"x2\": 12.432950019836426, \"y_val\": \"4\"}, {\"x1\": 0.026936650276184082, \"x2\": 1.5401746034622192, \"y_val\": \"8\"}, {\"x1\": 6.994386672973633, \"x2\": 12.475324630737305, \"y_val\": \"0\"}, {\"x1\": 3.642526149749756, \"x2\": 0.8959331512451172, \"y_val\": \"9\"}, {\"x1\": 19.900094985961914, \"x2\": 8.699275970458984, \"y_val\": \"5\"}, {\"x1\": 6.67209005355835, \"x2\": 12.462779998779297, \"y_val\": \"0\"}, {\"x1\": 6.589740753173828, \"x2\": 11.33882999420166, \"y_val\": \"0\"}, {\"x1\": 23.615985870361328, \"x2\": 18.684619903564453, \"y_val\": \"1\"}, {\"x1\": 0.3471412658691406, \"x2\": 1.1653928756713867, \"y_val\": \"8\"}, {\"x1\": 14.737496376037598, \"x2\": 2.5461935997009277, \"y_val\": \"7\"}, {\"x1\": 5.498459815979004, \"x2\": 7.215839862823486, \"y_val\": \"6\"}, {\"x1\": 7.999934673309326, \"x2\": 2.4054644107818604, \"y_val\": \"7\"}, {\"x1\": 8.88729190826416, \"x2\": 0.8815256953239441, \"y_val\": \"9\"}, {\"x1\": 7.161859035491943, \"x2\": 12.503438949584961, \"y_val\": \"0\"}, {\"x1\": 7.785587310791016, \"x2\": 9.232677459716797, \"y_val\": \"3\"}, {\"x1\": 4.7928690910339355, \"x2\": 8.888745307922363, \"y_val\": \"0\"}, {\"x1\": 8.546699523925781, \"x2\": 8.374515533447266, \"y_val\": \"1\"}, {\"x1\": 10.218426704406738, \"x2\": 6.751118183135986, \"y_val\": \"3\"}, {\"x1\": 1.0201802253723145, \"x2\": 2.6868112087249756, \"y_val\": \"8\"}, {\"x1\": 6.792440414428711, \"x2\": 11.703849792480469, \"y_val\": \"0\"}, {\"x1\": 6.911348342895508, \"x2\": 8.244804382324219, \"y_val\": \"0\"}, {\"x1\": 25.583498001098633, \"x2\": 19.64575958251953, \"y_val\": \"1\"}, {\"x1\": 13.542317390441895, \"x2\": 3.0032365322113037, \"y_val\": \"7\"}, {\"x1\": 2.436457872390747, \"x2\": 6.54533576965332, \"y_val\": \"4\"}, {\"x1\": 15.334904670715332, \"x2\": 5.044459819793701, \"y_val\": \"7\"}, {\"x1\": 2.7624316215515137, \"x2\": 5.967202663421631, \"y_val\": \"3\"}, {\"x1\": 19.279396057128906, \"x2\": 4.758444309234619, \"y_val\": \"7\"}, {\"x1\": 1.658679723739624, \"x2\": 3.808607339859009, \"y_val\": \"0\"}, {\"x1\": 2.675511598587036, \"x2\": 10.112953186035156, \"y_val\": \"6\"}, {\"x1\": 7.526169776916504, \"x2\": 13.199260711669922, \"y_val\": \"0\"}, {\"x1\": 2.109545946121216, \"x2\": 5.407289028167725, \"y_val\": \"2\"}, {\"x1\": 20.561450958251953, \"x2\": 12.312432289123535, \"y_val\": \"3\"}, {\"x1\": 2.0247857570648193, \"x2\": 11.130364418029785, \"y_val\": \"4\"}, {\"x1\": 4.910575866699219, \"x2\": 2.408041000366211, \"y_val\": \"5\"}, {\"x1\": 6.703531265258789, \"x2\": 0.5058027505874634, \"y_val\": \"9\"}, {\"x1\": 31.67112159729004, \"x2\": 13.564579010009766, \"y_val\": \"5\"}, {\"x1\": 0.8275597095489502, \"x2\": 8.168143272399902, \"y_val\": \"2\"}, {\"x1\": 0.6791768074035645, \"x2\": 1.2158833742141724, \"y_val\": \"8\"}, {\"x1\": 17.799575805664062, \"x2\": 6.1818928718566895, \"y_val\": \"7\"}, {\"x1\": 4.548904895782471, \"x2\": 4.9521260261535645, \"y_val\": \"0\"}, {\"x1\": 2.330004930496216, \"x2\": 3.276965856552124, \"y_val\": \"1\"}, {\"x1\": 1.8064467906951904, \"x2\": 8.239616394042969, \"y_val\": \"4\"}, {\"x1\": 26.31818389892578, \"x2\": 21.176557540893555, \"y_val\": \"1\"}, {\"x1\": 0.2142060548067093, \"x2\": 1.028770089149475, \"y_val\": \"8\"}, {\"x1\": 16.488426208496094, \"x2\": 10.306565284729004, \"y_val\": \"3\"}, {\"x1\": 1.8434436321258545, \"x2\": 6.2539544105529785, \"y_val\": \"2\"}, {\"x1\": 27.148698806762695, \"x2\": 9.492634773254395, \"y_val\": \"7\"}, {\"x1\": 3.075197696685791, \"x2\": 1.1360725164413452, \"y_val\": \"5\"}, {\"x1\": 3.493734836578369, \"x2\": 5.3833088874816895, \"y_val\": \"0\"}, {\"x1\": 3.175279140472412, \"x2\": 0.09815157949924469, \"y_val\": \"9\"}, {\"x1\": 1.926476001739502, \"x2\": 5.810626983642578, \"y_val\": \"6\"}, {\"x1\": 1.6417200565338135, \"x2\": 8.3125, \"y_val\": \"6\"}, {\"x1\": 4.312100410461426, \"x2\": 0.879915177822113, \"y_val\": \"9\"}, {\"x1\": 8.294254302978516, \"x2\": 11.398920059204102, \"y_val\": \"3\"}, {\"x1\": 27.80175018310547, \"x2\": 18.94636344909668, \"y_val\": \"1\"}, {\"x1\": 5.562248229980469, \"x2\": 8.042068481445312, \"y_val\": \"1\"}, {\"x1\": 4.324421405792236, \"x2\": 0.28457844257354736, \"y_val\": \"9\"}, {\"x1\": 7.119415283203125, \"x2\": 0.571700930595398, \"y_val\": \"9\"}, {\"x1\": 10.435614585876465, \"x2\": 10.527200698852539, \"y_val\": \"3\"}, {\"x1\": 9.669812202453613, \"x2\": 2.041815996170044, \"y_val\": \"9\"}, {\"x1\": 18.27883529663086, \"x2\": 5.343378067016602, \"y_val\": \"7\"}, {\"x1\": 6.998193264007568, \"x2\": 10.71002197265625, \"y_val\": \"3\"}, {\"x1\": 3.512592315673828, \"x2\": 10.782379150390625, \"y_val\": \"1\"}, {\"x1\": 9.318974494934082, \"x2\": 0.5690001845359802, \"y_val\": \"9\"}, {\"x1\": 14.170918464660645, \"x2\": 13.121219635009766, \"y_val\": \"1\"}, {\"x1\": 7.903136730194092, \"x2\": 9.43569278717041, \"y_val\": \"6\"}, {\"x1\": 10.80892276763916, \"x2\": 12.515995025634766, \"y_val\": \"3\"}, {\"x1\": 6.811606407165527, \"x2\": 12.049530029296875, \"y_val\": \"0\"}, {\"x1\": 1.9694225788116455, \"x2\": 9.59464168548584, \"y_val\": \"4\"}, {\"x1\": 1.0082063674926758, \"x2\": 2.51021146774292, \"y_val\": \"8\"}, {\"x1\": 6.82290506362915, \"x2\": 11.471624374389648, \"y_val\": \"0\"}, {\"x1\": 4.863919258117676, \"x2\": 8.769145965576172, \"y_val\": \"6\"}, {\"x1\": 3.0823707580566406, \"x2\": 10.606473922729492, \"y_val\": \"6\"}, {\"x1\": 2.0949411392211914, \"x2\": 10.939319610595703, \"y_val\": \"2\"}, {\"x1\": 7.174472332000732, \"x2\": 1.6010955572128296, \"y_val\": \"9\"}, {\"x1\": 20.110551834106445, \"x2\": 18.76666831970215, \"y_val\": \"1\"}, {\"x1\": 3.5296988487243652, \"x2\": 0.5233687162399292, \"y_val\": \"9\"}, {\"x1\": 1.1922028064727783, \"x2\": 2.1877999305725098, \"y_val\": \"8\"}, {\"x1\": 8.563791275024414, \"x2\": 11.523015975952148, \"y_val\": \"3\"}, {\"x1\": 2.810032367706299, \"x2\": 10.800311088562012, \"y_val\": \"4\"}, {\"x1\": 13.991440773010254, \"x2\": 4.647099018096924, \"y_val\": \"7\"}, {\"x1\": 2.939858913421631, \"x2\": 12.251114845275879, \"y_val\": \"2\"}, {\"x1\": 3.188350200653076, \"x2\": 4.643922328948975, \"y_val\": \"0\"}, {\"x1\": 7.389216423034668, \"x2\": 12.813117980957031, \"y_val\": \"0\"}, {\"x1\": 1.0248732566833496, \"x2\": 2.638732433319092, \"y_val\": \"8\"}, {\"x1\": 1.5779082775115967, \"x2\": 9.93725872039795, \"y_val\": \"6\"}, {\"x1\": 3.6961493492126465, \"x2\": 0.8940224647521973, \"y_val\": \"9\"}, {\"x1\": 15.392603874206543, \"x2\": 13.764015197753906, \"y_val\": \"1\"}, {\"x1\": 1.923795223236084, \"x2\": 4.032141208648682, \"y_val\": \"2\"}, {\"x1\": 1.4565668106079102, \"x2\": 1.1638654470443726, \"y_val\": \"5\"}, {\"x1\": 1.9848296642303467, \"x2\": 9.816823959350586, \"y_val\": \"2\"}, {\"x1\": 0.6371291875839233, \"x2\": 2.531869649887085, \"y_val\": \"8\"}, {\"x1\": 2.351564884185791, \"x2\": 0.8144193887710571, \"y_val\": \"5\"}, {\"x1\": 2.4321465492248535, \"x2\": 7.159956455230713, \"y_val\": \"6\"}, {\"x1\": 8.782389640808105, \"x2\": 1.4120148420333862, \"y_val\": \"7\"}, {\"x1\": 6.113992691040039, \"x2\": 10.494173049926758, \"y_val\": \"0\"}, {\"x1\": 1.6035895347595215, \"x2\": 5.528425693511963, \"y_val\": \"6\"}, {\"x1\": 4.281800746917725, \"x2\": 5.414967060089111, \"y_val\": \"8\"}, {\"x1\": 7.826525688171387, \"x2\": 1.4229555130004883, \"y_val\": \"7\"}, {\"x1\": 17.560256958007812, \"x2\": 12.321357727050781, \"y_val\": \"1\"}, {\"x1\": 7.42451286315918, \"x2\": 10.742254257202148, \"y_val\": \"0\"}, {\"x1\": 7.867722511291504, \"x2\": 11.374921798706055, \"y_val\": \"3\"}, {\"x1\": 1.6445972919464111, \"x2\": 6.4628825187683105, \"y_val\": \"4\"}, {\"x1\": 9.833029747009277, \"x2\": 1.8994531631469727, \"y_val\": \"7\"}, {\"x1\": 3.1629438400268555, \"x2\": 0.8229242563247681, \"y_val\": \"5\"}, {\"x1\": 1.9323019981384277, \"x2\": 6.28618860244751, \"y_val\": \"2\"}, {\"x1\": 2.1951377391815186, \"x2\": 1.1976150274276733, \"y_val\": \"5\"}, {\"x1\": 16.109195709228516, \"x2\": 14.737197875976562, \"y_val\": \"1\"}, {\"x1\": 17.702716827392578, \"x2\": 14.808666229248047, \"y_val\": \"1\"}, {\"x1\": 5.6226935386657715, \"x2\": 1.9798580408096313, \"y_val\": \"5\"}, {\"x1\": 22.521169662475586, \"x2\": 8.068225860595703, \"y_val\": \"7\"}, {\"x1\": 9.31140422821045, \"x2\": 2.5781774520874023, \"y_val\": \"5\"}, {\"x1\": 8.343690872192383, \"x2\": 10.781083106994629, \"y_val\": \"1\"}, {\"x1\": 2.7909483909606934, \"x2\": 9.246155738830566, \"y_val\": \"4\"}, {\"x1\": 7.27085542678833, \"x2\": 0.6434500217437744, \"y_val\": \"9\"}, {\"x1\": 2.9760184288024902, \"x2\": 10.416720390319824, \"y_val\": \"6\"}, {\"x1\": 7.510862350463867, \"x2\": 3.133244276046753, \"y_val\": \"7\"}, {\"x1\": 2.4913506507873535, \"x2\": 0.9449054598808289, \"y_val\": \"5\"}, {\"x1\": 19.836755752563477, \"x2\": 6.826741695404053, \"y_val\": \"7\"}, {\"x1\": 15.398764610290527, \"x2\": 10.056838035583496, \"y_val\": \"3\"}, {\"x1\": 0.26027151942253113, \"x2\": 0.8304506540298462, \"y_val\": \"8\"}, {\"x1\": 8.224175453186035, \"x2\": 11.945710182189941, \"y_val\": \"2\"}, {\"x1\": 3.919301748275757, \"x2\": 0.38720786571502686, \"y_val\": \"9\"}, {\"x1\": 2.921415328979492, \"x2\": 11.442014694213867, \"y_val\": \"4\"}, {\"x1\": 1.7532386779785156, \"x2\": 9.699162483215332, \"y_val\": \"2\"}, {\"x1\": 1.5494894981384277, \"x2\": 1.010990858078003, \"y_val\": \"5\"}, {\"x1\": 7.322742462158203, \"x2\": 2.6410272121429443, \"y_val\": \"5\"}, {\"x1\": 14.160809516906738, \"x2\": 3.6144556999206543, \"y_val\": \"7\"}, {\"x1\": 0.7393816709518433, \"x2\": 5.7599406242370605, \"y_val\": \"4\"}, {\"x1\": 1.9407622814178467, \"x2\": 10.916658401489258, \"y_val\": \"2\"}, {\"x1\": 4.524502754211426, \"x2\": 12.913368225097656, \"y_val\": \"6\"}, {\"x1\": 1.7905218601226807, \"x2\": 0.41322600841522217, \"y_val\": \"9\"}, {\"x1\": 3.924978733062744, \"x2\": 6.712707042694092, \"y_val\": \"0\"}, {\"x1\": 9.567574501037598, \"x2\": 3.032841444015503, \"y_val\": \"5\"}, {\"x1\": 4.930842399597168, \"x2\": 12.937070846557617, \"y_val\": \"3\"}, {\"x1\": 1.6424455642700195, \"x2\": 5.746881484985352, \"y_val\": \"6\"}, {\"x1\": 7.265465259552002, \"x2\": 0.6459164619445801, \"y_val\": \"9\"}, {\"x1\": 1.5477941036224365, \"x2\": 1.141964316368103, \"y_val\": \"5\"}, {\"x1\": 8.017189025878906, \"x2\": 11.68648624420166, \"y_val\": \"3\"}, {\"x1\": 1.5241026878356934, \"x2\": 8.862573623657227, \"y_val\": \"6\"}, {\"x1\": 4.548723220825195, \"x2\": 6.937692165374756, \"y_val\": \"0\"}, {\"x1\": 8.536645889282227, \"x2\": 12.490942001342773, \"y_val\": \"3\"}, {\"x1\": 10.04103946685791, \"x2\": 3.750075101852417, \"y_val\": \"5\"}, {\"x1\": 6.730058670043945, \"x2\": 2.078867197036743, \"y_val\": \"7\"}, {\"x1\": 16.731943130493164, \"x2\": 15.19107437133789, \"y_val\": \"1\"}, {\"x1\": 1.2664289474487305, \"x2\": 6.582235813140869, \"y_val\": \"2\"}, {\"x1\": 15.1709623336792, \"x2\": 6.119236946105957, \"y_val\": \"5\"}, {\"x1\": 26.634538650512695, \"x2\": 8.651459693908691, \"y_val\": \"7\"}, {\"x1\": 0.8275232911109924, \"x2\": 2.77079439163208, \"y_val\": \"8\"}, {\"x1\": 22.792970657348633, \"x2\": 19.44520378112793, \"y_val\": \"1\"}, {\"x1\": 2.1930325031280518, \"x2\": 10.872824668884277, \"y_val\": \"6\"}, {\"x1\": 11.106148719787598, \"x2\": 11.981756210327148, \"y_val\": \"3\"}, {\"x1\": 2.9428582191467285, \"x2\": 0.33644235134124756, \"y_val\": \"9\"}, {\"x1\": 10.765929222106934, \"x2\": 2.723623514175415, \"y_val\": \"7\"}, {\"x1\": 12.549357414245605, \"x2\": 4.712985515594482, \"y_val\": \"7\"}, {\"x1\": 5.597316741943359, \"x2\": 9.729911804199219, \"y_val\": \"0\"}, {\"x1\": 4.794345855712891, \"x2\": 12.691415786743164, \"y_val\": \"4\"}, {\"x1\": 7.1100311279296875, \"x2\": 12.276498794555664, \"y_val\": \"0\"}, {\"x1\": 0.22905465960502625, \"x2\": 1.139256477355957, \"y_val\": \"8\"}, {\"x1\": 15.264460563659668, \"x2\": 4.309590816497803, \"y_val\": \"7\"}, {\"x1\": 2.4961462020874023, \"x2\": 10.245257377624512, \"y_val\": \"6\"}, {\"x1\": 9.689007759094238, \"x2\": 1.81889009475708, \"y_val\": \"9\"}, {\"x1\": 0.49536532163619995, \"x2\": 1.260932207107544, \"y_val\": \"0\"}, {\"x1\": 1.865466594696045, \"x2\": 8.872383117675781, \"y_val\": \"2\"}, {\"x1\": 17.419878005981445, \"x2\": 5.520529747009277, \"y_val\": \"7\"}, {\"x1\": 1.9298756122589111, \"x2\": 5.113214492797852, \"y_val\": \"6\"}, {\"x1\": 3.4112918376922607, \"x2\": 5.186171531677246, \"y_val\": \"0\"}, {\"x1\": 2.6676063537597656, \"x2\": 10.127243041992188, \"y_val\": \"4\"}, {\"x1\": 12.792098045349121, \"x2\": 3.5234389305114746, \"y_val\": \"7\"}, {\"x1\": 3.508671283721924, \"x2\": 10.574556350708008, \"y_val\": \"4\"}, {\"x1\": 13.483586311340332, \"x2\": 12.416759490966797, \"y_val\": \"1\"}, {\"x1\": 4.206502914428711, \"x2\": 12.976764678955078, \"y_val\": \"2\"}, {\"x1\": 1.7773418426513672, \"x2\": 9.06706714630127, \"y_val\": \"6\"}, {\"x1\": 15.35152530670166, \"x2\": 4.93890905380249, \"y_val\": \"7\"}, {\"x1\": 0.12629860639572144, \"x2\": 1.3115020990371704, \"y_val\": \"8\"}, {\"x1\": 2.968240261077881, \"x2\": 12.209098815917969, \"y_val\": \"2\"}, {\"x1\": 5.541940689086914, \"x2\": 1.9622310400009155, \"y_val\": \"5\"}, {\"x1\": 1.8214876651763916, \"x2\": 0.7929679751396179, \"y_val\": \"6\"}, {\"x1\": 3.187725305557251, \"x2\": 4.890309810638428, \"y_val\": \"0\"}, {\"x1\": 2.0982134342193604, \"x2\": 5.893225193023682, \"y_val\": \"2\"}, {\"x1\": 2.402317523956299, \"x2\": 0.3800578713417053, \"y_val\": \"9\"}, {\"x1\": 0.8044925332069397, \"x2\": 3.032768964767456, \"y_val\": \"8\"}, {\"x1\": 5.227097511291504, \"x2\": 1.2935612201690674, \"y_val\": \"5\"}, {\"x1\": 8.241604804992676, \"x2\": 12.073299407958984, \"y_val\": \"4\"}, {\"x1\": 10.194658279418945, \"x2\": 2.788691520690918, \"y_val\": \"5\"}, {\"x1\": 5.23614501953125, \"x2\": 2.504862070083618, \"y_val\": \"7\"}, {\"x1\": 8.74587631225586, \"x2\": 12.806583404541016, \"y_val\": \"3\"}, {\"x1\": 3.552237033843994, \"x2\": 4.392987251281738, \"y_val\": \"3\"}, {\"x1\": 4.629231929779053, \"x2\": 0.3343670964241028, \"y_val\": \"9\"}, {\"x1\": 0.3380272388458252, \"x2\": 1.205662488937378, \"y_val\": \"8\"}]}}, {\"mode\": \"vega-lite\"});\n",
              "</script>"
            ]
          },
          "metadata": {},
          "execution_count": 52
        }
      ]
    },
    {
      "cell_type": "code",
      "source": [
        "help(fashion_mnist.load_data)"
      ],
      "metadata": {
        "colab": {
          "base_uri": "https://localhost:8080/"
        },
        "id": "0ut_EzUv0Kxi",
        "outputId": "cbdd01c8-5f93-4b0d-f85d-2805e23b8626"
      },
      "execution_count": 53,
      "outputs": [
        {
          "output_type": "stream",
          "name": "stdout",
          "text": [
            "Help on function load_data in module keras.datasets.fashion_mnist:\n",
            "\n",
            "load_data()\n",
            "    Loads the Fashion-MNIST dataset.\n",
            "    \n",
            "    This is a dataset of 60,000 28x28 grayscale images of 10 fashion categories,\n",
            "    along with a test set of 10,000 images. This dataset can be used as\n",
            "    a drop-in replacement for MNIST.\n",
            "    \n",
            "    The classes are:\n",
            "    \n",
            "    | Label | Description |\n",
            "    |:-----:|-------------|\n",
            "    |   0   | T-shirt/top |\n",
            "    |   1   | Trouser     |\n",
            "    |   2   | Pullover    |\n",
            "    |   3   | Dress       |\n",
            "    |   4   | Coat        |\n",
            "    |   5   | Sandal      |\n",
            "    |   6   | Shirt       |\n",
            "    |   7   | Sneaker     |\n",
            "    |   8   | Bag         |\n",
            "    |   9   | Ankle boot  |\n",
            "    \n",
            "    Returns:\n",
            "      Tuple of NumPy arrays: `(x_train, y_train), (x_test, y_test)`.\n",
            "    \n",
            "    **x_train**: uint8 NumPy array of grayscale image data with shapes\n",
            "      `(60000, 28, 28)`, containing the training data.\n",
            "    \n",
            "    **y_train**: uint8 NumPy array of labels (integers in range 0-9)\n",
            "      with shape `(60000,)` for the training data.\n",
            "    \n",
            "    **x_test**: uint8 NumPy array of grayscale image data with shapes\n",
            "      (10000, 28, 28), containing the test data.\n",
            "    \n",
            "    **y_test**: uint8 NumPy array of labels (integers in range 0-9)\n",
            "      with shape `(10000,)` for the test data.\n",
            "    \n",
            "    Example:\n",
            "    \n",
            "    ```python\n",
            "    (x_train, y_train), (x_test, y_test) = fashion_mnist.load_data()\n",
            "    assert x_train.shape == (60000, 28, 28)\n",
            "    assert x_test.shape == (10000, 28, 28)\n",
            "    assert y_train.shape == (60000,)\n",
            "    assert y_test.shape == (10000,)\n",
            "    ```\n",
            "    \n",
            "    License:\n",
            "      The copyright for Fashion-MNIST is held by Zalando SE.\n",
            "      Fashion-MNIST is licensed under the [MIT license](\n",
            "      https://github.com/zalandoresearch/fashion-mnist/blob/master/LICENSE).\n",
            "\n"
          ]
        }
      ]
    },
    {
      "cell_type": "code",
      "source": [
        "X_train_3 = X_train[np.isin(y_train, [0,1,5])]"
      ],
      "metadata": {
        "id": "t6B8NQJtRTVy"
      },
      "execution_count": 8,
      "outputs": []
    },
    {
      "cell_type": "code",
      "source": [
        "model2_encoder = Sequential()\n",
        "\n",
        "model2_encoder.add(Flatten(input_shape=[28,28]))\n",
        "\n",
        "model2_encoder.add(Dense(units=500, activation='selu'))\n",
        "model2_encoder.add(Dense(units=250, activation='selu'))\n",
        "model2_encoder.add(Dense(units=100, activation='selu'))\n",
        "model2_encoder.add(Dense(units=50, activation='selu'))\n",
        "model2_encoder.add(Dense(units=25, activation='selu'))\n",
        "\n",
        "## Decoder\n",
        "\n",
        "model2_decoder = Sequential()\n",
        "model2_decoder.add(Dense(units=50, activation='selu'))\n",
        "model2_decoder.add(Dense(units=100, activation='selu'))\n",
        "model2_encoder.add(Dense(units=250, activation='selu'))\n",
        "model2_decoder.add(Dense(units=500, activation='selu'))\n",
        "model2_decoder.add(Dense(units=(28*28), activation='sigmoid'))\n",
        "\n",
        "## Reshaping\n",
        "model2_decoder.add(Reshape(target_shape=[28,28]))\n",
        "\n"
      ],
      "metadata": {
        "id": "_51fozJc0dzE"
      },
      "execution_count": 73,
      "outputs": []
    },
    {
      "cell_type": "code",
      "source": [
        "from tensorflow.keras.optimizers import SGD"
      ],
      "metadata": {
        "id": "RX4hCUnp75_c"
      },
      "execution_count": 74,
      "outputs": []
    },
    {
      "cell_type": "code",
      "source": [
        "model2_ae=Sequential([model2_encoder, model2_decoder])\n",
        "model2_ae.compile(loss='binary_crossentropy', optimizer=SGD(learning_rate=1.5))"
      ],
      "metadata": {
        "id": "yyj7NbRM7qn2"
      },
      "execution_count": 75,
      "outputs": []
    },
    {
      "cell_type": "code",
      "source": [
        "model2_ae.summary()"
      ],
      "metadata": {
        "colab": {
          "base_uri": "https://localhost:8080/"
        },
        "id": "1vYhCn6e1bUS",
        "outputId": "b5c76e48-150f-48d0-ff19-e0c030f06b0b"
      },
      "execution_count": 76,
      "outputs": [
        {
          "output_type": "stream",
          "name": "stdout",
          "text": [
            "Model: \"sequential_11\"\n",
            "_________________________________________________________________\n",
            " Layer (type)                Output Shape              Param #   \n",
            "=================================================================\n",
            " sequential_9 (Sequential)   (None, 250)               555675    \n",
            "                                                                 \n",
            " sequential_10 (Sequential)  (None, 28, 28)            460934    \n",
            "                                                                 \n",
            "=================================================================\n",
            "Total params: 1,016,609\n",
            "Trainable params: 1,016,609\n",
            "Non-trainable params: 0\n",
            "_________________________________________________________________\n"
          ]
        }
      ]
    },
    {
      "cell_type": "code",
      "source": [
        "X_test = X_test/255"
      ],
      "metadata": {
        "id": "d-f2FdKr8WjW"
      },
      "execution_count": 19,
      "outputs": []
    },
    {
      "cell_type": "code",
      "source": [
        "X_test_3 = X_test[np.isin(y_test, [0,1,5])]"
      ],
      "metadata": {
        "id": "B8bjs1vYSVGY"
      },
      "execution_count": 39,
      "outputs": []
    },
    {
      "cell_type": "code",
      "source": [
        "model2_ae.fit(X_train_3, X_train_3, epochs=15, validation_data=[X_test_3, X_test_3])"
      ],
      "metadata": {
        "colab": {
          "base_uri": "https://localhost:8080/"
        },
        "id": "M50bx_mZ1clR",
        "outputId": "6dd1ec17-1c60-4035-e388-46b54a378e48"
      },
      "execution_count": 77,
      "outputs": [
        {
          "output_type": "stream",
          "name": "stdout",
          "text": [
            "Epoch 1/15\n",
            "563/563 [==============================] - 9s 16ms/step - loss: 0.3205 - val_loss: 0.0780\n",
            "Epoch 2/15\n",
            "563/563 [==============================] - 8s 15ms/step - loss: 0.2804 - val_loss: 0.0479\n",
            "Epoch 3/15\n",
            "563/563 [==============================] - 8s 15ms/step - loss: 0.2714 - val_loss: 0.0366\n",
            "Epoch 4/15\n",
            "563/563 [==============================] - 8s 15ms/step - loss: 0.2641 - val_loss: 0.0468\n",
            "Epoch 5/15\n",
            "563/563 [==============================] - 8s 15ms/step - loss: 0.2600 - val_loss: 0.0352\n",
            "Epoch 6/15\n",
            "563/563 [==============================] - 9s 15ms/step - loss: 0.2567 - val_loss: 0.0339\n",
            "Epoch 7/15\n",
            "563/563 [==============================] - 8s 15ms/step - loss: 0.2542 - val_loss: 0.0313\n",
            "Epoch 8/15\n",
            "563/563 [==============================] - 8s 15ms/step - loss: 0.2517 - val_loss: 0.0287\n",
            "Epoch 9/15\n",
            "563/563 [==============================] - 9s 15ms/step - loss: 0.2502 - val_loss: 0.0271\n",
            "Epoch 10/15\n",
            "563/563 [==============================] - 9s 15ms/step - loss: 0.2483 - val_loss: 0.0200\n",
            "Epoch 11/15\n",
            "563/563 [==============================] - 9s 15ms/step - loss: 0.2474 - val_loss: 0.0227\n",
            "Epoch 12/15\n",
            "563/563 [==============================] - 8s 15ms/step - loss: 0.2463 - val_loss: 0.0204\n",
            "Epoch 13/15\n",
            "563/563 [==============================] - 9s 15ms/step - loss: 0.2457 - val_loss: 0.0193\n",
            "Epoch 14/15\n",
            "563/563 [==============================] - 8s 15ms/step - loss: 0.2445 - val_loss: 0.0159\n",
            "Epoch 15/15\n",
            "563/563 [==============================] - 8s 15ms/step - loss: 0.2438 - val_loss: 0.0163\n"
          ]
        },
        {
          "output_type": "execute_result",
          "data": {
            "text/plain": [
              "<keras.callbacks.History at 0x7f0c13c24ad0>"
            ]
          },
          "metadata": {},
          "execution_count": 77
        }
      ]
    },
    {
      "cell_type": "code",
      "source": [
        "model2_softmax = model2_ae.layers[0]"
      ],
      "metadata": {
        "id": "9PbKR3KvLc3I"
      },
      "execution_count": 78,
      "outputs": []
    },
    {
      "cell_type": "code",
      "source": [
        "model2_softmax.add(Dense(units=3, activation='softmax'))"
      ],
      "metadata": {
        "id": "Y_GjkdT5Lydd"
      },
      "execution_count": 79,
      "outputs": []
    },
    {
      "cell_type": "code",
      "source": [
        "model2_softmax.summary()"
      ],
      "metadata": {
        "colab": {
          "base_uri": "https://localhost:8080/"
        },
        "id": "SfwXn9MxL7FF",
        "outputId": "b4692599-9e81-4827-fba1-a359b4dc5f09"
      },
      "execution_count": 80,
      "outputs": [
        {
          "output_type": "stream",
          "name": "stdout",
          "text": [
            "Model: \"sequential_9\"\n",
            "_________________________________________________________________\n",
            " Layer (type)                Output Shape              Param #   \n",
            "=================================================================\n",
            " flatten_3 (Flatten)         (None, 784)               0         \n",
            "                                                                 \n",
            " dense_26 (Dense)            (None, 500)               392500    \n",
            "                                                                 \n",
            " dense_27 (Dense)            (None, 250)               125250    \n",
            "                                                                 \n",
            " dense_28 (Dense)            (None, 100)               25100     \n",
            "                                                                 \n",
            " dense_29 (Dense)            (None, 50)                5050      \n",
            "                                                                 \n",
            " dense_30 (Dense)            (None, 25)                1275      \n",
            "                                                                 \n",
            " dense_33 (Dense)            (None, 250)               6500      \n",
            "                                                                 \n",
            " dense_36 (Dense)            (None, 3)                 753       \n",
            "                                                                 \n",
            "=================================================================\n",
            "Total params: 556,428\n",
            "Trainable params: 556,428\n",
            "Non-trainable params: 0\n",
            "_________________________________________________________________\n"
          ]
        }
      ]
    },
    {
      "cell_type": "code",
      "source": [
        "model2_softmax_predicted = model2_softmax.predict(X_train_3)"
      ],
      "metadata": {
        "id": "GrxzAeZ2MDOV"
      },
      "execution_count": 94,
      "outputs": []
    },
    {
      "cell_type": "code",
      "source": [
        "model_outputs = np.argmax(model2_softmax_predicted, axis=1)\n",
        "# model_outputs"
      ],
      "metadata": {
        "id": "rJUd5YiIMMW7"
      },
      "execution_count": 95,
      "outputs": []
    },
    {
      "cell_type": "code",
      "source": [
        "y_train_2 = y_train[np.isin(y_train, [0,1,5])]"
      ],
      "metadata": {
        "id": "gM2uIY1FMpsu"
      },
      "execution_count": 96,
      "outputs": []
    },
    {
      "cell_type": "code",
      "source": [
        "test_results = pd.DataFrame(zip(model_outputs, y_train_2), columns=['predicted', 'original'])"
      ],
      "metadata": {
        "id": "Vs37fdewNPhl"
      },
      "execution_count": 97,
      "outputs": []
    },
    {
      "cell_type": "code",
      "source": [
        "test_results"
      ],
      "metadata": {
        "colab": {
          "base_uri": "https://localhost:8080/",
          "height": 990
        },
        "id": "yB6xxBGwNiR_",
        "outputId": "bf86937c-011f-4da3-8f66-e03b0c23e76c"
      },
      "execution_count": 93,
      "outputs": [
        {
          "output_type": "execute_result",
          "data": {
            "text/html": [
              "\n",
              "  <div id=\"df-0c85b53c-d28e-4fab-93cc-8e8c1a336265\">\n",
              "    <div class=\"colab-df-container\">\n",
              "      <div>\n",
              "<style scoped>\n",
              "    .dataframe tbody tr th:only-of-type {\n",
              "        vertical-align: middle;\n",
              "    }\n",
              "\n",
              "    .dataframe tbody tr th {\n",
              "        vertical-align: top;\n",
              "    }\n",
              "\n",
              "    .dataframe thead th {\n",
              "        text-align: right;\n",
              "    }\n",
              "</style>\n",
              "<table border=\"1\" class=\"dataframe\">\n",
              "  <thead>\n",
              "    <tr style=\"text-align: right;\">\n",
              "      <th></th>\n",
              "      <th>predicted</th>\n",
              "      <th>original</th>\n",
              "    </tr>\n",
              "  </thead>\n",
              "  <tbody>\n",
              "    <tr>\n",
              "      <th>0</th>\n",
              "      <td>0</td>\n",
              "      <td>0</td>\n",
              "    </tr>\n",
              "    <tr>\n",
              "      <th>1</th>\n",
              "      <td>2</td>\n",
              "      <td>0</td>\n",
              "    </tr>\n",
              "    <tr>\n",
              "      <th>2</th>\n",
              "      <td>0</td>\n",
              "      <td>0</td>\n",
              "    </tr>\n",
              "    <tr>\n",
              "      <th>3</th>\n",
              "      <td>2</td>\n",
              "      <td>5</td>\n",
              "    </tr>\n",
              "    <tr>\n",
              "      <th>4</th>\n",
              "      <td>1</td>\n",
              "      <td>5</td>\n",
              "    </tr>\n",
              "    <tr>\n",
              "      <th>5</th>\n",
              "      <td>2</td>\n",
              "      <td>0</td>\n",
              "    </tr>\n",
              "    <tr>\n",
              "      <th>6</th>\n",
              "      <td>2</td>\n",
              "      <td>5</td>\n",
              "    </tr>\n",
              "    <tr>\n",
              "      <th>7</th>\n",
              "      <td>2</td>\n",
              "      <td>5</td>\n",
              "    </tr>\n",
              "    <tr>\n",
              "      <th>8</th>\n",
              "      <td>2</td>\n",
              "      <td>1</td>\n",
              "    </tr>\n",
              "    <tr>\n",
              "      <th>9</th>\n",
              "      <td>0</td>\n",
              "      <td>0</td>\n",
              "    </tr>\n",
              "    <tr>\n",
              "      <th>10</th>\n",
              "      <td>0</td>\n",
              "      <td>1</td>\n",
              "    </tr>\n",
              "    <tr>\n",
              "      <th>11</th>\n",
              "      <td>1</td>\n",
              "      <td>0</td>\n",
              "    </tr>\n",
              "    <tr>\n",
              "      <th>12</th>\n",
              "      <td>1</td>\n",
              "      <td>5</td>\n",
              "    </tr>\n",
              "    <tr>\n",
              "      <th>13</th>\n",
              "      <td>2</td>\n",
              "      <td>0</td>\n",
              "    </tr>\n",
              "    <tr>\n",
              "      <th>14</th>\n",
              "      <td>2</td>\n",
              "      <td>5</td>\n",
              "    </tr>\n",
              "    <tr>\n",
              "      <th>15</th>\n",
              "      <td>1</td>\n",
              "      <td>1</td>\n",
              "    </tr>\n",
              "    <tr>\n",
              "      <th>16</th>\n",
              "      <td>2</td>\n",
              "      <td>5</td>\n",
              "    </tr>\n",
              "    <tr>\n",
              "      <th>17</th>\n",
              "      <td>2</td>\n",
              "      <td>0</td>\n",
              "    </tr>\n",
              "    <tr>\n",
              "      <th>18</th>\n",
              "      <td>2</td>\n",
              "      <td>5</td>\n",
              "    </tr>\n",
              "    <tr>\n",
              "      <th>19</th>\n",
              "      <td>2</td>\n",
              "      <td>0</td>\n",
              "    </tr>\n",
              "    <tr>\n",
              "      <th>20</th>\n",
              "      <td>2</td>\n",
              "      <td>5</td>\n",
              "    </tr>\n",
              "    <tr>\n",
              "      <th>21</th>\n",
              "      <td>2</td>\n",
              "      <td>5</td>\n",
              "    </tr>\n",
              "    <tr>\n",
              "      <th>22</th>\n",
              "      <td>0</td>\n",
              "      <td>0</td>\n",
              "    </tr>\n",
              "    <tr>\n",
              "      <th>23</th>\n",
              "      <td>0</td>\n",
              "      <td>0</td>\n",
              "    </tr>\n",
              "    <tr>\n",
              "      <th>24</th>\n",
              "      <td>0</td>\n",
              "      <td>0</td>\n",
              "    </tr>\n",
              "    <tr>\n",
              "      <th>25</th>\n",
              "      <td>0</td>\n",
              "      <td>1</td>\n",
              "    </tr>\n",
              "    <tr>\n",
              "      <th>26</th>\n",
              "      <td>0</td>\n",
              "      <td>1</td>\n",
              "    </tr>\n",
              "    <tr>\n",
              "      <th>27</th>\n",
              "      <td>1</td>\n",
              "      <td>1</td>\n",
              "    </tr>\n",
              "    <tr>\n",
              "      <th>28</th>\n",
              "      <td>2</td>\n",
              "      <td>1</td>\n",
              "    </tr>\n",
              "    <tr>\n",
              "      <th>29</th>\n",
              "      <td>0</td>\n",
              "      <td>1</td>\n",
              "    </tr>\n",
              "  </tbody>\n",
              "</table>\n",
              "</div>\n",
              "      <button class=\"colab-df-convert\" onclick=\"convertToInteractive('df-0c85b53c-d28e-4fab-93cc-8e8c1a336265')\"\n",
              "              title=\"Convert this dataframe to an interactive table.\"\n",
              "              style=\"display:none;\">\n",
              "        \n",
              "  <svg xmlns=\"http://www.w3.org/2000/svg\" height=\"24px\"viewBox=\"0 0 24 24\"\n",
              "       width=\"24px\">\n",
              "    <path d=\"M0 0h24v24H0V0z\" fill=\"none\"/>\n",
              "    <path d=\"M18.56 5.44l.94 2.06.94-2.06 2.06-.94-2.06-.94-.94-2.06-.94 2.06-2.06.94zm-11 1L8.5 8.5l.94-2.06 2.06-.94-2.06-.94L8.5 2.5l-.94 2.06-2.06.94zm10 10l.94 2.06.94-2.06 2.06-.94-2.06-.94-.94-2.06-.94 2.06-2.06.94z\"/><path d=\"M17.41 7.96l-1.37-1.37c-.4-.4-.92-.59-1.43-.59-.52 0-1.04.2-1.43.59L10.3 9.45l-7.72 7.72c-.78.78-.78 2.05 0 2.83L4 21.41c.39.39.9.59 1.41.59.51 0 1.02-.2 1.41-.59l7.78-7.78 2.81-2.81c.8-.78.8-2.07 0-2.86zM5.41 20L4 18.59l7.72-7.72 1.47 1.35L5.41 20z\"/>\n",
              "  </svg>\n",
              "      </button>\n",
              "      \n",
              "  <style>\n",
              "    .colab-df-container {\n",
              "      display:flex;\n",
              "      flex-wrap:wrap;\n",
              "      gap: 12px;\n",
              "    }\n",
              "\n",
              "    .colab-df-convert {\n",
              "      background-color: #E8F0FE;\n",
              "      border: none;\n",
              "      border-radius: 50%;\n",
              "      cursor: pointer;\n",
              "      display: none;\n",
              "      fill: #1967D2;\n",
              "      height: 32px;\n",
              "      padding: 0 0 0 0;\n",
              "      width: 32px;\n",
              "    }\n",
              "\n",
              "    .colab-df-convert:hover {\n",
              "      background-color: #E2EBFA;\n",
              "      box-shadow: 0px 1px 2px rgba(60, 64, 67, 0.3), 0px 1px 3px 1px rgba(60, 64, 67, 0.15);\n",
              "      fill: #174EA6;\n",
              "    }\n",
              "\n",
              "    [theme=dark] .colab-df-convert {\n",
              "      background-color: #3B4455;\n",
              "      fill: #D2E3FC;\n",
              "    }\n",
              "\n",
              "    [theme=dark] .colab-df-convert:hover {\n",
              "      background-color: #434B5C;\n",
              "      box-shadow: 0px 1px 3px 1px rgba(0, 0, 0, 0.15);\n",
              "      filter: drop-shadow(0px 1px 2px rgba(0, 0, 0, 0.3));\n",
              "      fill: #FFFFFF;\n",
              "    }\n",
              "  </style>\n",
              "\n",
              "      <script>\n",
              "        const buttonEl =\n",
              "          document.querySelector('#df-0c85b53c-d28e-4fab-93cc-8e8c1a336265 button.colab-df-convert');\n",
              "        buttonEl.style.display =\n",
              "          google.colab.kernel.accessAllowed ? 'block' : 'none';\n",
              "\n",
              "        async function convertToInteractive(key) {\n",
              "          const element = document.querySelector('#df-0c85b53c-d28e-4fab-93cc-8e8c1a336265');\n",
              "          const dataTable =\n",
              "            await google.colab.kernel.invokeFunction('convertToInteractive',\n",
              "                                                     [key], {});\n",
              "          if (!dataTable) return;\n",
              "\n",
              "          const docLinkHtml = 'Like what you see? Visit the ' +\n",
              "            '<a target=\"_blank\" href=https://colab.research.google.com/notebooks/data_table.ipynb>data table notebook</a>'\n",
              "            + ' to learn more about interactive tables.';\n",
              "          element.innerHTML = '';\n",
              "          dataTable['output_type'] = 'display_data';\n",
              "          await google.colab.output.renderOutput(dataTable, element);\n",
              "          const docLink = document.createElement('div');\n",
              "          docLink.innerHTML = docLinkHtml;\n",
              "          element.appendChild(docLink);\n",
              "        }\n",
              "      </script>\n",
              "    </div>\n",
              "  </div>\n",
              "  "
            ],
            "text/plain": [
              "    predicted  original\n",
              "0           0         0\n",
              "1           2         0\n",
              "2           0         0\n",
              "3           2         5\n",
              "4           1         5\n",
              "5           2         0\n",
              "6           2         5\n",
              "7           2         5\n",
              "8           2         1\n",
              "9           0         0\n",
              "10          0         1\n",
              "11          1         0\n",
              "12          1         5\n",
              "13          2         0\n",
              "14          2         5\n",
              "15          1         1\n",
              "16          2         5\n",
              "17          2         0\n",
              "18          2         5\n",
              "19          2         0\n",
              "20          2         5\n",
              "21          2         5\n",
              "22          0         0\n",
              "23          0         0\n",
              "24          0         0\n",
              "25          0         1\n",
              "26          0         1\n",
              "27          1         1\n",
              "28          2         1\n",
              "29          0         1"
            ]
          },
          "metadata": {},
          "execution_count": 93
        }
      ]
    },
    {
      "cell_type": "code",
      "source": [
        "output_df = test_results.groupby(['predicted', 'original']).aggregate(len)"
      ],
      "metadata": {
        "id": "VunSAMrLRl0y"
      },
      "execution_count": 98,
      "outputs": []
    },
    {
      "cell_type": "code",
      "source": [
        "import seaborn as sns"
      ],
      "metadata": {
        "id": "ygubQPrFSCXs"
      },
      "execution_count": 67,
      "outputs": []
    },
    {
      "cell_type": "code",
      "source": [
        "pd.DataFrame(output_df)"
      ],
      "metadata": {
        "colab": {
          "base_uri": "https://localhost:8080/",
          "height": 363
        },
        "id": "dPhnECZzR78I",
        "outputId": "b791b865-a4eb-420e-8ce0-a5a34902a945"
      },
      "execution_count": 99,
      "outputs": [
        {
          "output_type": "execute_result",
          "data": {
            "text/html": [
              "\n",
              "  <div id=\"df-a979a032-acc3-40d1-9d19-65e4610992a0\">\n",
              "    <div class=\"colab-df-container\">\n",
              "      <div>\n",
              "<style scoped>\n",
              "    .dataframe tbody tr th:only-of-type {\n",
              "        vertical-align: middle;\n",
              "    }\n",
              "\n",
              "    .dataframe tbody tr th {\n",
              "        vertical-align: top;\n",
              "    }\n",
              "\n",
              "    .dataframe thead th {\n",
              "        text-align: right;\n",
              "    }\n",
              "</style>\n",
              "<table border=\"1\" class=\"dataframe\">\n",
              "  <thead>\n",
              "    <tr style=\"text-align: right;\">\n",
              "      <th></th>\n",
              "      <th></th>\n",
              "      <th>0</th>\n",
              "    </tr>\n",
              "    <tr>\n",
              "      <th>predicted</th>\n",
              "      <th>original</th>\n",
              "      <th></th>\n",
              "    </tr>\n",
              "  </thead>\n",
              "  <tbody>\n",
              "    <tr>\n",
              "      <th rowspan=\"3\" valign=\"top\">0</th>\n",
              "      <th>0</th>\n",
              "      <td>2424</td>\n",
              "    </tr>\n",
              "    <tr>\n",
              "      <th>1</th>\n",
              "      <td>2773</td>\n",
              "    </tr>\n",
              "    <tr>\n",
              "      <th>5</th>\n",
              "      <td>247</td>\n",
              "    </tr>\n",
              "    <tr>\n",
              "      <th rowspan=\"3\" valign=\"top\">1</th>\n",
              "      <th>0</th>\n",
              "      <td>1015</td>\n",
              "    </tr>\n",
              "    <tr>\n",
              "      <th>1</th>\n",
              "      <td>1272</td>\n",
              "    </tr>\n",
              "    <tr>\n",
              "      <th>5</th>\n",
              "      <td>1248</td>\n",
              "    </tr>\n",
              "    <tr>\n",
              "      <th rowspan=\"3\" valign=\"top\">2</th>\n",
              "      <th>0</th>\n",
              "      <td>2561</td>\n",
              "    </tr>\n",
              "    <tr>\n",
              "      <th>1</th>\n",
              "      <td>1955</td>\n",
              "    </tr>\n",
              "    <tr>\n",
              "      <th>5</th>\n",
              "      <td>4505</td>\n",
              "    </tr>\n",
              "  </tbody>\n",
              "</table>\n",
              "</div>\n",
              "      <button class=\"colab-df-convert\" onclick=\"convertToInteractive('df-a979a032-acc3-40d1-9d19-65e4610992a0')\"\n",
              "              title=\"Convert this dataframe to an interactive table.\"\n",
              "              style=\"display:none;\">\n",
              "        \n",
              "  <svg xmlns=\"http://www.w3.org/2000/svg\" height=\"24px\"viewBox=\"0 0 24 24\"\n",
              "       width=\"24px\">\n",
              "    <path d=\"M0 0h24v24H0V0z\" fill=\"none\"/>\n",
              "    <path d=\"M18.56 5.44l.94 2.06.94-2.06 2.06-.94-2.06-.94-.94-2.06-.94 2.06-2.06.94zm-11 1L8.5 8.5l.94-2.06 2.06-.94-2.06-.94L8.5 2.5l-.94 2.06-2.06.94zm10 10l.94 2.06.94-2.06 2.06-.94-2.06-.94-.94-2.06-.94 2.06-2.06.94z\"/><path d=\"M17.41 7.96l-1.37-1.37c-.4-.4-.92-.59-1.43-.59-.52 0-1.04.2-1.43.59L10.3 9.45l-7.72 7.72c-.78.78-.78 2.05 0 2.83L4 21.41c.39.39.9.59 1.41.59.51 0 1.02-.2 1.41-.59l7.78-7.78 2.81-2.81c.8-.78.8-2.07 0-2.86zM5.41 20L4 18.59l7.72-7.72 1.47 1.35L5.41 20z\"/>\n",
              "  </svg>\n",
              "      </button>\n",
              "      \n",
              "  <style>\n",
              "    .colab-df-container {\n",
              "      display:flex;\n",
              "      flex-wrap:wrap;\n",
              "      gap: 12px;\n",
              "    }\n",
              "\n",
              "    .colab-df-convert {\n",
              "      background-color: #E8F0FE;\n",
              "      border: none;\n",
              "      border-radius: 50%;\n",
              "      cursor: pointer;\n",
              "      display: none;\n",
              "      fill: #1967D2;\n",
              "      height: 32px;\n",
              "      padding: 0 0 0 0;\n",
              "      width: 32px;\n",
              "    }\n",
              "\n",
              "    .colab-df-convert:hover {\n",
              "      background-color: #E2EBFA;\n",
              "      box-shadow: 0px 1px 2px rgba(60, 64, 67, 0.3), 0px 1px 3px 1px rgba(60, 64, 67, 0.15);\n",
              "      fill: #174EA6;\n",
              "    }\n",
              "\n",
              "    [theme=dark] .colab-df-convert {\n",
              "      background-color: #3B4455;\n",
              "      fill: #D2E3FC;\n",
              "    }\n",
              "\n",
              "    [theme=dark] .colab-df-convert:hover {\n",
              "      background-color: #434B5C;\n",
              "      box-shadow: 0px 1px 3px 1px rgba(0, 0, 0, 0.15);\n",
              "      filter: drop-shadow(0px 1px 2px rgba(0, 0, 0, 0.3));\n",
              "      fill: #FFFFFF;\n",
              "    }\n",
              "  </style>\n",
              "\n",
              "      <script>\n",
              "        const buttonEl =\n",
              "          document.querySelector('#df-a979a032-acc3-40d1-9d19-65e4610992a0 button.colab-df-convert');\n",
              "        buttonEl.style.display =\n",
              "          google.colab.kernel.accessAllowed ? 'block' : 'none';\n",
              "\n",
              "        async function convertToInteractive(key) {\n",
              "          const element = document.querySelector('#df-a979a032-acc3-40d1-9d19-65e4610992a0');\n",
              "          const dataTable =\n",
              "            await google.colab.kernel.invokeFunction('convertToInteractive',\n",
              "                                                     [key], {});\n",
              "          if (!dataTable) return;\n",
              "\n",
              "          const docLinkHtml = 'Like what you see? Visit the ' +\n",
              "            '<a target=\"_blank\" href=https://colab.research.google.com/notebooks/data_table.ipynb>data table notebook</a>'\n",
              "            + ' to learn more about interactive tables.';\n",
              "          element.innerHTML = '';\n",
              "          dataTable['output_type'] = 'display_data';\n",
              "          await google.colab.output.renderOutput(dataTable, element);\n",
              "          const docLink = document.createElement('div');\n",
              "          docLink.innerHTML = docLinkHtml;\n",
              "          element.appendChild(docLink);\n",
              "        }\n",
              "      </script>\n",
              "    </div>\n",
              "  </div>\n",
              "  "
            ],
            "text/plain": [
              "                       0\n",
              "predicted original      \n",
              "0         0         2424\n",
              "          1         2773\n",
              "          5          247\n",
              "1         0         1015\n",
              "          1         1272\n",
              "          5         1248\n",
              "2         0         2561\n",
              "          1         1955\n",
              "          5         4505"
            ]
          },
          "metadata": {},
          "execution_count": 99
        }
      ]
    },
    {
      "cell_type": "code",
      "source": [
        "pd.pivot_table(test_results, values='original', index='predicted', aggfunc=len)"
      ],
      "metadata": {
        "colab": {
          "base_uri": "https://localhost:8080/",
          "height": 175
        },
        "id": "vzVoZbjNQhKp",
        "outputId": "89871b86-0666-4a33-c64e-7eb1adf5e95b"
      },
      "execution_count": 62,
      "outputs": [
        {
          "output_type": "execute_result",
          "data": {
            "text/html": [
              "\n",
              "  <div id=\"df-50e340ad-a3ef-4fa6-95d2-1aeb84b350a5\">\n",
              "    <div class=\"colab-df-container\">\n",
              "      <div>\n",
              "<style scoped>\n",
              "    .dataframe tbody tr th:only-of-type {\n",
              "        vertical-align: middle;\n",
              "    }\n",
              "\n",
              "    .dataframe tbody tr th {\n",
              "        vertical-align: top;\n",
              "    }\n",
              "\n",
              "    .dataframe thead th {\n",
              "        text-align: right;\n",
              "    }\n",
              "</style>\n",
              "<table border=\"1\" class=\"dataframe\">\n",
              "  <thead>\n",
              "    <tr style=\"text-align: right;\">\n",
              "      <th></th>\n",
              "      <th>original</th>\n",
              "    </tr>\n",
              "    <tr>\n",
              "      <th>predicted</th>\n",
              "      <th></th>\n",
              "    </tr>\n",
              "  </thead>\n",
              "  <tbody>\n",
              "    <tr>\n",
              "      <th>0</th>\n",
              "      <td>9</td>\n",
              "    </tr>\n",
              "    <tr>\n",
              "      <th>1</th>\n",
              "      <td>10</td>\n",
              "    </tr>\n",
              "    <tr>\n",
              "      <th>2</th>\n",
              "      <td>11</td>\n",
              "    </tr>\n",
              "  </tbody>\n",
              "</table>\n",
              "</div>\n",
              "      <button class=\"colab-df-convert\" onclick=\"convertToInteractive('df-50e340ad-a3ef-4fa6-95d2-1aeb84b350a5')\"\n",
              "              title=\"Convert this dataframe to an interactive table.\"\n",
              "              style=\"display:none;\">\n",
              "        \n",
              "  <svg xmlns=\"http://www.w3.org/2000/svg\" height=\"24px\"viewBox=\"0 0 24 24\"\n",
              "       width=\"24px\">\n",
              "    <path d=\"M0 0h24v24H0V0z\" fill=\"none\"/>\n",
              "    <path d=\"M18.56 5.44l.94 2.06.94-2.06 2.06-.94-2.06-.94-.94-2.06-.94 2.06-2.06.94zm-11 1L8.5 8.5l.94-2.06 2.06-.94-2.06-.94L8.5 2.5l-.94 2.06-2.06.94zm10 10l.94 2.06.94-2.06 2.06-.94-2.06-.94-.94-2.06-.94 2.06-2.06.94z\"/><path d=\"M17.41 7.96l-1.37-1.37c-.4-.4-.92-.59-1.43-.59-.52 0-1.04.2-1.43.59L10.3 9.45l-7.72 7.72c-.78.78-.78 2.05 0 2.83L4 21.41c.39.39.9.59 1.41.59.51 0 1.02-.2 1.41-.59l7.78-7.78 2.81-2.81c.8-.78.8-2.07 0-2.86zM5.41 20L4 18.59l7.72-7.72 1.47 1.35L5.41 20z\"/>\n",
              "  </svg>\n",
              "      </button>\n",
              "      \n",
              "  <style>\n",
              "    .colab-df-container {\n",
              "      display:flex;\n",
              "      flex-wrap:wrap;\n",
              "      gap: 12px;\n",
              "    }\n",
              "\n",
              "    .colab-df-convert {\n",
              "      background-color: #E8F0FE;\n",
              "      border: none;\n",
              "      border-radius: 50%;\n",
              "      cursor: pointer;\n",
              "      display: none;\n",
              "      fill: #1967D2;\n",
              "      height: 32px;\n",
              "      padding: 0 0 0 0;\n",
              "      width: 32px;\n",
              "    }\n",
              "\n",
              "    .colab-df-convert:hover {\n",
              "      background-color: #E2EBFA;\n",
              "      box-shadow: 0px 1px 2px rgba(60, 64, 67, 0.3), 0px 1px 3px 1px rgba(60, 64, 67, 0.15);\n",
              "      fill: #174EA6;\n",
              "    }\n",
              "\n",
              "    [theme=dark] .colab-df-convert {\n",
              "      background-color: #3B4455;\n",
              "      fill: #D2E3FC;\n",
              "    }\n",
              "\n",
              "    [theme=dark] .colab-df-convert:hover {\n",
              "      background-color: #434B5C;\n",
              "      box-shadow: 0px 1px 3px 1px rgba(0, 0, 0, 0.15);\n",
              "      filter: drop-shadow(0px 1px 2px rgba(0, 0, 0, 0.3));\n",
              "      fill: #FFFFFF;\n",
              "    }\n",
              "  </style>\n",
              "\n",
              "      <script>\n",
              "        const buttonEl =\n",
              "          document.querySelector('#df-50e340ad-a3ef-4fa6-95d2-1aeb84b350a5 button.colab-df-convert');\n",
              "        buttonEl.style.display =\n",
              "          google.colab.kernel.accessAllowed ? 'block' : 'none';\n",
              "\n",
              "        async function convertToInteractive(key) {\n",
              "          const element = document.querySelector('#df-50e340ad-a3ef-4fa6-95d2-1aeb84b350a5');\n",
              "          const dataTable =\n",
              "            await google.colab.kernel.invokeFunction('convertToInteractive',\n",
              "                                                     [key], {});\n",
              "          if (!dataTable) return;\n",
              "\n",
              "          const docLinkHtml = 'Like what you see? Visit the ' +\n",
              "            '<a target=\"_blank\" href=https://colab.research.google.com/notebooks/data_table.ipynb>data table notebook</a>'\n",
              "            + ' to learn more about interactive tables.';\n",
              "          element.innerHTML = '';\n",
              "          dataTable['output_type'] = 'display_data';\n",
              "          await google.colab.output.renderOutput(dataTable, element);\n",
              "          const docLink = document.createElement('div');\n",
              "          docLink.innerHTML = docLinkHtml;\n",
              "          element.appendChild(docLink);\n",
              "        }\n",
              "      </script>\n",
              "    </div>\n",
              "  </div>\n",
              "  "
            ],
            "text/plain": [
              "           original\n",
              "predicted          \n",
              "0                 9\n",
              "1                10\n",
              "2                11"
            ]
          },
          "metadata": {},
          "execution_count": 62
        }
      ]
    },
    {
      "cell_type": "code",
      "source": [
        "from plotnine import *"
      ],
      "metadata": {
        "id": "sQT4g2moONY_"
      },
      "execution_count": 51,
      "outputs": []
    },
    {
      "cell_type": "code",
      "source": [
        "(test_results\n",
        " .groupby(['predicted', 'original'])\n",
        " .count()\n",
        " )"
      ],
      "metadata": {
        "colab": {
          "base_uri": "https://localhost:8080/",
          "height": 283
        },
        "id": "aUcFPTFvPeZU",
        "outputId": "fffea274-af18-44fd-890b-f8688dc0ab4c"
      },
      "execution_count": 60,
      "outputs": [
        {
          "output_type": "execute_result",
          "data": {
            "text/html": [
              "\n",
              "  <div id=\"df-9fea0f04-2757-4e18-9eac-470a168c7ca7\">\n",
              "    <div class=\"colab-df-container\">\n",
              "      <div>\n",
              "<style scoped>\n",
              "    .dataframe tbody tr th:only-of-type {\n",
              "        vertical-align: middle;\n",
              "    }\n",
              "\n",
              "    .dataframe tbody tr th {\n",
              "        vertical-align: top;\n",
              "    }\n",
              "\n",
              "    .dataframe thead th {\n",
              "        text-align: right;\n",
              "    }\n",
              "</style>\n",
              "<table border=\"1\" class=\"dataframe\">\n",
              "  <thead>\n",
              "    <tr style=\"text-align: right;\">\n",
              "      <th></th>\n",
              "      <th></th>\n",
              "    </tr>\n",
              "    <tr>\n",
              "      <th>predicted</th>\n",
              "      <th>original</th>\n",
              "    </tr>\n",
              "  </thead>\n",
              "  <tbody>\n",
              "    <tr>\n",
              "      <th rowspan=\"2\" valign=\"top\">0</th>\n",
              "      <th>0</th>\n",
              "    </tr>\n",
              "    <tr>\n",
              "      <th>1</th>\n",
              "    </tr>\n",
              "    <tr>\n",
              "      <th rowspan=\"3\" valign=\"top\">1</th>\n",
              "      <th>0</th>\n",
              "    </tr>\n",
              "    <tr>\n",
              "      <th>1</th>\n",
              "    </tr>\n",
              "    <tr>\n",
              "      <th>5</th>\n",
              "    </tr>\n",
              "    <tr>\n",
              "      <th rowspan=\"2\" valign=\"top\">2</th>\n",
              "      <th>0</th>\n",
              "    </tr>\n",
              "    <tr>\n",
              "      <th>5</th>\n",
              "    </tr>\n",
              "  </tbody>\n",
              "</table>\n",
              "</div>\n",
              "      <button class=\"colab-df-convert\" onclick=\"convertToInteractive('df-9fea0f04-2757-4e18-9eac-470a168c7ca7')\"\n",
              "              title=\"Convert this dataframe to an interactive table.\"\n",
              "              style=\"display:none;\">\n",
              "        \n",
              "  <svg xmlns=\"http://www.w3.org/2000/svg\" height=\"24px\"viewBox=\"0 0 24 24\"\n",
              "       width=\"24px\">\n",
              "    <path d=\"M0 0h24v24H0V0z\" fill=\"none\"/>\n",
              "    <path d=\"M18.56 5.44l.94 2.06.94-2.06 2.06-.94-2.06-.94-.94-2.06-.94 2.06-2.06.94zm-11 1L8.5 8.5l.94-2.06 2.06-.94-2.06-.94L8.5 2.5l-.94 2.06-2.06.94zm10 10l.94 2.06.94-2.06 2.06-.94-2.06-.94-.94-2.06-.94 2.06-2.06.94z\"/><path d=\"M17.41 7.96l-1.37-1.37c-.4-.4-.92-.59-1.43-.59-.52 0-1.04.2-1.43.59L10.3 9.45l-7.72 7.72c-.78.78-.78 2.05 0 2.83L4 21.41c.39.39.9.59 1.41.59.51 0 1.02-.2 1.41-.59l7.78-7.78 2.81-2.81c.8-.78.8-2.07 0-2.86zM5.41 20L4 18.59l7.72-7.72 1.47 1.35L5.41 20z\"/>\n",
              "  </svg>\n",
              "      </button>\n",
              "      \n",
              "  <style>\n",
              "    .colab-df-container {\n",
              "      display:flex;\n",
              "      flex-wrap:wrap;\n",
              "      gap: 12px;\n",
              "    }\n",
              "\n",
              "    .colab-df-convert {\n",
              "      background-color: #E8F0FE;\n",
              "      border: none;\n",
              "      border-radius: 50%;\n",
              "      cursor: pointer;\n",
              "      display: none;\n",
              "      fill: #1967D2;\n",
              "      height: 32px;\n",
              "      padding: 0 0 0 0;\n",
              "      width: 32px;\n",
              "    }\n",
              "\n",
              "    .colab-df-convert:hover {\n",
              "      background-color: #E2EBFA;\n",
              "      box-shadow: 0px 1px 2px rgba(60, 64, 67, 0.3), 0px 1px 3px 1px rgba(60, 64, 67, 0.15);\n",
              "      fill: #174EA6;\n",
              "    }\n",
              "\n",
              "    [theme=dark] .colab-df-convert {\n",
              "      background-color: #3B4455;\n",
              "      fill: #D2E3FC;\n",
              "    }\n",
              "\n",
              "    [theme=dark] .colab-df-convert:hover {\n",
              "      background-color: #434B5C;\n",
              "      box-shadow: 0px 1px 3px 1px rgba(0, 0, 0, 0.15);\n",
              "      filter: drop-shadow(0px 1px 2px rgba(0, 0, 0, 0.3));\n",
              "      fill: #FFFFFF;\n",
              "    }\n",
              "  </style>\n",
              "\n",
              "      <script>\n",
              "        const buttonEl =\n",
              "          document.querySelector('#df-9fea0f04-2757-4e18-9eac-470a168c7ca7 button.colab-df-convert');\n",
              "        buttonEl.style.display =\n",
              "          google.colab.kernel.accessAllowed ? 'block' : 'none';\n",
              "\n",
              "        async function convertToInteractive(key) {\n",
              "          const element = document.querySelector('#df-9fea0f04-2757-4e18-9eac-470a168c7ca7');\n",
              "          const dataTable =\n",
              "            await google.colab.kernel.invokeFunction('convertToInteractive',\n",
              "                                                     [key], {});\n",
              "          if (!dataTable) return;\n",
              "\n",
              "          const docLinkHtml = 'Like what you see? Visit the ' +\n",
              "            '<a target=\"_blank\" href=https://colab.research.google.com/notebooks/data_table.ipynb>data table notebook</a>'\n",
              "            + ' to learn more about interactive tables.';\n",
              "          element.innerHTML = '';\n",
              "          dataTable['output_type'] = 'display_data';\n",
              "          await google.colab.output.renderOutput(dataTable, element);\n",
              "          const docLink = document.createElement('div');\n",
              "          docLink.innerHTML = docLinkHtml;\n",
              "          element.appendChild(docLink);\n",
              "        }\n",
              "      </script>\n",
              "    </div>\n",
              "  </div>\n",
              "  "
            ],
            "text/plain": [
              "Empty DataFrame\n",
              "Columns: []\n",
              "Index: [(0, 0), (0, 1), (1, 0), (1, 1), (1, 5), (2, 0), (2, 5)]"
            ]
          },
          "metadata": {},
          "execution_count": 60
        }
      ]
    },
    {
      "cell_type": "code",
      "source": [
        "(ggplot(test_results, aes(x='predicted'))+\n",
        " geom_bar(stat='count')+\n",
        " facet_wrap('~'))"
      ],
      "metadata": {
        "id": "URzbLmnwOcEE"
      },
      "execution_count": null,
      "outputs": []
    },
    {
      "cell_type": "code",
      "source": [
        "model2_encoder_output = model2_encoder.predict(X_train_3[:30])"
      ],
      "metadata": {
        "id": "rMYYmNld-MaJ"
      },
      "execution_count": 41,
      "outputs": []
    },
    {
      "cell_type": "code",
      "source": [
        "model2_encoder_output[0]"
      ],
      "metadata": {
        "colab": {
          "base_uri": "https://localhost:8080/"
        },
        "id": "HwX2b14t-meo",
        "outputId": "0279fec6-5e35-4e93-ef11-cac0a8725f3b"
      },
      "execution_count": 42,
      "outputs": [
        {
          "output_type": "execute_result",
          "data": {
            "text/plain": [
              "array([3.8792565e-09, 1.0000000e+00, 1.8187615e-08], dtype=float32)"
            ]
          },
          "metadata": {},
          "execution_count": 42
        }
      ]
    },
    {
      "cell_type": "code",
      "source": [
        "model2_encoder_output[1]"
      ],
      "metadata": {
        "colab": {
          "base_uri": "https://localhost:8080/",
          "height": 168
        },
        "id": "8tE-dmC8-uKN",
        "outputId": "95fe3a62-48a5-4bd6-d44b-5e20c4fc4348"
      },
      "execution_count": 1,
      "outputs": [
        {
          "output_type": "error",
          "ename": "NameError",
          "evalue": "ignored",
          "traceback": [
            "\u001b[0;31m---------------------------------------------------------------------------\u001b[0m",
            "\u001b[0;31mNameError\u001b[0m                                 Traceback (most recent call last)",
            "\u001b[0;32m<ipython-input-1-028fc9344c23>\u001b[0m in \u001b[0;36m<module>\u001b[0;34m()\u001b[0m\n\u001b[0;32m----> 1\u001b[0;31m \u001b[0mmodel2_encoder_output\u001b[0m\u001b[0;34m[\u001b[0m\u001b[0;36m1\u001b[0m\u001b[0;34m]\u001b[0m\u001b[0;34m\u001b[0m\u001b[0;34m\u001b[0m\u001b[0m\n\u001b[0m",
            "\u001b[0;31mNameError\u001b[0m: name 'model2_encoder_output' is not defined"
          ]
        }
      ]
    },
    {
      "cell_type": "code",
      "source": [
        "np.argmax(model2_encoder_output, axis=1)"
      ],
      "metadata": {
        "colab": {
          "base_uri": "https://localhost:8080/"
        },
        "id": "3cSUNYFf-YEz",
        "outputId": "a6186e74-0c6a-4474-9663-a7f69e18d80b"
      },
      "execution_count": 45,
      "outputs": [
        {
          "output_type": "execute_result",
          "data": {
            "text/plain": [
              "array([1, 1, 1, 1, 1, 1, 1, 1, 1, 1, 1, 1, 1, 1, 1, 1, 1, 1, 1, 1, 1, 1,\n",
              "       1, 1, 1, 1, 1, 1, 1, 1])"
            ]
          },
          "metadata": {},
          "execution_count": 45
        }
      ]
    },
    {
      "cell_type": "code",
      "source": [
        ""
      ],
      "metadata": {
        "id": "djwnNDbm-YBa"
      },
      "execution_count": null,
      "outputs": []
    },
    {
      "cell_type": "code",
      "source": [
        ""
      ],
      "metadata": {
        "id": "5o2Mm5d5-X-8"
      },
      "execution_count": null,
      "outputs": []
    },
    {
      "cell_type": "code",
      "source": [
        ""
      ],
      "metadata": {
        "id": "HvpQdfVt-X8O"
      },
      "execution_count": null,
      "outputs": []
    },
    {
      "cell_type": "code",
      "source": [
        ""
      ],
      "metadata": {
        "id": "U_VZ-q32-XhG"
      },
      "execution_count": null,
      "outputs": []
    },
    {
      "cell_type": "code",
      "source": [
        "model2_encoder = Sequential(model2.layers[:5])"
      ],
      "metadata": {
        "id": "AdtK6QkF1m_O"
      },
      "execution_count": 63,
      "outputs": []
    },
    {
      "cell_type": "code",
      "source": [
        "model2_clusters = model2_encoder.predict(X_train[:1000])"
      ],
      "metadata": {
        "id": "0ru8OIDk2sBZ"
      },
      "execution_count": 64,
      "outputs": []
    },
    {
      "cell_type": "code",
      "source": [
        "np.argmax(model2_clusters, axis=1)"
      ],
      "metadata": {
        "colab": {
          "base_uri": "https://localhost:8080/"
        },
        "id": "tDK_X8RF2ybJ",
        "outputId": "02b569d7-da09-455a-a3c3-0cc304654164"
      },
      "execution_count": 67,
      "outputs": [
        {
          "output_type": "execute_result",
          "data": {
            "text/plain": [
              "array([3, 3, 3, 3, 3, 3, 3, 3, 3, 3, 3, 3, 3, 3, 3, 3, 3, 3, 3, 3, 3, 3,\n",
              "       3, 3, 3, 3, 3, 3, 3, 3, 3, 3, 3, 3, 3, 3, 3, 3, 3, 3, 3, 3, 3, 3,\n",
              "       3, 3, 3, 3, 3, 3, 3, 3, 3, 3, 3, 3, 3, 3, 3, 3, 3, 3, 3, 3, 3, 3,\n",
              "       3, 3, 3, 3, 3, 3, 3, 3, 3, 3, 3, 3, 3, 3, 3, 3, 3, 3, 3, 3, 3, 3,\n",
              "       3, 3, 3, 3, 3, 3, 3, 3, 3, 3, 3, 3, 3, 3, 3, 3, 3, 3, 3, 3, 3, 3,\n",
              "       3, 3, 3, 3, 3, 3, 3, 3, 3, 3, 3, 3, 3, 3, 3, 3, 3, 3, 3, 3, 3, 3,\n",
              "       3, 3, 3, 3, 3, 3, 3, 3, 3, 3, 3, 3, 3, 3, 3, 3, 3, 3, 3, 3, 3, 3,\n",
              "       3, 3, 3, 3, 3, 3, 3, 3, 3, 3, 3, 3, 3, 3, 3, 3, 3, 3, 3, 3, 3, 3,\n",
              "       3, 3, 3, 3, 3, 3, 3, 3, 3, 3, 3, 3, 3, 3, 3, 3, 3, 3, 3, 3, 3, 3,\n",
              "       3, 3, 3, 3, 3, 3, 3, 3, 3, 3, 3, 3, 3, 3, 3, 3, 3, 3, 3, 3, 3, 3,\n",
              "       3, 3, 3, 3, 3, 3, 3, 3, 3, 3, 3, 3, 3, 3, 3, 3, 3, 3, 3, 3, 3, 3,\n",
              "       3, 3, 3, 3, 3, 3, 3, 3, 3, 3, 3, 3, 3, 3, 3, 3, 3, 3, 3, 3, 3, 3,\n",
              "       3, 3, 3, 3, 3, 3, 3, 3, 3, 3, 3, 3, 3, 3, 3, 3, 3, 3, 3, 3, 3, 3,\n",
              "       3, 3, 3, 3, 3, 3, 3, 3, 3, 3, 3, 3, 3, 3, 3, 3, 3, 3, 3, 3, 3, 3,\n",
              "       3, 3, 3, 3, 3, 3, 3, 3, 3, 3, 3, 3, 3, 3, 3, 3, 3, 3, 3, 3, 3, 3,\n",
              "       3, 3, 3, 3, 3, 3, 3, 3, 3, 3, 3, 3, 3, 3, 3, 3, 3, 3, 3, 3, 3, 3,\n",
              "       3, 3, 3, 3, 3, 3, 3, 3, 3, 3, 3, 3, 3, 3, 3, 3, 3, 3, 3, 3, 3, 3,\n",
              "       3, 3, 3, 3, 3, 3, 3, 3, 3, 3, 3, 3, 3, 3, 3, 3, 3, 3, 3, 3, 3, 3,\n",
              "       3, 3, 3, 3, 3, 3, 3, 3, 3, 3, 3, 3, 3, 3, 3, 3, 3, 3, 3, 3, 3, 3,\n",
              "       3, 3, 3, 3, 3, 3, 3, 3, 3, 3, 3, 3, 3, 3, 3, 3, 3, 3, 3, 3, 3, 3,\n",
              "       3, 3, 3, 3, 3, 3, 3, 3, 3, 3, 3, 3, 3, 3, 3, 3, 3, 3, 3, 3, 3, 3,\n",
              "       3, 3, 3, 3, 3, 3, 3, 3, 3, 3, 3, 3, 3, 3, 3, 3, 3, 3, 3, 3, 3, 3,\n",
              "       3, 3, 3, 3, 3, 3, 3, 3, 3, 3, 3, 3, 3, 3, 3, 3, 3, 3, 3, 3, 3, 3,\n",
              "       3, 3, 3, 3, 3, 3, 3, 3, 3, 3, 3, 3, 3, 3, 3, 3, 3, 3, 3, 3, 3, 3,\n",
              "       3, 3, 3, 3, 3, 3, 3, 3, 3, 3, 3, 3, 3, 3, 3, 3, 3, 3, 3, 3, 3, 3,\n",
              "       3, 3, 3, 3, 3, 3, 3, 3, 3, 3, 3, 3, 3, 3, 3, 3, 3, 3, 3, 3, 3, 3,\n",
              "       3, 3, 3, 3, 3, 3, 3, 3, 3, 3, 3, 3, 3, 3, 3, 3, 3, 3, 3, 3, 3, 3,\n",
              "       3, 3, 3, 3, 3, 3, 3, 3, 3, 3, 3, 3, 3, 3, 3, 3, 3, 3, 3, 3, 3, 3,\n",
              "       3, 3, 3, 3, 3, 3, 3, 3, 3, 3, 3, 3, 3, 3, 3, 3, 3, 3, 3, 3, 3, 3,\n",
              "       3, 3, 3, 3, 3, 3, 3, 3, 3, 3, 3, 3, 3, 3, 3, 3, 3, 3, 3, 3, 3, 3,\n",
              "       3, 3, 3, 3, 3, 3, 3, 3, 3, 3, 3, 3, 3, 3, 3, 3, 3, 3, 3, 3, 3, 3,\n",
              "       3, 3, 3, 3, 3, 3, 3, 3, 3, 3, 3, 3, 3, 3, 3, 3, 3, 3, 3, 3, 3, 3,\n",
              "       3, 3, 3, 3, 3, 3, 3, 3, 3, 3, 3, 3, 3, 3, 3, 3, 3, 3, 3, 3, 3, 3,\n",
              "       3, 3, 3, 3, 3, 3, 3, 3, 3, 3, 3, 3, 3, 3, 3, 3, 3, 3, 3, 3, 3, 3,\n",
              "       3, 3, 3, 3, 3, 3, 3, 3, 3, 3, 3, 3, 3, 3, 3, 3, 3, 3, 3, 3, 3, 3,\n",
              "       3, 3, 3, 3, 3, 3, 3, 3, 3, 3, 3, 3, 3, 3, 3, 3, 3, 3, 3, 3, 3, 3,\n",
              "       3, 3, 3, 3, 3, 3, 3, 3, 3, 3, 3, 3, 3, 3, 3, 3, 3, 3, 3, 3, 3, 3,\n",
              "       3, 3, 3, 3, 3, 3, 3, 3, 3, 3, 3, 3, 3, 3, 3, 3, 3, 3, 3, 3, 3, 3,\n",
              "       3, 3, 3, 3, 3, 3, 3, 3, 3, 3, 3, 3, 3, 3, 3, 3, 3, 3, 3, 3, 3, 3,\n",
              "       3, 3, 3, 3, 3, 3, 3, 3, 3, 3, 3, 3, 3, 3, 3, 3, 3, 3, 3, 3, 3, 3,\n",
              "       3, 3, 3, 3, 3, 3, 3, 3, 3, 3, 3, 3, 3, 3, 3, 3, 3, 3, 3, 3, 3, 3,\n",
              "       3, 3, 3, 3, 3, 3, 3, 3, 3, 3, 3, 3, 3, 3, 3, 3, 3, 3, 3, 3, 3, 3,\n",
              "       3, 3, 3, 3, 3, 3, 3, 3, 3, 3, 3, 3, 3, 3, 3, 3, 3, 3, 3, 3, 3, 3,\n",
              "       3, 3, 3, 3, 3, 3, 3, 3, 3, 3, 3, 3, 3, 3, 3, 3, 3, 3, 3, 3, 3, 3,\n",
              "       3, 3, 3, 3, 3, 3, 3, 3, 3, 3, 3, 3, 3, 3, 3, 3, 3, 3, 3, 3, 3, 3,\n",
              "       3, 3, 3, 3, 3, 3, 3, 3, 3, 3])"
            ]
          },
          "metadata": {},
          "execution_count": 67
        }
      ]
    },
    {
      "cell_type": "code",
      "source": [
        "model3 = Sequential()\n",
        "\n",
        "model3.add(Flatten(input_shape=[28,28]))\n",
        "\n",
        "model3.add(Dense(units=500, activation='relu'))\n",
        "model3.add(Dense(units=100, activation='relu'))\n",
        "model3.add(Dense(units=50, activation='relu'))\n",
        "model3.add(Dense(units=10, activation='sigmoid'))\n",
        "\n",
        "## Decoder\n",
        "model3.add(Dense(units=50, activation='relu'))\n",
        "model3.add(Dense(units=100, activation='relu'))\n",
        "model3.add(Dense(units=500, activation='relu'))\n",
        "model3.add(Dense(units=(28*28), activation='sigmoid'))\n",
        "\n",
        "## Reshaping\n",
        "model3.add(Reshape(target_shape=[28,28]))\n",
        "\n",
        "model3.compile(optimizer='nadam', loss='binary_crossentropy', metrics=['accuracy'])"
      ],
      "metadata": {
        "id": "BS0fniz12z0E"
      },
      "execution_count": 68,
      "outputs": []
    },
    {
      "cell_type": "code",
      "source": [
        "model3.fit(X_train, X_train, epochs=5)"
      ],
      "metadata": {
        "colab": {
          "base_uri": "https://localhost:8080/"
        },
        "id": "HXVl4BYO4AJB",
        "outputId": "161cc0b7-f470-45c4-a5de-7423cd99ec5e"
      },
      "execution_count": 69,
      "outputs": [
        {
          "output_type": "stream",
          "name": "stdout",
          "text": [
            "Epoch 1/5\n",
            "1875/1875 [==============================] - 48s 24ms/step - loss: 0.4921 - accuracy: 0.0454\n",
            "Epoch 2/5\n",
            "1875/1875 [==============================] - 43s 23ms/step - loss: 0.4908 - accuracy: 0.0450\n",
            "Epoch 3/5\n",
            "1875/1875 [==============================] - 44s 23ms/step - loss: 0.4906 - accuracy: 0.0448\n",
            "Epoch 4/5\n",
            "1875/1875 [==============================] - 43s 23ms/step - loss: 0.4906 - accuracy: 0.0446\n",
            "Epoch 5/5\n",
            "1875/1875 [==============================] - 43s 23ms/step - loss: 0.4905 - accuracy: 0.0449\n"
          ]
        },
        {
          "output_type": "execute_result",
          "data": {
            "text/plain": [
              "<keras.callbacks.History at 0x7fadf6f1fd90>"
            ]
          },
          "metadata": {},
          "execution_count": 69
        }
      ]
    },
    {
      "cell_type": "code",
      "source": [
        "model3_encoder = Sequential(model3.layers[:5])"
      ],
      "metadata": {
        "id": "caeccMlJ4D0Q"
      },
      "execution_count": 70,
      "outputs": []
    },
    {
      "cell_type": "code",
      "source": [
        "model3_encoder_output = model3_encoder.predict(X_train[:1000])"
      ],
      "metadata": {
        "id": "0ijKviZV5DXi"
      },
      "execution_count": 71,
      "outputs": []
    },
    {
      "cell_type": "code",
      "source": [
        "np.argmax(model3_encoder_output,axis=1)"
      ],
      "metadata": {
        "colab": {
          "base_uri": "https://localhost:8080/"
        },
        "id": "Sk_MIjzo5JUq",
        "outputId": "49d2ad53-02e3-4377-d393-3e564d6f56f6"
      },
      "execution_count": 72,
      "outputs": [
        {
          "output_type": "execute_result",
          "data": {
            "text/plain": [
              "array([0, 0, 0, 0, 0, 0, 0, 0, 0, 0, 0, 0, 0, 0, 0, 0, 0, 0, 0, 0, 0, 0,\n",
              "       0, 0, 0, 0, 0, 0, 0, 0, 0, 0, 0, 0, 0, 0, 0, 0, 0, 0, 0, 0, 0, 0,\n",
              "       0, 0, 0, 0, 0, 0, 0, 0, 0, 0, 0, 0, 0, 0, 0, 0, 0, 0, 0, 6, 0, 0,\n",
              "       0, 0, 0, 0, 0, 0, 0, 0, 0, 0, 0, 0, 0, 0, 0, 0, 0, 0, 0, 0, 0, 0,\n",
              "       0, 0, 0, 0, 0, 0, 0, 0, 0, 0, 0, 0, 0, 0, 0, 0, 0, 0, 0, 0, 0, 0,\n",
              "       0, 0, 0, 0, 0, 0, 0, 0, 0, 0, 0, 0, 0, 0, 0, 0, 0, 0, 0, 0, 0, 0,\n",
              "       0, 0, 0, 0, 0, 0, 0, 0, 0, 0, 0, 0, 0, 0, 0, 0, 0, 0, 0, 0, 0, 0,\n",
              "       0, 0, 0, 0, 0, 0, 0, 0, 0, 0, 0, 0, 0, 0, 0, 0, 0, 0, 0, 0, 0, 0,\n",
              "       0, 0, 0, 0, 0, 0, 0, 0, 0, 0, 0, 0, 0, 0, 0, 0, 0, 0, 0, 0, 0, 0,\n",
              "       0, 0, 0, 0, 0, 0, 0, 0, 0, 0, 0, 0, 0, 0, 0, 0, 0, 0, 0, 0, 0, 0,\n",
              "       0, 0, 0, 0, 0, 0, 0, 0, 0, 0, 0, 0, 0, 0, 0, 0, 0, 0, 0, 0, 0, 0,\n",
              "       0, 0, 0, 0, 0, 0, 0, 0, 0, 0, 0, 0, 0, 0, 0, 0, 0, 0, 0, 0, 0, 0,\n",
              "       0, 0, 0, 0, 0, 0, 0, 0, 0, 0, 0, 0, 0, 0, 0, 0, 0, 0, 0, 0, 0, 0,\n",
              "       0, 0, 0, 0, 0, 0, 0, 0, 0, 0, 0, 0, 0, 0, 0, 0, 0, 0, 0, 0, 0, 0,\n",
              "       0, 0, 0, 0, 0, 0, 0, 0, 0, 0, 0, 0, 0, 0, 0, 0, 0, 0, 0, 0, 0, 0,\n",
              "       0, 0, 0, 0, 0, 0, 0, 0, 0, 0, 0, 0, 0, 0, 0, 0, 0, 0, 0, 0, 0, 0,\n",
              "       0, 0, 0, 0, 0, 0, 0, 0, 0, 0, 0, 0, 0, 0, 0, 0, 0, 0, 0, 0, 0, 0,\n",
              "       0, 0, 0, 0, 0, 0, 0, 0, 0, 0, 0, 0, 0, 0, 0, 0, 0, 0, 0, 0, 0, 0,\n",
              "       0, 0, 0, 0, 0, 0, 0, 0, 0, 0, 0, 0, 0, 0, 0, 0, 0, 0, 0, 0, 0, 0,\n",
              "       0, 0, 0, 0, 0, 0, 0, 0, 0, 0, 0, 0, 0, 0, 0, 0, 0, 0, 0, 0, 0, 0,\n",
              "       0, 0, 0, 0, 0, 0, 0, 0, 0, 0, 0, 0, 0, 0, 0, 0, 0, 0, 0, 0, 0, 0,\n",
              "       0, 0, 0, 0, 0, 0, 0, 0, 0, 0, 0, 0, 0, 0, 0, 0, 0, 0, 0, 0, 0, 0,\n",
              "       0, 0, 0, 0, 0, 0, 0, 0, 0, 0, 0, 0, 0, 0, 0, 0, 0, 0, 0, 0, 0, 0,\n",
              "       0, 0, 0, 0, 0, 0, 0, 0, 0, 0, 0, 0, 0, 0, 0, 0, 0, 0, 0, 0, 0, 0,\n",
              "       0, 0, 0, 0, 0, 0, 0, 0, 0, 0, 0, 0, 0, 0, 0, 0, 0, 0, 0, 0, 0, 0,\n",
              "       0, 0, 0, 0, 0, 0, 0, 0, 0, 0, 0, 0, 0, 0, 0, 0, 0, 0, 0, 0, 0, 0,\n",
              "       0, 0, 0, 0, 0, 0, 0, 0, 0, 0, 0, 0, 0, 0, 0, 0, 0, 0, 0, 0, 0, 0,\n",
              "       0, 0, 0, 0, 0, 0, 0, 0, 0, 0, 0, 0, 0, 0, 0, 0, 0, 0, 0, 0, 0, 0,\n",
              "       0, 0, 0, 0, 0, 0, 0, 0, 0, 0, 0, 0, 0, 0, 0, 0, 0, 0, 0, 0, 0, 0,\n",
              "       0, 0, 0, 0, 0, 0, 0, 0, 0, 0, 0, 0, 0, 0, 0, 0, 0, 0, 0, 0, 0, 0,\n",
              "       0, 0, 0, 0, 0, 0, 0, 0, 0, 0, 0, 0, 0, 0, 0, 0, 0, 0, 0, 0, 0, 0,\n",
              "       0, 0, 0, 0, 0, 0, 0, 0, 0, 0, 0, 0, 0, 0, 0, 0, 0, 0, 0, 0, 0, 0,\n",
              "       0, 0, 0, 0, 0, 0, 0, 0, 0, 0, 0, 0, 0, 0, 0, 0, 0, 0, 0, 0, 0, 0,\n",
              "       0, 0, 0, 0, 0, 0, 0, 0, 0, 0, 0, 0, 1, 0, 0, 0, 0, 0, 0, 0, 0, 0,\n",
              "       0, 0, 0, 0, 0, 0, 0, 0, 0, 0, 0, 0, 0, 0, 0, 0, 0, 0, 0, 0, 0, 0,\n",
              "       0, 0, 0, 0, 0, 0, 0, 0, 0, 0, 0, 0, 0, 0, 0, 0, 0, 0, 0, 0, 0, 0,\n",
              "       0, 0, 0, 0, 0, 0, 0, 0, 0, 0, 0, 0, 0, 0, 0, 0, 0, 0, 0, 0, 0, 0,\n",
              "       0, 0, 0, 0, 0, 0, 0, 0, 0, 0, 0, 0, 0, 0, 0, 0, 0, 0, 0, 0, 0, 0,\n",
              "       0, 0, 0, 0, 0, 0, 0, 0, 0, 0, 0, 0, 0, 0, 0, 0, 0, 0, 0, 0, 0, 0,\n",
              "       0, 0, 0, 0, 0, 0, 0, 0, 0, 0, 0, 0, 0, 0, 0, 0, 0, 0, 0, 0, 0, 0,\n",
              "       0, 0, 0, 0, 0, 0, 0, 0, 0, 0, 0, 0, 0, 0, 0, 0, 0, 0, 0, 0, 0, 0,\n",
              "       0, 0, 0, 0, 0, 0, 0, 0, 0, 0, 0, 0, 0, 0, 0, 0, 0, 0, 0, 0, 0, 0,\n",
              "       0, 0, 0, 0, 0, 0, 0, 0, 0, 0, 0, 0, 0, 0, 0, 0, 0, 0, 0, 0, 0, 0,\n",
              "       0, 0, 0, 0, 0, 0, 0, 0, 0, 0, 0, 0, 0, 0, 0, 0, 0, 0, 0, 0, 0, 0,\n",
              "       0, 0, 0, 0, 0, 0, 0, 0, 0, 0, 0, 0, 0, 0, 0, 0, 0, 0, 0, 0, 0, 0,\n",
              "       0, 0, 0, 0, 0, 1, 0, 0, 0, 0])"
            ]
          },
          "metadata": {},
          "execution_count": 72
        }
      ]
    },
    {
      "cell_type": "code",
      "source": [
        ""
      ],
      "metadata": {
        "id": "8c-5-Lhm5OwK"
      },
      "execution_count": null,
      "outputs": []
    }
  ]
}