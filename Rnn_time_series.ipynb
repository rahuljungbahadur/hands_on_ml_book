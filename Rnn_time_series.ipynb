{
  "nbformat": 4,
  "nbformat_minor": 0,
  "metadata": {
    "colab": {
      "name": "Untitled11.ipynb",
      "provenance": [],
      "toc_visible": true,
      "authorship_tag": "ABX9TyMIqMrik8NzLGcWlNd+Lqap",
      "include_colab_link": true
    },
    "kernelspec": {
      "name": "python3",
      "display_name": "Python 3"
    },
    "language_info": {
      "name": "python"
    }
  },
  "cells": [
    {
      "cell_type": "markdown",
      "metadata": {
        "id": "view-in-github",
        "colab_type": "text"
      },
      "source": [
        "<a href=\"https://colab.research.google.com/github/rahuljungbahadur/hands_on_ml_book/blob/main/Rnn_time_series.ipynb\" target=\"_parent\"><img src=\"https://colab.research.google.com/assets/colab-badge.svg\" alt=\"Open In Colab\"/></a>"
      ]
    },
    {
      "cell_type": "code",
      "source": [
        "import numpy as np\n",
        "import pandas as pd"
      ],
      "metadata": {
        "id": "_86U9WpvtGGy"
      },
      "execution_count": null,
      "outputs": []
    },
    {
      "cell_type": "code",
      "execution_count": null,
      "metadata": {
        "id": "1rrBvT2hsrgr"
      },
      "outputs": [],
      "source": [
        "def generate_time_series(batch_size, n_steps):\n",
        "    freq1, freq2, offsets1, offsets2 = np.random.rand(4, batch_size, 1)\n",
        "    time = np.linspace(0, 1, n_steps)\n",
        "    series = 0.5 * np.sin((time - offsets1) * (freq1 * 10 + 10))  #   wave 1\n",
        "    series += 0.2 * np.sin((time - offsets2) * (freq2 * 20 + 20)) # + wave 2\n",
        "    series += 0.1 * (np.random.rand(batch_size, n_steps) - 0.5)   # + noise\n",
        "    return series[..., np.newaxis].astype(np.float32)"
      ]
    },
    {
      "cell_type": "code",
      "source": [
        "ser1 = generate_time_series(1, 5)"
      ],
      "metadata": {
        "id": "9-zTFHe7tKAl"
      },
      "execution_count": null,
      "outputs": []
    },
    {
      "cell_type": "code",
      "source": [
        "import matplotlib.pyplot as plt\n"
      ],
      "metadata": {
        "id": "_56h1dertQ3k"
      },
      "execution_count": null,
      "outputs": []
    },
    {
      "cell_type": "code",
      "source": [
        "n_steps = 50\n",
        "series = generate_time_series(10000, n_steps)\n",
        "X_train, y_train = series[:7000, :n_steps], series[:7000, -1]\n",
        "X_valid, y_valid = series[7000:9000, :n_steps], series[7000:9000, -1]\n",
        "X_test, y_test = series[9000:, :n_steps], series[9000:, -1]"
      ],
      "metadata": {
        "id": "exeOFdE7tOLT"
      },
      "execution_count": null,
      "outputs": []
    },
    {
      "cell_type": "code",
      "source": [
        "import tensorflow as tf"
      ],
      "metadata": {
        "id": "KAlHXiYMtxia"
      },
      "execution_count": null,
      "outputs": []
    },
    {
      "cell_type": "code",
      "source": [
        "X_train.shape"
      ],
      "metadata": {
        "id": "98d20gQt0t-F",
        "outputId": "59d09ba5-503e-4b91-d760-81a50759effe",
        "colab": {
          "base_uri": "https://localhost:8080/"
        }
      },
      "execution_count": null,
      "outputs": [
        {
          "output_type": "execute_result",
          "data": {
            "text/plain": [
              "(7000, 50, 1)"
            ]
          },
          "metadata": {},
          "execution_count": 22
        }
      ]
    },
    {
      "cell_type": "code",
      "source": [
        "y_pred = X_valid[:, -1]\n",
        "np.mean(tf.keras.losses.mean_squared_error(y_valid, y_pred))"
      ],
      "metadata": {
        "id": "dRgYfHH4tO98",
        "outputId": "70fd1427-d843-40dc-a6fb-0f0c7b33683b",
        "colab": {
          "base_uri": "https://localhost:8080/"
        }
      },
      "execution_count": null,
      "outputs": [
        {
          "output_type": "execute_result",
          "data": {
            "text/plain": [
              "0.02146086"
            ]
          },
          "metadata": {},
          "execution_count": 10
        }
      ]
    },
    {
      "cell_type": "markdown",
      "source": [
        "## Simple linear regression model"
      ],
      "metadata": {
        "id": "hb_1mQdduAZx"
      }
    },
    {
      "cell_type": "code",
      "source": [
        "model = tf.keras.models.Sequential([\n",
        "    tf.keras.layers.Flatten(input_shape=[50, 1]),\n",
        "    tf.keras.layers.Dense(1)\n",
        "])"
      ],
      "metadata": {
        "id": "8rfUWF-jtwuM"
      },
      "execution_count": null,
      "outputs": []
    },
    {
      "cell_type": "code",
      "source": [
        "model.compile(optimizer='adam', loss='mse')"
      ],
      "metadata": {
        "id": "LZMUqv04uEWs"
      },
      "execution_count": null,
      "outputs": []
    },
    {
      "cell_type": "code",
      "source": [
        "model.fit(x=X_train, y=y_train, epochs=20, validation_data=(X_valid, y_valid))"
      ],
      "metadata": {
        "id": "wK6QPNb4uOMs"
      },
      "execution_count": null,
      "outputs": []
    },
    {
      "cell_type": "markdown",
      "source": [
        "validation loss is 0.004. This is much better than the naive forecast error `mse` of 0.020"
      ],
      "metadata": {
        "id": "fWUr82vhuct5"
      }
    },
    {
      "cell_type": "markdown",
      "source": [
        "## SimpleRNN"
      ],
      "metadata": {
        "id": "bgysH5ARu2Fb"
      }
    },
    {
      "cell_type": "code",
      "source": [
        "model=tf.keras.models.Sequential(\n",
        "    [tf.keras.layers.SimpleRNN(units=1, input_shape=(None, 1))]\n",
        ")"
      ],
      "metadata": {
        "id": "pWiZssSCuX3N"
      },
      "execution_count": null,
      "outputs": []
    },
    {
      "cell_type": "code",
      "source": [
        "model.compile(optimizer='adam', loss='mse')\n",
        "model.fit(x=X_train, y=y_train, epochs=20, validation_data=(X_valid, y_valid))"
      ],
      "metadata": {
        "id": "a7HBNbfXu6ej",
        "outputId": "62f40917-a1f9-45fe-c101-bbcd6b209458",
        "colab": {
          "base_uri": "https://localhost:8080/"
        }
      },
      "execution_count": null,
      "outputs": [
        {
          "output_type": "stream",
          "name": "stdout",
          "text": [
            "Epoch 1/20\n",
            "219/219 [==============================] - 3s 9ms/step - loss: 0.0569 - val_loss: 0.0459\n",
            "Epoch 2/20\n",
            "219/219 [==============================] - 2s 8ms/step - loss: 0.0377 - val_loss: 0.0307\n",
            "Epoch 3/20\n",
            "219/219 [==============================] - 2s 8ms/step - loss: 0.0249 - val_loss: 0.0206\n",
            "Epoch 4/20\n",
            "219/219 [==============================] - 2s 8ms/step - loss: 0.0170 - val_loss: 0.0152\n",
            "Epoch 5/20\n",
            "219/219 [==============================] - 2s 8ms/step - loss: 0.0133 - val_loss: 0.0129\n",
            "Epoch 6/20\n",
            "219/219 [==============================] - 2s 8ms/step - loss: 0.0119 - val_loss: 0.0123\n",
            "Epoch 7/20\n",
            "219/219 [==============================] - 2s 8ms/step - loss: 0.0115 - val_loss: 0.0120\n",
            "Epoch 8/20\n",
            "219/219 [==============================] - 2s 8ms/step - loss: 0.0113 - val_loss: 0.0120\n",
            "Epoch 9/20\n",
            "219/219 [==============================] - 2s 8ms/step - loss: 0.0113 - val_loss: 0.0119\n",
            "Epoch 10/20\n",
            "219/219 [==============================] - 2s 8ms/step - loss: 0.0112 - val_loss: 0.0119\n",
            "Epoch 11/20\n",
            "219/219 [==============================] - 2s 9ms/step - loss: 0.0111 - val_loss: 0.0118\n",
            "Epoch 12/20\n",
            "219/219 [==============================] - 2s 8ms/step - loss: 0.0111 - val_loss: 0.0118\n",
            "Epoch 13/20\n",
            "219/219 [==============================] - 2s 8ms/step - loss: 0.0111 - val_loss: 0.0118\n",
            "Epoch 14/20\n",
            "219/219 [==============================] - 2s 8ms/step - loss: 0.0111 - val_loss: 0.0117\n",
            "Epoch 15/20\n",
            "219/219 [==============================] - 2s 8ms/step - loss: 0.0110 - val_loss: 0.0117\n",
            "Epoch 16/20\n",
            "219/219 [==============================] - 2s 8ms/step - loss: 0.0110 - val_loss: 0.0117\n",
            "Epoch 17/20\n",
            "219/219 [==============================] - 2s 8ms/step - loss: 0.0110 - val_loss: 0.0117\n",
            "Epoch 18/20\n",
            "219/219 [==============================] - 2s 8ms/step - loss: 0.0110 - val_loss: 0.0117\n",
            "Epoch 19/20\n",
            "219/219 [==============================] - 2s 8ms/step - loss: 0.0110 - val_loss: 0.0117\n",
            "Epoch 20/20\n",
            "219/219 [==============================] - 2s 8ms/step - loss: 0.0110 - val_loss: 0.0117\n"
          ]
        },
        {
          "output_type": "execute_result",
          "data": {
            "text/plain": [
              "<keras.callbacks.History at 0x7fc9acf17850>"
            ]
          },
          "metadata": {},
          "execution_count": 17
        }
      ]
    },
    {
      "cell_type": "markdown",
      "source": [
        "## A deep SimpleRNN"
      ],
      "metadata": {
        "id": "WvEJNKtfxCGC"
      }
    },
    {
      "cell_type": "code",
      "source": [
        "model_deepRnn = tf.keras.models.Sequential(\n",
        "    [tf.keras.layers.SimpleRNN(units=20, return_sequences=True, input_shape=(None, 1)),\n",
        "     tf.keras.layers.SimpleRNN(units=20, return_sequences=True),\n",
        "     tf.keras.layers.SimpleRNN(units=1, return_sequences=False)]\n",
        ")"
      ],
      "metadata": {
        "id": "80xiVs0KxD-g"
      },
      "execution_count": null,
      "outputs": []
    },
    {
      "cell_type": "code",
      "source": [
        "model_deepRnn.compile(optimizer='adam', loss='mse')\n",
        "model_deepRnn.fit(x=X_train, y=y_train, epochs=10, validation_data=(X_valid, y_valid))"
      ],
      "metadata": {
        "id": "GgBvLZy6xuww",
        "outputId": "eedb290f-d273-418c-dfd3-3a5bdf84c19a",
        "colab": {
          "base_uri": "https://localhost:8080/"
        }
      },
      "execution_count": null,
      "outputs": [
        {
          "output_type": "stream",
          "name": "stdout",
          "text": [
            "Epoch 1/10\n",
            "219/219 [==============================] - 9s 30ms/step - loss: 0.0185 - val_loss: 0.0052\n",
            "Epoch 2/10\n",
            "219/219 [==============================] - 6s 28ms/step - loss: 0.0041 - val_loss: 0.0034\n",
            "Epoch 3/10\n",
            "219/219 [==============================] - 6s 28ms/step - loss: 0.0033 - val_loss: 0.0030\n",
            "Epoch 4/10\n",
            "219/219 [==============================] - 6s 28ms/step - loss: 0.0030 - val_loss: 0.0030\n",
            "Epoch 5/10\n",
            "219/219 [==============================] - 6s 28ms/step - loss: 0.0030 - val_loss: 0.0027\n",
            "Epoch 6/10\n",
            "219/219 [==============================] - 6s 29ms/step - loss: 0.0029 - val_loss: 0.0030\n",
            "Epoch 7/10\n",
            "219/219 [==============================] - 6s 29ms/step - loss: 0.0029 - val_loss: 0.0026\n",
            "Epoch 8/10\n",
            "219/219 [==============================] - 6s 29ms/step - loss: 0.0028 - val_loss: 0.0027\n",
            "Epoch 9/10\n",
            "219/219 [==============================] - 6s 29ms/step - loss: 0.0028 - val_loss: 0.0027\n",
            "Epoch 10/10\n",
            "219/219 [==============================] - 6s 29ms/step - loss: 0.0027 - val_loss: 0.0026\n"
          ]
        },
        {
          "output_type": "execute_result",
          "data": {
            "text/plain": [
              "<keras.callbacks.History at 0x7fc9ad7c1090>"
            ]
          },
          "metadata": {},
          "execution_count": 19
        }
      ]
    },
    {
      "cell_type": "markdown",
      "source": [
        "## SimpleRNN with `Dense` Layer at the end and no activation function"
      ],
      "metadata": {
        "id": "1iNC3VmwzUcd"
      }
    },
    {
      "cell_type": "code",
      "source": [
        "model_deepRnnDense = tf.keras.models.Sequential(\n",
        "    [tf.keras.layers.SimpleRNN(units=20, return_sequences=True, input_shape=(None, 1)),\n",
        "     tf.keras.layers.SimpleRNN(units=20),\n",
        "     tf.keras.layers.Dense(units=1)]\n",
        ")\n",
        "\n",
        "\n",
        "model_deepRnnDense.compile(optimizer='adam', loss='mse')\n",
        "model_deepRnnDense.fit(x=X_train, y=y_train, epochs=10, validation_data=(X_valid, y_valid))"
      ],
      "metadata": {
        "id": "lgvul_tVzeca",
        "outputId": "fc213a64-f0a5-47a2-9d18-483a5c2ac9c8",
        "colab": {
          "base_uri": "https://localhost:8080/"
        }
      },
      "execution_count": null,
      "outputs": [
        {
          "output_type": "stream",
          "name": "stdout",
          "text": [
            "Epoch 1/10\n",
            "219/219 [==============================] - 6s 22ms/step - loss: 0.0176 - val_loss: 0.0055\n",
            "Epoch 2/10\n",
            "219/219 [==============================] - 4s 20ms/step - loss: 0.0045 - val_loss: 0.0036\n",
            "Epoch 3/10\n",
            "219/219 [==============================] - 4s 20ms/step - loss: 0.0036 - val_loss: 0.0033\n",
            "Epoch 4/10\n",
            "219/219 [==============================] - 4s 20ms/step - loss: 0.0033 - val_loss: 0.0032\n",
            "Epoch 5/10\n",
            "219/219 [==============================] - 4s 20ms/step - loss: 0.0032 - val_loss: 0.0028\n",
            "Epoch 6/10\n",
            "219/219 [==============================] - 4s 20ms/step - loss: 0.0031 - val_loss: 0.0028\n",
            "Epoch 7/10\n",
            "219/219 [==============================] - 4s 20ms/step - loss: 0.0030 - val_loss: 0.0029\n",
            "Epoch 8/10\n",
            "219/219 [==============================] - 4s 20ms/step - loss: 0.0030 - val_loss: 0.0030\n",
            "Epoch 9/10\n",
            "219/219 [==============================] - 4s 19ms/step - loss: 0.0029 - val_loss: 0.0026\n",
            "Epoch 10/10\n",
            "219/219 [==============================] - 4s 20ms/step - loss: 0.0029 - val_loss: 0.0029\n"
          ]
        },
        {
          "output_type": "execute_result",
          "data": {
            "text/plain": [
              "<keras.callbacks.History at 0x7fc9a4d34890>"
            ]
          },
          "metadata": {},
          "execution_count": 21
        }
      ]
    },
    {
      "cell_type": "markdown",
      "source": [
        "## Creating predictions n steps in the future\n",
        "\n",
        "Generate predictions and feed it back to the model for predicting the next timestep"
      ],
      "metadata": {
        "id": "33U4-BTa2vJ4"
      }
    },
    {
      "cell_type": "code",
      "source": [
        "predictions = model_deepRnnDense.predict(X_test)"
      ],
      "metadata": {
        "id": "-k3lKDyd40kx"
      },
      "execution_count": null,
      "outputs": []
    },
    {
      "cell_type": "code",
      "source": [
        "predictions.shape"
      ],
      "metadata": {
        "id": "CUD4_uzw43dV",
        "outputId": "cd624b88-f44d-4afe-e575-4a1b5b932b60",
        "colab": {
          "base_uri": "https://localhost:8080/"
        }
      },
      "execution_count": null,
      "outputs": [
        {
          "output_type": "execute_result",
          "data": {
            "text/plain": [
              "(1000, 1)"
            ]
          },
          "metadata": {},
          "execution_count": 32
        }
      ]
    },
    {
      "cell_type": "code",
      "source": [
        "predictions[0]"
      ],
      "metadata": {
        "id": "1Z4pim63zybk",
        "outputId": "91430e31-9eac-4e37-be0f-468e849267a7",
        "colab": {
          "base_uri": "https://localhost:8080/"
        }
      },
      "execution_count": null,
      "outputs": [
        {
          "output_type": "execute_result",
          "data": {
            "text/plain": [
              "array([0.2250741], dtype=float32)"
            ]
          },
          "metadata": {},
          "execution_count": 39
        }
      ]
    },
    {
      "cell_type": "code",
      "source": [
        "pd.DataFrame(X_test[0]).plot(kind='line')"
      ],
      "metadata": {
        "id": "Nj0DpCOP4XTR",
        "outputId": "824af1dc-17cd-4808-f258-d14fbbf3b253",
        "colab": {
          "base_uri": "https://localhost:8080/",
          "height": 282
        }
      },
      "execution_count": null,
      "outputs": [
        {
          "output_type": "execute_result",
          "data": {
            "text/plain": [
              "<matplotlib.axes._subplots.AxesSubplot at 0x7fc9a3e55950>"
            ]
          },
          "metadata": {},
          "execution_count": 27
        },
        {
          "output_type": "display_data",
          "data": {
            "image/png": "[encoded data removed]",
            "text/plain": [
              "<Figure size 432x288 with 1 Axes>"
            ]
          },
          "metadata": {
            "needs_background": "light"
          }
        }
      ]
    },
    {
      "cell_type": "code",
      "source": [
        "## Generate time series for 1 batch and 50 steps\n",
        "\n",
        "new_series = generate_time_series(1, 10)"
      ],
      "metadata": {
        "id": "OGqTteb54oup"
      },
      "execution_count": null,
      "outputs": []
    },
    {
      "cell_type": "code",
      "source": [
        "new_series.shape"
      ],
      "metadata": {
        "id": "ZQbDWy9X6vVx",
        "outputId": "5b535182-2d2c-4f3d-bb8b-f339d9941fa0",
        "colab": {
          "base_uri": "https://localhost:8080/"
        }
      },
      "execution_count": null,
      "outputs": [
        {
          "output_type": "execute_result",
          "data": {
            "text/plain": [
              "(1, 10, 1)"
            ]
          },
          "metadata": {},
          "execution_count": 115
        }
      ]
    },
    {
      "cell_type": "code",
      "source": [
        "pd.DataFrame(new_series[0]).plot()"
      ],
      "metadata": {
        "id": "a4NFq0s954Rr",
        "outputId": "9d775de4-7a1a-480c-d559-9d34ffc21af1",
        "colab": {
          "base_uri": "https://localhost:8080/",
          "height": 282
        }
      },
      "execution_count": null,
      "outputs": [
        {
          "output_type": "execute_result",
          "data": {
            "text/plain": [
              "<matplotlib.axes._subplots.AxesSubplot at 0x7fc9a4f54110>"
            ]
          },
          "metadata": {},
          "execution_count": 116
        },
        {
          "output_type": "display_data",
          "data": {
            "image/png": "[encoded data removed]",
            "text/plain": [
              "<Figure size 432x288 with 1 Axes>"
            ]
          },
          "metadata": {
            "needs_background": "light"
          }
        }
      ]
    },
    {
      "cell_type": "code",
      "source": [
        "predicted1 = model_deepRnnDense.predict(new_series)\n",
        "predicted1"
      ],
      "metadata": {
        "id": "0G_vKbVk6tz8",
        "outputId": "8f0b7571-94bf-47fc-8b0b-959e7d89ca0e",
        "colab": {
          "base_uri": "https://localhost:8080/"
        }
      },
      "execution_count": null,
      "outputs": [
        {
          "output_type": "execute_result",
          "data": {
            "text/plain": [
              "array([[-0.8962373]], dtype=float32)"
            ]
          },
          "metadata": {},
          "execution_count": 117
        }
      ]
    },
    {
      "cell_type": "code",
      "source": [
        "predicted1.flatten()"
      ],
      "metadata": {
        "id": "TL2KWTd48Rlk",
        "outputId": "e56e649c-a1cb-4222-e3e7-363d119e62d7",
        "colab": {
          "base_uri": "https://localhost:8080/"
        }
      },
      "execution_count": null,
      "outputs": [
        {
          "output_type": "execute_result",
          "data": {
            "text/plain": [
              "array([-0.8962373], dtype=float32)"
            ]
          },
          "metadata": {},
          "execution_count": 118
        }
      ]
    },
    {
      "cell_type": "code",
      "source": [
        "X_new_series, y_new_series = X_test[157][:40,:], X_test[157][40:,:]\n",
        "X_new_series.shape"
      ],
      "metadata": {
        "id": "fwzrCCH8Bx3o",
        "outputId": "daa5ad25-3029-469a-f751-d60221874f3c",
        "colab": {
          "base_uri": "https://localhost:8080/"
        }
      },
      "execution_count": null,
      "outputs": [
        {
          "output_type": "execute_result",
          "data": {
            "text/plain": [
              "(40, 1)"
            ]
          },
          "metadata": {},
          "execution_count": 170
        }
      ]
    },
    {
      "cell_type": "code",
      "source": [
        "X_new_series=X_new_series.reshape((1,40,1))"
      ],
      "metadata": {
        "id": "p6Jqx84PCOXX"
      },
      "execution_count": null,
      "outputs": []
    },
    {
      "cell_type": "code",
      "source": [
        "\n",
        "pd.DataFrame(X_new_series[0]).plot()\n",
        "\n",
        "model_deepRnnDense.predict(X_new_series)"
      ],
      "metadata": {
        "id": "yK-knZBS8_Kj",
        "outputId": "01e24653-069a-4622-f98f-33c1dd6cd1e7",
        "colab": {
          "base_uri": "https://localhost:8080/",
          "height": 282
        }
      },
      "execution_count": null,
      "outputs": [
        {
          "output_type": "execute_result",
          "data": {
            "text/plain": [
              "array([[0.39639023]], dtype=float32)"
            ]
          },
          "metadata": {},
          "execution_count": 172
        },
        {
          "output_type": "display_data",
          "data": {
            "image/png": "[encoded data removed]",
            "text/plain": [
              "<Figure size 432x288 with 1 Axes>"
            ]
          },
          "metadata": {
            "needs_background": "light"
          }
        }
      ]
    },
    {
      "cell_type": "code",
      "source": [
        "new_series=X_new_series"
      ],
      "metadata": {
        "id": "Hr4z7gy0Cm4E"
      },
      "execution_count": null,
      "outputs": []
    },
    {
      "cell_type": "code",
      "source": [
        "series_pred=[]\n",
        "\n",
        "for i in range(1,11):\n",
        "  # print(i)\n",
        "  pred_val = model_deepRnnDense.predict(new_series)\n",
        "  new_series = new_series[:,1:,:]\n",
        "  # print(new_series.shape)\n",
        "  print((i, new_series.shape, pred_val.flatten()))\n",
        "  series_pred.append(pred_val)"
      ],
      "metadata": {
        "id": "GBfesvJ26679",
        "outputId": "d3fc9e0e-62f5-4c09-f604-094b826953ec",
        "colab": {
          "base_uri": "https://localhost:8080/"
        }
      },
      "execution_count": null,
      "outputs": [
        {
          "output_type": "stream",
          "name": "stdout",
          "text": [
            "(1, (1, 39, 1), array([0.39639023], dtype=float32))\n",
            "(2, (1, 38, 1), array([0.3931343], dtype=float32))\n",
            "(3, (1, 37, 1), array([0.38657707], dtype=float32))\n",
            "(4, (1, 36, 1), array([0.37638703], dtype=float32))\n",
            "(5, (1, 35, 1), array([0.38206372], dtype=float32))\n",
            "(6, (1, 34, 1), array([0.38399804], dtype=float32))\n",
            "(7, (1, 33, 1), array([0.38994697], dtype=float32))\n",
            "(8, (1, 32, 1), array([0.39250922], dtype=float32))\n",
            "(9, (1, 31, 1), array([0.38089454], dtype=float32))\n",
            "(10, (1, 30, 1), array([0.37348086], dtype=float32))\n"
          ]
        }
      ]
    },
    {
      "cell_type": "code",
      "source": [
        "y_new_series.shape"
      ],
      "metadata": {
        "id": "o5A8fLRODEl1",
        "outputId": "33ead8bb-95d7-4b07-d174-0d86d1c9ec3c",
        "colab": {
          "base_uri": "https://localhost:8080/"
        }
      },
      "execution_count": null,
      "outputs": [
        {
          "output_type": "execute_result",
          "data": {
            "text/plain": [
              "(10, 1)"
            ]
          },
          "metadata": {},
          "execution_count": 175
        }
      ]
    },
    {
      "cell_type": "code",
      "source": [
        "pred_array=np.concatenate(series_pred, axis=0)\n",
        "pred_array"
      ],
      "metadata": {
        "id": "dS9JAOnwEG3c",
        "outputId": "05e6f5e9-b703-4304-8ace-53343576b489",
        "colab": {
          "base_uri": "https://localhost:8080/"
        }
      },
      "execution_count": null,
      "outputs": [
        {
          "output_type": "execute_result",
          "data": {
            "text/plain": [
              "array([[0.39639023],\n",
              "       [0.3931343 ],\n",
              "       [0.38657707],\n",
              "       [0.37638703],\n",
              "       [0.38206372],\n",
              "       [0.38399804],\n",
              "       [0.38994697],\n",
              "       [0.39250922],\n",
              "       [0.38089454],\n",
              "       [0.37348086]], dtype=float32)"
            ]
          },
          "metadata": {},
          "execution_count": 176
        }
      ]
    },
    {
      "cell_type": "code",
      "source": [
        "plt.plot(X_new_series[0,:,:])\n",
        "plt.plot(y_new_series, c='red')\n",
        "plt.plot(pred_array, c='green')"
      ],
      "metadata": {
        "id": "jkRTCx6vCuM2",
        "outputId": "534945d3-2556-4f67-dae0-3989ba1295f0",
        "colab": {
          "base_uri": "https://localhost:8080/",
          "height": 282
        }
      },
      "execution_count": null,
      "outputs": [
        {
          "output_type": "execute_result",
          "data": {
            "text/plain": [
              "[<matplotlib.lines.Line2D at 0x7fc991c22650>]"
            ]
          },
          "metadata": {},
          "execution_count": 177
        },
        {
          "output_type": "display_data",
          "data": {
            "image/png": "[encoded data removed]",
            "text/plain": [
              "<Figure size 432x288 with 1 Axes>"
            ]
          },
          "metadata": {
            "needs_background": "light"
          }
        }
      ]
    },
    {
      "cell_type": "markdown",
      "source": [
        "## Another way to predict is to have the RNN itself output the next 10 sequences.\n",
        "\n",
        "This is an example of Sequence-to-Sequence RNN.  \n",
        "\n",
        "The advantage of this technique is that the loss will contain a term for the output of the RNN at each and every time step, not just the output at the last time step. This means there will be many more error gradients flowing through the model, and they won’t have to flow only through time; they will also flow from the output of each time step. This will both stabilize and speed up training.  \n",
        "\n",
        "\n",
        "To turn the model into a sequence-to-sequence model, we must set return_sequences=True in all recurrent layers (even the last one), and we must apply the output Dense layer at every time step. Keras offers a TimeDistributed layer for this very purpose: it wraps any layer (e.g., a Dense layer) and applies it at every time step of its input sequence"
      ],
      "metadata": {
        "id": "x4zOhx2kCuDB"
      }
    },
    {
      "cell_type": "code",
      "source": [
        "help(np.empty)"
      ],
      "metadata": {
        "id": "hrrJEpLLLmor",
        "outputId": "9cbf8386-110a-4954-9a07-d055aa5a4b1d",
        "colab": {
          "base_uri": "https://localhost:8080/"
        }
      },
      "execution_count": 232,
      "outputs": [
        {
          "output_type": "stream",
          "name": "stdout",
          "text": [
            "Help on built-in function empty in module numpy:\n",
            "\n",
            "empty(...)\n",
            "    empty(shape, dtype=float, order='C')\n",
            "    \n",
            "    Return a new array of given shape and type, without initializing entries.\n",
            "    \n",
            "    Parameters\n",
            "    ----------\n",
            "    shape : int or tuple of int\n",
            "        Shape of the empty array, e.g., ``(2, 3)`` or ``2``.\n",
            "    dtype : data-type, optional\n",
            "        Desired output data-type for the array, e.g, `numpy.int8`. Default is\n",
            "        `numpy.float64`.\n",
            "    order : {'C', 'F'}, optional, default: 'C'\n",
            "        Whether to store multi-dimensional data in row-major\n",
            "        (C-style) or column-major (Fortran-style) order in\n",
            "        memory.\n",
            "    \n",
            "    Returns\n",
            "    -------\n",
            "    out : ndarray\n",
            "        Array of uninitialized (arbitrary) data of the given shape, dtype, and\n",
            "        order.  Object arrays will be initialized to None.\n",
            "    \n",
            "    See Also\n",
            "    --------\n",
            "    empty_like : Return an empty array with shape and type of input.\n",
            "    ones : Return a new array setting values to one.\n",
            "    zeros : Return a new array setting values to zero.\n",
            "    full : Return a new array of given shape filled with value.\n",
            "    \n",
            "    \n",
            "    Notes\n",
            "    -----\n",
            "    `empty`, unlike `zeros`, does not set the array values to zero,\n",
            "    and may therefore be marginally faster.  On the other hand, it requires\n",
            "    the user to manually set all the values in the array, and should be\n",
            "    used with caution.\n",
            "    \n",
            "    Examples\n",
            "    --------\n",
            "    >>> np.empty([2, 2])\n",
            "    array([[ -9.74499359e+001,   6.69583040e-309],\n",
            "           [  2.13182611e-314,   3.06959433e-309]])         #uninitialized\n",
            "    \n",
            "    >>> np.empty([2, 2], dtype=int)\n",
            "    array([[-1073741821, -1067949133],\n",
            "           [  496041986,    19249760]])                     #uninitialized\n",
            "\n"
          ]
        }
      ]
    },
    {
      "cell_type": "code",
      "source": [
        "np.random.seed(42)\n",
        "\n",
        "n_steps = 50\n",
        "series = generate_time_series(10000, n_steps + 10)\n",
        "X_train = series[:7000, :n_steps]\n",
        "X_valid = series[7000:9000, :n_steps]\n",
        "X_test = series[9000:, :n_steps]\n",
        "Y = np.empty((10000, n_steps, 10))\n",
        "for step_ahead in range(1, 10 + 1):\n",
        "    Y[..., step_ahead - 1] = series[..., step_ahead:step_ahead + n_steps, 0]\n",
        "Y_train = Y[:7000]\n",
        "Y_valid = Y[7000:9000]\n",
        "Y_test = Y[9000:]"
      ],
      "metadata": {
        "id": "b64-WqUFRblC"
      },
      "execution_count": 233,
      "outputs": []
    },
    {
      "cell_type": "code",
      "source": [
        "model_deepRnn_MultiForeast = tf.keras.models.Sequential(\n",
        "    [tf.keras.layers.SimpleRNN(units=20, return_sequences=True, input_shape=(None, 1)),\n",
        "     tf.keras.layers.SimpleRNN(units=20, return_sequences=True),\n",
        "     tf.keras.layers.TimeDistributed(tf.keras.layers.Dense(10))]\n",
        ")"
      ],
      "metadata": {
        "id": "ZSViWBRsTSN2",
        "outputId": "f01a4bb1-fd21-4731-fb75-c8fd3a31ac28",
        "colab": {
          "base_uri": "https://localhost:8080/",
          "height": 217
        }
      },
      "execution_count": 234,
      "outputs": [
        {
          "output_type": "error",
          "ename": "KeyboardInterrupt",
          "evalue": "ignored",
          "traceback": [
            "\u001b[0;31m---------------------------------------------------------------------------\u001b[0m",
            "\u001b[0;31mKeyboardInterrupt\u001b[0m                         Traceback (most recent call last)",
            "\u001b[0;32m/usr/local/lib/python3.7/dist-packages/zmq/backend/cython/checkrc.pxd\u001b[0m in \u001b[0;36mzmq.backend.cython.checkrc._check_rc\u001b[0;34m()\u001b[0m\n",
            "\u001b[0;31mKeyboardInterrupt\u001b[0m: "
          ]
        },
        {
          "output_type": "stream",
          "name": "stderr",
          "text": [
            "Exception ignored in: 'zmq.backend.cython.message.Frame.__dealloc__'\n",
            "Traceback (most recent call last):\n",
            "  File \"zmq/backend/cython/checkrc.pxd\", line 13, in zmq.backend.cython.checkrc._check_rc\n",
            "KeyboardInterrupt\n"
          ]
        }
      ]
    },
    {
      "cell_type": "markdown",
      "source": [
        "### Create the error metric to be computed only at the end of the prediction\n",
        "\n",
        "Since, we are now computing an output for 10 time steps, but, are only concerned about the error on the very last time step, we would need to create an error metric that computes mse for the very last timjestep of prediction"
      ],
      "metadata": {
        "id": "XW3_h4AZV4vn"
      }
    },
    {
      "cell_type": "code",
      "source": [
        "import tensorflow as tf"
      ],
      "metadata": {
        "id": "vb66UqR_YZGk"
      },
      "execution_count": 236,
      "outputs": []
    },
    {
      "cell_type": "code",
      "source": [
        "def last_step_error_metric(y_true, y_pred):\n",
        "  return tf.keras.metrics.mean_squared_error(y_true[:,-1], y_pred[:,-1])"
      ],
      "metadata": {
        "id": "B1xtus64Vxfv"
      },
      "execution_count": 230,
      "outputs": []
    },
    {
      "cell_type": "code",
      "source": [
        "model_deepRnn_MultiForeast.compile(optimizer=tf.keras.optimizers.Adam(learning_rate=0.01),\n",
        "                                   loss='mse',\n",
        "                                   metrics=[last_step_error_metric])"
      ],
      "metadata": {
        "id": "N-kYPtRmXAMJ"
      },
      "execution_count": 238,
      "outputs": []
    },
    {
      "cell_type": "code",
      "source": [
        "np.random.seed(42)\n",
        "tf.random.set_seed(42)\n",
        "\n",
        "model = tf.keras.models.Sequential([\n",
        "    tf.keras.layers.SimpleRNN(20, return_sequences=True, input_shape=[None, 1]),\n",
        "    tf.keras.layers.SimpleRNN(20, return_sequences=True),\n",
        "    tf.keras.layers.TimeDistributed(tf.keras.layers.Dense(10))\n",
        "])\n",
        "\n",
        "def last_time_step_mse(Y_true, Y_pred):\n",
        "    return tf.keras.metrics.mean_squared_error(Y_true[:, -1], Y_pred[:, -1])\n",
        "\n",
        "model.compile(loss=\"mse\", optimizer=tf.keras.optimizers.Adam(learning_rate=0.01), metrics=[last_time_step_mse])\n",
        "history = model.fit(X_train, Y_train, epochs=20,\n",
        "                    validation_data=(X_valid, Y_valid))"
      ],
      "metadata": {
        "id": "df7Yvh5QXN5N",
        "outputId": "71b0db93-500a-4d07-a182-8a39dc18250f",
        "colab": {
          "base_uri": "https://localhost:8080/"
        }
      },
      "execution_count": 241,
      "outputs": [
        {
          "output_type": "stream",
          "name": "stdout",
          "text": [
            "Epoch 1/20\n",
            "219/219 [==============================] - 6s 22ms/step - loss: 0.0508 - last_time_step_mse: 0.0400 - val_loss: 0.0429 - val_last_time_step_mse: 0.0324\n",
            "Epoch 2/20\n",
            "219/219 [==============================] - 4s 20ms/step - loss: 0.0395 - last_time_step_mse: 0.0283 - val_loss: 0.0363 - val_last_time_step_mse: 0.0260\n",
            "Epoch 3/20\n",
            "219/219 [==============================] - 5s 21ms/step - loss: 0.0325 - last_time_step_mse: 0.0214 - val_loss: 0.0368 - val_last_time_step_mse: 0.0279\n",
            "Epoch 4/20\n",
            "219/219 [==============================] - 5s 21ms/step - loss: 0.0298 - last_time_step_mse: 0.0188 - val_loss: 0.0273 - val_last_time_step_mse: 0.0155\n",
            "Epoch 5/20\n",
            "219/219 [==============================] - 4s 20ms/step - loss: 0.0270 - last_time_step_mse: 0.0149 - val_loss: 0.0266 - val_last_time_step_mse: 0.0163\n",
            "Epoch 6/20\n",
            "219/219 [==============================] - 5s 21ms/step - loss: 0.0250 - last_time_step_mse: 0.0123 - val_loss: 0.0248 - val_last_time_step_mse: 0.0122\n",
            "Epoch 7/20\n",
            "219/219 [==============================] - 4s 20ms/step - loss: 0.0236 - last_time_step_mse: 0.0111 - val_loss: 0.0234 - val_last_time_step_mse: 0.0098\n",
            "Epoch 8/20\n",
            "219/219 [==============================] - 4s 20ms/step - loss: 0.0217 - last_time_step_mse: 0.0087 - val_loss: 0.0220 - val_last_time_step_mse: 0.0095\n",
            "Epoch 9/20\n",
            "219/219 [==============================] - 4s 20ms/step - loss: 0.0217 - last_time_step_mse: 0.0089 - val_loss: 0.0199 - val_last_time_step_mse: 0.0069\n",
            "Epoch 10/20\n",
            "219/219 [==============================] - 4s 20ms/step - loss: 0.0212 - last_time_step_mse: 0.0087 - val_loss: 0.0221 - val_last_time_step_mse: 0.0099\n",
            "Epoch 11/20\n",
            "219/219 [==============================] - 4s 20ms/step - loss: 0.0202 - last_time_step_mse: 0.0078 - val_loss: 0.0199 - val_last_time_step_mse: 0.0074\n",
            "Epoch 12/20\n",
            "219/219 [==============================] - 4s 20ms/step - loss: 0.0199 - last_time_step_mse: 0.0077 - val_loss: 0.0186 - val_last_time_step_mse: 0.0065\n",
            "Epoch 13/20\n",
            "219/219 [==============================] - 5s 21ms/step - loss: 0.0194 - last_time_step_mse: 0.0071 - val_loss: 0.0197 - val_last_time_step_mse: 0.0071\n",
            "Epoch 14/20\n",
            "219/219 [==============================] - 4s 20ms/step - loss: 0.0191 - last_time_step_mse: 0.0071 - val_loss: 0.0188 - val_last_time_step_mse: 0.0068\n",
            "Epoch 15/20\n",
            "219/219 [==============================] - 4s 20ms/step - loss: 0.0191 - last_time_step_mse: 0.0071 - val_loss: 0.0184 - val_last_time_step_mse: 0.0072\n",
            "Epoch 16/20\n",
            "219/219 [==============================] - 4s 20ms/step - loss: 0.0188 - last_time_step_mse: 0.0069 - val_loss: 0.0186 - val_last_time_step_mse: 0.0075\n",
            "Epoch 17/20\n",
            "219/219 [==============================] - 4s 20ms/step - loss: 0.0187 - last_time_step_mse: 0.0067 - val_loss: 0.0186 - val_last_time_step_mse: 0.0073\n",
            "Epoch 18/20\n",
            "219/219 [==============================] - 4s 21ms/step - loss: 0.0186 - last_time_step_mse: 0.0070 - val_loss: 0.0174 - val_last_time_step_mse: 0.0061\n",
            "Epoch 19/20\n",
            "219/219 [==============================] - 4s 20ms/step - loss: 0.0186 - last_time_step_mse: 0.0070 - val_loss: 0.0176 - val_last_time_step_mse: 0.0061\n",
            "Epoch 20/20\n",
            "219/219 [==============================] - 5s 21ms/step - loss: 0.0184 - last_time_step_mse: 0.0068 - val_loss: 0.0185 - val_last_time_step_mse: 0.0071\n"
          ]
        }
      ]
    },
    {
      "cell_type": "code",
      "source": [
        "help(tf.keras.layers.RNN)"
      ],
      "metadata": {
        "id": "H-xqF93zcnbY",
        "outputId": "bfb6feea-4576-4677-eb59-0ddd3c07361d",
        "colab": {
          "base_uri": "https://localhost:8080/"
        }
      },
      "execution_count": 242,
      "outputs": [
        {
          "output_type": "stream",
          "name": "stdout",
          "text": [
            "Help on class RNN in module keras.layers.recurrent:\n",
            "\n",
            "class RNN(keras.engine.base_layer.Layer)\n",
            " |  RNN(*args, **kwargs)\n",
            " |  \n",
            " |  Base class for recurrent layers.\n",
            " |  \n",
            " |  See [the Keras RNN API guide](https://www.tensorflow.org/guide/keras/rnn)\n",
            " |  for details about the usage of RNN API.\n",
            " |  \n",
            " |  Args:\n",
            " |    cell: A RNN cell instance or a list of RNN cell instances.\n",
            " |      A RNN cell is a class that has:\n",
            " |      - A `call(input_at_t, states_at_t)` method, returning\n",
            " |        `(output_at_t, states_at_t_plus_1)`. The call method of the\n",
            " |        cell can also take the optional argument `constants`, see\n",
            " |        section \"Note on passing external constants\" below.\n",
            " |      - A `state_size` attribute. This can be a single integer\n",
            " |        (single state) in which case it is the size of the recurrent\n",
            " |        state. This can also be a list/tuple of integers (one size per state).\n",
            " |        The `state_size` can also be TensorShape or tuple/list of\n",
            " |        TensorShape, to represent high dimension state.\n",
            " |      - A `output_size` attribute. This can be a single integer or a\n",
            " |        TensorShape, which represent the shape of the output. For backward\n",
            " |        compatible reason, if this attribute is not available for the\n",
            " |        cell, the value will be inferred by the first element of the\n",
            " |        `state_size`.\n",
            " |      - A `get_initial_state(inputs=None, batch_size=None, dtype=None)`\n",
            " |        method that creates a tensor meant to be fed to `call()` as the\n",
            " |        initial state, if the user didn't specify any initial state via other\n",
            " |        means. The returned initial state should have a shape of\n",
            " |        [batch_size, cell.state_size]. The cell might choose to create a\n",
            " |        tensor full of zeros, or full of other values based on the cell's\n",
            " |        implementation.\n",
            " |        `inputs` is the input tensor to the RNN layer, which should\n",
            " |        contain the batch size as its shape[0], and also dtype. Note that\n",
            " |        the shape[0] might be `None` during the graph construction. Either\n",
            " |        the `inputs` or the pair of `batch_size` and `dtype` are provided.\n",
            " |        `batch_size` is a scalar tensor that represents the batch size\n",
            " |        of the inputs. `dtype` is `tf.DType` that represents the dtype of\n",
            " |        the inputs.\n",
            " |        For backward compatibility, if this method is not implemented\n",
            " |        by the cell, the RNN layer will create a zero filled tensor with the\n",
            " |        size of [batch_size, cell.state_size].\n",
            " |      In the case that `cell` is a list of RNN cell instances, the cells\n",
            " |      will be stacked on top of each other in the RNN, resulting in an\n",
            " |      efficient stacked RNN.\n",
            " |    return_sequences: Boolean (default `False`). Whether to return the last\n",
            " |      output in the output sequence, or the full sequence.\n",
            " |    return_state: Boolean (default `False`). Whether to return the last state\n",
            " |      in addition to the output.\n",
            " |    go_backwards: Boolean (default `False`).\n",
            " |      If True, process the input sequence backwards and return the\n",
            " |      reversed sequence.\n",
            " |    stateful: Boolean (default `False`). If True, the last state\n",
            " |      for each sample at index i in a batch will be used as initial\n",
            " |      state for the sample of index i in the following batch.\n",
            " |    unroll: Boolean (default `False`).\n",
            " |      If True, the network will be unrolled, else a symbolic loop will be used.\n",
            " |      Unrolling can speed-up a RNN, although it tends to be more\n",
            " |      memory-intensive. Unrolling is only suitable for short sequences.\n",
            " |    time_major: The shape format of the `inputs` and `outputs` tensors.\n",
            " |      If True, the inputs and outputs will be in shape\n",
            " |      `(timesteps, batch, ...)`, whereas in the False case, it will be\n",
            " |      `(batch, timesteps, ...)`. Using `time_major = True` is a bit more\n",
            " |      efficient because it avoids transposes at the beginning and end of the\n",
            " |      RNN calculation. However, most TensorFlow data is batch-major, so by\n",
            " |      default this function accepts input and emits output in batch-major\n",
            " |      form.\n",
            " |    zero_output_for_mask: Boolean (default `False`).\n",
            " |      Whether the output should use zeros for the masked timesteps. Note that\n",
            " |      this field is only used when `return_sequences` is True and mask is\n",
            " |      provided. It can useful if you want to reuse the raw output sequence of\n",
            " |      the RNN without interference from the masked timesteps, eg, merging\n",
            " |      bidirectional RNNs.\n",
            " |  \n",
            " |  Call arguments:\n",
            " |    inputs: Input tensor.\n",
            " |    mask: Binary tensor of shape `[batch_size, timesteps]` indicating whether\n",
            " |      a given timestep should be masked. An individual `True` entry indicates\n",
            " |      that the corresponding timestep should be utilized, while a `False`\n",
            " |      entry indicates that the corresponding timestep should be ignored.\n",
            " |    training: Python boolean indicating whether the layer should behave in\n",
            " |      training mode or in inference mode. This argument is passed to the cell\n",
            " |      when calling it. This is for use with cells that use dropout.\n",
            " |    initial_state: List of initial state tensors to be passed to the first\n",
            " |      call of the cell.\n",
            " |    constants: List of constant tensors to be passed to the cell at each\n",
            " |      timestep.\n",
            " |  \n",
            " |  Input shape:\n",
            " |    N-D tensor with shape `[batch_size, timesteps, ...]` or\n",
            " |    `[timesteps, batch_size, ...]` when time_major is True.\n",
            " |  \n",
            " |  Output shape:\n",
            " |    - If `return_state`: a list of tensors. The first tensor is\n",
            " |      the output. The remaining tensors are the last states,\n",
            " |      each with shape `[batch_size, state_size]`, where `state_size` could\n",
            " |      be a high dimension tensor shape.\n",
            " |    - If `return_sequences`: N-D tensor with shape\n",
            " |      `[batch_size, timesteps, output_size]`, where `output_size` could\n",
            " |      be a high dimension tensor shape, or\n",
            " |      `[timesteps, batch_size, output_size]` when `time_major` is True.\n",
            " |    - Else, N-D tensor with shape `[batch_size, output_size]`, where\n",
            " |      `output_size` could be a high dimension tensor shape.\n",
            " |  \n",
            " |  Masking:\n",
            " |    This layer supports masking for input data with a variable number\n",
            " |    of timesteps. To introduce masks to your data,\n",
            " |    use an [tf.keras.layers.Embedding] layer with the `mask_zero` parameter\n",
            " |    set to `True`.\n",
            " |  \n",
            " |  Note on using statefulness in RNNs:\n",
            " |    You can set RNN layers to be 'stateful', which means that the states\n",
            " |    computed for the samples in one batch will be reused as initial states\n",
            " |    for the samples in the next batch. This assumes a one-to-one mapping\n",
            " |    between samples in different successive batches.\n",
            " |  \n",
            " |    To enable statefulness:\n",
            " |      - Specify `stateful=True` in the layer constructor.\n",
            " |      - Specify a fixed batch size for your model, by passing\n",
            " |        If sequential model:\n",
            " |          `batch_input_shape=(...)` to the first layer in your model.\n",
            " |        Else for functional model with 1 or more Input layers:\n",
            " |          `batch_shape=(...)` to all the first layers in your model.\n",
            " |        This is the expected shape of your inputs\n",
            " |        *including the batch size*.\n",
            " |        It should be a tuple of integers, e.g. `(32, 10, 100)`.\n",
            " |      - Specify `shuffle=False` when calling `fit()`.\n",
            " |  \n",
            " |    To reset the states of your model, call `.reset_states()` on either\n",
            " |    a specific layer, or on your entire model.\n",
            " |  \n",
            " |  Note on specifying the initial state of RNNs:\n",
            " |    You can specify the initial state of RNN layers symbolically by\n",
            " |    calling them with the keyword argument `initial_state`. The value of\n",
            " |    `initial_state` should be a tensor or list of tensors representing\n",
            " |    the initial state of the RNN layer.\n",
            " |  \n",
            " |    You can specify the initial state of RNN layers numerically by\n",
            " |    calling `reset_states` with the keyword argument `states`. The value of\n",
            " |    `states` should be a numpy array or list of numpy arrays representing\n",
            " |    the initial state of the RNN layer.\n",
            " |  \n",
            " |  Note on passing external constants to RNNs:\n",
            " |    You can pass \"external\" constants to the cell using the `constants`\n",
            " |    keyword argument of `RNN.__call__` (as well as `RNN.call`) method. This\n",
            " |    requires that the `cell.call` method accepts the same keyword argument\n",
            " |    `constants`. Such constants can be used to condition the cell\n",
            " |    transformation on additional static inputs (not changing over time),\n",
            " |    a.k.a. an attention mechanism.\n",
            " |  \n",
            " |  Examples:\n",
            " |  \n",
            " |  ```python\n",
            " |  # First, let's define a RNN Cell, as a layer subclass.\n",
            " |  \n",
            " |  class MinimalRNNCell(keras.layers.Layer):\n",
            " |  \n",
            " |      def __init__(self, units, **kwargs):\n",
            " |          self.units = units\n",
            " |          self.state_size = units\n",
            " |          super(MinimalRNNCell, self).__init__(**kwargs)\n",
            " |  \n",
            " |      def build(self, input_shape):\n",
            " |          self.kernel = self.add_weight(shape=(input_shape[-1], self.units),\n",
            " |                                        initializer='uniform',\n",
            " |                                        name='kernel')\n",
            " |          self.recurrent_kernel = self.add_weight(\n",
            " |              shape=(self.units, self.units),\n",
            " |              initializer='uniform',\n",
            " |              name='recurrent_kernel')\n",
            " |          self.built = True\n",
            " |  \n",
            " |      def call(self, inputs, states):\n",
            " |          prev_output = states[0]\n",
            " |          h = backend.dot(inputs, self.kernel)\n",
            " |          output = h + backend.dot(prev_output, self.recurrent_kernel)\n",
            " |          return output, [output]\n",
            " |  \n",
            " |  # Let's use this cell in a RNN layer:\n",
            " |  \n",
            " |  cell = MinimalRNNCell(32)\n",
            " |  x = keras.Input((None, 5))\n",
            " |  layer = RNN(cell)\n",
            " |  y = layer(x)\n",
            " |  \n",
            " |  # Here's how to use the cell to build a stacked RNN:\n",
            " |  \n",
            " |  cells = [MinimalRNNCell(32), MinimalRNNCell(64)]\n",
            " |  x = keras.Input((None, 5))\n",
            " |  layer = RNN(cells)\n",
            " |  y = layer(x)\n",
            " |  ```\n",
            " |  \n",
            " |  Method resolution order:\n",
            " |      RNN\n",
            " |      keras.engine.base_layer.Layer\n",
            " |      tensorflow.python.module.module.Module\n",
            " |      tensorflow.python.training.tracking.tracking.AutoTrackable\n",
            " |      tensorflow.python.training.tracking.base.Trackable\n",
            " |      keras.utils.version_utils.LayerVersionSelector\n",
            " |      builtins.object\n",
            " |  \n",
            " |  Methods defined here:\n",
            " |  \n",
            " |  __call__(self, inputs, initial_state=None, constants=None, **kwargs)\n",
            " |      Wraps `call`, applying pre- and post-processing steps.\n",
            " |      \n",
            " |      Args:\n",
            " |        *args: Positional arguments to be passed to `self.call`.\n",
            " |        **kwargs: Keyword arguments to be passed to `self.call`.\n",
            " |      \n",
            " |      Returns:\n",
            " |        Output tensor(s).\n",
            " |      \n",
            " |      Note:\n",
            " |        - The following optional keyword arguments are reserved for specific uses:\n",
            " |          * `training`: Boolean scalar tensor of Python boolean indicating\n",
            " |            whether the `call` is meant for training or inference.\n",
            " |          * `mask`: Boolean input mask.\n",
            " |        - If the layer's `call` method takes a `mask` argument (as some Keras\n",
            " |          layers do), its default value will be set to the mask generated\n",
            " |          for `inputs` by the previous layer (if `input` did come from\n",
            " |          a layer that generated a corresponding mask, i.e. if it came from\n",
            " |          a Keras layer with masking support.\n",
            " |        - If the layer is not built, the method will call `build`.\n",
            " |      \n",
            " |      Raises:\n",
            " |        ValueError: if the layer's `call` method returns None (an invalid value).\n",
            " |        RuntimeError: if `super().__init__()` was not called in the constructor.\n",
            " |  \n",
            " |  __init__(self, cell, return_sequences=False, return_state=False, go_backwards=False, stateful=False, unroll=False, time_major=False, **kwargs)\n",
            " |  \n",
            " |  build(self, input_shape)\n",
            " |      Creates the variables of the layer (optional, for subclass implementers).\n",
            " |      \n",
            " |      This is a method that implementers of subclasses of `Layer` or `Model`\n",
            " |      can override if they need a state-creation step in-between\n",
            " |      layer instantiation and layer call.\n",
            " |      \n",
            " |      This is typically used to create the weights of `Layer` subclasses.\n",
            " |      \n",
            " |      Args:\n",
            " |        input_shape: Instance of `TensorShape`, or list of instances of\n",
            " |          `TensorShape` if the layer expects a list of inputs\n",
            " |          (one instance per input).\n",
            " |  \n",
            " |  call(self, inputs, mask=None, training=None, initial_state=None, constants=None)\n",
            " |      This is where the layer's logic lives.\n",
            " |      \n",
            " |      Note here that `call()` method in `tf.keras` is little bit different\n",
            " |      from `keras` API. In `keras` API, you can pass support masking for\n",
            " |      layers as additional arguments. Whereas `tf.keras` has `compute_mask()`\n",
            " |      method to support masking.\n",
            " |      \n",
            " |      Args:\n",
            " |        inputs: Input tensor, or dict/list/tuple of input tensors.\n",
            " |          The first positional `inputs` argument is subject to special rules:\n",
            " |          - `inputs` must be explicitly passed. A layer cannot have zero\n",
            " |            arguments, and `inputs` cannot be provided via the default value\n",
            " |            of a keyword argument.\n",
            " |          - NumPy array or Python scalar values in `inputs` get cast as tensors.\n",
            " |          - Keras mask metadata is only collected from `inputs`.\n",
            " |          - Layers are built (`build(input_shape)` method)\n",
            " |            using shape info from `inputs` only.\n",
            " |          - `input_spec` compatibility is only checked against `inputs`.\n",
            " |          - Mixed precision input casting is only applied to `inputs`.\n",
            " |            If a layer has tensor arguments in `*args` or `**kwargs`, their\n",
            " |            casting behavior in mixed precision should be handled manually.\n",
            " |          - The SavedModel input specification is generated using `inputs` only.\n",
            " |          - Integration with various ecosystem packages like TFMOT, TFLite,\n",
            " |            TF.js, etc is only supported for `inputs` and not for tensors in\n",
            " |            positional and keyword arguments.\n",
            " |        *args: Additional positional arguments. May contain tensors, although\n",
            " |          this is not recommended, for the reasons above.\n",
            " |        **kwargs: Additional keyword arguments. May contain tensors, although\n",
            " |          this is not recommended, for the reasons above.\n",
            " |          The following optional keyword arguments are reserved:\n",
            " |          - `training`: Boolean scalar tensor of Python boolean indicating\n",
            " |            whether the `call` is meant for training or inference.\n",
            " |          - `mask`: Boolean input mask. If the layer's `call()` method takes a\n",
            " |            `mask` argument, its default value will be set to the mask generated\n",
            " |            for `inputs` by the previous layer (if `input` did come from a layer\n",
            " |            that generated a corresponding mask, i.e. if it came from a Keras\n",
            " |            layer with masking support).\n",
            " |      \n",
            " |      Returns:\n",
            " |        A tensor or list/tuple of tensors.\n",
            " |  \n",
            " |  compute_mask(self, inputs, mask)\n",
            " |      Computes an output mask tensor.\n",
            " |      \n",
            " |      Args:\n",
            " |          inputs: Tensor or list of tensors.\n",
            " |          mask: Tensor or list of tensors.\n",
            " |      \n",
            " |      Returns:\n",
            " |          None or a tensor (or list of tensors,\n",
            " |              one per output tensor of the layer).\n",
            " |  \n",
            " |  compute_output_shape(self, input_shape)\n",
            " |      Computes the output shape of the layer.\n",
            " |      \n",
            " |      If the layer has not been built, this method will call `build` on the\n",
            " |      layer. This assumes that the layer will later be used with inputs that\n",
            " |      match the input shape provided here.\n",
            " |      \n",
            " |      Args:\n",
            " |          input_shape: Shape tuple (tuple of integers)\n",
            " |              or list of shape tuples (one per output tensor of the layer).\n",
            " |              Shape tuples can include None for free dimensions,\n",
            " |              instead of an integer.\n",
            " |      \n",
            " |      Returns:\n",
            " |          An input shape tuple.\n",
            " |  \n",
            " |  get_config(self)\n",
            " |      Returns the config of the layer.\n",
            " |      \n",
            " |      A layer config is a Python dictionary (serializable)\n",
            " |      containing the configuration of a layer.\n",
            " |      The same layer can be reinstantiated later\n",
            " |      (without its trained weights) from this configuration.\n",
            " |      \n",
            " |      The config of a layer does not include connectivity\n",
            " |      information, nor the layer class name. These are handled\n",
            " |      by `Network` (one layer of abstraction above).\n",
            " |      \n",
            " |      Note that `get_config()` does not guarantee to return a fresh copy of dict\n",
            " |      every time it is called. The callers should make a copy of the returned dict\n",
            " |      if they want to modify it.\n",
            " |      \n",
            " |      Returns:\n",
            " |          Python dictionary.\n",
            " |  \n",
            " |  get_initial_state(self, inputs)\n",
            " |  \n",
            " |  reset_states(self, states=None)\n",
            " |      Reset the recorded states for the stateful RNN layer.\n",
            " |      \n",
            " |      Can only be used when RNN layer is constructed with `stateful` = `True`.\n",
            " |      Args:\n",
            " |        states: Numpy arrays that contains the value for the initial state, which\n",
            " |          will be feed to cell at the first time step. When the value is None,\n",
            " |          zero filled numpy array will be created based on the cell state size.\n",
            " |      \n",
            " |      Raises:\n",
            " |        AttributeError: When the RNN layer is not stateful.\n",
            " |        ValueError: When the batch size of the RNN layer is unknown.\n",
            " |        ValueError: When the input numpy array is not compatible with the RNN\n",
            " |          layer state, either size wise or dtype wise.\n",
            " |  \n",
            " |  ----------------------------------------------------------------------\n",
            " |  Class methods defined here:\n",
            " |  \n",
            " |  from_config(config, custom_objects=None) from builtins.type\n",
            " |      Creates a layer from its config.\n",
            " |      \n",
            " |      This method is the reverse of `get_config`,\n",
            " |      capable of instantiating the same layer from the config\n",
            " |      dictionary. It does not handle layer connectivity\n",
            " |      (handled by Network), nor weights (handled by `set_weights`).\n",
            " |      \n",
            " |      Args:\n",
            " |          config: A Python dictionary, typically the\n",
            " |              output of get_config.\n",
            " |      \n",
            " |      Returns:\n",
            " |          A layer instance.\n",
            " |  \n",
            " |  ----------------------------------------------------------------------\n",
            " |  Data descriptors defined here:\n",
            " |  \n",
            " |  states\n",
            " |  \n",
            " |  ----------------------------------------------------------------------\n",
            " |  Methods inherited from keras.engine.base_layer.Layer:\n",
            " |  \n",
            " |  __delattr__(self, name)\n",
            " |      Implement delattr(self, name).\n",
            " |  \n",
            " |  __getstate__(self)\n",
            " |  \n",
            " |  __setattr__(self, name, value)\n",
            " |      Support self.foo = trackable syntax.\n",
            " |  \n",
            " |  __setstate__(self, state)\n",
            " |  \n",
            " |  add_loss(self, losses, **kwargs)\n",
            " |      Add loss tensor(s), potentially dependent on layer inputs.\n",
            " |      \n",
            " |      Some losses (for instance, activity regularization losses) may be dependent\n",
            " |      on the inputs passed when calling a layer. Hence, when reusing the same\n",
            " |      layer on different inputs `a` and `b`, some entries in `layer.losses` may\n",
            " |      be dependent on `a` and some on `b`. This method automatically keeps track\n",
            " |      of dependencies.\n",
            " |      \n",
            " |      This method can be used inside a subclassed layer or model's `call`\n",
            " |      function, in which case `losses` should be a Tensor or list of Tensors.\n",
            " |      \n",
            " |      Example:\n",
            " |      \n",
            " |      ```python\n",
            " |      class MyLayer(tf.keras.layers.Layer):\n",
            " |        def call(self, inputs):\n",
            " |          self.add_loss(tf.abs(tf.reduce_mean(inputs)))\n",
            " |          return inputs\n",
            " |      ```\n",
            " |      \n",
            " |      This method can also be called directly on a Functional Model during\n",
            " |      construction. In this case, any loss Tensors passed to this Model must\n",
            " |      be symbolic and be able to be traced back to the model's `Input`s. These\n",
            " |      losses become part of the model's topology and are tracked in `get_config`.\n",
            " |      \n",
            " |      Example:\n",
            " |      \n",
            " |      ```python\n",
            " |      inputs = tf.keras.Input(shape=(10,))\n",
            " |      x = tf.keras.layers.Dense(10)(inputs)\n",
            " |      outputs = tf.keras.layers.Dense(1)(x)\n",
            " |      model = tf.keras.Model(inputs, outputs)\n",
            " |      # Activity regularization.\n",
            " |      model.add_loss(tf.abs(tf.reduce_mean(x)))\n",
            " |      ```\n",
            " |      \n",
            " |      If this is not the case for your loss (if, for example, your loss references\n",
            " |      a `Variable` of one of the model's layers), you can wrap your loss in a\n",
            " |      zero-argument lambda. These losses are not tracked as part of the model's\n",
            " |      topology since they can't be serialized.\n",
            " |      \n",
            " |      Example:\n",
            " |      \n",
            " |      ```python\n",
            " |      inputs = tf.keras.Input(shape=(10,))\n",
            " |      d = tf.keras.layers.Dense(10)\n",
            " |      x = d(inputs)\n",
            " |      outputs = tf.keras.layers.Dense(1)(x)\n",
            " |      model = tf.keras.Model(inputs, outputs)\n",
            " |      # Weight regularization.\n",
            " |      model.add_loss(lambda: tf.reduce_mean(d.kernel))\n",
            " |      ```\n",
            " |      \n",
            " |      Args:\n",
            " |        losses: Loss tensor, or list/tuple of tensors. Rather than tensors, losses\n",
            " |          may also be zero-argument callables which create a loss tensor.\n",
            " |        **kwargs: Additional keyword arguments for backward compatibility.\n",
            " |          Accepted values:\n",
            " |            inputs - Deprecated, will be automatically inferred.\n",
            " |  \n",
            " |  add_metric(self, value, name=None, **kwargs)\n",
            " |      Adds metric tensor to the layer.\n",
            " |      \n",
            " |      This method can be used inside the `call()` method of a subclassed layer\n",
            " |      or model.\n",
            " |      \n",
            " |      ```python\n",
            " |      class MyMetricLayer(tf.keras.layers.Layer):\n",
            " |        def __init__(self):\n",
            " |          super(MyMetricLayer, self).__init__(name='my_metric_layer')\n",
            " |          self.mean = tf.keras.metrics.Mean(name='metric_1')\n",
            " |      \n",
            " |        def call(self, inputs):\n",
            " |          self.add_metric(self.mean(inputs))\n",
            " |          self.add_metric(tf.reduce_sum(inputs), name='metric_2')\n",
            " |          return inputs\n",
            " |      ```\n",
            " |      \n",
            " |      This method can also be called directly on a Functional Model during\n",
            " |      construction. In this case, any tensor passed to this Model must\n",
            " |      be symbolic and be able to be traced back to the model's `Input`s. These\n",
            " |      metrics become part of the model's topology and are tracked when you\n",
            " |      save the model via `save()`.\n",
            " |      \n",
            " |      ```python\n",
            " |      inputs = tf.keras.Input(shape=(10,))\n",
            " |      x = tf.keras.layers.Dense(10)(inputs)\n",
            " |      outputs = tf.keras.layers.Dense(1)(x)\n",
            " |      model = tf.keras.Model(inputs, outputs)\n",
            " |      model.add_metric(math_ops.reduce_sum(x), name='metric_1')\n",
            " |      ```\n",
            " |      \n",
            " |      Note: Calling `add_metric()` with the result of a metric object on a\n",
            " |      Functional Model, as shown in the example below, is not supported. This is\n",
            " |      because we cannot trace the metric result tensor back to the model's inputs.\n",
            " |      \n",
            " |      ```python\n",
            " |      inputs = tf.keras.Input(shape=(10,))\n",
            " |      x = tf.keras.layers.Dense(10)(inputs)\n",
            " |      outputs = tf.keras.layers.Dense(1)(x)\n",
            " |      model = tf.keras.Model(inputs, outputs)\n",
            " |      model.add_metric(tf.keras.metrics.Mean()(x), name='metric_1')\n",
            " |      ```\n",
            " |      \n",
            " |      Args:\n",
            " |        value: Metric tensor.\n",
            " |        name: String metric name.\n",
            " |        **kwargs: Additional keyword arguments for backward compatibility.\n",
            " |          Accepted values:\n",
            " |          `aggregation` - When the `value` tensor provided is not the result of\n",
            " |          calling a `keras.Metric` instance, it will be aggregated by default\n",
            " |          using a `keras.Metric.Mean`.\n",
            " |  \n",
            " |  add_update(self, updates, inputs=None)\n",
            " |      Add update op(s), potentially dependent on layer inputs.\n",
            " |      \n",
            " |      Weight updates (for instance, the updates of the moving mean and variance\n",
            " |      in a BatchNormalization layer) may be dependent on the inputs passed\n",
            " |      when calling a layer. Hence, when reusing the same layer on\n",
            " |      different inputs `a` and `b`, some entries in `layer.updates` may be\n",
            " |      dependent on `a` and some on `b`. This method automatically keeps track\n",
            " |      of dependencies.\n",
            " |      \n",
            " |      This call is ignored when eager execution is enabled (in that case, variable\n",
            " |      updates are run on the fly and thus do not need to be tracked for later\n",
            " |      execution).\n",
            " |      \n",
            " |      Args:\n",
            " |        updates: Update op, or list/tuple of update ops, or zero-arg callable\n",
            " |          that returns an update op. A zero-arg callable should be passed in\n",
            " |          order to disable running the updates by setting `trainable=False`\n",
            " |          on this Layer, when executing in Eager mode.\n",
            " |        inputs: Deprecated, will be automatically inferred.\n",
            " |  \n",
            " |  add_variable(self, *args, **kwargs)\n",
            " |      Deprecated, do NOT use! Alias for `add_weight`.\n",
            " |  \n",
            " |  add_weight(self, name=None, shape=None, dtype=None, initializer=None, regularizer=None, trainable=None, constraint=None, use_resource=None, synchronization=<VariableSynchronization.AUTO: 0>, aggregation=<VariableAggregationV2.NONE: 0>, **kwargs)\n",
            " |      Adds a new variable to the layer.\n",
            " |      \n",
            " |      Args:\n",
            " |        name: Variable name.\n",
            " |        shape: Variable shape. Defaults to scalar if unspecified.\n",
            " |        dtype: The type of the variable. Defaults to `self.dtype`.\n",
            " |        initializer: Initializer instance (callable).\n",
            " |        regularizer: Regularizer instance (callable).\n",
            " |        trainable: Boolean, whether the variable should be part of the layer's\n",
            " |          \"trainable_variables\" (e.g. variables, biases)\n",
            " |          or \"non_trainable_variables\" (e.g. BatchNorm mean and variance).\n",
            " |          Note that `trainable` cannot be `True` if `synchronization`\n",
            " |          is set to `ON_READ`.\n",
            " |        constraint: Constraint instance (callable).\n",
            " |        use_resource: Whether to use `ResourceVariable`.\n",
            " |        synchronization: Indicates when a distributed a variable will be\n",
            " |          aggregated. Accepted values are constants defined in the class\n",
            " |          `tf.VariableSynchronization`. By default the synchronization is set to\n",
            " |          `AUTO` and the current `DistributionStrategy` chooses\n",
            " |          when to synchronize. If `synchronization` is set to `ON_READ`,\n",
            " |          `trainable` must not be set to `True`.\n",
            " |        aggregation: Indicates how a distributed variable will be aggregated.\n",
            " |          Accepted values are constants defined in the class\n",
            " |          `tf.VariableAggregation`.\n",
            " |        **kwargs: Additional keyword arguments. Accepted values are `getter`,\n",
            " |          `collections`, `experimental_autocast` and `caching_device`.\n",
            " |      \n",
            " |      Returns:\n",
            " |        The variable created.\n",
            " |      \n",
            " |      Raises:\n",
            " |        ValueError: When giving unsupported dtype and no initializer or when\n",
            " |          trainable has been set to True with synchronization set as `ON_READ`.\n",
            " |  \n",
            " |  apply(self, inputs, *args, **kwargs)\n",
            " |      Deprecated, do NOT use!\n",
            " |      \n",
            " |      This is an alias of `self.__call__`.\n",
            " |      \n",
            " |      Args:\n",
            " |        inputs: Input tensor(s).\n",
            " |        *args: additional positional arguments to be passed to `self.call`.\n",
            " |        **kwargs: additional keyword arguments to be passed to `self.call`.\n",
            " |      \n",
            " |      Returns:\n",
            " |        Output tensor(s).\n",
            " |  \n",
            " |  compute_output_signature(self, input_signature)\n",
            " |      Compute the output tensor signature of the layer based on the inputs.\n",
            " |      \n",
            " |      Unlike a TensorShape object, a TensorSpec object contains both shape\n",
            " |      and dtype information for a tensor. This method allows layers to provide\n",
            " |      output dtype information if it is different from the input dtype.\n",
            " |      For any layer that doesn't implement this function,\n",
            " |      the framework will fall back to use `compute_output_shape`, and will\n",
            " |      assume that the output dtype matches the input dtype.\n",
            " |      \n",
            " |      Args:\n",
            " |        input_signature: Single TensorSpec or nested structure of TensorSpec\n",
            " |          objects, describing a candidate input for the layer.\n",
            " |      \n",
            " |      Returns:\n",
            " |        Single TensorSpec or nested structure of TensorSpec objects, describing\n",
            " |          how the layer would transform the provided input.\n",
            " |      \n",
            " |      Raises:\n",
            " |        TypeError: If input_signature contains a non-TensorSpec object.\n",
            " |  \n",
            " |  count_params(self)\n",
            " |      Count the total number of scalars composing the weights.\n",
            " |      \n",
            " |      Returns:\n",
            " |          An integer count.\n",
            " |      \n",
            " |      Raises:\n",
            " |          ValueError: if the layer isn't yet built\n",
            " |            (in which case its weights aren't yet defined).\n",
            " |  \n",
            " |  finalize_state(self)\n",
            " |      Finalizes the layers state after updating layer weights.\n",
            " |      \n",
            " |      This function can be subclassed in a layer and will be called after updating\n",
            " |      a layer weights. It can be overridden to finalize any additional layer state\n",
            " |      after a weight update.\n",
            " |  \n",
            " |  get_input_at(self, node_index)\n",
            " |      Retrieves the input tensor(s) of a layer at a given node.\n",
            " |      \n",
            " |      Args:\n",
            " |          node_index: Integer, index of the node\n",
            " |              from which to retrieve the attribute.\n",
            " |              E.g. `node_index=0` will correspond to the\n",
            " |              first input node of the layer.\n",
            " |      \n",
            " |      Returns:\n",
            " |          A tensor (or list of tensors if the layer has multiple inputs).\n",
            " |      \n",
            " |      Raises:\n",
            " |        RuntimeError: If called in Eager mode.\n",
            " |  \n",
            " |  get_input_mask_at(self, node_index)\n",
            " |      Retrieves the input mask tensor(s) of a layer at a given node.\n",
            " |      \n",
            " |      Args:\n",
            " |          node_index: Integer, index of the node\n",
            " |              from which to retrieve the attribute.\n",
            " |              E.g. `node_index=0` will correspond to the\n",
            " |              first time the layer was called.\n",
            " |      \n",
            " |      Returns:\n",
            " |          A mask tensor\n",
            " |          (or list of tensors if the layer has multiple inputs).\n",
            " |  \n",
            " |  get_input_shape_at(self, node_index)\n",
            " |      Retrieves the input shape(s) of a layer at a given node.\n",
            " |      \n",
            " |      Args:\n",
            " |          node_index: Integer, index of the node\n",
            " |              from which to retrieve the attribute.\n",
            " |              E.g. `node_index=0` will correspond to the\n",
            " |              first time the layer was called.\n",
            " |      \n",
            " |      Returns:\n",
            " |          A shape tuple\n",
            " |          (or list of shape tuples if the layer has multiple inputs).\n",
            " |      \n",
            " |      Raises:\n",
            " |        RuntimeError: If called in Eager mode.\n",
            " |  \n",
            " |  get_losses_for(self, inputs)\n",
            " |      Deprecated, do NOT use!\n",
            " |      \n",
            " |      Retrieves losses relevant to a specific set of inputs.\n",
            " |      \n",
            " |      Args:\n",
            " |        inputs: Input tensor or list/tuple of input tensors.\n",
            " |      \n",
            " |      Returns:\n",
            " |        List of loss tensors of the layer that depend on `inputs`.\n",
            " |  \n",
            " |  get_output_at(self, node_index)\n",
            " |      Retrieves the output tensor(s) of a layer at a given node.\n",
            " |      \n",
            " |      Args:\n",
            " |          node_index: Integer, index of the node\n",
            " |              from which to retrieve the attribute.\n",
            " |              E.g. `node_index=0` will correspond to the\n",
            " |              first output node of the layer.\n",
            " |      \n",
            " |      Returns:\n",
            " |          A tensor (or list of tensors if the layer has multiple outputs).\n",
            " |      \n",
            " |      Raises:\n",
            " |        RuntimeError: If called in Eager mode.\n",
            " |  \n",
            " |  get_output_mask_at(self, node_index)\n",
            " |      Retrieves the output mask tensor(s) of a layer at a given node.\n",
            " |      \n",
            " |      Args:\n",
            " |          node_index: Integer, index of the node\n",
            " |              from which to retrieve the attribute.\n",
            " |              E.g. `node_index=0` will correspond to the\n",
            " |              first time the layer was called.\n",
            " |      \n",
            " |      Returns:\n",
            " |          A mask tensor\n",
            " |          (or list of tensors if the layer has multiple outputs).\n",
            " |  \n",
            " |  get_output_shape_at(self, node_index)\n",
            " |      Retrieves the output shape(s) of a layer at a given node.\n",
            " |      \n",
            " |      Args:\n",
            " |          node_index: Integer, index of the node\n",
            " |              from which to retrieve the attribute.\n",
            " |              E.g. `node_index=0` will correspond to the\n",
            " |              first time the layer was called.\n",
            " |      \n",
            " |      Returns:\n",
            " |          A shape tuple\n",
            " |          (or list of shape tuples if the layer has multiple outputs).\n",
            " |      \n",
            " |      Raises:\n",
            " |        RuntimeError: If called in Eager mode.\n",
            " |  \n",
            " |  get_updates_for(self, inputs)\n",
            " |      Deprecated, do NOT use!\n",
            " |      \n",
            " |      Retrieves updates relevant to a specific set of inputs.\n",
            " |      \n",
            " |      Args:\n",
            " |        inputs: Input tensor or list/tuple of input tensors.\n",
            " |      \n",
            " |      Returns:\n",
            " |        List of update ops of the layer that depend on `inputs`.\n",
            " |  \n",
            " |  get_weights(self)\n",
            " |      Returns the current weights of the layer, as NumPy arrays.\n",
            " |      \n",
            " |      The weights of a layer represent the state of the layer. This function\n",
            " |      returns both trainable and non-trainable weight values associated with this\n",
            " |      layer as a list of NumPy arrays, which can in turn be used to load state\n",
            " |      into similarly parameterized layers.\n",
            " |      \n",
            " |      For example, a `Dense` layer returns a list of two values: the kernel matrix\n",
            " |      and the bias vector. These can be used to set the weights of another\n",
            " |      `Dense` layer:\n",
            " |      \n",
            " |      >>> layer_a = tf.keras.layers.Dense(1,\n",
            " |      ...   kernel_initializer=tf.constant_initializer(1.))\n",
            " |      >>> a_out = layer_a(tf.convert_to_tensor([[1., 2., 3.]]))\n",
            " |      >>> layer_a.get_weights()\n",
            " |      [array([[1.],\n",
            " |             [1.],\n",
            " |             [1.]], dtype=float32), array([0.], dtype=float32)]\n",
            " |      >>> layer_b = tf.keras.layers.Dense(1,\n",
            " |      ...   kernel_initializer=tf.constant_initializer(2.))\n",
            " |      >>> b_out = layer_b(tf.convert_to_tensor([[10., 20., 30.]]))\n",
            " |      >>> layer_b.get_weights()\n",
            " |      [array([[2.],\n",
            " |             [2.],\n",
            " |             [2.]], dtype=float32), array([0.], dtype=float32)]\n",
            " |      >>> layer_b.set_weights(layer_a.get_weights())\n",
            " |      >>> layer_b.get_weights()\n",
            " |      [array([[1.],\n",
            " |             [1.],\n",
            " |             [1.]], dtype=float32), array([0.], dtype=float32)]\n",
            " |      \n",
            " |      Returns:\n",
            " |          Weights values as a list of NumPy arrays.\n",
            " |  \n",
            " |  set_weights(self, weights)\n",
            " |      Sets the weights of the layer, from NumPy arrays.\n",
            " |      \n",
            " |      The weights of a layer represent the state of the layer. This function\n",
            " |      sets the weight values from numpy arrays. The weight values should be\n",
            " |      passed in the order they are created by the layer. Note that the layer's\n",
            " |      weights must be instantiated before calling this function, by calling\n",
            " |      the layer.\n",
            " |      \n",
            " |      For example, a `Dense` layer returns a list of two values: the kernel matrix\n",
            " |      and the bias vector. These can be used to set the weights of another\n",
            " |      `Dense` layer:\n",
            " |      \n",
            " |      >>> layer_a = tf.keras.layers.Dense(1,\n",
            " |      ...   kernel_initializer=tf.constant_initializer(1.))\n",
            " |      >>> a_out = layer_a(tf.convert_to_tensor([[1., 2., 3.]]))\n",
            " |      >>> layer_a.get_weights()\n",
            " |      [array([[1.],\n",
            " |             [1.],\n",
            " |             [1.]], dtype=float32), array([0.], dtype=float32)]\n",
            " |      >>> layer_b = tf.keras.layers.Dense(1,\n",
            " |      ...   kernel_initializer=tf.constant_initializer(2.))\n",
            " |      >>> b_out = layer_b(tf.convert_to_tensor([[10., 20., 30.]]))\n",
            " |      >>> layer_b.get_weights()\n",
            " |      [array([[2.],\n",
            " |             [2.],\n",
            " |             [2.]], dtype=float32), array([0.], dtype=float32)]\n",
            " |      >>> layer_b.set_weights(layer_a.get_weights())\n",
            " |      >>> layer_b.get_weights()\n",
            " |      [array([[1.],\n",
            " |             [1.],\n",
            " |             [1.]], dtype=float32), array([0.], dtype=float32)]\n",
            " |      \n",
            " |      Args:\n",
            " |        weights: a list of NumPy arrays. The number\n",
            " |          of arrays and their shape must match\n",
            " |          number of the dimensions of the weights\n",
            " |          of the layer (i.e. it should match the\n",
            " |          output of `get_weights`).\n",
            " |      \n",
            " |      Raises:\n",
            " |        ValueError: If the provided weights list does not match the\n",
            " |          layer's specifications.\n",
            " |  \n",
            " |  ----------------------------------------------------------------------\n",
            " |  Data descriptors inherited from keras.engine.base_layer.Layer:\n",
            " |  \n",
            " |  activity_regularizer\n",
            " |      Optional regularizer function for the output of this layer.\n",
            " |  \n",
            " |  compute_dtype\n",
            " |      The dtype of the layer's computations.\n",
            " |      \n",
            " |      This is equivalent to `Layer.dtype_policy.compute_dtype`. Unless\n",
            " |      mixed precision is used, this is the same as `Layer.dtype`, the dtype of\n",
            " |      the weights.\n",
            " |      \n",
            " |      Layers automatically cast their inputs to the compute dtype, which causes\n",
            " |      computations and the output to be in the compute dtype as well. This is done\n",
            " |      by the base Layer class in `Layer.__call__`, so you do not have to insert\n",
            " |      these casts if implementing your own layer.\n",
            " |      \n",
            " |      Layers often perform certain internal computations in higher precision when\n",
            " |      `compute_dtype` is float16 or bfloat16 for numeric stability. The output\n",
            " |      will still typically be float16 or bfloat16 in such cases.\n",
            " |      \n",
            " |      Returns:\n",
            " |        The layer's compute dtype.\n",
            " |  \n",
            " |  dtype\n",
            " |      The dtype of the layer weights.\n",
            " |      \n",
            " |      This is equivalent to `Layer.dtype_policy.variable_dtype`. Unless\n",
            " |      mixed precision is used, this is the same as `Layer.compute_dtype`, the\n",
            " |      dtype of the layer's computations.\n",
            " |  \n",
            " |  dtype_policy\n",
            " |      The dtype policy associated with this layer.\n",
            " |      \n",
            " |      This is an instance of a `tf.keras.mixed_precision.Policy`.\n",
            " |  \n",
            " |  dynamic\n",
            " |      Whether the layer is dynamic (eager-only); set in the constructor.\n",
            " |  \n",
            " |  inbound_nodes\n",
            " |      Deprecated, do NOT use! Only for compatibility with external Keras.\n",
            " |  \n",
            " |  input\n",
            " |      Retrieves the input tensor(s) of a layer.\n",
            " |      \n",
            " |      Only applicable if the layer has exactly one input,\n",
            " |      i.e. if it is connected to one incoming layer.\n",
            " |      \n",
            " |      Returns:\n",
            " |          Input tensor or list of input tensors.\n",
            " |      \n",
            " |      Raises:\n",
            " |        RuntimeError: If called in Eager mode.\n",
            " |        AttributeError: If no inbound nodes are found.\n",
            " |  \n",
            " |  input_mask\n",
            " |      Retrieves the input mask tensor(s) of a layer.\n",
            " |      \n",
            " |      Only applicable if the layer has exactly one inbound node,\n",
            " |      i.e. if it is connected to one incoming layer.\n",
            " |      \n",
            " |      Returns:\n",
            " |          Input mask tensor (potentially None) or list of input\n",
            " |          mask tensors.\n",
            " |      \n",
            " |      Raises:\n",
            " |          AttributeError: if the layer is connected to\n",
            " |          more than one incoming layers.\n",
            " |  \n",
            " |  input_shape\n",
            " |      Retrieves the input shape(s) of a layer.\n",
            " |      \n",
            " |      Only applicable if the layer has exactly one input,\n",
            " |      i.e. if it is connected to one incoming layer, or if all inputs\n",
            " |      have the same shape.\n",
            " |      \n",
            " |      Returns:\n",
            " |          Input shape, as an integer shape tuple\n",
            " |          (or list of shape tuples, one tuple per input tensor).\n",
            " |      \n",
            " |      Raises:\n",
            " |          AttributeError: if the layer has no defined input_shape.\n",
            " |          RuntimeError: if called in Eager mode.\n",
            " |  \n",
            " |  input_spec\n",
            " |      `InputSpec` instance(s) describing the input format for this layer.\n",
            " |      \n",
            " |      When you create a layer subclass, you can set `self.input_spec` to enable\n",
            " |      the layer to run input compatibility checks when it is called.\n",
            " |      Consider a `Conv2D` layer: it can only be called on a single input tensor\n",
            " |      of rank 4. As such, you can set, in `__init__()`:\n",
            " |      \n",
            " |      ```python\n",
            " |      self.input_spec = tf.keras.layers.InputSpec(ndim=4)\n",
            " |      ```\n",
            " |      \n",
            " |      Now, if you try to call the layer on an input that isn't rank 4\n",
            " |      (for instance, an input of shape `(2,)`, it will raise a nicely-formatted\n",
            " |      error:\n",
            " |      \n",
            " |      ```\n",
            " |      ValueError: Input 0 of layer conv2d is incompatible with the layer:\n",
            " |      expected ndim=4, found ndim=1. Full shape received: [2]\n",
            " |      ```\n",
            " |      \n",
            " |      Input checks that can be specified via `input_spec` include:\n",
            " |      - Structure (e.g. a single input, a list of 2 inputs, etc)\n",
            " |      - Shape\n",
            " |      - Rank (ndim)\n",
            " |      - Dtype\n",
            " |      \n",
            " |      For more information, see `tf.keras.layers.InputSpec`.\n",
            " |      \n",
            " |      Returns:\n",
            " |        A `tf.keras.layers.InputSpec` instance, or nested structure thereof.\n",
            " |  \n",
            " |  losses\n",
            " |      List of losses added using the `add_loss()` API.\n",
            " |      \n",
            " |      Variable regularization tensors are created when this property is accessed,\n",
            " |      so it is eager safe: accessing `losses` under a `tf.GradientTape` will\n",
            " |      propagate gradients back to the corresponding variables.\n",
            " |      \n",
            " |      Examples:\n",
            " |      \n",
            " |      >>> class MyLayer(tf.keras.layers.Layer):\n",
            " |      ...   def call(self, inputs):\n",
            " |      ...     self.add_loss(tf.abs(tf.reduce_mean(inputs)))\n",
            " |      ...     return inputs\n",
            " |      >>> l = MyLayer()\n",
            " |      >>> l(np.ones((10, 1)))\n",
            " |      >>> l.losses\n",
            " |      [1.0]\n",
            " |      \n",
            " |      >>> inputs = tf.keras.Input(shape=(10,))\n",
            " |      >>> x = tf.keras.layers.Dense(10)(inputs)\n",
            " |      >>> outputs = tf.keras.layers.Dense(1)(x)\n",
            " |      >>> model = tf.keras.Model(inputs, outputs)\n",
            " |      >>> # Activity regularization.\n",
            " |      >>> len(model.losses)\n",
            " |      0\n",
            " |      >>> model.add_loss(tf.abs(tf.reduce_mean(x)))\n",
            " |      >>> len(model.losses)\n",
            " |      1\n",
            " |      \n",
            " |      >>> inputs = tf.keras.Input(shape=(10,))\n",
            " |      >>> d = tf.keras.layers.Dense(10, kernel_initializer='ones')\n",
            " |      >>> x = d(inputs)\n",
            " |      >>> outputs = tf.keras.layers.Dense(1)(x)\n",
            " |      >>> model = tf.keras.Model(inputs, outputs)\n",
            " |      >>> # Weight regularization.\n",
            " |      >>> model.add_loss(lambda: tf.reduce_mean(d.kernel))\n",
            " |      >>> model.losses\n",
            " |      [<tf.Tensor: shape=(), dtype=float32, numpy=1.0>]\n",
            " |      \n",
            " |      Returns:\n",
            " |        A list of tensors.\n",
            " |  \n",
            " |  metrics\n",
            " |      List of metrics added using the `add_metric()` API.\n",
            " |      \n",
            " |      Example:\n",
            " |      \n",
            " |      >>> input = tf.keras.layers.Input(shape=(3,))\n",
            " |      >>> d = tf.keras.layers.Dense(2)\n",
            " |      >>> output = d(input)\n",
            " |      >>> d.add_metric(tf.reduce_max(output), name='max')\n",
            " |      >>> d.add_metric(tf.reduce_min(output), name='min')\n",
            " |      >>> [m.name for m in d.metrics]\n",
            " |      ['max', 'min']\n",
            " |      \n",
            " |      Returns:\n",
            " |        A list of `Metric` objects.\n",
            " |  \n",
            " |  name\n",
            " |      Name of the layer (string), set in the constructor.\n",
            " |  \n",
            " |  non_trainable_variables\n",
            " |      Sequence of non-trainable variables owned by this module and its submodules.\n",
            " |      \n",
            " |      Note: this method uses reflection to find variables on the current instance\n",
            " |      and submodules. For performance reasons you may wish to cache the result\n",
            " |      of calling this method if you don't expect the return value to change.\n",
            " |      \n",
            " |      Returns:\n",
            " |        A sequence of variables for the current module (sorted by attribute\n",
            " |        name) followed by variables from all submodules recursively (breadth\n",
            " |        first).\n",
            " |  \n",
            " |  non_trainable_weights\n",
            " |      List of all non-trainable weights tracked by this layer.\n",
            " |      \n",
            " |      Non-trainable weights are *not* updated during training. They are expected\n",
            " |      to be updated manually in `call()`.\n",
            " |      \n",
            " |      Returns:\n",
            " |        A list of non-trainable variables.\n",
            " |  \n",
            " |  outbound_nodes\n",
            " |      Deprecated, do NOT use! Only for compatibility with external Keras.\n",
            " |  \n",
            " |  output\n",
            " |      Retrieves the output tensor(s) of a layer.\n",
            " |      \n",
            " |      Only applicable if the layer has exactly one output,\n",
            " |      i.e. if it is connected to one incoming layer.\n",
            " |      \n",
            " |      Returns:\n",
            " |        Output tensor or list of output tensors.\n",
            " |      \n",
            " |      Raises:\n",
            " |        AttributeError: if the layer is connected to more than one incoming\n",
            " |          layers.\n",
            " |        RuntimeError: if called in Eager mode.\n",
            " |  \n",
            " |  output_mask\n",
            " |      Retrieves the output mask tensor(s) of a layer.\n",
            " |      \n",
            " |      Only applicable if the layer has exactly one inbound node,\n",
            " |      i.e. if it is connected to one incoming layer.\n",
            " |      \n",
            " |      Returns:\n",
            " |          Output mask tensor (potentially None) or list of output\n",
            " |          mask tensors.\n",
            " |      \n",
            " |      Raises:\n",
            " |          AttributeError: if the layer is connected to\n",
            " |          more than one incoming layers.\n",
            " |  \n",
            " |  output_shape\n",
            " |      Retrieves the output shape(s) of a layer.\n",
            " |      \n",
            " |      Only applicable if the layer has one output,\n",
            " |      or if all outputs have the same shape.\n",
            " |      \n",
            " |      Returns:\n",
            " |          Output shape, as an integer shape tuple\n",
            " |          (or list of shape tuples, one tuple per output tensor).\n",
            " |      \n",
            " |      Raises:\n",
            " |          AttributeError: if the layer has no defined output shape.\n",
            " |          RuntimeError: if called in Eager mode.\n",
            " |  \n",
            " |  stateful\n",
            " |  \n",
            " |  supports_masking\n",
            " |      Whether this layer supports computing a mask using `compute_mask`.\n",
            " |  \n",
            " |  trainable\n",
            " |  \n",
            " |  trainable_variables\n",
            " |      Sequence of trainable variables owned by this module and its submodules.\n",
            " |      \n",
            " |      Note: this method uses reflection to find variables on the current instance\n",
            " |      and submodules. For performance reasons you may wish to cache the result\n",
            " |      of calling this method if you don't expect the return value to change.\n",
            " |      \n",
            " |      Returns:\n",
            " |        A sequence of variables for the current module (sorted by attribute\n",
            " |        name) followed by variables from all submodules recursively (breadth\n",
            " |        first).\n",
            " |  \n",
            " |  trainable_weights\n",
            " |      List of all trainable weights tracked by this layer.\n",
            " |      \n",
            " |      Trainable weights are updated via gradient descent during training.\n",
            " |      \n",
            " |      Returns:\n",
            " |        A list of trainable variables.\n",
            " |  \n",
            " |  updates\n",
            " |  \n",
            " |  variable_dtype\n",
            " |      Alias of `Layer.dtype`, the dtype of the weights.\n",
            " |  \n",
            " |  variables\n",
            " |      Returns the list of all layer variables/weights.\n",
            " |      \n",
            " |      Alias of `self.weights`.\n",
            " |      \n",
            " |      Note: This will not track the weights of nested `tf.Modules` that are not\n",
            " |      themselves Keras layers.\n",
            " |      \n",
            " |      Returns:\n",
            " |        A list of variables.\n",
            " |  \n",
            " |  weights\n",
            " |      Returns the list of all layer variables/weights.\n",
            " |      \n",
            " |      Returns:\n",
            " |        A list of variables.\n",
            " |  \n",
            " |  ----------------------------------------------------------------------\n",
            " |  Class methods inherited from tensorflow.python.module.module.Module:\n",
            " |  \n",
            " |  with_name_scope(method) from builtins.type\n",
            " |      Decorator to automatically enter the module name scope.\n",
            " |      \n",
            " |      >>> class MyModule(tf.Module):\n",
            " |      ...   @tf.Module.with_name_scope\n",
            " |      ...   def __call__(self, x):\n",
            " |      ...     if not hasattr(self, 'w'):\n",
            " |      ...       self.w = tf.Variable(tf.random.normal([x.shape[1], 3]))\n",
            " |      ...     return tf.matmul(x, self.w)\n",
            " |      \n",
            " |      Using the above module would produce `tf.Variable`s and `tf.Tensor`s whose\n",
            " |      names included the module name:\n",
            " |      \n",
            " |      >>> mod = MyModule()\n",
            " |      >>> mod(tf.ones([1, 2]))\n",
            " |      <tf.Tensor: shape=(1, 3), dtype=float32, numpy=..., dtype=float32)>\n",
            " |      >>> mod.w\n",
            " |      <tf.Variable 'my_module/Variable:0' shape=(2, 3) dtype=float32,\n",
            " |      numpy=..., dtype=float32)>\n",
            " |      \n",
            " |      Args:\n",
            " |        method: The method to wrap.\n",
            " |      \n",
            " |      Returns:\n",
            " |        The original method wrapped such that it enters the module's name scope.\n",
            " |  \n",
            " |  ----------------------------------------------------------------------\n",
            " |  Data descriptors inherited from tensorflow.python.module.module.Module:\n",
            " |  \n",
            " |  name_scope\n",
            " |      Returns a `tf.name_scope` instance for this class.\n",
            " |  \n",
            " |  submodules\n",
            " |      Sequence of all sub-modules.\n",
            " |      \n",
            " |      Submodules are modules which are properties of this module, or found as\n",
            " |      properties of modules which are properties of this module (and so on).\n",
            " |      \n",
            " |      >>> a = tf.Module()\n",
            " |      >>> b = tf.Module()\n",
            " |      >>> c = tf.Module()\n",
            " |      >>> a.b = b\n",
            " |      >>> b.c = c\n",
            " |      >>> list(a.submodules) == [b, c]\n",
            " |      True\n",
            " |      >>> list(b.submodules) == [c]\n",
            " |      True\n",
            " |      >>> list(c.submodules) == []\n",
            " |      True\n",
            " |      \n",
            " |      Returns:\n",
            " |        A sequence of all submodules.\n",
            " |  \n",
            " |  ----------------------------------------------------------------------\n",
            " |  Data descriptors inherited from tensorflow.python.training.tracking.base.Trackable:\n",
            " |  \n",
            " |  __dict__\n",
            " |      dictionary for instance variables (if defined)\n",
            " |  \n",
            " |  __weakref__\n",
            " |      list of weak references to the object (if defined)\n",
            " |  \n",
            " |  ----------------------------------------------------------------------\n",
            " |  Static methods inherited from keras.utils.version_utils.LayerVersionSelector:\n",
            " |  \n",
            " |  __new__(cls, *args, **kwargs)\n",
            " |      Create and return a new object.  See help(type) for accurate signature.\n",
            "\n"
          ]
        }
      ]
    },
    {
      "cell_type": "code",
      "source": [
        ""
      ],
      "metadata": {
        "id": "BLy0FiXQcqiz"
      },
      "execution_count": null,
      "outputs": []
    }
  ]
}