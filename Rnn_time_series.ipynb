{
  "nbformat": 4,
  "nbformat_minor": 0,
  "metadata": {
    "colab": {
      "name": "Untitled11.ipynb",
      "provenance": [],
      "authorship_tag": "ABX9TyOrByELMoX5ZWJt3xuQ1Cc0",
      "include_colab_link": true
    },
    "kernelspec": {
      "name": "python3",
      "display_name": "Python 3"
    },
    "language_info": {
      "name": "python"
    }
  },
  "cells": [
    {
      "cell_type": "markdown",
      "metadata": {
        "id": "view-in-github",
        "colab_type": "text"
      },
      "source": [
        "<a href=\"https://colab.research.google.com/github/rahuljungbahadur/hands_on_ml_book/blob/main/Rnn_time_series.ipynb\" target=\"_parent\"><img src=\"https://colab.research.google.com/assets/colab-badge.svg\" alt=\"Open In Colab\"/></a>"
      ]
    },
    {
      "cell_type": "code",
      "source": [
        "import numpy as np\n",
        "import pandas as pd"
      ],
      "metadata": {
        "id": "_86U9WpvtGGy"
      },
      "execution_count": 1,
      "outputs": []
    },
    {
      "cell_type": "code",
      "execution_count": 2,
      "metadata": {
        "id": "1rrBvT2hsrgr"
      },
      "outputs": [],
      "source": [
        "def generate_time_series(batch_size, n_steps):\n",
        "    freq1, freq2, offsets1, offsets2 = np.random.rand(4, batch_size, 1)\n",
        "    time = np.linspace(0, 1, n_steps)\n",
        "    series = 0.5 * np.sin((time - offsets1) * (freq1 * 10 + 10))  #   wave 1\n",
        "    series += 0.2 * np.sin((time - offsets2) * (freq2 * 20 + 20)) # + wave 2\n",
        "    series += 0.1 * (np.random.rand(batch_size, n_steps) - 0.5)   # + noise\n",
        "    return series[..., np.newaxis].astype(np.float32)"
      ]
    },
    {
      "cell_type": "code",
      "source": [
        "ser1 = generate_time_series(1, 5)"
      ],
      "metadata": {
        "id": "9-zTFHe7tKAl"
      },
      "execution_count": 3,
      "outputs": []
    },
    {
      "cell_type": "code",
      "source": [
        "import matplotlib.pyplot as plt\n"
      ],
      "metadata": {
        "id": "_56h1dertQ3k"
      },
      "execution_count": 5,
      "outputs": []
    },
    {
      "cell_type": "code",
      "source": [
        "n_steps = 50\n",
        "series = generate_time_series(10000, n_steps + 1)\n",
        "X_train, y_train = series[:7000, :n_steps], series[:7000, -1]\n",
        "X_valid, y_valid = series[7000:9000, :n_steps], series[7000:9000, -1]\n",
        "X_test, y_test = series[9000:, :n_steps], series[9000:, -1]"
      ],
      "metadata": {
        "id": "exeOFdE7tOLT"
      },
      "execution_count": 7,
      "outputs": []
    },
    {
      "cell_type": "code",
      "source": [
        "import tensorflow as tf"
      ],
      "metadata": {
        "id": "KAlHXiYMtxia"
      },
      "execution_count": 9,
      "outputs": []
    },
    {
      "cell_type": "code",
      "source": [
        "X_train.shape"
      ],
      "metadata": {
        "id": "98d20gQt0t-F",
        "outputId": "59d09ba5-503e-4b91-d760-81a50759effe",
        "colab": {
          "base_uri": "https://localhost:8080/"
        }
      },
      "execution_count": 22,
      "outputs": [
        {
          "output_type": "execute_result",
          "data": {
            "text/plain": [
              "(7000, 50, 1)"
            ]
          },
          "metadata": {},
          "execution_count": 22
        }
      ]
    },
    {
      "cell_type": "code",
      "source": [
        "y_pred = X_valid[:, -1]\n",
        "np.mean(tf.keras.losses.mean_squared_error(y_valid, y_pred))"
      ],
      "metadata": {
        "id": "dRgYfHH4tO98",
        "outputId": "70fd1427-d843-40dc-a6fb-0f0c7b33683b",
        "colab": {
          "base_uri": "https://localhost:8080/"
        }
      },
      "execution_count": 10,
      "outputs": [
        {
          "output_type": "execute_result",
          "data": {
            "text/plain": [
              "0.02146086"
            ]
          },
          "metadata": {},
          "execution_count": 10
        }
      ]
    },
    {
      "cell_type": "markdown",
      "source": [
        "## Simple linear regression model"
      ],
      "metadata": {
        "id": "hb_1mQdduAZx"
      }
    },
    {
      "cell_type": "code",
      "source": [
        "model = tf.keras.models.Sequential([\n",
        "    tf.keras.layers.Flatten(input_shape=[50, 1]),\n",
        "    tf.keras.layers.Dense(1)\n",
        "])"
      ],
      "metadata": {
        "id": "8rfUWF-jtwuM"
      },
      "execution_count": 12,
      "outputs": []
    },
    {
      "cell_type": "code",
      "source": [
        "model.compile(optimizer='adam', loss='mse')"
      ],
      "metadata": {
        "id": "LZMUqv04uEWs"
      },
      "execution_count": 13,
      "outputs": []
    },
    {
      "cell_type": "code",
      "source": [
        "model.fit(x=X_train, y=y_train, epochs=20, validation_data=(X_valid, y_valid))"
      ],
      "metadata": {
        "id": "wK6QPNb4uOMs"
      },
      "execution_count": null,
      "outputs": []
    },
    {
      "cell_type": "markdown",
      "source": [
        "validation loss is 0.004. This is much better than the naive forecast error `mse` of 0.020"
      ],
      "metadata": {
        "id": "fWUr82vhuct5"
      }
    },
    {
      "cell_type": "markdown",
      "source": [
        "## SimpleRNN"
      ],
      "metadata": {
        "id": "bgysH5ARu2Fb"
      }
    },
    {
      "cell_type": "code",
      "source": [
        "model=tf.keras.models.Sequential(\n",
        "    [tf.keras.layers.SimpleRNN(units=1, input_shape=(None, 1))]\n",
        ")"
      ],
      "metadata": {
        "id": "pWiZssSCuX3N"
      },
      "execution_count": 16,
      "outputs": []
    },
    {
      "cell_type": "code",
      "source": [
        "model.compile(optimizer='adam', loss='mse')\n",
        "model.fit(x=X_train, y=y_train, epochs=20, validation_data=(X_valid, y_valid))"
      ],
      "metadata": {
        "id": "a7HBNbfXu6ej",
        "outputId": "62f40917-a1f9-45fe-c101-bbcd6b209458",
        "colab": {
          "base_uri": "https://localhost:8080/"
        }
      },
      "execution_count": 17,
      "outputs": [
        {
          "output_type": "stream",
          "name": "stdout",
          "text": [
            "Epoch 1/20\n",
            "219/219 [==============================] - 3s 9ms/step - loss: 0.0569 - val_loss: 0.0459\n",
            "Epoch 2/20\n",
            "219/219 [==============================] - 2s 8ms/step - loss: 0.0377 - val_loss: 0.0307\n",
            "Epoch 3/20\n",
            "219/219 [==============================] - 2s 8ms/step - loss: 0.0249 - val_loss: 0.0206\n",
            "Epoch 4/20\n",
            "219/219 [==============================] - 2s 8ms/step - loss: 0.0170 - val_loss: 0.0152\n",
            "Epoch 5/20\n",
            "219/219 [==============================] - 2s 8ms/step - loss: 0.0133 - val_loss: 0.0129\n",
            "Epoch 6/20\n",
            "219/219 [==============================] - 2s 8ms/step - loss: 0.0119 - val_loss: 0.0123\n",
            "Epoch 7/20\n",
            "219/219 [==============================] - 2s 8ms/step - loss: 0.0115 - val_loss: 0.0120\n",
            "Epoch 8/20\n",
            "219/219 [==============================] - 2s 8ms/step - loss: 0.0113 - val_loss: 0.0120\n",
            "Epoch 9/20\n",
            "219/219 [==============================] - 2s 8ms/step - loss: 0.0113 - val_loss: 0.0119\n",
            "Epoch 10/20\n",
            "219/219 [==============================] - 2s 8ms/step - loss: 0.0112 - val_loss: 0.0119\n",
            "Epoch 11/20\n",
            "219/219 [==============================] - 2s 9ms/step - loss: 0.0111 - val_loss: 0.0118\n",
            "Epoch 12/20\n",
            "219/219 [==============================] - 2s 8ms/step - loss: 0.0111 - val_loss: 0.0118\n",
            "Epoch 13/20\n",
            "219/219 [==============================] - 2s 8ms/step - loss: 0.0111 - val_loss: 0.0118\n",
            "Epoch 14/20\n",
            "219/219 [==============================] - 2s 8ms/step - loss: 0.0111 - val_loss: 0.0117\n",
            "Epoch 15/20\n",
            "219/219 [==============================] - 2s 8ms/step - loss: 0.0110 - val_loss: 0.0117\n",
            "Epoch 16/20\n",
            "219/219 [==============================] - 2s 8ms/step - loss: 0.0110 - val_loss: 0.0117\n",
            "Epoch 17/20\n",
            "219/219 [==============================] - 2s 8ms/step - loss: 0.0110 - val_loss: 0.0117\n",
            "Epoch 18/20\n",
            "219/219 [==============================] - 2s 8ms/step - loss: 0.0110 - val_loss: 0.0117\n",
            "Epoch 19/20\n",
            "219/219 [==============================] - 2s 8ms/step - loss: 0.0110 - val_loss: 0.0117\n",
            "Epoch 20/20\n",
            "219/219 [==============================] - 2s 8ms/step - loss: 0.0110 - val_loss: 0.0117\n"
          ]
        },
        {
          "output_type": "execute_result",
          "data": {
            "text/plain": [
              "<keras.callbacks.History at 0x7fc9acf17850>"
            ]
          },
          "metadata": {},
          "execution_count": 17
        }
      ]
    },
    {
      "cell_type": "markdown",
      "source": [
        "## A deep SimpleRNN"
      ],
      "metadata": {
        "id": "WvEJNKtfxCGC"
      }
    },
    {
      "cell_type": "code",
      "source": [
        "model_deepRnn = tf.keras.models.Sequential(\n",
        "    [tf.keras.layers.SimpleRNN(units=20, return_sequences=True, input_shape=(None, 1)),\n",
        "     tf.keras.layers.SimpleRNN(units=20, return_sequences=True),\n",
        "     tf.keras.layers.SimpleRNN(units=1, return_sequences=False)]\n",
        ")"
      ],
      "metadata": {
        "id": "80xiVs0KxD-g"
      },
      "execution_count": 18,
      "outputs": []
    },
    {
      "cell_type": "code",
      "source": [
        "model_deepRnn.compile(optimizer='adam', loss='mse')\n",
        "model_deepRnn.fit(x=X_train, y=y_train, epochs=10, validation_data=(X_valid, y_valid))"
      ],
      "metadata": {
        "id": "GgBvLZy6xuww",
        "outputId": "eedb290f-d273-418c-dfd3-3a5bdf84c19a",
        "colab": {
          "base_uri": "https://localhost:8080/"
        }
      },
      "execution_count": 19,
      "outputs": [
        {
          "output_type": "stream",
          "name": "stdout",
          "text": [
            "Epoch 1/10\n",
            "219/219 [==============================] - 9s 30ms/step - loss: 0.0185 - val_loss: 0.0052\n",
            "Epoch 2/10\n",
            "219/219 [==============================] - 6s 28ms/step - loss: 0.0041 - val_loss: 0.0034\n",
            "Epoch 3/10\n",
            "219/219 [==============================] - 6s 28ms/step - loss: 0.0033 - val_loss: 0.0030\n",
            "Epoch 4/10\n",
            "219/219 [==============================] - 6s 28ms/step - loss: 0.0030 - val_loss: 0.0030\n",
            "Epoch 5/10\n",
            "219/219 [==============================] - 6s 28ms/step - loss: 0.0030 - val_loss: 0.0027\n",
            "Epoch 6/10\n",
            "219/219 [==============================] - 6s 29ms/step - loss: 0.0029 - val_loss: 0.0030\n",
            "Epoch 7/10\n",
            "219/219 [==============================] - 6s 29ms/step - loss: 0.0029 - val_loss: 0.0026\n",
            "Epoch 8/10\n",
            "219/219 [==============================] - 6s 29ms/step - loss: 0.0028 - val_loss: 0.0027\n",
            "Epoch 9/10\n",
            "219/219 [==============================] - 6s 29ms/step - loss: 0.0028 - val_loss: 0.0027\n",
            "Epoch 10/10\n",
            "219/219 [==============================] - 6s 29ms/step - loss: 0.0027 - val_loss: 0.0026\n"
          ]
        },
        {
          "output_type": "execute_result",
          "data": {
            "text/plain": [
              "<keras.callbacks.History at 0x7fc9ad7c1090>"
            ]
          },
          "metadata": {},
          "execution_count": 19
        }
      ]
    },
    {
      "cell_type": "markdown",
      "source": [
        "## SimpleRNN with `Dense` Layer at the end and no activation function"
      ],
      "metadata": {
        "id": "1iNC3VmwzUcd"
      }
    },
    {
      "cell_type": "code",
      "source": [
        "model_deepRnnDense = tf.keras.models.Sequential(\n",
        "    [tf.keras.layers.SimpleRNN(units=20, return_sequences=True, input_shape=(None, 1)),\n",
        "     tf.keras.layers.SimpleRNN(units=20),\n",
        "     tf.keras.layers.Dense(units=1)]\n",
        ")\n",
        "\n",
        "\n",
        "model_deepRnnDense.compile(optimizer='adam', loss='mse')\n",
        "model_deepRnnDense.fit(x=X_train, y=y_train, epochs=10, validation_data=(X_valid, y_valid))"
      ],
      "metadata": {
        "id": "lgvul_tVzeca",
        "outputId": "fc213a64-f0a5-47a2-9d18-483a5c2ac9c8",
        "colab": {
          "base_uri": "https://localhost:8080/"
        }
      },
      "execution_count": 21,
      "outputs": [
        {
          "output_type": "stream",
          "name": "stdout",
          "text": [
            "Epoch 1/10\n",
            "219/219 [==============================] - 6s 22ms/step - loss: 0.0176 - val_loss: 0.0055\n",
            "Epoch 2/10\n",
            "219/219 [==============================] - 4s 20ms/step - loss: 0.0045 - val_loss: 0.0036\n",
            "Epoch 3/10\n",
            "219/219 [==============================] - 4s 20ms/step - loss: 0.0036 - val_loss: 0.0033\n",
            "Epoch 4/10\n",
            "219/219 [==============================] - 4s 20ms/step - loss: 0.0033 - val_loss: 0.0032\n",
            "Epoch 5/10\n",
            "219/219 [==============================] - 4s 20ms/step - loss: 0.0032 - val_loss: 0.0028\n",
            "Epoch 6/10\n",
            "219/219 [==============================] - 4s 20ms/step - loss: 0.0031 - val_loss: 0.0028\n",
            "Epoch 7/10\n",
            "219/219 [==============================] - 4s 20ms/step - loss: 0.0030 - val_loss: 0.0029\n",
            "Epoch 8/10\n",
            "219/219 [==============================] - 4s 20ms/step - loss: 0.0030 - val_loss: 0.0030\n",
            "Epoch 9/10\n",
            "219/219 [==============================] - 4s 19ms/step - loss: 0.0029 - val_loss: 0.0026\n",
            "Epoch 10/10\n",
            "219/219 [==============================] - 4s 20ms/step - loss: 0.0029 - val_loss: 0.0029\n"
          ]
        },
        {
          "output_type": "execute_result",
          "data": {
            "text/plain": [
              "<keras.callbacks.History at 0x7fc9a4d34890>"
            ]
          },
          "metadata": {},
          "execution_count": 21
        }
      ]
    },
    {
      "cell_type": "markdown",
      "source": [
        "## Creating predictions n steps in the future\n",
        "\n",
        "Generate predictions and feed it back to the model for predicting the next timestep"
      ],
      "metadata": {
        "id": "33U4-BTa2vJ4"
      }
    },
    {
      "cell_type": "code",
      "source": [
        "predictions = model_deepRnnDense.predict(X_test)"
      ],
      "metadata": {
        "id": "-k3lKDyd40kx"
      },
      "execution_count": 31,
      "outputs": []
    },
    {
      "cell_type": "code",
      "source": [
        "predictions.shape"
      ],
      "metadata": {
        "id": "CUD4_uzw43dV",
        "outputId": "cd624b88-f44d-4afe-e575-4a1b5b932b60",
        "colab": {
          "base_uri": "https://localhost:8080/"
        }
      },
      "execution_count": 32,
      "outputs": [
        {
          "output_type": "execute_result",
          "data": {
            "text/plain": [
              "(1000, 1)"
            ]
          },
          "metadata": {},
          "execution_count": 32
        }
      ]
    },
    {
      "cell_type": "code",
      "source": [
        "predictions[0]"
      ],
      "metadata": {
        "id": "1Z4pim63zybk",
        "outputId": "91430e31-9eac-4e37-be0f-468e849267a7",
        "colab": {
          "base_uri": "https://localhost:8080/"
        }
      },
      "execution_count": 39,
      "outputs": [
        {
          "output_type": "execute_result",
          "data": {
            "text/plain": [
              "array([0.2250741], dtype=float32)"
            ]
          },
          "metadata": {},
          "execution_count": 39
        }
      ]
    },
    {
      "cell_type": "code",
      "source": [
        "pd.DataFrame(X_test[0]).plot(kind='line')"
      ],
      "metadata": {
        "id": "Nj0DpCOP4XTR",
        "outputId": "824af1dc-17cd-4808-f258-d14fbbf3b253",
        "colab": {
          "base_uri": "https://localhost:8080/",
          "height": 282
        }
      },
      "execution_count": 27,
      "outputs": [
        {
          "output_type": "execute_result",
          "data": {
            "text/plain": [
              "<matplotlib.axes._subplots.AxesSubplot at 0x7fc9a3e55950>"
            ]
          },
          "metadata": {},
          "execution_count": 27
        },
        {
          "output_type": "display_data",
          "data": {
            "image/png": "[encoded data removed]",
            "text/plain": [
              "<Figure size 432x288 with 1 Axes>"
            ]
          },
          "metadata": {
            "needs_background": "light"
          }
        }
      ]
    },
    {
      "cell_type": "code",
      "source": [
        ""
      ],
      "metadata": {
        "id": "OGqTteb54oup"
      },
      "execution_count": null,
      "outputs": []
    }
  ]
}