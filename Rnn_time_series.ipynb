{
  "nbformat": 4,
  "nbformat_minor": 0,
  "metadata": {
    "colab": {
      "name": "Untitled11.ipynb",
      "provenance": [],
      "toc_visible": true,
      "authorship_tag": "ABX9TyO30jekgD7OX5/ulynQbb3P",
      "include_colab_link": true
    },
    "kernelspec": {
      "name": "python3",
      "display_name": "Python 3"
    },
    "language_info": {
      "name": "python"
    },
    "accelerator": "TPU"
  },
  "cells": [
    {
      "cell_type": "markdown",
      "metadata": {
        "id": "view-in-github",
        "colab_type": "text"
      },
      "source": [
        "<a href=\"https://colab.research.google.com/github/rahuljungbahadur/hands_on_ml_book/blob/main/Rnn_time_series.ipynb\" target=\"_parent\"><img src=\"https://colab.research.google.com/assets/colab-badge.svg\" alt=\"Open In Colab\"/></a>"
      ]
    },
    {
      "cell_type": "code",
      "source": [
        "import numpy as np\n",
        "import pandas as pd"
      ],
      "metadata": {
        "id": "_86U9WpvtGGy"
      },
      "execution_count": null,
      "outputs": []
    },
    {
      "cell_type": "code",
      "execution_count": null,
      "metadata": {
        "id": "1rrBvT2hsrgr"
      },
      "outputs": [],
      "source": [
        "def generate_time_series(batch_size, n_steps):\n",
        "    freq1, freq2, offsets1, offsets2 = np.random.rand(4, batch_size, 1)\n",
        "    time = np.linspace(0, 1, n_steps)\n",
        "    series = 0.5 * np.sin((time - offsets1) * (freq1 * 10 + 10))  #   wave 1\n",
        "    series += 0.2 * np.sin((time - offsets2) * (freq2 * 20 + 20)) # + wave 2\n",
        "    series += 0.1 * (np.random.rand(batch_size, n_steps) - 0.5)   # + noise\n",
        "    return series[..., np.newaxis].astype(np.float32)"
      ]
    },
    {
      "cell_type": "code",
      "source": [
        "ser1 = generate_time_series(1, 5)"
      ],
      "metadata": {
        "id": "9-zTFHe7tKAl"
      },
      "execution_count": null,
      "outputs": []
    },
    {
      "cell_type": "code",
      "source": [
        "import matplotlib.pyplot as plt\n"
      ],
      "metadata": {
        "id": "_56h1dertQ3k"
      },
      "execution_count": null,
      "outputs": []
    },
    {
      "cell_type": "code",
      "source": [
        "n_steps = 50\n",
        "series = generate_time_series(10000, n_steps)\n",
        "X_train, y_train = series[:7000, :n_steps], series[:7000, -1]\n",
        "X_valid, y_valid = series[7000:9000, :n_steps], series[7000:9000, -1]\n",
        "X_test, y_test = series[9000:, :n_steps], series[9000:, -1]"
      ],
      "metadata": {
        "id": "exeOFdE7tOLT"
      },
      "execution_count": null,
      "outputs": []
    },
    {
      "cell_type": "code",
      "source": [
        "import tensorflow as tf"
      ],
      "metadata": {
        "id": "KAlHXiYMtxia"
      },
      "execution_count": null,
      "outputs": []
    },
    {
      "cell_type": "code",
      "source": [
        "X_train.shape"
      ],
      "metadata": {
        "id": "98d20gQt0t-F",
        "outputId": "59d09ba5-503e-4b91-d760-81a50759effe",
        "colab": {
          "base_uri": "https://localhost:8080/"
        }
      },
      "execution_count": null,
      "outputs": [
        {
          "output_type": "execute_result",
          "data": {
            "text/plain": [
              "(7000, 50, 1)"
            ]
          },
          "metadata": {},
          "execution_count": 22
        }
      ]
    },
    {
      "cell_type": "code",
      "source": [
        "y_pred = X_valid[:, -1]\n",
        "np.mean(tf.keras.losses.mean_squared_error(y_valid, y_pred))"
      ],
      "metadata": {
        "id": "dRgYfHH4tO98",
        "outputId": "70fd1427-d843-40dc-a6fb-0f0c7b33683b",
        "colab": {
          "base_uri": "https://localhost:8080/"
        }
      },
      "execution_count": null,
      "outputs": [
        {
          "output_type": "execute_result",
          "data": {
            "text/plain": [
              "0.02146086"
            ]
          },
          "metadata": {},
          "execution_count": 10
        }
      ]
    },
    {
      "cell_type": "markdown",
      "source": [
        "## Simple linear regression model"
      ],
      "metadata": {
        "id": "hb_1mQdduAZx"
      }
    },
    {
      "cell_type": "code",
      "source": [
        "model = tf.keras.models.Sequential([\n",
        "    tf.keras.layers.Flatten(input_shape=[50, 1]),\n",
        "    tf.keras.layers.Dense(1)\n",
        "])"
      ],
      "metadata": {
        "id": "8rfUWF-jtwuM"
      },
      "execution_count": null,
      "outputs": []
    },
    {
      "cell_type": "code",
      "source": [
        "model.compile(optimizer='adam', loss='mse')"
      ],
      "metadata": {
        "id": "LZMUqv04uEWs"
      },
      "execution_count": null,
      "outputs": []
    },
    {
      "cell_type": "code",
      "source": [
        "model.fit(x=X_train, y=y_train, epochs=20, validation_data=(X_valid, y_valid))"
      ],
      "metadata": {
        "id": "wK6QPNb4uOMs"
      },
      "execution_count": null,
      "outputs": []
    },
    {
      "cell_type": "markdown",
      "source": [
        "validation loss is 0.004. This is much better than the naive forecast error `mse` of 0.020"
      ],
      "metadata": {
        "id": "fWUr82vhuct5"
      }
    },
    {
      "cell_type": "markdown",
      "source": [
        "## SimpleRNN"
      ],
      "metadata": {
        "id": "bgysH5ARu2Fb"
      }
    },
    {
      "cell_type": "code",
      "source": [
        "model=tf.keras.models.Sequential(\n",
        "    [tf.keras.layers.SimpleRNN(units=1, input_shape=(None, 1))]\n",
        ")"
      ],
      "metadata": {
        "id": "pWiZssSCuX3N"
      },
      "execution_count": null,
      "outputs": []
    },
    {
      "cell_type": "code",
      "source": [
        "model.compile(optimizer='adam', loss='mse')\n",
        "model.fit(x=X_train, y=y_train, epochs=20, validation_data=(X_valid, y_valid))"
      ],
      "metadata": {
        "id": "a7HBNbfXu6ej",
        "outputId": "62f40917-a1f9-45fe-c101-bbcd6b209458",
        "colab": {
          "base_uri": "https://localhost:8080/"
        }
      },
      "execution_count": null,
      "outputs": [
        {
          "output_type": "stream",
          "name": "stdout",
          "text": [
            "Epoch 1/20\n",
            "219/219 [==============================] - 3s 9ms/step - loss: 0.0569 - val_loss: 0.0459\n",
            "Epoch 2/20\n",
            "219/219 [==============================] - 2s 8ms/step - loss: 0.0377 - val_loss: 0.0307\n",
            "Epoch 3/20\n",
            "219/219 [==============================] - 2s 8ms/step - loss: 0.0249 - val_loss: 0.0206\n",
            "Epoch 4/20\n",
            "219/219 [==============================] - 2s 8ms/step - loss: 0.0170 - val_loss: 0.0152\n",
            "Epoch 5/20\n",
            "219/219 [==============================] - 2s 8ms/step - loss: 0.0133 - val_loss: 0.0129\n",
            "Epoch 6/20\n",
            "219/219 [==============================] - 2s 8ms/step - loss: 0.0119 - val_loss: 0.0123\n",
            "Epoch 7/20\n",
            "219/219 [==============================] - 2s 8ms/step - loss: 0.0115 - val_loss: 0.0120\n",
            "Epoch 8/20\n",
            "219/219 [==============================] - 2s 8ms/step - loss: 0.0113 - val_loss: 0.0120\n",
            "Epoch 9/20\n",
            "219/219 [==============================] - 2s 8ms/step - loss: 0.0113 - val_loss: 0.0119\n",
            "Epoch 10/20\n",
            "219/219 [==============================] - 2s 8ms/step - loss: 0.0112 - val_loss: 0.0119\n",
            "Epoch 11/20\n",
            "219/219 [==============================] - 2s 9ms/step - loss: 0.0111 - val_loss: 0.0118\n",
            "Epoch 12/20\n",
            "219/219 [==============================] - 2s 8ms/step - loss: 0.0111 - val_loss: 0.0118\n",
            "Epoch 13/20\n",
            "219/219 [==============================] - 2s 8ms/step - loss: 0.0111 - val_loss: 0.0118\n",
            "Epoch 14/20\n",
            "219/219 [==============================] - 2s 8ms/step - loss: 0.0111 - val_loss: 0.0117\n",
            "Epoch 15/20\n",
            "219/219 [==============================] - 2s 8ms/step - loss: 0.0110 - val_loss: 0.0117\n",
            "Epoch 16/20\n",
            "219/219 [==============================] - 2s 8ms/step - loss: 0.0110 - val_loss: 0.0117\n",
            "Epoch 17/20\n",
            "219/219 [==============================] - 2s 8ms/step - loss: 0.0110 - val_loss: 0.0117\n",
            "Epoch 18/20\n",
            "219/219 [==============================] - 2s 8ms/step - loss: 0.0110 - val_loss: 0.0117\n",
            "Epoch 19/20\n",
            "219/219 [==============================] - 2s 8ms/step - loss: 0.0110 - val_loss: 0.0117\n",
            "Epoch 20/20\n",
            "219/219 [==============================] - 2s 8ms/step - loss: 0.0110 - val_loss: 0.0117\n"
          ]
        },
        {
          "output_type": "execute_result",
          "data": {
            "text/plain": [
              "<keras.callbacks.History at 0x7fc9acf17850>"
            ]
          },
          "metadata": {},
          "execution_count": 17
        }
      ]
    },
    {
      "cell_type": "markdown",
      "source": [
        "## A deep SimpleRNN"
      ],
      "metadata": {
        "id": "WvEJNKtfxCGC"
      }
    },
    {
      "cell_type": "code",
      "source": [
        "model_deepRnn = tf.keras.models.Sequential(\n",
        "    [tf.keras.layers.SimpleRNN(units=20, return_sequences=True, input_shape=(None, 1)),\n",
        "     tf.keras.layers.SimpleRNN(units=20, return_sequences=True),\n",
        "     tf.keras.layers.SimpleRNN(units=1, return_sequences=False)]\n",
        ")"
      ],
      "metadata": {
        "id": "80xiVs0KxD-g"
      },
      "execution_count": null,
      "outputs": []
    },
    {
      "cell_type": "code",
      "source": [
        "model_deepRnn.compile(optimizer='adam', loss='mse')\n",
        "model_deepRnn.fit(x=X_train, y=y_train, epochs=10, validation_data=(X_valid, y_valid))"
      ],
      "metadata": {
        "id": "GgBvLZy6xuww",
        "outputId": "eedb290f-d273-418c-dfd3-3a5bdf84c19a",
        "colab": {
          "base_uri": "https://localhost:8080/"
        }
      },
      "execution_count": null,
      "outputs": [
        {
          "output_type": "stream",
          "name": "stdout",
          "text": [
            "Epoch 1/10\n",
            "219/219 [==============================] - 9s 30ms/step - loss: 0.0185 - val_loss: 0.0052\n",
            "Epoch 2/10\n",
            "219/219 [==============================] - 6s 28ms/step - loss: 0.0041 - val_loss: 0.0034\n",
            "Epoch 3/10\n",
            "219/219 [==============================] - 6s 28ms/step - loss: 0.0033 - val_loss: 0.0030\n",
            "Epoch 4/10\n",
            "219/219 [==============================] - 6s 28ms/step - loss: 0.0030 - val_loss: 0.0030\n",
            "Epoch 5/10\n",
            "219/219 [==============================] - 6s 28ms/step - loss: 0.0030 - val_loss: 0.0027\n",
            "Epoch 6/10\n",
            "219/219 [==============================] - 6s 29ms/step - loss: 0.0029 - val_loss: 0.0030\n",
            "Epoch 7/10\n",
            "219/219 [==============================] - 6s 29ms/step - loss: 0.0029 - val_loss: 0.0026\n",
            "Epoch 8/10\n",
            "219/219 [==============================] - 6s 29ms/step - loss: 0.0028 - val_loss: 0.0027\n",
            "Epoch 9/10\n",
            "219/219 [==============================] - 6s 29ms/step - loss: 0.0028 - val_loss: 0.0027\n",
            "Epoch 10/10\n",
            "219/219 [==============================] - 6s 29ms/step - loss: 0.0027 - val_loss: 0.0026\n"
          ]
        },
        {
          "output_type": "execute_result",
          "data": {
            "text/plain": [
              "<keras.callbacks.History at 0x7fc9ad7c1090>"
            ]
          },
          "metadata": {},
          "execution_count": 19
        }
      ]
    },
    {
      "cell_type": "markdown",
      "source": [
        "## SimpleRNN with `Dense` Layer at the end and no activation function"
      ],
      "metadata": {
        "id": "1iNC3VmwzUcd"
      }
    },
    {
      "cell_type": "code",
      "source": [
        "model_deepRnnDense = tf.keras.models.Sequential(\n",
        "    [tf.keras.layers.SimpleRNN(units=20, return_sequences=True, input_shape=(None, 1)),\n",
        "     tf.keras.layers.SimpleRNN(units=20),\n",
        "     tf.keras.layers.Dense(units=1)]\n",
        ")\n",
        "\n",
        "\n",
        "model_deepRnnDense.compile(optimizer='adam', loss='mse')\n",
        "model_deepRnnDense.fit(x=X_train, y=y_train, epochs=10, validation_data=(X_valid, y_valid))"
      ],
      "metadata": {
        "id": "lgvul_tVzeca",
        "outputId": "fc213a64-f0a5-47a2-9d18-483a5c2ac9c8",
        "colab": {
          "base_uri": "https://localhost:8080/"
        }
      },
      "execution_count": null,
      "outputs": [
        {
          "output_type": "stream",
          "name": "stdout",
          "text": [
            "Epoch 1/10\n",
            "219/219 [==============================] - 6s 22ms/step - loss: 0.0176 - val_loss: 0.0055\n",
            "Epoch 2/10\n",
            "219/219 [==============================] - 4s 20ms/step - loss: 0.0045 - val_loss: 0.0036\n",
            "Epoch 3/10\n",
            "219/219 [==============================] - 4s 20ms/step - loss: 0.0036 - val_loss: 0.0033\n",
            "Epoch 4/10\n",
            "219/219 [==============================] - 4s 20ms/step - loss: 0.0033 - val_loss: 0.0032\n",
            "Epoch 5/10\n",
            "219/219 [==============================] - 4s 20ms/step - loss: 0.0032 - val_loss: 0.0028\n",
            "Epoch 6/10\n",
            "219/219 [==============================] - 4s 20ms/step - loss: 0.0031 - val_loss: 0.0028\n",
            "Epoch 7/10\n",
            "219/219 [==============================] - 4s 20ms/step - loss: 0.0030 - val_loss: 0.0029\n",
            "Epoch 8/10\n",
            "219/219 [==============================] - 4s 20ms/step - loss: 0.0030 - val_loss: 0.0030\n",
            "Epoch 9/10\n",
            "219/219 [==============================] - 4s 19ms/step - loss: 0.0029 - val_loss: 0.0026\n",
            "Epoch 10/10\n",
            "219/219 [==============================] - 4s 20ms/step - loss: 0.0029 - val_loss: 0.0029\n"
          ]
        },
        {
          "output_type": "execute_result",
          "data": {
            "text/plain": [
              "<keras.callbacks.History at 0x7fc9a4d34890>"
            ]
          },
          "metadata": {},
          "execution_count": 21
        }
      ]
    },
    {
      "cell_type": "markdown",
      "source": [
        "## Creating predictions n steps in the future\n",
        "\n",
        "Generate predictions and feed it back to the model for predicting the next timestep"
      ],
      "metadata": {
        "id": "33U4-BTa2vJ4"
      }
    },
    {
      "cell_type": "code",
      "source": [
        "predictions = model_deepRnnDense.predict(X_test)"
      ],
      "metadata": {
        "id": "-k3lKDyd40kx"
      },
      "execution_count": null,
      "outputs": []
    },
    {
      "cell_type": "code",
      "source": [
        "predictions.shape"
      ],
      "metadata": {
        "id": "CUD4_uzw43dV",
        "outputId": "cd624b88-f44d-4afe-e575-4a1b5b932b60",
        "colab": {
          "base_uri": "https://localhost:8080/"
        }
      },
      "execution_count": null,
      "outputs": [
        {
          "output_type": "execute_result",
          "data": {
            "text/plain": [
              "(1000, 1)"
            ]
          },
          "metadata": {},
          "execution_count": 32
        }
      ]
    },
    {
      "cell_type": "code",
      "source": [
        "predictions[0]"
      ],
      "metadata": {
        "id": "1Z4pim63zybk",
        "outputId": "91430e31-9eac-4e37-be0f-468e849267a7",
        "colab": {
          "base_uri": "https://localhost:8080/"
        }
      },
      "execution_count": null,
      "outputs": [
        {
          "output_type": "execute_result",
          "data": {
            "text/plain": [
              "array([0.2250741], dtype=float32)"
            ]
          },
          "metadata": {},
          "execution_count": 39
        }
      ]
    },
    {
      "cell_type": "code",
      "source": [
        "pd.DataFrame(X_test[0]).plot(kind='line')"
      ],
      "metadata": {
        "id": "Nj0DpCOP4XTR",
        "outputId": "824af1dc-17cd-4808-f258-d14fbbf3b253",
        "colab": {
          "base_uri": "https://localhost:8080/",
          "height": 282
        }
      },
      "execution_count": null,
      "outputs": [
        {
          "output_type": "execute_result",
          "data": {
            "text/plain": [
              "<matplotlib.axes._subplots.AxesSubplot at 0x7fc9a3e55950>"
            ]
          },
          "metadata": {},
          "execution_count": 27
        },
        {
          "output_type": "display_data",
          "data": {
            "image/png": "[encoded data removed]",
            "text/plain": [
              "<Figure size 432x288 with 1 Axes>"
            ]
          },
          "metadata": {
            "needs_background": "light"
          }
        }
      ]
    },
    {
      "cell_type": "code",
      "source": [
        "## Generate time series for 1 batch and 50 steps\n",
        "\n",
        "new_series = generate_time_series(1, 10)"
      ],
      "metadata": {
        "id": "OGqTteb54oup"
      },
      "execution_count": null,
      "outputs": []
    },
    {
      "cell_type": "code",
      "source": [
        "new_series.shape"
      ],
      "metadata": {
        "id": "ZQbDWy9X6vVx",
        "outputId": "5b535182-2d2c-4f3d-bb8b-f339d9941fa0",
        "colab": {
          "base_uri": "https://localhost:8080/"
        }
      },
      "execution_count": null,
      "outputs": [
        {
          "output_type": "execute_result",
          "data": {
            "text/plain": [
              "(1, 10, 1)"
            ]
          },
          "metadata": {},
          "execution_count": 115
        }
      ]
    },
    {
      "cell_type": "code",
      "source": [
        "pd.DataFrame(new_series[0]).plot()"
      ],
      "metadata": {
        "id": "a4NFq0s954Rr",
        "outputId": "9d775de4-7a1a-480c-d559-9d34ffc21af1",
        "colab": {
          "base_uri": "https://localhost:8080/",
          "height": 282
        }
      },
      "execution_count": null,
      "outputs": [
        {
          "output_type": "execute_result",
          "data": {
            "text/plain": [
              "<matplotlib.axes._subplots.AxesSubplot at 0x7fc9a4f54110>"
            ]
          },
          "metadata": {},
          "execution_count": 116
        },
        {
          "output_type": "display_data",
          "data": {
            "image/png": "[encoded data removed]",
            "text/plain": [
              "<Figure size 432x288 with 1 Axes>"
            ]
          },
          "metadata": {
            "needs_background": "light"
          }
        }
      ]
    },
    {
      "cell_type": "code",
      "source": [
        "predicted1 = model_deepRnnDense.predict(new_series)\n",
        "predicted1"
      ],
      "metadata": {
        "id": "0G_vKbVk6tz8",
        "outputId": "8f0b7571-94bf-47fc-8b0b-959e7d89ca0e",
        "colab": {
          "base_uri": "https://localhost:8080/"
        }
      },
      "execution_count": null,
      "outputs": [
        {
          "output_type": "execute_result",
          "data": {
            "text/plain": [
              "array([[-0.8962373]], dtype=float32)"
            ]
          },
          "metadata": {},
          "execution_count": 117
        }
      ]
    },
    {
      "cell_type": "code",
      "source": [
        "predicted1.flatten()"
      ],
      "metadata": {
        "id": "TL2KWTd48Rlk",
        "outputId": "e56e649c-a1cb-4222-e3e7-363d119e62d7",
        "colab": {
          "base_uri": "https://localhost:8080/"
        }
      },
      "execution_count": null,
      "outputs": [
        {
          "output_type": "execute_result",
          "data": {
            "text/plain": [
              "array([-0.8962373], dtype=float32)"
            ]
          },
          "metadata": {},
          "execution_count": 118
        }
      ]
    },
    {
      "cell_type": "code",
      "source": [
        "X_new_series, y_new_series = X_test[157][:40,:], X_test[157][40:,:]\n",
        "X_new_series.shape"
      ],
      "metadata": {
        "id": "fwzrCCH8Bx3o",
        "outputId": "daa5ad25-3029-469a-f751-d60221874f3c",
        "colab": {
          "base_uri": "https://localhost:8080/"
        }
      },
      "execution_count": null,
      "outputs": [
        {
          "output_type": "execute_result",
          "data": {
            "text/plain": [
              "(40, 1)"
            ]
          },
          "metadata": {},
          "execution_count": 170
        }
      ]
    },
    {
      "cell_type": "code",
      "source": [
        "X_new_series=X_new_series.reshape((1,40,1))"
      ],
      "metadata": {
        "id": "p6Jqx84PCOXX"
      },
      "execution_count": null,
      "outputs": []
    },
    {
      "cell_type": "code",
      "source": [
        "\n",
        "pd.DataFrame(X_new_series[0]).plot()\n",
        "\n",
        "model_deepRnnDense.predict(X_new_series)"
      ],
      "metadata": {
        "id": "yK-knZBS8_Kj",
        "outputId": "01e24653-069a-4622-f98f-33c1dd6cd1e7",
        "colab": {
          "base_uri": "https://localhost:8080/",
          "height": 282
        }
      },
      "execution_count": null,
      "outputs": [
        {
          "output_type": "execute_result",
          "data": {
            "text/plain": [
              "array([[0.39639023]], dtype=float32)"
            ]
          },
          "metadata": {},
          "execution_count": 172
        },
        {
          "output_type": "display_data",
          "data": {
            "image/png": "[encoded data removed]",
            "text/plain": [
              "<Figure size 432x288 with 1 Axes>"
            ]
          },
          "metadata": {
            "needs_background": "light"
          }
        }
      ]
    },
    {
      "cell_type": "code",
      "source": [
        "new_series=X_new_series"
      ],
      "metadata": {
        "id": "Hr4z7gy0Cm4E"
      },
      "execution_count": null,
      "outputs": []
    },
    {
      "cell_type": "code",
      "source": [
        "series_pred=[]\n",
        "\n",
        "for i in range(1,11):\n",
        "  # print(i)\n",
        "  pred_val = model_deepRnnDense.predict(new_series)\n",
        "  new_series = new_series[:,1:,:]\n",
        "  # print(new_series.shape)\n",
        "  print((i, new_series.shape, pred_val.flatten()))\n",
        "  series_pred.append(pred_val)"
      ],
      "metadata": {
        "id": "GBfesvJ26679",
        "outputId": "d3fc9e0e-62f5-4c09-f604-094b826953ec",
        "colab": {
          "base_uri": "https://localhost:8080/"
        }
      },
      "execution_count": null,
      "outputs": [
        {
          "output_type": "stream",
          "name": "stdout",
          "text": [
            "(1, (1, 39, 1), array([0.39639023], dtype=float32))\n",
            "(2, (1, 38, 1), array([0.3931343], dtype=float32))\n",
            "(3, (1, 37, 1), array([0.38657707], dtype=float32))\n",
            "(4, (1, 36, 1), array([0.37638703], dtype=float32))\n",
            "(5, (1, 35, 1), array([0.38206372], dtype=float32))\n",
            "(6, (1, 34, 1), array([0.38399804], dtype=float32))\n",
            "(7, (1, 33, 1), array([0.38994697], dtype=float32))\n",
            "(8, (1, 32, 1), array([0.39250922], dtype=float32))\n",
            "(9, (1, 31, 1), array([0.38089454], dtype=float32))\n",
            "(10, (1, 30, 1), array([0.37348086], dtype=float32))\n"
          ]
        }
      ]
    },
    {
      "cell_type": "code",
      "source": [
        "y_new_series.shape"
      ],
      "metadata": {
        "id": "o5A8fLRODEl1",
        "outputId": "33ead8bb-95d7-4b07-d174-0d86d1c9ec3c",
        "colab": {
          "base_uri": "https://localhost:8080/"
        }
      },
      "execution_count": null,
      "outputs": [
        {
          "output_type": "execute_result",
          "data": {
            "text/plain": [
              "(10, 1)"
            ]
          },
          "metadata": {},
          "execution_count": 175
        }
      ]
    },
    {
      "cell_type": "code",
      "source": [
        "pred_array=np.concatenate(series_pred, axis=0)\n",
        "pred_array"
      ],
      "metadata": {
        "id": "dS9JAOnwEG3c",
        "outputId": "05e6f5e9-b703-4304-8ace-53343576b489",
        "colab": {
          "base_uri": "https://localhost:8080/"
        }
      },
      "execution_count": null,
      "outputs": [
        {
          "output_type": "execute_result",
          "data": {
            "text/plain": [
              "array([[0.39639023],\n",
              "       [0.3931343 ],\n",
              "       [0.38657707],\n",
              "       [0.37638703],\n",
              "       [0.38206372],\n",
              "       [0.38399804],\n",
              "       [0.38994697],\n",
              "       [0.39250922],\n",
              "       [0.38089454],\n",
              "       [0.37348086]], dtype=float32)"
            ]
          },
          "metadata": {},
          "execution_count": 176
        }
      ]
    },
    {
      "cell_type": "code",
      "source": [
        "plt.plot(X_new_series[0,:,:])\n",
        "plt.plot(y_new_series, c='red')\n",
        "plt.plot(pred_array, c='green')"
      ],
      "metadata": {
        "id": "jkRTCx6vCuM2",
        "outputId": "534945d3-2556-4f67-dae0-3989ba1295f0",
        "colab": {
          "base_uri": "https://localhost:8080/",
          "height": 282
        }
      },
      "execution_count": null,
      "outputs": [
        {
          "output_type": "execute_result",
          "data": {
            "text/plain": [
              "[<matplotlib.lines.Line2D at 0x7fc991c22650>]"
            ]
          },
          "metadata": {},
          "execution_count": 177
        },
        {
          "output_type": "display_data",
          "data": {
            "image/png": "[encoded data removed]",
            "text/plain": [
              "<Figure size 432x288 with 1 Axes>"
            ]
          },
          "metadata": {
            "needs_background": "light"
          }
        }
      ]
    },
    {
      "cell_type": "markdown",
      "source": [
        "## Another way to predict is to have the RNN itself output the next 10 sequences.\n",
        "\n",
        "This is an example of Sequence-to-Sequence RNN.  \n",
        "\n",
        "The advantage of this technique is that the loss will contain a term for the output of the RNN at each and every time step, not just the output at the last time step. This means there will be many more error gradients flowing through the model, and they won’t have to flow only through time; they will also flow from the output of each time step. This will both stabilize and speed up training.  \n",
        "\n",
        "\n",
        "To turn the model into a sequence-to-sequence model, we must set return_sequences=True in all recurrent layers (even the last one), and we must apply the output Dense layer at every time step. Keras offers a TimeDistributed layer for this very purpose: it wraps any layer (e.g., a Dense layer) and applies it at every time step of its input sequence"
      ],
      "metadata": {
        "id": "x4zOhx2kCuDB"
      }
    },
    {
      "cell_type": "code",
      "source": [
        "help(np.empty)"
      ],
      "metadata": {
        "id": "hrrJEpLLLmor",
        "outputId": "9cbf8386-110a-4954-9a07-d055aa5a4b1d",
        "colab": {
          "base_uri": "https://localhost:8080/"
        }
      },
      "execution_count": null,
      "outputs": [
        {
          "output_type": "stream",
          "name": "stdout",
          "text": [
            "Help on built-in function empty in module numpy:\n",
            "\n",
            "empty(...)\n",
            "    empty(shape, dtype=float, order='C')\n",
            "    \n",
            "    Return a new array of given shape and type, without initializing entries.\n",
            "    \n",
            "    Parameters\n",
            "    ----------\n",
            "    shape : int or tuple of int\n",
            "        Shape of the empty array, e.g., ``(2, 3)`` or ``2``.\n",
            "    dtype : data-type, optional\n",
            "        Desired output data-type for the array, e.g, `numpy.int8`. Default is\n",
            "        `numpy.float64`.\n",
            "    order : {'C', 'F'}, optional, default: 'C'\n",
            "        Whether to store multi-dimensional data in row-major\n",
            "        (C-style) or column-major (Fortran-style) order in\n",
            "        memory.\n",
            "    \n",
            "    Returns\n",
            "    -------\n",
            "    out : ndarray\n",
            "        Array of uninitialized (arbitrary) data of the given shape, dtype, and\n",
            "        order.  Object arrays will be initialized to None.\n",
            "    \n",
            "    See Also\n",
            "    --------\n",
            "    empty_like : Return an empty array with shape and type of input.\n",
            "    ones : Return a new array setting values to one.\n",
            "    zeros : Return a new array setting values to zero.\n",
            "    full : Return a new array of given shape filled with value.\n",
            "    \n",
            "    \n",
            "    Notes\n",
            "    -----\n",
            "    `empty`, unlike `zeros`, does not set the array values to zero,\n",
            "    and may therefore be marginally faster.  On the other hand, it requires\n",
            "    the user to manually set all the values in the array, and should be\n",
            "    used with caution.\n",
            "    \n",
            "    Examples\n",
            "    --------\n",
            "    >>> np.empty([2, 2])\n",
            "    array([[ -9.74499359e+001,   6.69583040e-309],\n",
            "           [  2.13182611e-314,   3.06959433e-309]])         #uninitialized\n",
            "    \n",
            "    >>> np.empty([2, 2], dtype=int)\n",
            "    array([[-1073741821, -1067949133],\n",
            "           [  496041986,    19249760]])                     #uninitialized\n",
            "\n"
          ]
        }
      ]
    },
    {
      "cell_type": "code",
      "source": [
        "import tensorflow as tf\n",
        "import numpy as np\n",
        "import pandas as pd\n",
        "import matplotlib.pyplot as plt\n",
        "import seaborn as sns"
      ],
      "metadata": {
        "id": "GCDAwRx1tuvv"
      },
      "execution_count": null,
      "outputs": []
    },
    {
      "cell_type": "code",
      "source": [
        "np.random.seed(42)\n",
        "\n",
        "n_steps = 50\n",
        "series = generate_time_series(10000, n_steps + 10)\n",
        "X_train = series[:7000, :n_steps]\n",
        "X_valid = series[7000:9000, :n_steps]\n",
        "X_test = series[9000:, :n_steps]\n",
        "Y = np.empty((10000, n_steps, 10))\n",
        "for step_ahead in range(1, 10 + 1):\n",
        "    Y[..., step_ahead - 1] = series[..., step_ahead:step_ahead + n_steps, 0]\n",
        "Y_train = Y[:7000]\n",
        "Y_valid = Y[7000:9000]\n",
        "Y_test = Y[9000:]"
      ],
      "metadata": {
        "id": "b64-WqUFRblC"
      },
      "execution_count": null,
      "outputs": []
    },
    {
      "cell_type": "code",
      "source": [
        "model_deepRnn_MultiForeast = tf.keras.models.Sequential(\n",
        "    [tf.keras.layers.SimpleRNN(units=20, return_sequences=True, input_shape=(None, 1)),\n",
        "     tf.keras.layers.SimpleRNN(units=20, return_sequences=True),\n",
        "     tf.keras.layers.TimeDistributed(tf.keras.layers.Dense(10))]\n",
        ")"
      ],
      "metadata": {
        "id": "ZSViWBRsTSN2"
      },
      "execution_count": null,
      "outputs": []
    },
    {
      "cell_type": "markdown",
      "source": [
        "### Create the error metric to be computed only at the end of the prediction\n",
        "\n",
        "Since, we are now computing an output for 10 time steps, but, are only concerned about the error on the very last time step, we would need to create an error metric that computes mse for the very last timjestep of prediction"
      ],
      "metadata": {
        "id": "XW3_h4AZV4vn"
      }
    },
    {
      "cell_type": "code",
      "source": [
        "import tensorflow as tf"
      ],
      "metadata": {
        "id": "vb66UqR_YZGk"
      },
      "execution_count": null,
      "outputs": []
    },
    {
      "cell_type": "code",
      "source": [
        "def last_step_error_metric(y_true, y_pred):\n",
        "  return tf.keras.metrics.mean_squared_error(y_true[:,-1], y_pred[:,-1])"
      ],
      "metadata": {
        "id": "B1xtus64Vxfv"
      },
      "execution_count": null,
      "outputs": []
    },
    {
      "cell_type": "code",
      "source": [
        "model_deepRnn_MultiForeast.compile(optimizer=tf.keras.optimizers.Adam(learning_rate=0.01),\n",
        "                                   loss='mse',\n",
        "                                   metrics=[last_step_error_metric])"
      ],
      "metadata": {
        "id": "N-kYPtRmXAMJ"
      },
      "execution_count": null,
      "outputs": []
    },
    {
      "cell_type": "code",
      "source": [
        "model_deepRnn_MultiForeast.fit(X_train, Y_train, epochs=20, validation_data=(X_valid, Y_valid))"
      ],
      "metadata": {
        "id": "7H6fthBBuC6D",
        "outputId": "ab938179-bffc-4e33-beb3-d70eb53ac79c",
        "colab": {
          "base_uri": "https://localhost:8080/"
        }
      },
      "execution_count": null,
      "outputs": [
        {
          "output_type": "stream",
          "name": "stdout",
          "text": [
            "Epoch 1/20\n",
            "219/219 [==============================] - 7s 24ms/step - loss: 0.0526 - last_step_error_metric: 0.0417 - val_loss: 0.0405 - val_last_step_error_metric: 0.0276\n",
            "Epoch 2/20\n",
            "219/219 [==============================] - 5s 22ms/step - loss: 0.0368 - last_step_error_metric: 0.0235 - val_loss: 0.0318 - val_last_step_error_metric: 0.0170\n",
            "Epoch 3/20\n",
            "219/219 [==============================] - 5s 21ms/step - loss: 0.0318 - last_step_error_metric: 0.0181 - val_loss: 0.0285 - val_last_step_error_metric: 0.0137\n",
            "Epoch 4/20\n",
            "219/219 [==============================] - 5s 21ms/step - loss: 0.0292 - last_step_error_metric: 0.0155 - val_loss: 0.0288 - val_last_step_error_metric: 0.0147\n",
            "Epoch 5/20\n",
            "219/219 [==============================] - 5s 21ms/step - loss: 0.0273 - last_step_error_metric: 0.0142 - val_loss: 0.0269 - val_last_step_error_metric: 0.0139\n",
            "Epoch 6/20\n",
            "219/219 [==============================] - 5s 21ms/step - loss: 0.0258 - last_step_error_metric: 0.0127 - val_loss: 0.0236 - val_last_step_error_metric: 0.0092\n",
            "Epoch 7/20\n",
            "219/219 [==============================] - 5s 21ms/step - loss: 0.0232 - last_step_error_metric: 0.0095 - val_loss: 0.0214 - val_last_step_error_metric: 0.0077\n",
            "Epoch 8/20\n",
            "219/219 [==============================] - 5s 21ms/step - loss: 0.0222 - last_step_error_metric: 0.0091 - val_loss: 0.0207 - val_last_step_error_metric: 0.0078\n",
            "Epoch 9/20\n",
            "219/219 [==============================] - 5s 22ms/step - loss: 0.0209 - last_step_error_metric: 0.0081 - val_loss: 0.0192 - val_last_step_error_metric: 0.0066\n",
            "Epoch 10/20\n",
            "219/219 [==============================] - 5s 21ms/step - loss: 0.0199 - last_step_error_metric: 0.0074 - val_loss: 0.0191 - val_last_step_error_metric: 0.0072\n",
            "Epoch 11/20\n",
            "219/219 [==============================] - 5s 22ms/step - loss: 0.0198 - last_step_error_metric: 0.0077 - val_loss: 0.0192 - val_last_step_error_metric: 0.0072\n",
            "Epoch 12/20\n",
            "219/219 [==============================] - 5s 21ms/step - loss: 0.0195 - last_step_error_metric: 0.0075 - val_loss: 0.0191 - val_last_step_error_metric: 0.0060\n",
            "Epoch 13/20\n",
            "219/219 [==============================] - 5s 22ms/step - loss: 0.0190 - last_step_error_metric: 0.0069 - val_loss: 0.0182 - val_last_step_error_metric: 0.0064\n",
            "Epoch 14/20\n",
            "219/219 [==============================] - 5s 21ms/step - loss: 0.0190 - last_step_error_metric: 0.0072 - val_loss: 0.0194 - val_last_step_error_metric: 0.0096\n",
            "Epoch 15/20\n",
            "219/219 [==============================] - 5s 22ms/step - loss: 0.0185 - last_step_error_metric: 0.0069 - val_loss: 0.0187 - val_last_step_error_metric: 0.0072\n",
            "Epoch 16/20\n",
            "219/219 [==============================] - 5s 22ms/step - loss: 0.0183 - last_step_error_metric: 0.0065 - val_loss: 0.0198 - val_last_step_error_metric: 0.0097\n",
            "Epoch 17/20\n",
            "219/219 [==============================] - 5s 21ms/step - loss: 0.0182 - last_step_error_metric: 0.0065 - val_loss: 0.0175 - val_last_step_error_metric: 0.0065\n",
            "Epoch 18/20\n",
            "219/219 [==============================] - 5s 22ms/step - loss: 0.0183 - last_step_error_metric: 0.0067 - val_loss: 0.0179 - val_last_step_error_metric: 0.0071\n",
            "Epoch 19/20\n",
            "219/219 [==============================] - 5s 21ms/step - loss: 0.0181 - last_step_error_metric: 0.0065 - val_loss: 0.0177 - val_last_step_error_metric: 0.0067\n",
            "Epoch 20/20\n",
            "219/219 [==============================] - 5s 21ms/step - loss: 0.0185 - last_step_error_metric: 0.0070 - val_loss: 0.0175 - val_last_step_error_metric: 0.0062\n"
          ]
        },
        {
          "output_type": "execute_result",
          "data": {
            "text/plain": [
              "<keras.callbacks.History at 0x7fdf0f13de10>"
            ]
          },
          "metadata": {},
          "execution_count": 12
        }
      ]
    },
    {
      "cell_type": "code",
      "source": [
        "np.random.seed(42)\n",
        "tf.random.set_seed(42)\n",
        "\n",
        "model = tf.keras.models.Sequential([\n",
        "    tf.keras.layers.SimpleRNN(20, return_sequences=True, input_shape=[None, 1]),\n",
        "    tf.keras.layers.SimpleRNN(20, return_sequences=True),\n",
        "    tf.keras.layers.TimeDistributed(tf.keras.layers.Dense(10))\n",
        "])\n",
        "\n",
        "def last_time_step_mse(Y_true, Y_pred):\n",
        "    return tf.keras.metrics.mean_squared_error(Y_true[:, -1], Y_pred[:, -1])\n",
        "\n",
        "model.compile(loss=\"mse\", optimizer=tf.keras.optimizers.Adam(learning_rate=0.01), metrics=[last_time_step_mse])\n",
        "history = model.fit(X_train, Y_train, epochs=20,\n",
        "                    validation_data=(X_valid, Y_valid))"
      ],
      "metadata": {
        "id": "df7Yvh5QXN5N",
        "outputId": "71b0db93-500a-4d07-a182-8a39dc18250f",
        "colab": {
          "base_uri": "https://localhost:8080/"
        }
      },
      "execution_count": null,
      "outputs": [
        {
          "output_type": "stream",
          "name": "stdout",
          "text": [
            "Epoch 1/20\n",
            "219/219 [==============================] - 6s 22ms/step - loss: 0.0508 - last_time_step_mse: 0.0400 - val_loss: 0.0429 - val_last_time_step_mse: 0.0324\n",
            "Epoch 2/20\n",
            "219/219 [==============================] - 4s 20ms/step - loss: 0.0395 - last_time_step_mse: 0.0283 - val_loss: 0.0363 - val_last_time_step_mse: 0.0260\n",
            "Epoch 3/20\n",
            "219/219 [==============================] - 5s 21ms/step - loss: 0.0325 - last_time_step_mse: 0.0214 - val_loss: 0.0368 - val_last_time_step_mse: 0.0279\n",
            "Epoch 4/20\n",
            "219/219 [==============================] - 5s 21ms/step - loss: 0.0298 - last_time_step_mse: 0.0188 - val_loss: 0.0273 - val_last_time_step_mse: 0.0155\n",
            "Epoch 5/20\n",
            "219/219 [==============================] - 4s 20ms/step - loss: 0.0270 - last_time_step_mse: 0.0149 - val_loss: 0.0266 - val_last_time_step_mse: 0.0163\n",
            "Epoch 6/20\n",
            "219/219 [==============================] - 5s 21ms/step - loss: 0.0250 - last_time_step_mse: 0.0123 - val_loss: 0.0248 - val_last_time_step_mse: 0.0122\n",
            "Epoch 7/20\n",
            "219/219 [==============================] - 4s 20ms/step - loss: 0.0236 - last_time_step_mse: 0.0111 - val_loss: 0.0234 - val_last_time_step_mse: 0.0098\n",
            "Epoch 8/20\n",
            "219/219 [==============================] - 4s 20ms/step - loss: 0.0217 - last_time_step_mse: 0.0087 - val_loss: 0.0220 - val_last_time_step_mse: 0.0095\n",
            "Epoch 9/20\n",
            "219/219 [==============================] - 4s 20ms/step - loss: 0.0217 - last_time_step_mse: 0.0089 - val_loss: 0.0199 - val_last_time_step_mse: 0.0069\n",
            "Epoch 10/20\n",
            "219/219 [==============================] - 4s 20ms/step - loss: 0.0212 - last_time_step_mse: 0.0087 - val_loss: 0.0221 - val_last_time_step_mse: 0.0099\n",
            "Epoch 11/20\n",
            "219/219 [==============================] - 4s 20ms/step - loss: 0.0202 - last_time_step_mse: 0.0078 - val_loss: 0.0199 - val_last_time_step_mse: 0.0074\n",
            "Epoch 12/20\n",
            "219/219 [==============================] - 4s 20ms/step - loss: 0.0199 - last_time_step_mse: 0.0077 - val_loss: 0.0186 - val_last_time_step_mse: 0.0065\n",
            "Epoch 13/20\n",
            "219/219 [==============================] - 5s 21ms/step - loss: 0.0194 - last_time_step_mse: 0.0071 - val_loss: 0.0197 - val_last_time_step_mse: 0.0071\n",
            "Epoch 14/20\n",
            "219/219 [==============================] - 4s 20ms/step - loss: 0.0191 - last_time_step_mse: 0.0071 - val_loss: 0.0188 - val_last_time_step_mse: 0.0068\n",
            "Epoch 15/20\n",
            "219/219 [==============================] - 4s 20ms/step - loss: 0.0191 - last_time_step_mse: 0.0071 - val_loss: 0.0184 - val_last_time_step_mse: 0.0072\n",
            "Epoch 16/20\n",
            "219/219 [==============================] - 4s 20ms/step - loss: 0.0188 - last_time_step_mse: 0.0069 - val_loss: 0.0186 - val_last_time_step_mse: 0.0075\n",
            "Epoch 17/20\n",
            "219/219 [==============================] - 4s 20ms/step - loss: 0.0187 - last_time_step_mse: 0.0067 - val_loss: 0.0186 - val_last_time_step_mse: 0.0073\n",
            "Epoch 18/20\n",
            "219/219 [==============================] - 4s 21ms/step - loss: 0.0186 - last_time_step_mse: 0.0070 - val_loss: 0.0174 - val_last_time_step_mse: 0.0061\n",
            "Epoch 19/20\n",
            "219/219 [==============================] - 4s 20ms/step - loss: 0.0186 - last_time_step_mse: 0.0070 - val_loss: 0.0176 - val_last_time_step_mse: 0.0061\n",
            "Epoch 20/20\n",
            "219/219 [==============================] - 5s 21ms/step - loss: 0.0184 - last_time_step_mse: 0.0068 - val_loss: 0.0185 - val_last_time_step_mse: 0.0071\n"
          ]
        }
      ]
    },
    {
      "cell_type": "code",
      "source": [
        "def plot_series(series, y=None, y_pred=None, x_label=\"$t$\", y_label=\"$x(t)$\", legend=True):\n",
        "    plt.plot(series, \".-\")\n",
        "    if y is not None:\n",
        "        plt.plot(n_steps, y, \"bo\", label=\"Target\")\n",
        "    if y_pred is not None:\n",
        "        plt.plot(n_steps, y_pred, \"rx\", markersize=10, label=\"Prediction\")\n",
        "    plt.grid(True)\n",
        "    if x_label:\n",
        "        plt.xlabel(x_label, fontsize=16)\n",
        "    if y_label:\n",
        "        plt.ylabel(y_label, fontsize=16, rotation=0)\n",
        "    plt.hlines(0, 0, 100, linewidth=1)\n",
        "    plt.axis([0, n_steps + 1, -1, 1])\n",
        "    if legend and (y or y_pred):\n",
        "        plt.legend(fontsize=14, loc=\"upper left\")"
      ],
      "metadata": {
        "id": "TmVZH3d0vNNN"
      },
      "execution_count": null,
      "outputs": []
    },
    {
      "cell_type": "code",
      "source": [
        "def plot_multiple_forecasts(X, Y, Y_pred):\n",
        "    n_steps = X.shape[1]\n",
        "    ahead = Y.shape[1]\n",
        "    plot_series(X[0, :, 0])\n",
        "    plt.plot(np.arange(n_steps, n_steps + ahead), Y[0, :, 0], \"bo-\", label=\"Actual\")\n",
        "    plt.plot(np.arange(n_steps, n_steps + ahead), Y_pred[0, :, 0], \"rx-\", label=\"Forecast\", markersize=10)\n",
        "    plt.axis([0, n_steps + ahead, -1, 1])\n",
        "    plt.legend(fontsize=14)"
      ],
      "metadata": {
        "id": "H-xqF93zcnbY"
      },
      "execution_count": null,
      "outputs": []
    },
    {
      "cell_type": "code",
      "source": [
        "np.random.seed(43)\n",
        "\n",
        "series = generate_time_series(1, 50 + 10)\n",
        "X_new, Y_new = series[:, :50, :], series[:, 50:, :]\n",
        "Y_pred = model_deepRnn_MultiForeast.predict(X_new)[:, -1][..., np.newaxis]"
      ],
      "metadata": {
        "id": "P9rL1nviu8Y_"
      },
      "execution_count": null,
      "outputs": []
    },
    {
      "cell_type": "code",
      "source": [
        "plot_multiple_forecasts(X_new, Y_new, Y_pred)\n",
        "plt.show()  ## much better than individual time-step forecasts"
      ],
      "metadata": {
        "id": "ob9uWwKLvFkL",
        "outputId": "44692b9f-6b6a-4bb4-f6ec-d34236ab50ea",
        "colab": {
          "base_uri": "https://localhost:8080/",
          "height": 289
        }
      },
      "execution_count": null,
      "outputs": [
        {
          "output_type": "display_data",
          "data": {
            "image/png": "[encoded data removed]",
            "text/plain": [
              "<Figure size 432x288 with 1 Axes>"
            ]
          },
          "metadata": {
            "needs_background": "light"
          }
        }
      ]
    },
    {
      "cell_type": "markdown",
      "source": [
        "## Handling long sequences\n",
        "\n",
        "One way is to use the layer `keras.layer.LayerNormalization`.  \n",
        "\n",
        "Let’s use tf.keras to implement Layer Normalization within a simple memory cell. For this, we need to define a custom memory cell. It is just like a regular layer, except its call() method takes two arguments: the inputs at the current time step and the hidden states from the previous time step. Note that the states argument is a list containing one or more tensors. In the case of a simple RNN cell it contains a single tensor equal to the outputs of the previous time step, but other cells may have multiple state tensors (e.g., an LSTMCell has a long-term state and a short-term state, as we will see shortly). A cell must also have a state_size attribute and an output_size attribute. In a simple RNN, both are simply equal to the number of units. The following code implements a custom memory cell which will behave like a SimpleRNNCell, except it will also apply Layer Normalization at each time step:"
      ],
      "metadata": {
        "id": "v8a-fi9BuXJ0"
      }
    },
    {
      "cell_type": "code",
      "source": [
        "class LNSimpleRNN(tf.keras.layers.Layer):\n",
        "\n",
        "  def __init__(self, units, activation='tanh', **kwargs):\n",
        "    \n",
        "    super().__init__(**kwargs)\n",
        "    self.state_size=units\n",
        "    self.output_size=units\n",
        "    self.simple_rnn=tf.keras.layers.SimpleRNN(units=units, activation=None)\n",
        "    ## activation for the SimpleRNN is set to None cause we want the LayerNormalization to be applied at input and\n",
        "    ## tanh at the state_output\n",
        "    self.layer_norm = tf.keras.layers.LayerNormalization()\n",
        "    self.activation=tf.keras.activations.get(activation)\n",
        "\n",
        "    ## pass remaining key-value arguments to the super class\n",
        "    \n",
        "\n",
        "  def call(self, inputs, states):\n",
        "    ## define the custom RNN layer\n",
        "    output, state = self.simple_rnn(inputs, states)\n",
        "    norm_output = self.activation(self.layer_norm(output))\n",
        "    return norm_output, [norm_output] \n",
        "    \n"
      ],
      "metadata": {
        "id": "BLy0FiXQcqiz"
      },
      "execution_count": null,
      "outputs": []
    },
    {
      "cell_type": "code",
      "source": [
        "## As given in the book\n",
        "class LNSimpleRNNCell(tf.keras.layers.Layer):\n",
        "    def __init__(self, units, activation=\"tanh\", **kwargs):\n",
        "        super().__init__(**kwargs)\n",
        "        self.state_size = units\n",
        "        self.output_size = units\n",
        "        self.simple_rnn_cell = tf.keras.layers.SimpleRNNCell(units,\n",
        "                                                          activation=None)\n",
        "        self.layer_norm = tf.keras.layers.LayerNormalization()\n",
        "        self.activation = tf.keras.activations.get(activation)\n",
        "    def call(self, inputs, states):\n",
        "        outputs, new_states = self.simple_rnn_cell(inputs, states)\n",
        "        norm_outputs = self.activation(self.layer_norm(outputs))\n",
        "        return norm_outputs, [norm_outputs]"
      ],
      "metadata": {
        "id": "SRy8UcfD3oEp"
      },
      "execution_count": null,
      "outputs": []
    },
    {
      "cell_type": "code",
      "source": [
        "model_customLNSimpleRnn2 = tf.keras.models.Sequential([\n",
        "     tf.keras.layers.RNN(LNSimpleRNN(20), return_sequences=True, input_shape=[None, 1]),\n",
        "     tf.keras.layers.RNN(LNSimpleRNN(20), return_sequences=True),\n",
        "     tf.keras.layers.TimeDistributed(tf.keras.layers.Dense(10))\n",
        "                                                       \n",
        "])"
      ],
      "metadata": {
        "id": "_8Tdlp3e0Yrl"
      },
      "execution_count": null,
      "outputs": []
    },
    {
      "cell_type": "code",
      "source": [
        "## as given in the book\n",
        "modelCustomRnn = tf.keras.models.Sequential([\n",
        "    tf.keras.layers.RNN(LNSimpleRNNCell(20), return_sequences=True,\n",
        "                     input_shape=[None, 1]),\n",
        "    tf.keras.layers.RNN(LNSimpleRNNCell(20), return_sequences=True),\n",
        "    tf.keras.layers.TimeDistributed(tf.keras.layers.Dense(10))\n",
        "])"
      ],
      "metadata": {
        "id": "Hu1kVWFe3X9t"
      },
      "execution_count": null,
      "outputs": []
    },
    {
      "cell_type": "code",
      "source": [
        "modelCustomRnn.layers"
      ],
      "metadata": {
        "id": "f4j2X9eZ2yg9",
        "outputId": "66909a52-f612-4831-dd6b-481893db9799",
        "colab": {
          "base_uri": "https://localhost:8080/"
        }
      },
      "execution_count": null,
      "outputs": [
        {
          "output_type": "execute_result",
          "data": {
            "text/plain": [
              "[<keras.layers.recurrent.RNN at 0x7fdf069d90d0>,\n",
              " <keras.layers.recurrent.RNN at 0x7fdf06a51550>,\n",
              " <keras.layers.wrappers.TimeDistributed at 0x7fdf069b8850>]"
            ]
          },
          "metadata": {},
          "execution_count": 41
        }
      ]
    },
    {
      "cell_type": "code",
      "source": [
        "modelCustomRnn.compile(optimizer='adam', loss='mse', metrics=[last_step_error_metric])"
      ],
      "metadata": {
        "id": "k1qb_tjq1Xwj"
      },
      "execution_count": null,
      "outputs": []
    },
    {
      "cell_type": "code",
      "source": [
        "modelCustomRnn.fit(X_train, Y_train, epochs=10, validation_data=(X_valid, Y_valid))"
      ],
      "metadata": {
        "id": "rKC3wna62e7w",
        "outputId": "fc47f7cb-8893-4681-a87d-7f22c446a92c",
        "colab": {
          "base_uri": "https://localhost:8080/"
        }
      },
      "execution_count": null,
      "outputs": [
        {
          "output_type": "stream",
          "name": "stdout",
          "text": [
            "Epoch 1/10\n",
            "219/219 [==============================] - 13s 47ms/step - loss: 0.1479 - last_step_error_metric: 0.1340 - val_loss: 0.0707 - val_last_step_error_metric: 0.0628\n",
            "Epoch 2/10\n",
            "219/219 [==============================] - 10s 44ms/step - loss: 0.0627 - last_step_error_metric: 0.0506 - val_loss: 0.0575 - val_last_step_error_metric: 0.0432\n",
            "Epoch 3/10\n",
            "219/219 [==============================] - 10s 44ms/step - loss: 0.0544 - last_step_error_metric: 0.0425 - val_loss: 0.0519 - val_last_step_error_metric: 0.0395\n",
            "Epoch 4/10\n",
            "219/219 [==============================] - 10s 44ms/step - loss: 0.0497 - last_step_error_metric: 0.0381 - val_loss: 0.0489 - val_last_step_error_metric: 0.0376\n",
            "Epoch 5/10\n",
            "219/219 [==============================] - 10s 44ms/step - loss: 0.0464 - last_step_error_metric: 0.0337 - val_loss: 0.0441 - val_last_step_error_metric: 0.0326\n",
            "Epoch 6/10\n",
            "219/219 [==============================] - 10s 45ms/step - loss: 0.0421 - last_step_error_metric: 0.0295 - val_loss: 0.0404 - val_last_step_error_metric: 0.0269\n",
            "Epoch 7/10\n",
            "219/219 [==============================] - 10s 45ms/step - loss: 0.0391 - last_step_error_metric: 0.0261 - val_loss: 0.0379 - val_last_step_error_metric: 0.0257\n",
            "Epoch 8/10\n",
            "219/219 [==============================] - 10s 45ms/step - loss: 0.0367 - last_step_error_metric: 0.0235 - val_loss: 0.0355 - val_last_step_error_metric: 0.0220\n",
            "Epoch 9/10\n",
            "219/219 [==============================] - 10s 45ms/step - loss: 0.0350 - last_step_error_metric: 0.0218 - val_loss: 0.0342 - val_last_step_error_metric: 0.0218\n",
            "Epoch 10/10\n",
            "219/219 [==============================] - 10s 44ms/step - loss: 0.0336 - last_step_error_metric: 0.0205 - val_loss: 0.0333 - val_last_step_error_metric: 0.0210\n"
          ]
        },
        {
          "output_type": "execute_result",
          "data": {
            "text/plain": [
              "<keras.callbacks.History at 0x7fdf069c0210>"
            ]
          },
          "metadata": {},
          "execution_count": 45
        }
      ]
    },
    {
      "cell_type": "markdown",
      "source": [
        "## Application of dropout layers\n",
        "\n",
        "These can be used to get the confidence intervals"
      ],
      "metadata": {
        "id": "Eiz_gusm5_Bh"
      }
    },
    {
      "cell_type": "code",
      "source": [
        "model_dropout = tf.keras.models.Sequential(\n",
        "    [tf.keras.layers.SimpleRNN(units=20, input_shape=(None, 1), return_sequences=True, recurrent_dropout=0.05, dropout=0.05),\n",
        "     tf.keras.layers.SimpleRNN(units=20, return_sequences=True, recurrent_dropout=0.05, dropout=0.05),\n",
        "     tf.keras.layers.TimeDistributed(tf.keras.layers.Dense(10))\n",
        "     ]\n",
        ")"
      ],
      "metadata": {
        "id": "q9KPI-Vv48AM"
      },
      "execution_count": null,
      "outputs": []
    },
    {
      "cell_type": "code",
      "source": [
        "model_dropout.compile(optimizer='adam', loss='mse', metrics=[last_step_error_metric])"
      ],
      "metadata": {
        "id": "Iot88CjS6-tH"
      },
      "execution_count": null,
      "outputs": []
    },
    {
      "cell_type": "code",
      "source": [
        "model_dropout.fit(x=X_train, y=Y_train, epochs=20, validation_data=(X_valid, Y_valid))"
      ],
      "metadata": {
        "id": "Mg-quHto7F4n",
        "outputId": "c0d0b98e-406d-4cbc-e4c0-a9f468af9427",
        "colab": {
          "base_uri": "https://localhost:8080/"
        }
      },
      "execution_count": null,
      "outputs": [
        {
          "output_type": "stream",
          "name": "stdout",
          "text": [
            "Epoch 1/20\n",
            "219/219 [==============================] - 9s 32ms/step - loss: 0.1000 - last_step_error_metric: 0.0958 - val_loss: 0.0496 - val_last_step_error_metric: 0.0401\n",
            "Epoch 2/20\n",
            "219/219 [==============================] - 7s 30ms/step - loss: 0.0578 - last_step_error_metric: 0.0498 - val_loss: 0.0442 - val_last_step_error_metric: 0.0339\n",
            "Epoch 3/20\n",
            "219/219 [==============================] - 7s 30ms/step - loss: 0.0523 - last_step_error_metric: 0.0429 - val_loss: 0.0411 - val_last_step_error_metric: 0.0294\n",
            "Epoch 4/20\n",
            "219/219 [==============================] - 7s 30ms/step - loss: 0.0492 - last_step_error_metric: 0.0390 - val_loss: 0.0392 - val_last_step_error_metric: 0.0284\n",
            "Epoch 5/20\n",
            "219/219 [==============================] - 6s 29ms/step - loss: 0.0474 - last_step_error_metric: 0.0370 - val_loss: 0.0381 - val_last_step_error_metric: 0.0268\n",
            "Epoch 6/20\n",
            "219/219 [==============================] - 6s 29ms/step - loss: 0.0461 - last_step_error_metric: 0.0349 - val_loss: 0.0366 - val_last_step_error_metric: 0.0252\n",
            "Epoch 7/20\n",
            "219/219 [==============================] - 7s 30ms/step - loss: 0.0448 - last_step_error_metric: 0.0338 - val_loss: 0.0356 - val_last_step_error_metric: 0.0234\n",
            "Epoch 8/20\n",
            "219/219 [==============================] - 7s 30ms/step - loss: 0.0437 - last_step_error_metric: 0.0323 - val_loss: 0.0349 - val_last_step_error_metric: 0.0226\n",
            "Epoch 9/20\n",
            "219/219 [==============================] - 6s 29ms/step - loss: 0.0429 - last_step_error_metric: 0.0317 - val_loss: 0.0341 - val_last_step_error_metric: 0.0208\n",
            "Epoch 10/20\n",
            "219/219 [==============================] - 6s 29ms/step - loss: 0.0424 - last_step_error_metric: 0.0309 - val_loss: 0.0340 - val_last_step_error_metric: 0.0218\n",
            "Epoch 11/20\n",
            "219/219 [==============================] - 6s 29ms/step - loss: 0.0417 - last_step_error_metric: 0.0301 - val_loss: 0.0337 - val_last_step_error_metric: 0.0209\n",
            "Epoch 12/20\n",
            "219/219 [==============================] - 6s 30ms/step - loss: 0.0410 - last_step_error_metric: 0.0294 - val_loss: 0.0332 - val_last_step_error_metric: 0.0209\n",
            "Epoch 13/20\n",
            "219/219 [==============================] - 6s 29ms/step - loss: 0.0407 - last_step_error_metric: 0.0289 - val_loss: 0.0323 - val_last_step_error_metric: 0.0195\n",
            "Epoch 14/20\n",
            "219/219 [==============================] - 7s 30ms/step - loss: 0.0400 - last_step_error_metric: 0.0286 - val_loss: 0.0314 - val_last_step_error_metric: 0.0180\n",
            "Epoch 15/20\n",
            "219/219 [==============================] - 6s 30ms/step - loss: 0.0394 - last_step_error_metric: 0.0278 - val_loss: 0.0308 - val_last_step_error_metric: 0.0173\n",
            "Epoch 16/20\n",
            "219/219 [==============================] - 7s 30ms/step - loss: 0.0388 - last_step_error_metric: 0.0269 - val_loss: 0.0303 - val_last_step_error_metric: 0.0166\n",
            "Epoch 17/20\n",
            "219/219 [==============================] - 7s 30ms/step - loss: 0.0384 - last_step_error_metric: 0.0269 - val_loss: 0.0304 - val_last_step_error_metric: 0.0174\n",
            "Epoch 18/20\n",
            "219/219 [==============================] - 7s 31ms/step - loss: 0.0379 - last_step_error_metric: 0.0259 - val_loss: 0.0293 - val_last_step_error_metric: 0.0157\n",
            "Epoch 19/20\n",
            "219/219 [==============================] - 7s 30ms/step - loss: 0.0374 - last_step_error_metric: 0.0257 - val_loss: 0.0291 - val_last_step_error_metric: 0.0156\n",
            "Epoch 20/20\n",
            "219/219 [==============================] - 7s 30ms/step - loss: 0.0373 - last_step_error_metric: 0.0258 - val_loss: 0.0285 - val_last_step_error_metric: 0.0155\n"
          ]
        },
        {
          "output_type": "execute_result",
          "data": {
            "text/plain": [
              "<keras.callbacks.History at 0x7fdf0a77e090>"
            ]
          },
          "metadata": {},
          "execution_count": 48
        }
      ]
    },
    {
      "cell_type": "code",
      "source": [
        "mcmc_preds = []\n",
        "\n",
        "for runs in range(100):\n",
        "  mcmc_preds.append(model_dropout(X_test[0,:,:], training=True)[-1])"
      ],
      "metadata": {
        "id": "rQX5PO1w7O7i"
      },
      "execution_count": 74,
      "outputs": []
    },
    {
      "cell_type": "code",
      "source": [
        "mcmc_preds=np.concatenate(mcmc_preds, axis=0)"
      ],
      "metadata": {
        "id": "VyFMMS5nFlou"
      },
      "execution_count": 75,
      "outputs": []
    },
    {
      "cell_type": "code",
      "source": [
        "mcmc_preds.shape"
      ],
      "metadata": {
        "id": "0DROmYBrHxuU",
        "outputId": "adb0717e-1a0a-4db0-96b9-506f27de6a01",
        "colab": {
          "base_uri": "https://localhost:8080/"
        }
      },
      "execution_count": 76,
      "outputs": [
        {
          "output_type": "execute_result",
          "data": {
            "text/plain": [
              "(100, 10)"
            ]
          },
          "metadata": {},
          "execution_count": 76
        }
      ]
    },
    {
      "cell_type": "code",
      "source": [
        "X_test[0,:,:].shape"
      ],
      "metadata": {
        "id": "sZEwr-QmI5AW",
        "outputId": "d43775b1-b613-4367-b5b8-ca3e1031ae51",
        "colab": {
          "base_uri": "https://localhost:8080/"
        }
      },
      "execution_count": 101,
      "outputs": [
        {
          "output_type": "execute_result",
          "data": {
            "text/plain": [
              "(50, 1)"
            ]
          },
          "metadata": {},
          "execution_count": 101
        }
      ]
    },
    {
      "cell_type": "code",
      "source": [
        "testVal=Y_test[0,:,-1].reshape((50,1))\n"
      ],
      "metadata": {
        "id": "je0eIkMbIdcS"
      },
      "execution_count": 93,
      "outputs": []
    },
    {
      "cell_type": "code",
      "source": [
        "testVal.shape"
      ],
      "metadata": {
        "id": "xrFOfDNXJauH",
        "outputId": "6aa21093-7ab3-4764-aa43-31be9f3936f4",
        "colab": {
          "base_uri": "https://localhost:8080/"
        }
      },
      "execution_count": 95,
      "outputs": [
        {
          "output_type": "execute_result",
          "data": {
            "text/plain": [
              "(50, 1)"
            ]
          },
          "metadata": {},
          "execution_count": 95
        }
      ]
    },
    {
      "cell_type": "code",
      "source": [
        "plot_series(X_test[0,:,:], y=testVal)"
      ],
      "metadata": {
        "id": "PVzPEBr-IrnS",
        "outputId": "1ed359a8-3259-4e1c-858a-965721996fa1",
        "colab": {
          "base_uri": "https://localhost:8080/",
          "height": 559
        }
      },
      "execution_count": 100,
      "outputs": [
        {
          "output_type": "error",
          "ename": "ValueError",
          "evalue": "ignored",
          "traceback": [
            "\u001b[0;31m---------------------------------------------------------------------------\u001b[0m",
            "\u001b[0;31mValueError\u001b[0m                                Traceback (most recent call last)",
            "\u001b[0;32m<ipython-input-100-dc6429bb6c44>\u001b[0m in \u001b[0;36m<module>\u001b[0;34m()\u001b[0m\n\u001b[0;32m----> 1\u001b[0;31m \u001b[0mplot_series\u001b[0m\u001b[0;34m(\u001b[0m\u001b[0mX_test\u001b[0m\u001b[0;34m[\u001b[0m\u001b[0;36m0\u001b[0m\u001b[0;34m,\u001b[0m\u001b[0;34m:\u001b[0m\u001b[0;34m,\u001b[0m\u001b[0;34m:\u001b[0m\u001b[0;34m]\u001b[0m\u001b[0;34m,\u001b[0m \u001b[0my\u001b[0m\u001b[0;34m=\u001b[0m\u001b[0mtestVal\u001b[0m\u001b[0;34m)\u001b[0m\u001b[0;34m\u001b[0m\u001b[0;34m\u001b[0m\u001b[0m\n\u001b[0m",
            "\u001b[0;32m<ipython-input-17-552cfab1fac7>\u001b[0m in \u001b[0;36mplot_series\u001b[0;34m(series, y, y_pred, x_label, y_label, legend)\u001b[0m\n\u001b[1;32m      2\u001b[0m     \u001b[0mplt\u001b[0m\u001b[0;34m.\u001b[0m\u001b[0mplot\u001b[0m\u001b[0;34m(\u001b[0m\u001b[0mseries\u001b[0m\u001b[0;34m,\u001b[0m \u001b[0;34m\".-\"\u001b[0m\u001b[0;34m)\u001b[0m\u001b[0;34m\u001b[0m\u001b[0;34m\u001b[0m\u001b[0m\n\u001b[1;32m      3\u001b[0m     \u001b[0;32mif\u001b[0m \u001b[0my\u001b[0m \u001b[0;32mis\u001b[0m \u001b[0;32mnot\u001b[0m \u001b[0;32mNone\u001b[0m\u001b[0;34m:\u001b[0m\u001b[0;34m\u001b[0m\u001b[0;34m\u001b[0m\u001b[0m\n\u001b[0;32m----> 4\u001b[0;31m         \u001b[0mplt\u001b[0m\u001b[0;34m.\u001b[0m\u001b[0mplot\u001b[0m\u001b[0;34m(\u001b[0m\u001b[0mn_steps\u001b[0m\u001b[0;34m,\u001b[0m \u001b[0my\u001b[0m\u001b[0;34m,\u001b[0m \u001b[0;34m\"bo\"\u001b[0m\u001b[0;34m,\u001b[0m \u001b[0mlabel\u001b[0m\u001b[0;34m=\u001b[0m\u001b[0;34m\"Target\"\u001b[0m\u001b[0;34m)\u001b[0m\u001b[0;34m\u001b[0m\u001b[0;34m\u001b[0m\u001b[0m\n\u001b[0m\u001b[1;32m      5\u001b[0m     \u001b[0;32mif\u001b[0m \u001b[0my_pred\u001b[0m \u001b[0;32mis\u001b[0m \u001b[0;32mnot\u001b[0m \u001b[0;32mNone\u001b[0m\u001b[0;34m:\u001b[0m\u001b[0;34m\u001b[0m\u001b[0;34m\u001b[0m\u001b[0m\n\u001b[1;32m      6\u001b[0m         \u001b[0mplt\u001b[0m\u001b[0;34m.\u001b[0m\u001b[0mplot\u001b[0m\u001b[0;34m(\u001b[0m\u001b[0mn_steps\u001b[0m\u001b[0;34m,\u001b[0m \u001b[0my_pred\u001b[0m\u001b[0;34m,\u001b[0m \u001b[0;34m\"rx\"\u001b[0m\u001b[0;34m,\u001b[0m \u001b[0mmarkersize\u001b[0m\u001b[0;34m=\u001b[0m\u001b[0;36m10\u001b[0m\u001b[0;34m,\u001b[0m \u001b[0mlabel\u001b[0m\u001b[0;34m=\u001b[0m\u001b[0;34m\"Prediction\"\u001b[0m\u001b[0;34m)\u001b[0m\u001b[0;34m\u001b[0m\u001b[0;34m\u001b[0m\u001b[0m\n",
            "\u001b[0;32m/usr/local/lib/python3.7/dist-packages/matplotlib/pyplot.py\u001b[0m in \u001b[0;36mplot\u001b[0;34m(scalex, scaley, data, *args, **kwargs)\u001b[0m\n\u001b[1;32m   2761\u001b[0m     return gca().plot(\n\u001b[1;32m   2762\u001b[0m         *args, scalex=scalex, scaley=scaley, **({\"data\": data} if data\n\u001b[0;32m-> 2763\u001b[0;31m         is not None else {}), **kwargs)\n\u001b[0m\u001b[1;32m   2764\u001b[0m \u001b[0;34m\u001b[0m\u001b[0m\n\u001b[1;32m   2765\u001b[0m \u001b[0;34m\u001b[0m\u001b[0m\n",
            "\u001b[0;32m/usr/local/lib/python3.7/dist-packages/matplotlib/axes/_axes.py\u001b[0m in \u001b[0;36mplot\u001b[0;34m(self, scalex, scaley, data, *args, **kwargs)\u001b[0m\n\u001b[1;32m   1645\u001b[0m         \"\"\"\n\u001b[1;32m   1646\u001b[0m         \u001b[0mkwargs\u001b[0m \u001b[0;34m=\u001b[0m \u001b[0mcbook\u001b[0m\u001b[0;34m.\u001b[0m\u001b[0mnormalize_kwargs\u001b[0m\u001b[0;34m(\u001b[0m\u001b[0mkwargs\u001b[0m\u001b[0;34m,\u001b[0m \u001b[0mmlines\u001b[0m\u001b[0;34m.\u001b[0m\u001b[0mLine2D\u001b[0m\u001b[0;34m)\u001b[0m\u001b[0;34m\u001b[0m\u001b[0;34m\u001b[0m\u001b[0m\n\u001b[0;32m-> 1647\u001b[0;31m         \u001b[0mlines\u001b[0m \u001b[0;34m=\u001b[0m \u001b[0;34m[\u001b[0m\u001b[0;34m*\u001b[0m\u001b[0mself\u001b[0m\u001b[0;34m.\u001b[0m\u001b[0m_get_lines\u001b[0m\u001b[0;34m(\u001b[0m\u001b[0;34m*\u001b[0m\u001b[0margs\u001b[0m\u001b[0;34m,\u001b[0m \u001b[0mdata\u001b[0m\u001b[0;34m=\u001b[0m\u001b[0mdata\u001b[0m\u001b[0;34m,\u001b[0m \u001b[0;34m**\u001b[0m\u001b[0mkwargs\u001b[0m\u001b[0;34m)\u001b[0m\u001b[0;34m]\u001b[0m\u001b[0;34m\u001b[0m\u001b[0;34m\u001b[0m\u001b[0m\n\u001b[0m\u001b[1;32m   1648\u001b[0m         \u001b[0;32mfor\u001b[0m \u001b[0mline\u001b[0m \u001b[0;32min\u001b[0m \u001b[0mlines\u001b[0m\u001b[0;34m:\u001b[0m\u001b[0;34m\u001b[0m\u001b[0;34m\u001b[0m\u001b[0m\n\u001b[1;32m   1649\u001b[0m             \u001b[0mself\u001b[0m\u001b[0;34m.\u001b[0m\u001b[0madd_line\u001b[0m\u001b[0;34m(\u001b[0m\u001b[0mline\u001b[0m\u001b[0;34m)\u001b[0m\u001b[0;34m\u001b[0m\u001b[0;34m\u001b[0m\u001b[0m\n",
            "\u001b[0;32m/usr/local/lib/python3.7/dist-packages/matplotlib/axes/_base.py\u001b[0m in \u001b[0;36m__call__\u001b[0;34m(self, *args, **kwargs)\u001b[0m\n\u001b[1;32m    214\u001b[0m                 \u001b[0mthis\u001b[0m \u001b[0;34m+=\u001b[0m \u001b[0margs\u001b[0m\u001b[0;34m[\u001b[0m\u001b[0;36m0\u001b[0m\u001b[0;34m]\u001b[0m\u001b[0;34m,\u001b[0m\u001b[0;34m\u001b[0m\u001b[0;34m\u001b[0m\u001b[0m\n\u001b[1;32m    215\u001b[0m                 \u001b[0margs\u001b[0m \u001b[0;34m=\u001b[0m \u001b[0margs\u001b[0m\u001b[0;34m[\u001b[0m\u001b[0;36m1\u001b[0m\u001b[0;34m:\u001b[0m\u001b[0;34m]\u001b[0m\u001b[0;34m\u001b[0m\u001b[0;34m\u001b[0m\u001b[0m\n\u001b[0;32m--> 216\u001b[0;31m             \u001b[0;32myield\u001b[0m \u001b[0;32mfrom\u001b[0m \u001b[0mself\u001b[0m\u001b[0;34m.\u001b[0m\u001b[0m_plot_args\u001b[0m\u001b[0;34m(\u001b[0m\u001b[0mthis\u001b[0m\u001b[0;34m,\u001b[0m \u001b[0mkwargs\u001b[0m\u001b[0;34m)\u001b[0m\u001b[0;34m\u001b[0m\u001b[0;34m\u001b[0m\u001b[0m\n\u001b[0m\u001b[1;32m    217\u001b[0m \u001b[0;34m\u001b[0m\u001b[0m\n\u001b[1;32m    218\u001b[0m     \u001b[0;32mdef\u001b[0m \u001b[0mget_next_color\u001b[0m\u001b[0;34m(\u001b[0m\u001b[0mself\u001b[0m\u001b[0;34m)\u001b[0m\u001b[0;34m:\u001b[0m\u001b[0;34m\u001b[0m\u001b[0;34m\u001b[0m\u001b[0m\n",
            "\u001b[0;32m/usr/local/lib/python3.7/dist-packages/matplotlib/axes/_base.py\u001b[0m in \u001b[0;36m_plot_args\u001b[0;34m(self, tup, kwargs)\u001b[0m\n\u001b[1;32m    340\u001b[0m \u001b[0;34m\u001b[0m\u001b[0m\n\u001b[1;32m    341\u001b[0m         \u001b[0;32mif\u001b[0m \u001b[0mx\u001b[0m\u001b[0;34m.\u001b[0m\u001b[0mshape\u001b[0m\u001b[0;34m[\u001b[0m\u001b[0;36m0\u001b[0m\u001b[0;34m]\u001b[0m \u001b[0;34m!=\u001b[0m \u001b[0my\u001b[0m\u001b[0;34m.\u001b[0m\u001b[0mshape\u001b[0m\u001b[0;34m[\u001b[0m\u001b[0;36m0\u001b[0m\u001b[0;34m]\u001b[0m\u001b[0;34m:\u001b[0m\u001b[0;34m\u001b[0m\u001b[0;34m\u001b[0m\u001b[0m\n\u001b[0;32m--> 342\u001b[0;31m             raise ValueError(f\"x and y must have same first dimension, but \"\n\u001b[0m\u001b[1;32m    343\u001b[0m                              f\"have shapes {x.shape} and {y.shape}\")\n\u001b[1;32m    344\u001b[0m         \u001b[0;32mif\u001b[0m \u001b[0mx\u001b[0m\u001b[0;34m.\u001b[0m\u001b[0mndim\u001b[0m \u001b[0;34m>\u001b[0m \u001b[0;36m2\u001b[0m \u001b[0;32mor\u001b[0m \u001b[0my\u001b[0m\u001b[0;34m.\u001b[0m\u001b[0mndim\u001b[0m \u001b[0;34m>\u001b[0m \u001b[0;36m2\u001b[0m\u001b[0;34m:\u001b[0m\u001b[0;34m\u001b[0m\u001b[0;34m\u001b[0m\u001b[0m\n",
            "\u001b[0;31mValueError\u001b[0m: x and y must have same first dimension, but have shapes (1,) and (50, 1)"
          ]
        },
        {
          "output_type": "display_data",
          "data": {
            "image/png": "[encoded data removed]",
            "text/plain": [
              "<Figure size 432x288 with 1 Axes>"
            ]
          },
          "metadata": {
            "needs_background": "light"
          }
        }
      ]
    },
    {
      "cell_type": "code",
      "source": [
        "plot_multiple_forecasts(X_test[0,:,:],Y=Y_test[0,:,:], Y_pred=mcmc_preds[0])"
      ],
      "metadata": {
        "id": "vMkXfsaaH6Mb",
        "outputId": "09fecdee-a197-4d6b-e80c-048c9bc397d3",
        "colab": {
          "base_uri": "https://localhost:8080/",
          "height": 287
        }
      },
      "execution_count": 81,
      "outputs": [
        {
          "output_type": "error",
          "ename": "IndexError",
          "evalue": "ignored",
          "traceback": [
            "\u001b[0;31m---------------------------------------------------------------------------\u001b[0m",
            "\u001b[0;31mIndexError\u001b[0m                                Traceback (most recent call last)",
            "\u001b[0;32m<ipython-input-81-d22d3a67820c>\u001b[0m in \u001b[0;36m<module>\u001b[0;34m()\u001b[0m\n\u001b[0;32m----> 1\u001b[0;31m \u001b[0mplot_multiple_forecasts\u001b[0m\u001b[0;34m(\u001b[0m\u001b[0mX_test\u001b[0m\u001b[0;34m[\u001b[0m\u001b[0;36m0\u001b[0m\u001b[0;34m,\u001b[0m\u001b[0;34m:\u001b[0m\u001b[0;34m,\u001b[0m\u001b[0;34m:\u001b[0m\u001b[0;34m]\u001b[0m\u001b[0;34m,\u001b[0m\u001b[0mY\u001b[0m\u001b[0;34m=\u001b[0m\u001b[0mY_test\u001b[0m\u001b[0;34m[\u001b[0m\u001b[0;36m0\u001b[0m\u001b[0;34m,\u001b[0m\u001b[0;34m:\u001b[0m\u001b[0;34m,\u001b[0m\u001b[0;34m:\u001b[0m\u001b[0;34m]\u001b[0m\u001b[0;34m,\u001b[0m \u001b[0mY_pred\u001b[0m\u001b[0;34m=\u001b[0m\u001b[0mmcmc_preds\u001b[0m\u001b[0;34m[\u001b[0m\u001b[0;36m0\u001b[0m\u001b[0;34m]\u001b[0m\u001b[0;34m)\u001b[0m\u001b[0;34m\u001b[0m\u001b[0;34m\u001b[0m\u001b[0m\n\u001b[0m",
            "\u001b[0;32m<ipython-input-18-28691c9b59e4>\u001b[0m in \u001b[0;36mplot_multiple_forecasts\u001b[0;34m(X, Y, Y_pred)\u001b[0m\n\u001b[1;32m      2\u001b[0m     \u001b[0mn_steps\u001b[0m \u001b[0;34m=\u001b[0m \u001b[0mX\u001b[0m\u001b[0;34m.\u001b[0m\u001b[0mshape\u001b[0m\u001b[0;34m[\u001b[0m\u001b[0;36m1\u001b[0m\u001b[0;34m]\u001b[0m\u001b[0;34m\u001b[0m\u001b[0;34m\u001b[0m\u001b[0m\n\u001b[1;32m      3\u001b[0m     \u001b[0mahead\u001b[0m \u001b[0;34m=\u001b[0m \u001b[0mY\u001b[0m\u001b[0;34m.\u001b[0m\u001b[0mshape\u001b[0m\u001b[0;34m[\u001b[0m\u001b[0;36m1\u001b[0m\u001b[0;34m]\u001b[0m\u001b[0;34m\u001b[0m\u001b[0;34m\u001b[0m\u001b[0m\n\u001b[0;32m----> 4\u001b[0;31m     \u001b[0mplot_series\u001b[0m\u001b[0;34m(\u001b[0m\u001b[0mX\u001b[0m\u001b[0;34m[\u001b[0m\u001b[0;36m0\u001b[0m\u001b[0;34m,\u001b[0m \u001b[0;34m:\u001b[0m\u001b[0;34m,\u001b[0m \u001b[0;36m0\u001b[0m\u001b[0;34m]\u001b[0m\u001b[0;34m)\u001b[0m\u001b[0;34m\u001b[0m\u001b[0;34m\u001b[0m\u001b[0m\n\u001b[0m\u001b[1;32m      5\u001b[0m     \u001b[0mplt\u001b[0m\u001b[0;34m.\u001b[0m\u001b[0mplot\u001b[0m\u001b[0;34m(\u001b[0m\u001b[0mnp\u001b[0m\u001b[0;34m.\u001b[0m\u001b[0marange\u001b[0m\u001b[0;34m(\u001b[0m\u001b[0mn_steps\u001b[0m\u001b[0;34m,\u001b[0m \u001b[0mn_steps\u001b[0m \u001b[0;34m+\u001b[0m \u001b[0mahead\u001b[0m\u001b[0;34m)\u001b[0m\u001b[0;34m,\u001b[0m \u001b[0mY\u001b[0m\u001b[0;34m[\u001b[0m\u001b[0;36m0\u001b[0m\u001b[0;34m,\u001b[0m \u001b[0;34m:\u001b[0m\u001b[0;34m,\u001b[0m \u001b[0;36m0\u001b[0m\u001b[0;34m]\u001b[0m\u001b[0;34m,\u001b[0m \u001b[0;34m\"bo-\"\u001b[0m\u001b[0;34m,\u001b[0m \u001b[0mlabel\u001b[0m\u001b[0;34m=\u001b[0m\u001b[0;34m\"Actual\"\u001b[0m\u001b[0;34m)\u001b[0m\u001b[0;34m\u001b[0m\u001b[0;34m\u001b[0m\u001b[0m\n\u001b[1;32m      6\u001b[0m     \u001b[0mplt\u001b[0m\u001b[0;34m.\u001b[0m\u001b[0mplot\u001b[0m\u001b[0;34m(\u001b[0m\u001b[0mnp\u001b[0m\u001b[0;34m.\u001b[0m\u001b[0marange\u001b[0m\u001b[0;34m(\u001b[0m\u001b[0mn_steps\u001b[0m\u001b[0;34m,\u001b[0m \u001b[0mn_steps\u001b[0m \u001b[0;34m+\u001b[0m \u001b[0mahead\u001b[0m\u001b[0;34m)\u001b[0m\u001b[0;34m,\u001b[0m \u001b[0mY_pred\u001b[0m\u001b[0;34m[\u001b[0m\u001b[0;36m0\u001b[0m\u001b[0;34m,\u001b[0m \u001b[0;34m:\u001b[0m\u001b[0;34m,\u001b[0m \u001b[0;36m0\u001b[0m\u001b[0;34m]\u001b[0m\u001b[0;34m,\u001b[0m \u001b[0;34m\"rx-\"\u001b[0m\u001b[0;34m,\u001b[0m \u001b[0mlabel\u001b[0m\u001b[0;34m=\u001b[0m\u001b[0;34m\"Forecast\"\u001b[0m\u001b[0;34m,\u001b[0m \u001b[0mmarkersize\u001b[0m\u001b[0;34m=\u001b[0m\u001b[0;36m10\u001b[0m\u001b[0;34m)\u001b[0m\u001b[0;34m\u001b[0m\u001b[0;34m\u001b[0m\u001b[0m\n",
            "\u001b[0;31mIndexError\u001b[0m: too many indices for array: array is 2-dimensional, but 3 were indexed"
          ]
        }
      ]
    },
    {
      "cell_type": "code",
      "source": [
        "mcmc_preds.mean(axis=0)"
      ],
      "metadata": {
        "id": "Inc6T9-QIWhk",
        "outputId": "5305f62f-33bd-414e-a6bf-414eb75bb2be",
        "colab": {
          "base_uri": "https://localhost:8080/"
        }
      },
      "execution_count": 103,
      "outputs": [
        {
          "output_type": "execute_result",
          "data": {
            "text/plain": [
              "array([-0.16485777, -0.17397736, -0.16506761, -0.15264687, -0.12531085,\n",
              "       -0.09723809, -0.05663044, -0.02030492,  0.01618705,  0.06034582],\n",
              "      dtype=float32)"
            ]
          },
          "metadata": {},
          "execution_count": 103
        }
      ]
    },
    {
      "cell_type": "code",
      "source": [
        "np.sqrt(mcmc_preds.var(axis=0))"
      ],
      "metadata": {
        "id": "wuq4mgeBJ6Ak",
        "outputId": "c936c8b4-b991-41a5-d850-7a937653ee64",
        "colab": {
          "base_uri": "https://localhost:8080/"
        }
      },
      "execution_count": 106,
      "outputs": [
        {
          "output_type": "execute_result",
          "data": {
            "text/plain": [
              "array([0.0464997 , 0.04916963, 0.04646168, 0.04274858, 0.03518553,\n",
              "       0.02748126, 0.01619662, 0.00739012, 0.00771068, 0.01866429],\n",
              "      dtype=float32)"
            ]
          },
          "metadata": {},
          "execution_count": 106
        }
      ]
    },
    {
      "cell_type": "code",
      "source": [
        ""
      ],
      "metadata": {
        "id": "wG2qviFxKBmM"
      },
      "execution_count": null,
      "outputs": []
    }
  ]
}