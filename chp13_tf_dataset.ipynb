{
  "nbformat": 4,
  "nbformat_minor": 0,
  "metadata": {
    "colab": {
      "name": "Untitled9.ipynb",
      "provenance": [],
      "toc_visible": true,
      "authorship_tag": "ABX9TyMpGVOIua49qld80PbVqvHF",
      "include_colab_link": true
    },
    "kernelspec": {
      "name": "python3",
      "display_name": "Python 3"
    },
    "language_info": {
      "name": "python"
    }
  },
  "cells": [
    {
      "cell_type": "markdown",
      "metadata": {
        "id": "view-in-github",
        "colab_type": "text"
      },
      "source": [
        "<a href=\"https://colab.research.google.com/github/rahuljungbahadur/hands_on_ml_book/blob/main/chp13_tf_dataset.ipynb\" target=\"_parent\"><img src=\"https://colab.research.google.com/assets/colab-badge.svg\" alt=\"Open In Colab\"/></a>"
      ]
    },
    {
      "cell_type": "markdown",
      "source": [
        "# How to parallelize tensorflow datasets so that the complete data is never loaded in RAM.\n",
        "\n"
      ],
      "metadata": {
        "id": "Q_KPb9xxSPSe"
      }
    },
    {
      "cell_type": "code",
      "source": [
        "import tensorflow as tf"
      ],
      "metadata": {
        "id": "q8MZVUBdSXmK"
      },
      "execution_count": 1,
      "outputs": []
    },
    {
      "cell_type": "code",
      "source": [
        "## Sample tf dataset\n",
        "\n",
        "x = tf.data.Dataset.range(10)\n",
        "x"
      ],
      "metadata": {
        "id": "baYx29zZSZ2U",
        "outputId": "6928becb-287d-4481-98b5-a71bda21ef52",
        "colab": {
          "base_uri": "https://localhost:8080/"
        }
      },
      "execution_count": 6,
      "outputs": [
        {
          "output_type": "execute_result",
          "data": {
            "text/plain": [
              "<RangeDataset shapes: (), types: tf.int64>"
            ]
          },
          "metadata": {},
          "execution_count": 6
        }
      ]
    },
    {
      "cell_type": "code",
      "source": [
        "[x for x in x]  ## Generates 10 tensors"
      ],
      "metadata": {
        "id": "GoCWEvyhTM13",
        "outputId": "304d3204-896e-4b69-ec68-0a6b6b1f2f1e",
        "colab": {
          "base_uri": "https://localhost:8080/"
        }
      },
      "execution_count": 5,
      "outputs": [
        {
          "output_type": "execute_result",
          "data": {
            "text/plain": [
              "[<tf.Tensor: shape=(), dtype=int64, numpy=0>,\n",
              " <tf.Tensor: shape=(), dtype=int64, numpy=1>,\n",
              " <tf.Tensor: shape=(), dtype=int64, numpy=2>,\n",
              " <tf.Tensor: shape=(), dtype=int64, numpy=3>,\n",
              " <tf.Tensor: shape=(), dtype=int64, numpy=4>,\n",
              " <tf.Tensor: shape=(), dtype=int64, numpy=5>,\n",
              " <tf.Tensor: shape=(), dtype=int64, numpy=6>,\n",
              " <tf.Tensor: shape=(), dtype=int64, numpy=7>,\n",
              " <tf.Tensor: shape=(), dtype=int64, numpy=8>,\n",
              " <tf.Tensor: shape=(), dtype=int64, numpy=9>]"
            ]
          },
          "metadata": {},
          "execution_count": 5
        }
      ]
    },
    {
      "cell_type": "code",
      "source": [
        "## Generating a dataset for recursive re-reading and batch creation\n",
        "x_repAndBatch = x.repeat(3).batch(7)#, drop_remainder=True)  ## drop remainder drops the leftover obs if they don't comply with thebatch length"
      ],
      "metadata": {
        "id": "YZMLEKveTNV-"
      },
      "execution_count": 10,
      "outputs": []
    },
    {
      "cell_type": "code",
      "source": [
        "[x for x in x_repAndBatch]  ## Generates batches of len 7 while recursing through the data 3 times. "
      ],
      "metadata": {
        "id": "Yjy07sw6Tt5a",
        "outputId": "a33c49c6-b99d-4c65-fa33-5c48560480e7",
        "colab": {
          "base_uri": "https://localhost:8080/"
        }
      },
      "execution_count": 11,
      "outputs": [
        {
          "output_type": "execute_result",
          "data": {
            "text/plain": [
              "[<tf.Tensor: shape=(7,), dtype=int64, numpy=array([0, 1, 2, 3, 4, 5, 6])>,\n",
              " <tf.Tensor: shape=(7,), dtype=int64, numpy=array([7, 8, 9, 0, 1, 2, 3])>,\n",
              " <tf.Tensor: shape=(7,), dtype=int64, numpy=array([4, 5, 6, 7, 8, 9, 0])>,\n",
              " <tf.Tensor: shape=(7,), dtype=int64, numpy=array([1, 2, 3, 4, 5, 6, 7])>]"
            ]
          },
          "metadata": {},
          "execution_count": 11
        }
      ]
    },
    {
      "cell_type": "code",
      "source": [
        "## Mapping a function to the generated batch\n",
        "\n",
        "x_squared = x_repAndBatch.map(lambda x: x**2)"
      ],
      "metadata": {
        "id": "i_oikVf2T0cw"
      },
      "execution_count": 15,
      "outputs": []
    },
    {
      "cell_type": "code",
      "source": [
        "[x for x in x_squared] ## squared each element in the batch"
      ],
      "metadata": {
        "id": "jwiNU2Q2URHA",
        "outputId": "2365b76d-d6dc-4be1-ee51-5d3246f4463f",
        "colab": {
          "base_uri": "https://localhost:8080/"
        }
      },
      "execution_count": 16,
      "outputs": [
        {
          "output_type": "execute_result",
          "data": {
            "text/plain": [
              "[<tf.Tensor: shape=(7,), dtype=int64, numpy=array([ 0,  1,  4,  9, 16, 25, 36])>,\n",
              " <tf.Tensor: shape=(7,), dtype=int64, numpy=array([49, 64, 81,  0,  1,  4,  9])>,\n",
              " <tf.Tensor: shape=(7,), dtype=int64, numpy=array([16, 25, 36, 49, 64, 81,  0])>,\n",
              " <tf.Tensor: shape=(7,), dtype=int64, numpy=array([ 1,  4,  9, 16, 25, 36, 49])>]"
            ]
          },
          "metadata": {},
          "execution_count": 16
        }
      ]
    },
    {
      "cell_type": "code",
      "source": [
        "## Apply a function to the whole dataset\n",
        "x_applied = x_repAndBatch.apply(tf.data.experimental.unbatch())\n"
      ],
      "metadata": {
        "id": "pYO1ZnIgUajd"
      },
      "execution_count": 18,
      "outputs": []
    },
    {
      "cell_type": "code",
      "source": [
        "[x for x in x_applied]  ## unbatches each batch so that each element has it's own batch"
      ],
      "metadata": {
        "id": "0S8iNJ5FVQu8",
        "outputId": "124468bc-70a0-40ea-b381-9fa09dc03d51",
        "colab": {
          "base_uri": "https://localhost:8080/"
        }
      },
      "execution_count": 20,
      "outputs": [
        {
          "output_type": "execute_result",
          "data": {
            "text/plain": [
              "[<tf.Tensor: shape=(), dtype=int64, numpy=0>,\n",
              " <tf.Tensor: shape=(), dtype=int64, numpy=1>,\n",
              " <tf.Tensor: shape=(), dtype=int64, numpy=2>,\n",
              " <tf.Tensor: shape=(), dtype=int64, numpy=3>,\n",
              " <tf.Tensor: shape=(), dtype=int64, numpy=4>,\n",
              " <tf.Tensor: shape=(), dtype=int64, numpy=5>,\n",
              " <tf.Tensor: shape=(), dtype=int64, numpy=6>,\n",
              " <tf.Tensor: shape=(), dtype=int64, numpy=7>,\n",
              " <tf.Tensor: shape=(), dtype=int64, numpy=8>,\n",
              " <tf.Tensor: shape=(), dtype=int64, numpy=9>,\n",
              " <tf.Tensor: shape=(), dtype=int64, numpy=0>,\n",
              " <tf.Tensor: shape=(), dtype=int64, numpy=1>,\n",
              " <tf.Tensor: shape=(), dtype=int64, numpy=2>,\n",
              " <tf.Tensor: shape=(), dtype=int64, numpy=3>,\n",
              " <tf.Tensor: shape=(), dtype=int64, numpy=4>,\n",
              " <tf.Tensor: shape=(), dtype=int64, numpy=5>,\n",
              " <tf.Tensor: shape=(), dtype=int64, numpy=6>,\n",
              " <tf.Tensor: shape=(), dtype=int64, numpy=7>,\n",
              " <tf.Tensor: shape=(), dtype=int64, numpy=8>,\n",
              " <tf.Tensor: shape=(), dtype=int64, numpy=9>,\n",
              " <tf.Tensor: shape=(), dtype=int64, numpy=0>,\n",
              " <tf.Tensor: shape=(), dtype=int64, numpy=1>,\n",
              " <tf.Tensor: shape=(), dtype=int64, numpy=2>,\n",
              " <tf.Tensor: shape=(), dtype=int64, numpy=3>,\n",
              " <tf.Tensor: shape=(), dtype=int64, numpy=4>,\n",
              " <tf.Tensor: shape=(), dtype=int64, numpy=5>,\n",
              " <tf.Tensor: shape=(), dtype=int64, numpy=6>,\n",
              " <tf.Tensor: shape=(), dtype=int64, numpy=7>]"
            ]
          },
          "metadata": {},
          "execution_count": 20
        }
      ]
    },
    {
      "cell_type": "code",
      "source": [
        "## simple filter\n",
        "\n",
        "x_filtered = x_applied.filter(lambda x : x < 5)  #filtered runs n an unbatched input"
      ],
      "metadata": {
        "id": "xfumT4uQVXKv"
      },
      "execution_count": 23,
      "outputs": []
    },
    {
      "cell_type": "code",
      "source": [
        "[x for x in x_filtered]"
      ],
      "metadata": {
        "id": "ft-Gq2eoVptL",
        "outputId": "949925cc-f15b-4315-a9ac-29e6f49f3daf",
        "colab": {
          "base_uri": "https://localhost:8080/"
        }
      },
      "execution_count": 26,
      "outputs": [
        {
          "output_type": "execute_result",
          "data": {
            "text/plain": [
              "[<tf.Tensor: shape=(), dtype=int64, numpy=0>,\n",
              " <tf.Tensor: shape=(), dtype=int64, numpy=1>,\n",
              " <tf.Tensor: shape=(), dtype=int64, numpy=2>,\n",
              " <tf.Tensor: shape=(), dtype=int64, numpy=3>,\n",
              " <tf.Tensor: shape=(), dtype=int64, numpy=4>,\n",
              " <tf.Tensor: shape=(), dtype=int64, numpy=0>,\n",
              " <tf.Tensor: shape=(), dtype=int64, numpy=1>,\n",
              " <tf.Tensor: shape=(), dtype=int64, numpy=2>,\n",
              " <tf.Tensor: shape=(), dtype=int64, numpy=3>,\n",
              " <tf.Tensor: shape=(), dtype=int64, numpy=4>,\n",
              " <tf.Tensor: shape=(), dtype=int64, numpy=0>,\n",
              " <tf.Tensor: shape=(), dtype=int64, numpy=1>,\n",
              " <tf.Tensor: shape=(), dtype=int64, numpy=2>,\n",
              " <tf.Tensor: shape=(), dtype=int64, numpy=3>,\n",
              " <tf.Tensor: shape=(), dtype=int64, numpy=4>]"
            ]
          },
          "metadata": {},
          "execution_count": 26
        }
      ]
    },
    {
      "cell_type": "code",
      "source": [
        ""
      ],
      "metadata": {
        "id": "hH6xf7nDWIma"
      },
      "execution_count": null,
      "outputs": []
    }
  ]
}